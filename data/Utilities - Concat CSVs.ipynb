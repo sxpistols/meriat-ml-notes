{
 "cells": [
  {
   "cell_type": "markdown",
   "metadata": {},
   "source": [
    "# DataFrame concat\n",
    "\n",
    "Utilitário para consolidar arquivos CSV por meio de concatenação do pandas."
   ]
  },
  {
   "cell_type": "code",
   "execution_count": 44,
   "metadata": {
    "collapsed": true
   },
   "outputs": [],
   "source": [
    "import pandas as pd\n",
    "import os"
   ]
  },
  {
   "cell_type": "code",
   "execution_count": 76,
   "metadata": {
    "collapsed": true
   },
   "outputs": [],
   "source": [
    "# Otem todos os arquivos de uma determinada pasta\n",
    "files = [f for f in os.listdir('.') if os.path.isfile(f)]"
   ]
  },
  {
   "cell_type": "code",
   "execution_count": 77,
   "metadata": {},
   "outputs": [
    {
     "data": {
      "text/plain": [
       "['Clientes (1).csv',\n",
       " 'Clientes (2).csv',\n",
       " 'Clientes (3).csv',\n",
       " 'Clientes (4).csv',\n",
       " 'Clientes.csv',\n",
       " 'Untitled.ipynb']"
      ]
     },
     "execution_count": 77,
     "metadata": {},
     "output_type": "execute_result"
    }
   ],
   "source": [
    "# Exibe os arquivos encontrados\n",
    "files"
   ]
  },
  {
   "cell_type": "code",
   "execution_count": 78,
   "metadata": {
    "collapsed": true
   },
   "outputs": [],
   "source": [
    "# Realiza a concatenação dos arquivos com extensão csv\n",
    "merged = []\n",
    "\n",
    "for f in files:\n",
    "    filename, ext = os.path.splitext(f)\n",
    "    if ext == '.csv':\n",
    "        read = pd.read_csv(f)\n",
    "        merged.append(read)\n",
    "\n",
    "result = pd.concat(merged)"
   ]
  },
  {
   "cell_type": "code",
   "execution_count": 79,
   "metadata": {},
   "outputs": [
    {
     "data": {
      "text/plain": [
       "(5000, 12)"
      ]
     },
     "execution_count": 79,
     "metadata": {},
     "output_type": "execute_result"
    }
   ],
   "source": [
    "result.shape"
   ]
  },
  {
   "cell_type": "code",
   "execution_count": 80,
   "metadata": {},
   "outputs": [
    {
     "data": {
      "text/plain": [
       "Index(['first_name', 'last_name', 'gender', 'street_address', 'city', 'state',\n",
       "       'zip_code', 'telephone', 'age', 'company', 'latitude', 'longitude'],\n",
       "      dtype='object')"
      ]
     },
     "execution_count": 80,
     "metadata": {},
     "output_type": "execute_result"
    }
   ],
   "source": [
    "result.columns"
   ]
  },
  {
   "cell_type": "code",
   "execution_count": 81,
   "metadata": {},
   "outputs": [],
   "source": [
    "# adiciona uma coluna de id caso necessário\n",
    "result['id'] = range(1, len(dado.index) + 1)"
   ]
  },
  {
   "cell_type": "code",
   "execution_count": 82,
   "metadata": {},
   "outputs": [
    {
     "data": {
      "text/plain": [
       "['first_name',\n",
       " 'last_name',\n",
       " 'gender',\n",
       " 'street_address',\n",
       " 'city',\n",
       " 'state',\n",
       " 'zip_code',\n",
       " 'telephone',\n",
       " 'age',\n",
       " 'company',\n",
       " 'latitude',\n",
       " 'longitude',\n",
       " 'id']"
      ]
     },
     "execution_count": 82,
     "metadata": {},
     "output_type": "execute_result"
    }
   ],
   "source": [
    "# Exibe a ordem das colunas\n",
    "cols = result.columns.tolist()\n",
    "cols"
   ]
  },
  {
   "cell_type": "code",
   "execution_count": 83,
   "metadata": {},
   "outputs": [],
   "source": [
    "# reorder das colunas\n",
    "#cols = [['id','first_name','last_name', 'gender', 'street_address', 'city', 'state',\n",
    "#       'zip_code', 'telephone', 'age', 'company', 'latitude', 'longitude']]\n",
    "#cols"
   ]
  },
  {
   "cell_type": "code",
   "execution_count": 84,
   "metadata": {},
   "outputs": [],
   "source": [
    "# \"commit\" o reordering\n",
    "result = result[['id','first_name','last_name', 'gender', 'street_address', 'city', 'state',\n",
    "       'zip_code', 'telephone', 'age', 'company', 'latitude', 'longitude']]"
   ]
  },
  {
   "cell_type": "code",
   "execution_count": 85,
   "metadata": {
    "collapsed": true
   },
   "outputs": [],
   "source": [
    "# gera o arquivo sem a coluna de index\n",
    "result.to_csv('merged.csv', index=False)"
   ]
  },
  {
   "cell_type": "code",
   "execution_count": 86,
   "metadata": {
    "collapsed": true
   },
   "outputs": [],
   "source": [
    "dado = pd.read_csv('merged.csv')"
   ]
  },
  {
   "cell_type": "code",
   "execution_count": null,
   "metadata": {
    "collapsed": true
   },
   "outputs": [],
   "source": []
  }
 ],
 "metadata": {
  "kernelspec": {
   "display_name": "Python 3",
   "language": "python",
   "name": "python3"
  },
  "language_info": {
   "codemirror_mode": {
    "name": "ipython",
    "version": 3
   },
   "file_extension": ".py",
   "mimetype": "text/x-python",
   "name": "python",
   "nbconvert_exporter": "python",
   "pygments_lexer": "ipython3",
   "version": "3.6.3"
  }
 },
 "nbformat": 4,
 "nbformat_minor": 2
}
