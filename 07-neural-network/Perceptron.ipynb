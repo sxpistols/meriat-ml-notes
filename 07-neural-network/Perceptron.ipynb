{
 "cells": [
  {
   "cell_type": "code",
   "execution_count": 1,
   "metadata": {
    "collapsed": false
   },
   "outputs": [],
   "source": [
    "import random\n",
    "import random\n",
    "import matplotlib.pyplot as plt\n",
    "\n",
    "class Perceptron:\n",
    "\n",
    "    def __init__(self, input_count):\n",
    "        self.weights = []\n",
    "        self.k = 0.01\n",
    "        for n in range(input_count):\n",
    "            self.weights.append(random.uniform(-1, 1))\n",
    "\n",
    "    def FeedForward(self, inputs):\n",
    "        sigma = 0\n",
    "        for i, e in enumerate(inputs):\n",
    "            sigma += e * self.weights[i]\n",
    "        return self.Activate(sigma)\n",
    "\n",
    "    def Activate(self, sigma):\n",
    "        if sigma > 0:\n",
    "            return 1\n",
    "        else:\n",
    "            return -1\n",
    "\n",
    "    def Train(self, inputs, desired):\n",
    "        guess = self.FeedForward(inputs)\n",
    "        error_delta = desired - guess\n",
    "        for i, w in enumerate(self.weights):\n",
    "            self.weights[i] += error_delta * inputs[i] * self.k"
   ]
  },
  {
   "cell_type": "code",
   "execution_count": 2,
   "metadata": {
    "collapsed": true
   },
   "outputs": [],
   "source": [
    "class Inputs:\n",
    "\n",
    "    def __init__(self, x, y, ans):\n",
    "        self.inputs = []\n",
    "        self.inputs.append(x)\n",
    "        self.inputs.append(y)\n",
    "        self.inputs.append(1)\n",
    "        self.answer = ans"
   ]
  },
  {
   "cell_type": "code",
   "execution_count": 3,
   "metadata": {
    "collapsed": false
   },
   "outputs": [],
   "source": [
    "def f(x):\n",
    "    return 2*x+1\n",
    "\n",
    "def Training_Set(width, height, train_points):\n",
    "    training = []\n",
    "    for i in range(train_points):\n",
    "        x = random.uniform(-width, width)\n",
    "        y = random.uniform(-height, height)\n",
    "        answer = 1\n",
    "        if y < f(x):\n",
    "            answer = -1\n",
    "        training.append(Inputs(x, y, answer))\n",
    "    return training\n",
    "\n",
    "def Test_Set(width, height, test_points):\n",
    "    testing = []\n",
    "    for i in range(test_points):\n",
    "        x = random.uniform(-width, width)\n",
    "        y = random.uniform(-height, height)\n",
    "        answer = 1\n",
    "        if y < f(x):\n",
    "            answer = -1\n",
    "        testing.append(Inputs(x, y, answer))\n",
    "    return testing"
   ]
  },
  {
   "cell_type": "code",
   "execution_count": 4,
   "metadata": {
    "collapsed": false
   },
   "outputs": [
    {
     "name": "stdout",
     "output_type": "stream",
     "text": [
      "Score: 298 / 300 (99.33333333333333% accuracy)\n"
     ]
    },
    {
     "data": {
      "image/png": "[encoded data removed]",
      "text/plain": [
       "<matplotlib.figure.Figure at 0x106136240>"
      ]
     },
     "metadata": {},
     "output_type": "display_data"
    }
   ],
   "source": [
    "if __name__ == '__main__':\n",
    "    _width  = 200\n",
    "    _height = 200\n",
    "    _training_points = 700\n",
    "    _testing_points = 300\n",
    "\n",
    "    training = Training_Set(_width, _height, _training_points)\n",
    "    testing = Test_Set(_width, _height, _testing_points)\n",
    "    ptron = Perceptron(3)\n",
    "\n",
    "    score = []\n",
    "    for t in training:\n",
    "        ptron.Train(t.inputs, t.answer)\n",
    "\n",
    "    data_ones_x = []\n",
    "    data_ones_y = []\n",
    "    data_minusones_x = []\n",
    "    data_minusones_y = []\n",
    "    for t in testing:\n",
    "        guess = ptron.FeedForward(t.inputs)\n",
    "        if guess > 0:\n",
    "            data_ones_x.append(t.inputs[0])\n",
    "            data_ones_y.append(t.inputs[1])\n",
    "        else:\n",
    "            data_minusones_x.append(t.inputs[0])\n",
    "            data_minusones_y.append(t.inputs[1])\n",
    "\n",
    "        correct = 1\n",
    "        if t.inputs[1] < f(t.inputs[0]):\n",
    "            correct = -1\n",
    "\n",
    "        if guess == correct:\n",
    "            score.append(1)\n",
    "        else:\n",
    "            score.append(0)\n",
    "\n",
    "    print(\"Score:\", sum(score), \"/\", len(score), \"(\" + str((float(sum(score))/float(len(score)))*100) + \"% accuracy)\")\n",
    "\n",
    "    #Plot the true classification line\n",
    "    xMin = -_width\n",
    "    xMax = _width\n",
    "    yMin = f(xMin)\n",
    "    yMax = f(xMax)\n",
    "    plt.plot([xMin, xMax], [yMin, yMax], linestyle='-', linewidth=2, color='#6dbe1b')\n",
    "\n",
    "    axes = plt.gca()\n",
    "    axes.set_xlim([xMin, xMax])\n",
    "    axes.set_ylim([yMin/2, yMax/2])\n",
    "\n",
    "    #Plot 1 & -1 scores\n",
    "    plt.scatter(data_ones_x, data_ones_y, marker='+', color='#1381be')\n",
    "    plt.scatter(data_minusones_x, data_minusones_y, marker='.', color='#eb2352')\n",
    "\n",
    "    fig = plt.gcf()\n",
    "    fig.canvas.set_window_title('Perceptron Linear Classifier')\n",
    "    plt.show()"
   ]
  },
  {
   "cell_type": "code",
   "execution_count": null,
   "metadata": {
    "collapsed": true
   },
   "outputs": [],
   "source": []
  }
 ],
 "metadata": {
  "anaconda-cloud": {},
  "kernelspec": {
   "display_name": "Python [conda root]",
   "language": "python",
   "name": "conda-root-py"
  },
  "language_info": {
   "codemirror_mode": {
    "name": "ipython",
    "version": 3
   },
   "file_extension": ".py",
   "mimetype": "text/x-python",
   "name": "python",
   "nbconvert_exporter": "python",
   "pygments_lexer": "ipython3",
   "version": "3.5.2"
  }
 },
 "nbformat": 4,
 "nbformat_minor": 2
}
