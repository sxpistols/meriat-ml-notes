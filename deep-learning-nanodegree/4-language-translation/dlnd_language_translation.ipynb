{
 "cells": [
  {
   "cell_type": "markdown",
   "metadata": {
    "collapsed": true
   },
   "source": [
    "# Language Translation\n",
    "In this project, you’re going to take a peek into the realm of neural network machine translation.  You’ll be training a sequence to sequence model on a dataset of English and French sentences that can translate new sentences from English to French.\n",
    "## Get the Data\n",
    "Since translating the whole language of English to French will take lots of time to train, we have provided you with a small portion of the English corpus."
   ]
  },
  {
   "cell_type": "code",
   "execution_count": 1,
   "metadata": {
    "collapsed": true
   },
   "outputs": [],
   "source": [
    "\"\"\"\n",
    "DON'T MODIFY ANYTHING IN THIS CELL\n",
    "\"\"\"\n",
    "import helper\n",
    "import problem_unittests as tests\n",
    "\n",
    "source_path = 'data/small_vocab_en'\n",
    "target_path = 'data/small_vocab_fr'\n",
    "source_text = helper.load_data(source_path)\n",
    "target_text = helper.load_data(target_path)"
   ]
  },
  {
   "cell_type": "markdown",
   "metadata": {},
   "source": [
    "## Explore the Data\n",
    "Play around with view_sentence_range to view different parts of the data."
   ]
  },
  {
   "cell_type": "code",
   "execution_count": 2,
   "metadata": {},
   "outputs": [
    {
     "name": "stdout",
     "output_type": "stream",
     "text": [
      "Dataset Stats\n",
      "Roughly the number of unique words: 227\n",
      "Number of sentences: 137861\n",
      "Average number of words in a sentence: 13.225277634719028\n",
      "\n",
      "English sentences 0 to 10:\n",
      "new jersey is sometimes quiet during autumn , and it is snowy in april .\n",
      "the united states is usually chilly during july , and it is usually freezing in november .\n",
      "california is usually quiet during march , and it is usually hot in june .\n",
      "the united states is sometimes mild during june , and it is cold in september .\n",
      "your least liked fruit is the grape , but my least liked is the apple .\n",
      "his favorite fruit is the orange , but my favorite is the grape .\n",
      "paris is relaxing during december , but it is usually chilly in july .\n",
      "new jersey is busy during spring , and it is never hot in march .\n",
      "our least liked fruit is the lemon , but my least liked is the grape .\n",
      "the united states is sometimes busy during january , and it is sometimes warm in november .\n",
      "\n",
      "French sentences 0 to 10:\n",
      "new jersey est parfois calme pendant l' automne , et il est neigeux en avril .\n",
      "les états-unis est généralement froid en juillet , et il gèle habituellement en novembre .\n",
      "california est généralement calme en mars , et il est généralement chaud en juin .\n",
      "les états-unis est parfois légère en juin , et il fait froid en septembre .\n",
      "votre moins aimé fruit est le raisin , mais mon moins aimé est la pomme .\n",
      "son fruit préféré est l'orange , mais mon préféré est le raisin .\n",
      "paris est relaxant en décembre , mais il est généralement froid en juillet .\n",
      "new jersey est occupé au printemps , et il est jamais chaude en mars .\n",
      "notre fruit est moins aimé le citron , mais mon moins aimé est le raisin .\n",
      "les états-unis est parfois occupé en janvier , et il est parfois chaud en novembre .\n"
     ]
    }
   ],
   "source": [
    "view_sentence_range = (0, 10)\n",
    "\n",
    "\"\"\"\n",
    "DON'T MODIFY ANYTHING IN THIS CELL\n",
    "\"\"\"\n",
    "import numpy as np\n",
    "\n",
    "print('Dataset Stats')\n",
    "print('Roughly the number of unique words: {}'.format(len({word: None for word in source_text.split()})))\n",
    "\n",
    "sentences = source_text.split('\\n')\n",
    "word_counts = [len(sentence.split()) for sentence in sentences]\n",
    "print('Number of sentences: {}'.format(len(sentences)))\n",
    "print('Average number of words in a sentence: {}'.format(np.average(word_counts)))\n",
    "\n",
    "print()\n",
    "print('English sentences {} to {}:'.format(*view_sentence_range))\n",
    "print('\\n'.join(source_text.split('\\n')[view_sentence_range[0]:view_sentence_range[1]]))\n",
    "print()\n",
    "print('French sentences {} to {}:'.format(*view_sentence_range))\n",
    "print('\\n'.join(target_text.split('\\n')[view_sentence_range[0]:view_sentence_range[1]]))"
   ]
  },
  {
   "cell_type": "markdown",
   "metadata": {},
   "source": [
    "## Implement Preprocessing Function\n",
    "### Text to Word Ids\n",
    "As you did with other RNNs, you must turn the text into a number so the computer can understand it. In the function `text_to_ids()`, you'll turn `source_text` and `target_text` from words to ids.  However, you need to add the `<EOS>` word id at the end of `target_text`.  This will help the neural network predict when the sentence should end.\n",
    "\n",
    "You can get the `<EOS>` word id by doing:\n",
    "```python\n",
    "target_vocab_to_int['<EOS>']\n",
    "```\n",
    "You can get other word ids using `source_vocab_to_int` and `target_vocab_to_int`."
   ]
  },
  {
   "cell_type": "code",
   "execution_count": 3,
   "metadata": {},
   "outputs": [
    {
     "name": "stdout",
     "output_type": "stream",
     "text": [
      "Tests Passed\n"
     ]
    }
   ],
   "source": [
    "def text_to_ids(source_text, target_text, source_vocab_to_int, target_vocab_to_int):\n",
    "    \"\"\"\n",
    "    Convert source and target text to proper word ids\n",
    "    :param source_text: String that contains all the source text.\n",
    "    :param target_text: String that contains all the target text.\n",
    "    :param source_vocab_to_int: Dictionary to go from the source words to an id\n",
    "    :param target_vocab_to_int: Dictionary to go from the target words to an id\n",
    "    :return: A tuple of lists (source_id_text, target_id_text)\n",
    "    \"\"\"\n",
    "    # TODO: Implement Function\n",
    "    source_sentences = [sentence for sentence in source_text.split('\\n')]\n",
    "    target_sentences = [sentence + ' <EOS>' for sentence in target_text.split('\\n')]\n",
    "    \n",
    "    source_id_text = [[source_vocab_to_int[word] for word in sentence.split()] for sentence in source_sentences]\n",
    "    target_id_text = [[target_vocab_to_int[word] for word in sentence.split()] for sentence in target_sentences]\n",
    "    \n",
    "    return source_id_text, target_id_text\n",
    "\n",
    "\"\"\"\n",
    "DON'T MODIFY ANYTHING IN THIS CELL THAT IS BELOW THIS LINE\n",
    "\"\"\"\n",
    "tests.test_text_to_ids(text_to_ids)"
   ]
  },
  {
   "cell_type": "markdown",
   "metadata": {},
   "source": [
    "### Preprocess all the data and save it\n",
    "Running the code cell below will preprocess all the data and save it to file."
   ]
  },
  {
   "cell_type": "code",
   "execution_count": 4,
   "metadata": {
    "collapsed": true
   },
   "outputs": [],
   "source": [
    "\"\"\"\n",
    "DON'T MODIFY ANYTHING IN THIS CELL\n",
    "\"\"\"\n",
    "helper.preprocess_and_save_data(source_path, target_path, text_to_ids)"
   ]
  },
  {
   "cell_type": "markdown",
   "metadata": {},
   "source": [
    "# Check Point\n",
    "This is your first checkpoint. If you ever decide to come back to this notebook or have to restart the notebook, you can start from here. The preprocessed data has been saved to disk."
   ]
  },
  {
   "cell_type": "code",
   "execution_count": 5,
   "metadata": {
    "collapsed": true
   },
   "outputs": [],
   "source": [
    "\"\"\"\n",
    "DON'T MODIFY ANYTHING IN THIS CELL\n",
    "\"\"\"\n",
    "import numpy as np\n",
    "import helper\n",
    "import problem_unittests as tests\n",
    "\n",
    "(source_int_text, target_int_text), (source_vocab_to_int, target_vocab_to_int), _ = helper.load_preprocess()"
   ]
  },
  {
   "cell_type": "markdown",
   "metadata": {},
   "source": [
    "### Check the Version of TensorFlow and Access to GPU\n",
    "This will check to make sure you have the correct version of TensorFlow and access to a GPU"
   ]
  },
  {
   "cell_type": "code",
   "execution_count": 6,
   "metadata": {},
   "outputs": [
    {
     "name": "stdout",
     "output_type": "stream",
     "text": [
      "TensorFlow Version: 1.3.0\n",
      "Default GPU Device: /gpu:0\n"
     ]
    }
   ],
   "source": [
    "\"\"\"\n",
    "DON'T MODIFY ANYTHING IN THIS CELL\n",
    "\"\"\"\n",
    "from distutils.version import LooseVersion\n",
    "import warnings\n",
    "import tensorflow as tf\n",
    "from tensorflow.python.layers.core import Dense\n",
    "\n",
    "# Check TensorFlow Version\n",
    "assert LooseVersion(tf.__version__) >= LooseVersion('1.1'), 'Please use TensorFlow version 1.1 or newer'\n",
    "print('TensorFlow Version: {}'.format(tf.__version__))\n",
    "\n",
    "# Check for a GPU\n",
    "if not tf.test.gpu_device_name():\n",
    "    warnings.warn('No GPU found. Please use a GPU to train your neural network.')\n",
    "else:\n",
    "    print('Default GPU Device: {}'.format(tf.test.gpu_device_name()))"
   ]
  },
  {
   "cell_type": "markdown",
   "metadata": {},
   "source": [
    "## Build the Neural Network\n",
    "You'll build the components necessary to build a Sequence-to-Sequence model by implementing the following functions below:\n",
    "- `model_inputs`\n",
    "- `process_decoder_input`\n",
    "- `encoding_layer`\n",
    "- `decoding_layer_train`\n",
    "- `decoding_layer_infer`\n",
    "- `decoding_layer`\n",
    "- `seq2seq_model`\n",
    "\n",
    "### Input\n",
    "Implement the `model_inputs()` function to create TF Placeholders for the Neural Network. It should create the following placeholders:\n",
    "\n",
    "- Input text placeholder named \"input\" using the TF Placeholder name parameter with rank 2.\n",
    "- Targets placeholder with rank 2.\n",
    "- Learning rate placeholder with rank 0.\n",
    "- Keep probability placeholder named \"keep_prob\" using the TF Placeholder name parameter with rank 0.\n",
    "- Target sequence length placeholder named \"target_sequence_length\" with rank 1\n",
    "- Max target sequence length tensor named \"max_target_len\" getting its value from applying tf.reduce_max on the target_sequence_length placeholder. Rank 0.\n",
    "- Source sequence length placeholder named \"source_sequence_length\" with rank 1\n",
    "\n",
    "Return the placeholders in the following the tuple (input, targets, learning rate, keep probability, target sequence length, max target sequence length, source sequence length)"
   ]
  },
  {
   "cell_type": "code",
   "execution_count": 10,
   "metadata": {},
   "outputs": [
    {
     "name": "stdout",
     "output_type": "stream",
     "text": [
      "Tests Passed\n"
     ]
    }
   ],
   "source": [
    "def model_inputs():\n",
    "    \"\"\"\n",
    "    Create TF Placeholders for input, targets, learning rate, and lengths of source and target sequences.\n",
    "    :return: Tuple (input, targets, learning rate, keep probability, target sequence length,\n",
    "    max target sequence length, source sequence length)\n",
    "    \"\"\"\n",
    "    # TODO: Implement Function\n",
    "    #input_ = tf.placeholder(tf.int32, [None, None], name='input')\n",
    "    #target = tf.placeholder(tf.int32, [None, None], name='target')\n",
    "    #learning_rate = tf.placeholder(tf.float32, name='learning_rate')\n",
    "    #keep_prob = tf.placeholder(tf.float32, name='keep_prob')\n",
    "    #return input_, target, learning_rate, keep_prob\n",
    "\n",
    "    input_data = tf.placeholder(tf.int32,shape=[None,None],name='input')\n",
    "    target = tf.placeholder(tf.int32,shape=[None,None],name='targets')\n",
    "    learning_rate = tf.placeholder(tf.float32,shape=[],name='learningrate')\n",
    "    keep_probability = tf.placeholder(tf.float32,shape=[],name='keep_prob')\n",
    "    target_sequence_length = tf.placeholder(tf.int32,[None,],name='target_sequence_length')\n",
    "    max_target_length = tf.reduce_max(target_sequence_length)\n",
    "    source_sequence_length = tf.placeholder(tf.int32,[None,],name='source_sequence_length')\n",
    "    \n",
    "    return input_data, target, learning_rate, keep_probability, target_sequence_length, max_target_length, source_sequence_length\n",
    "\n",
    "\n",
    "\"\"\"\n",
    "DON'T MODIFY ANYTHING IN THIS CELL THAT IS BELOW THIS LINE\n",
    "\"\"\"\n",
    "tests.test_model_inputs(model_inputs)"
   ]
  },
  {
   "cell_type": "markdown",
   "metadata": {},
   "source": [
    "### Process Decoder Input\n",
    "Implement `process_decoder_input` by removing the last word id from each batch in `target_data` and concat the GO ID to the begining of each batch."
   ]
  },
  {
   "cell_type": "code",
   "execution_count": 11,
   "metadata": {},
   "outputs": [
    {
     "name": "stdout",
     "output_type": "stream",
     "text": [
      "Tests Passed\n"
     ]
    }
   ],
   "source": [
    "def process_decoder_input(target_data, target_vocab_to_int, batch_size):\n",
    "    \"\"\"\n",
    "    Preprocess target data for encoding\n",
    "    :param target_data: Target Placehoder\n",
    "    :param target_vocab_to_int: Dictionary to go from the target words to an id\n",
    "    :param batch_size: Batch Size\n",
    "    :return: Preprocessed target data\n",
    "    \"\"\"\n",
    "    # TODO: Implement Function\n",
    "    ending = tf.strided_slice(target_data, [0, 0], [batch_size, -1], [1, 1])\n",
    "    dec_input = tf.concat([tf.fill([batch_size, 1], target_vocab_to_int['<GO>']), ending], 1)\n",
    "    return dec_input\n",
    "\n",
    "\"\"\"\n",
    "DON'T MODIFY ANYTHING IN THIS CELL THAT IS BELOW THIS LINE\n",
    "\"\"\"\n",
    "tests.test_process_encoding_input(process_decoder_input)"
   ]
  },
  {
   "cell_type": "markdown",
   "metadata": {},
   "source": [
    "### Encoding\n",
    "Implement `encoding_layer()` to create a Encoder RNN layer:\n",
    " * Embed the encoder input using [`tf.contrib.layers.embed_sequence`](https://www.tensorflow.org/api_docs/python/tf/contrib/layers/embed_sequence)\n",
    " * Construct a [stacked](https://github.com/tensorflow/tensorflow/blob/6947f65a374ebf29e74bb71e36fd82760056d82c/tensorflow/docs_src/tutorials/recurrent.md#stacking-multiple-lstms) [`tf.contrib.rnn.LSTMCell`](https://www.tensorflow.org/api_docs/python/tf/contrib/rnn/LSTMCell) wrapped in a [`tf.contrib.rnn.DropoutWrapper`](https://www.tensorflow.org/api_docs/python/tf/contrib/rnn/DropoutWrapper)\n",
    " * Pass cell and embedded input to [`tf.nn.dynamic_rnn()`](https://www.tensorflow.org/api_docs/python/tf/nn/dynamic_rnn)"
   ]
  },
  {
   "cell_type": "code",
   "execution_count": 12,
   "metadata": {
    "scrolled": false
   },
   "outputs": [
    {
     "name": "stdout",
     "output_type": "stream",
     "text": [
      "Tests Passed\n"
     ]
    }
   ],
   "source": [
    "from imp import reload\n",
    "reload(tests)\n",
    "\n",
    "def encoding_layer(rnn_inputs, rnn_size, num_layers, keep_prob, \n",
    "                   source_sequence_length, source_vocab_size, \n",
    "                   encoding_embedding_size):\n",
    "    \"\"\"\n",
    "    Create encoding layer\n",
    "    :param rnn_inputs: Inputs for the RNN\n",
    "    :param rnn_size: RNN Size\n",
    "    :param num_layers: Number of layers\n",
    "    :param keep_prob: Dropout keep probability\n",
    "    :param source_sequence_length: a list of the lengths of each sequence in the batch\n",
    "    :param source_vocab_size: vocabulary size of source data\n",
    "    :param encoding_embedding_size: embedding size of source data\n",
    "    :return: tuple (RNN output, RNN state)\n",
    "    \"\"\"\n",
    "    # TODO: Implement Function\n",
    "    enc_seq = tf.contrib.layers.embed_sequence(rnn_inputs, source_vocab_size, encoding_embedding_size)\n",
    "\n",
    "    def lstm_cell():\n",
    "        return tf.contrib.rnn.BasicLSTMCell(rnn_size)\n",
    "    \n",
    "    enc_lstm = tf.contrib.rnn.MultiRNNCell([lstm_cell() for _ in range(num_layers)])\n",
    "    enc_cell = tf.contrib.rnn.DropoutWrapper(enc_lstm, output_keep_prob=keep_prob)\n",
    "\n",
    "    enc_output, enc_state = tf.nn.dynamic_rnn(enc_cell, enc_seq, sequence_length=source_sequence_length, dtype=tf.float32)\n",
    "\n",
    "    return enc_output, enc_state\n",
    "\n",
    "\"\"\"\n",
    "DON'T MODIFY ANYTHING IN THIS CELL THAT IS BELOW THIS LINE\n",
    "\"\"\"\n",
    "tests.test_encoding_layer(encoding_layer)"
   ]
  },
  {
   "cell_type": "markdown",
   "metadata": {},
   "source": [
    "### Decoding - Training\n",
    "Create a training decoding layer:\n",
    "* Create a [`tf.contrib.seq2seq.TrainingHelper`](https://www.tensorflow.org/api_docs/python/tf/contrib/seq2seq/TrainingHelper) \n",
    "* Create a [`tf.contrib.seq2seq.BasicDecoder`](https://www.tensorflow.org/api_docs/python/tf/contrib/seq2seq/BasicDecoder)\n",
    "* Obtain the decoder outputs from [`tf.contrib.seq2seq.dynamic_decode`](https://www.tensorflow.org/api_docs/python/tf/contrib/seq2seq/dynamic_decode)"
   ]
  },
  {
   "cell_type": "code",
   "execution_count": 13,
   "metadata": {},
   "outputs": [
    {
     "name": "stdout",
     "output_type": "stream",
     "text": [
      "Tests Passed\n"
     ]
    }
   ],
   "source": [
    "\n",
    "def decoding_layer_train(encoder_state, dec_cell, dec_embed_input, \n",
    "                         target_sequence_length, max_summary_length, \n",
    "                         output_layer, keep_prob):\n",
    "    \"\"\"\n",
    "    Create a decoding layer for training\n",
    "    :param encoder_state: Encoder State\n",
    "    :param dec_cell: Decoder RNN Cell\n",
    "    :param dec_embed_input: Decoder embedded input\n",
    "    :param target_sequence_length: The lengths of each sequence in the target batch\n",
    "    :param max_summary_length: The length of the longest sequence in the batch\n",
    "    :param output_layer: Function to apply the output layer\n",
    "    :param keep_prob: Dropout keep probability\n",
    "    :return: BasicDecoderOutput containing training logits and sample_id\n",
    "    \"\"\"\n",
    "    # TODO: Implement Function\n",
    "    training_helper = tf.contrib.seq2seq.TrainingHelper(inputs=dec_embed_input,sequence_length=target_sequence_length)\n",
    "    basic_decoder = tf.contrib.seq2seq.BasicDecoder(dec_cell , training_helper, encoder_state, output_layer)\n",
    "    decoder = tf.contrib.seq2seq.dynamic_decode(basic_decoder, maximum_iterations=max_summary_length)[0]\n",
    "    \n",
    "    return decoder\n",
    "\n",
    "\n",
    "\n",
    "\"\"\"\n",
    "DON'T MODIFY ANYTHING IN THIS CELL THAT IS BELOW THIS LINE\n",
    "\"\"\"\n",
    "tests.test_decoding_layer_train(decoding_layer_train)"
   ]
  },
  {
   "cell_type": "markdown",
   "metadata": {},
   "source": [
    "### Decoding - Inference\n",
    "Create inference decoder:\n",
    "* Create a [`tf.contrib.seq2seq.GreedyEmbeddingHelper`](https://www.tensorflow.org/api_docs/python/tf/contrib/seq2seq/GreedyEmbeddingHelper)\n",
    "* Create a [`tf.contrib.seq2seq.BasicDecoder`](https://www.tensorflow.org/api_docs/python/tf/contrib/seq2seq/BasicDecoder)\n",
    "* Obtain the decoder outputs from [`tf.contrib.seq2seq.dynamic_decode`](https://www.tensorflow.org/api_docs/python/tf/contrib/seq2seq/dynamic_decode)"
   ]
  },
  {
   "cell_type": "code",
   "execution_count": 14,
   "metadata": {
    "scrolled": true
   },
   "outputs": [
    {
     "name": "stdout",
     "output_type": "stream",
     "text": [
      "Tests Passed\n"
     ]
    }
   ],
   "source": [
    "def decoding_layer_infer(encoder_state, dec_cell, dec_embeddings, start_of_sequence_id,\n",
    "                         end_of_sequence_id, max_target_sequence_length,\n",
    "                         vocab_size, output_layer, batch_size, keep_prob):\n",
    "    \"\"\"\n",
    "    Create a decoding layer for inference\n",
    "    :param encoder_state: Encoder state\n",
    "    :param dec_cell: Decoder RNN Cell\n",
    "    :param dec_embeddings: Decoder embeddings\n",
    "    :param start_of_sequence_id: GO ID\n",
    "    :param end_of_sequence_id: EOS Id\n",
    "    :param max_target_sequence_length: Maximum length of target sequences\n",
    "    :param vocab_size: Size of decoder/target vocabulary\n",
    "    :param decoding_scope: TenorFlow Variable Scope for decoding\n",
    "    :param output_layer: Function to apply the output layer\n",
    "    :param batch_size: Batch size\n",
    "    :param keep_prob: Dropout keep probability\n",
    "    :return: BasicDecoderOutput containing inference logits and sample_id\n",
    "    \"\"\"\n",
    "    # TODO: Implement Function\n",
    "    start_token = tf.tile(tf.constant([start_of_sequence_id], dtype=tf.int32), [batch_size], name='start_tokens')\n",
    "    \n",
    "    helper = tf.contrib.seq2seq.GreedyEmbeddingHelper(dec_embeddings, start_token, end_of_sequence_id)\n",
    "    basic_decoder = tf.contrib.seq2seq.BasicDecoder(dec_cell,helper,encoder_state,output_layer)\n",
    "    decoder = tf.contrib.seq2seq.dynamic_decode(basic_decoder, maximum_iterations=max_target_sequence_length)[0]\n",
    "\n",
    "\n",
    "    return decoder\n",
    "\n",
    "\n",
    "\n",
    "\"\"\"\n",
    "DON'T MODIFY ANYTHING IN THIS CELL THAT IS BELOW THIS LINE\n",
    "\"\"\"\n",
    "tests.test_decoding_layer_infer(decoding_layer_infer)"
   ]
  },
  {
   "cell_type": "markdown",
   "metadata": {},
   "source": [
    "### Build the Decoding Layer\n",
    "Implement `decoding_layer()` to create a Decoder RNN layer.\n",
    "\n",
    "* Embed the target sequences\n",
    "* Construct the decoder LSTM cell (just like you constructed the encoder cell above)\n",
    "* Create an output layer to map the outputs of the decoder to the elements of our vocabulary\n",
    "* Use the your `decoding_layer_train(encoder_state, dec_cell, dec_embed_input, target_sequence_length, max_target_sequence_length, output_layer, keep_prob)` function to get the training logits.\n",
    "* Use your `decoding_layer_infer(encoder_state, dec_cell, dec_embeddings, start_of_sequence_id, end_of_sequence_id, max_target_sequence_length, vocab_size, output_layer, batch_size, keep_prob)` function to get the inference logits.\n",
    "\n",
    "Note: You'll need to use [tf.variable_scope](https://www.tensorflow.org/api_docs/python/tf/variable_scope) to share variables between training and inference."
   ]
  },
  {
   "cell_type": "code",
   "execution_count": 15,
   "metadata": {},
   "outputs": [
    {
     "name": "stdout",
     "output_type": "stream",
     "text": [
      "Tests Passed\n"
     ]
    }
   ],
   "source": [
    "def decoding_layer(dec_input, encoder_state,\n",
    "                   target_sequence_length, max_target_sequence_length,\n",
    "                   rnn_size,\n",
    "                   num_layers, target_vocab_to_int, target_vocab_size,\n",
    "                   batch_size, keep_prob, decoding_embedding_size):\n",
    "    \"\"\"\n",
    "    Create decoding layer\n",
    "    :param dec_input: Decoder input\n",
    "    :param encoder_state: Encoder state\n",
    "    :param target_sequence_length: The lengths of each sequence in the target batch\n",
    "    :param max_target_sequence_length: Maximum length of target sequences\n",
    "    :param rnn_size: RNN Size\n",
    "    :param num_layers: Number of layers\n",
    "    :param target_vocab_to_int: Dictionary to go from the target words to an id\n",
    "    :param target_vocab_size: Size of target vocabulary\n",
    "    :param batch_size: The size of the batch\n",
    "    :param keep_prob: Dropout keep probability\n",
    "    :param decoding_embedding_size: Decoding embedding size\n",
    "    :return: Tuple of (Training BasicDecoderOutput, Inference BasicDecoderOutput)\n",
    "    \"\"\"\n",
    "    # TODO: Implement Function\n",
    "    # 1. Decoder Embedding\n",
    "    dec_embeddings = tf.Variable(tf.random_uniform([target_vocab_size, decoding_embedding_size]))\n",
    "    dec_embed_input = tf.nn.embedding_lookup(dec_embeddings, dec_input)\n",
    "    \n",
    "    # 2. Construct the decoder cell\n",
    "    def create_cell(rnn_size):\n",
    "        dec_cell = tf.contrib.rnn.LSTMCell(rnn_size,\n",
    "                                           initializer=tf.random_uniform_initializer(-0.1, 0.1, seed=2))\n",
    "        drop = tf.contrib.rnn.DropoutWrapper(dec_cell, output_keep_prob=keep_prob)\n",
    "        return drop\n",
    "\n",
    "    dec_cell = tf.contrib.rnn.MultiRNNCell([create_cell(rnn_size) for _ in range(num_layers)])\n",
    "    \n",
    "    output_layer = Dense(target_vocab_size,\n",
    "                         kernel_initializer = tf.truncated_normal_initializer(mean = 0.0, stddev=0.1))\n",
    "    \n",
    "    with tf.variable_scope(\"decode\"):\n",
    "        training_basic_output = decoding_layer_train(encoder_state, dec_cell, dec_embed_input, \n",
    "                         target_sequence_length, max_target_sequence_length, \n",
    "                         output_layer, keep_prob)\n",
    "    \n",
    "    with tf.variable_scope(\"decode\", reuse=True):\n",
    "        inference_basic_output = decoding_layer_infer(encoder_state, dec_cell, dec_embeddings, target_vocab_to_int['<GO>'],\n",
    "                         target_vocab_to_int['<EOS>'], max_target_sequence_length,\n",
    "                         target_vocab_size, output_layer, batch_size, keep_prob)\n",
    "\n",
    "    return training_basic_output, inference_basic_output\n",
    "\n",
    "\n",
    "\n",
    "\"\"\"\n",
    "DON'T MODIFY ANYTHING IN THIS CELL THAT IS BELOW THIS LINE\n",
    "\"\"\"\n",
    "tests.test_decoding_layer(decoding_layer)"
   ]
  },
  {
   "cell_type": "markdown",
   "metadata": {},
   "source": [
    "### Build the Neural Network\n",
    "Apply the functions you implemented above to:\n",
    "\n",
    "- Encode the input using your `encoding_layer(rnn_inputs, rnn_size, num_layers, keep_prob,  source_sequence_length, source_vocab_size, encoding_embedding_size)`.\n",
    "- Process target data using your `process_decoder_input(target_data, target_vocab_to_int, batch_size)` function.\n",
    "- Decode the encoded input using your `decoding_layer(dec_input, enc_state, target_sequence_length, max_target_sentence_length, rnn_size, num_layers, target_vocab_to_int, target_vocab_size, batch_size, keep_prob, dec_embedding_size)` function."
   ]
  },
  {
   "cell_type": "code",
   "execution_count": 16,
   "metadata": {},
   "outputs": [
    {
     "name": "stdout",
     "output_type": "stream",
     "text": [
      "Tests Passed\n"
     ]
    }
   ],
   "source": [
    "def seq2seq_model(input_data, target_data, keep_prob, batch_size,\n",
    "                  source_sequence_length, target_sequence_length,\n",
    "                  max_target_sentence_length,\n",
    "                  source_vocab_size, target_vocab_size,\n",
    "                  enc_embedding_size, dec_embedding_size,\n",
    "                  rnn_size, num_layers, target_vocab_to_int):\n",
    "    \"\"\"\n",
    "    Build the Sequence-to-Sequence part of the neural network\n",
    "    :param input_data: Input placeholder\n",
    "    :param target_data: Target placeholder\n",
    "    :param keep_prob: Dropout keep probability placeholder\n",
    "    :param batch_size: Batch Size\n",
    "    :param source_sequence_length: Sequence Lengths of source sequences in the batch\n",
    "    :param target_sequence_length: Sequence Lengths of target sequences in the batch\n",
    "    :param source_vocab_size: Source vocabulary size\n",
    "    :param target_vocab_size: Target vocabulary size\n",
    "    :param enc_embedding_size: Decoder embedding size\n",
    "    :param dec_embedding_size: Encoder embedding size\n",
    "    :param rnn_size: RNN Size\n",
    "    :param num_layers: Number of layers\n",
    "    :param target_vocab_to_int: Dictionary to go from the target words to an id\n",
    "    :return: Tuple of (Training BasicDecoderOutput, Inference BasicDecoderOutput)\n",
    "    \"\"\"\n",
    "    # TODO: Implement Function\n",
    "    # Pass the input data through the encoder. We'll ignore the encoder output, but use the state\n",
    "    _, enc_state = encoding_layer(input_data, rnn_size, num_layers, keep_prob, \n",
    "                   source_sequence_length, source_vocab_size, \n",
    "                   enc_embedding_size)\n",
    "    \n",
    "    # Prepare the target sequences we'll feed to the decoder in training mode\n",
    "    dec_input = process_decoder_input(target_data, target_vocab_to_int, batch_size)\n",
    "    \n",
    "    # Pass encoder state and decoder inputs to the decoders\n",
    "    training_decoder_output, inference_decoder_output = decoding_layer(dec_input, enc_state,\n",
    "                   target_sequence_length, max_target_sentence_length,\n",
    "                   rnn_size,\n",
    "                   num_layers, target_vocab_to_int, target_vocab_size,\n",
    "                   batch_size, keep_prob, dec_embedding_size)\n",
    "    \n",
    "    return training_decoder_output, inference_decoder_output\n",
    "\n",
    "\n",
    "\"\"\"\n",
    "DON'T MODIFY ANYTHING IN THIS CELL THAT IS BELOW THIS LINE\n",
    "\"\"\"\n",
    "tests.test_seq2seq_model(seq2seq_model)"
   ]
  },
  {
   "cell_type": "markdown",
   "metadata": {},
   "source": [
    "## Neural Network Training\n",
    "### Hyperparameters\n",
    "Tune the following parameters:\n",
    "\n",
    "- Set `epochs` to the number of epochs.\n",
    "- Set `batch_size` to the batch size.\n",
    "- Set `rnn_size` to the size of the RNNs.\n",
    "- Set `num_layers` to the number of layers.\n",
    "- Set `encoding_embedding_size` to the size of the embedding for the encoder.\n",
    "- Set `decoding_embedding_size` to the size of the embedding for the decoder.\n",
    "- Set `learning_rate` to the learning rate.\n",
    "- Set `keep_probability` to the Dropout keep probability\n",
    "- Set `display_step` to state how many steps between each debug output statement"
   ]
  },
  {
   "cell_type": "code",
   "execution_count": 17,
   "metadata": {
    "collapsed": true
   },
   "outputs": [],
   "source": [
    "# Number of Epochs\n",
    "epochs = 10\n",
    "# Batch Size\n",
    "batch_size = 128\n",
    "# RNN Size\n",
    "rnn_size = 128\n",
    "# Number of Layers\n",
    "num_layers = 2\n",
    "# Embedding Size\n",
    "encoding_embedding_size = 64\n",
    "decoding_embedding_size = 64\n",
    "# Learning Rate\n",
    "learning_rate = 0.001\n",
    "# Dropout Keep Probability\n",
    "keep_probability = 0.75\n",
    "display_step = 50"
   ]
  },
  {
   "cell_type": "markdown",
   "metadata": {},
   "source": [
    "### Build the Graph\n",
    "Build the graph using the neural network you implemented."
   ]
  },
  {
   "cell_type": "code",
   "execution_count": 18,
   "metadata": {
    "collapsed": true
   },
   "outputs": [],
   "source": [
    "\"\"\"\n",
    "DON'T MODIFY ANYTHING IN THIS CELL\n",
    "\"\"\"\n",
    "save_path = 'checkpoints/dev'\n",
    "(source_int_text, target_int_text), (source_vocab_to_int, target_vocab_to_int), _ = helper.load_preprocess()\n",
    "max_target_sentence_length = max([len(sentence) for sentence in source_int_text])\n",
    "\n",
    "train_graph = tf.Graph()\n",
    "with train_graph.as_default():\n",
    "    input_data, targets, lr, keep_prob, target_sequence_length, max_target_sequence_length, source_sequence_length = model_inputs()\n",
    "\n",
    "    #sequence_length = tf.placeholder_with_default(max_target_sentence_length, None, name='sequence_length')\n",
    "    input_shape = tf.shape(input_data)\n",
    "\n",
    "    train_logits, inference_logits = seq2seq_model(tf.reverse(input_data, [-1]),\n",
    "                                                   targets,\n",
    "                                                   keep_prob,\n",
    "                                                   batch_size,\n",
    "                                                   source_sequence_length,\n",
    "                                                   target_sequence_length,\n",
    "                                                   max_target_sequence_length,\n",
    "                                                   len(source_vocab_to_int),\n",
    "                                                   len(target_vocab_to_int),\n",
    "                                                   encoding_embedding_size,\n",
    "                                                   decoding_embedding_size,\n",
    "                                                   rnn_size,\n",
    "                                                   num_layers,\n",
    "                                                   target_vocab_to_int)\n",
    "\n",
    "\n",
    "    training_logits = tf.identity(train_logits.rnn_output, name='logits')\n",
    "    inference_logits = tf.identity(inference_logits.sample_id, name='predictions')\n",
    "\n",
    "    masks = tf.sequence_mask(target_sequence_length, max_target_sequence_length, dtype=tf.float32, name='masks')\n",
    "\n",
    "    with tf.name_scope(\"optimization\"):\n",
    "        # Loss function\n",
    "        cost = tf.contrib.seq2seq.sequence_loss(\n",
    "            training_logits,\n",
    "            targets,\n",
    "            masks)\n",
    "\n",
    "        # Optimizer\n",
    "        optimizer = tf.train.AdamOptimizer(lr)\n",
    "\n",
    "        # Gradient Clipping\n",
    "        gradients = optimizer.compute_gradients(cost)\n",
    "        capped_gradients = [(tf.clip_by_value(grad, -1., 1.), var) for grad, var in gradients if grad is not None]\n",
    "        train_op = optimizer.apply_gradients(capped_gradients)\n"
   ]
  },
  {
   "cell_type": "markdown",
   "metadata": {},
   "source": [
    "Batch and pad the source and target sequences"
   ]
  },
  {
   "cell_type": "code",
   "execution_count": 19,
   "metadata": {
    "collapsed": true
   },
   "outputs": [],
   "source": [
    "\"\"\"\n",
    "DON'T MODIFY ANYTHING IN THIS CELL\n",
    "\"\"\"\n",
    "def pad_sentence_batch(sentence_batch, pad_int):\n",
    "    \"\"\"Pad sentences with <PAD> so that each sentence of a batch has the same length\"\"\"\n",
    "    max_sentence = max([len(sentence) for sentence in sentence_batch])\n",
    "    return [sentence + [pad_int] * (max_sentence - len(sentence)) for sentence in sentence_batch]\n",
    "\n",
    "\n",
    "def get_batches(sources, targets, batch_size, source_pad_int, target_pad_int):\n",
    "    \"\"\"Batch targets, sources, and the lengths of their sentences together\"\"\"\n",
    "    for batch_i in range(0, len(sources)//batch_size):\n",
    "        start_i = batch_i * batch_size\n",
    "\n",
    "        # Slice the right amount for the batch\n",
    "        sources_batch = sources[start_i:start_i + batch_size]\n",
    "        targets_batch = targets[start_i:start_i + batch_size]\n",
    "\n",
    "        # Pad\n",
    "        pad_sources_batch = np.array(pad_sentence_batch(sources_batch, source_pad_int))\n",
    "        pad_targets_batch = np.array(pad_sentence_batch(targets_batch, target_pad_int))\n",
    "\n",
    "        # Need the lengths for the _lengths parameters\n",
    "        pad_targets_lengths = []\n",
    "        for target in pad_targets_batch:\n",
    "            pad_targets_lengths.append(len(target))\n",
    "\n",
    "        pad_source_lengths = []\n",
    "        for source in pad_sources_batch:\n",
    "            pad_source_lengths.append(len(source))\n",
    "\n",
    "        yield pad_sources_batch, pad_targets_batch, pad_source_lengths, pad_targets_lengths\n"
   ]
  },
  {
   "cell_type": "markdown",
   "metadata": {},
   "source": [
    "### Train\n",
    "Train the neural network on the preprocessed data. If you have a hard time getting a good loss, check the forms to see if anyone is having the same problem."
   ]
  },
  {
   "cell_type": "code",
   "execution_count": 20,
   "metadata": {
    "scrolled": true
   },
   "outputs": [
    {
     "name": "stdout",
     "output_type": "stream",
     "text": [
      "Epoch   0 Batch   50/1077 - Train Accuracy: 0.3348, Validation Accuracy: 0.4023, Loss: 3.1057\n",
      "Epoch   0 Batch  100/1077 - Train Accuracy: 0.4285, Validation Accuracy: 0.4854, Loss: 2.5917\n",
      "Epoch   0 Batch  150/1077 - Train Accuracy: 0.4654, Validation Accuracy: 0.4979, Loss: 2.0983\n",
      "Epoch   0 Batch  200/1077 - Train Accuracy: 0.4336, Validation Accuracy: 0.4947, Loss: 1.9540\n",
      "Epoch   0 Batch  250/1077 - Train Accuracy: 0.4563, Validation Accuracy: 0.4822, Loss: 1.6226\n",
      "Epoch   0 Batch  300/1077 - Train Accuracy: 0.4317, Validation Accuracy: 0.4968, Loss: 1.5846\n",
      "Epoch   0 Batch  350/1077 - Train Accuracy: 0.3992, Validation Accuracy: 0.4815, Loss: 1.4313\n",
      "Epoch   0 Batch  400/1077 - Train Accuracy: 0.4934, Validation Accuracy: 0.5337, Loss: 1.2386\n",
      "Epoch   0 Batch  450/1077 - Train Accuracy: 0.4848, Validation Accuracy: 0.5284, Loss: 1.1357\n",
      "Epoch   0 Batch  500/1077 - Train Accuracy: 0.5238, Validation Accuracy: 0.5611, Loss: 1.0362\n",
      "Epoch   0 Batch  550/1077 - Train Accuracy: 0.4926, Validation Accuracy: 0.5661, Loss: 1.0047\n",
      "Epoch   0 Batch  600/1077 - Train Accuracy: 0.5480, Validation Accuracy: 0.5771, Loss: 0.8731\n",
      "Epoch   0 Batch  650/1077 - Train Accuracy: 0.5211, Validation Accuracy: 0.5781, Loss: 0.8858\n",
      "Epoch   0 Batch  700/1077 - Train Accuracy: 0.5324, Validation Accuracy: 0.5810, Loss: 0.8192\n",
      "Epoch   0 Batch  750/1077 - Train Accuracy: 0.5801, Validation Accuracy: 0.6033, Loss: 0.7866\n",
      "Epoch   0 Batch  800/1077 - Train Accuracy: 0.5328, Validation Accuracy: 0.6019, Loss: 0.7648\n",
      "Epoch   0 Batch  850/1077 - Train Accuracy: 0.5871, Validation Accuracy: 0.6154, Loss: 0.7808\n",
      "Epoch   0 Batch  900/1077 - Train Accuracy: 0.6023, Validation Accuracy: 0.6222, Loss: 0.7358\n",
      "Epoch   0 Batch  950/1077 - Train Accuracy: 0.5885, Validation Accuracy: 0.6108, Loss: 0.6649\n",
      "Epoch   0 Batch 1000/1077 - Train Accuracy: 0.6488, Validation Accuracy: 0.6186, Loss: 0.6295\n",
      "Epoch   0 Batch 1050/1077 - Train Accuracy: 0.5402, Validation Accuracy: 0.6051, Loss: 0.6718\n",
      "Epoch   1 Batch   50/1077 - Train Accuracy: 0.5813, Validation Accuracy: 0.6211, Loss: 0.6348\n",
      "Epoch   1 Batch  100/1077 - Train Accuracy: 0.6309, Validation Accuracy: 0.6410, Loss: 0.6191\n",
      "Epoch   1 Batch  150/1077 - Train Accuracy: 0.6596, Validation Accuracy: 0.6328, Loss: 0.5690\n",
      "Epoch   1 Batch  200/1077 - Train Accuracy: 0.5773, Validation Accuracy: 0.6417, Loss: 0.6031\n",
      "Epoch   1 Batch  250/1077 - Train Accuracy: 0.6541, Validation Accuracy: 0.6523, Loss: 0.5369\n",
      "Epoch   1 Batch  300/1077 - Train Accuracy: 0.6419, Validation Accuracy: 0.6605, Loss: 0.5776\n",
      "Epoch   1 Batch  350/1077 - Train Accuracy: 0.6109, Validation Accuracy: 0.6381, Loss: 0.5688\n",
      "Epoch   1 Batch  400/1077 - Train Accuracy: 0.6773, Validation Accuracy: 0.6733, Loss: 0.5495\n",
      "Epoch   1 Batch  450/1077 - Train Accuracy: 0.6953, Validation Accuracy: 0.6513, Loss: 0.5029\n",
      "Epoch   1 Batch  500/1077 - Train Accuracy: 0.6738, Validation Accuracy: 0.6456, Loss: 0.5113\n",
      "Epoch   1 Batch  550/1077 - Train Accuracy: 0.6395, Validation Accuracy: 0.6964, Loss: 0.5086\n",
      "Epoch   1 Batch  600/1077 - Train Accuracy: 0.6964, Validation Accuracy: 0.6903, Loss: 0.4603\n",
      "Epoch   1 Batch  650/1077 - Train Accuracy: 0.6703, Validation Accuracy: 0.6857, Loss: 0.4741\n",
      "Epoch   1 Batch  700/1077 - Train Accuracy: 0.7047, Validation Accuracy: 0.6964, Loss: 0.4495\n",
      "Epoch   1 Batch  750/1077 - Train Accuracy: 0.7141, Validation Accuracy: 0.7113, Loss: 0.4394\n",
      "Epoch   1 Batch  800/1077 - Train Accuracy: 0.7102, Validation Accuracy: 0.6889, Loss: 0.4314\n",
      "Epoch   1 Batch  850/1077 - Train Accuracy: 0.6797, Validation Accuracy: 0.7223, Loss: 0.4462\n",
      "Epoch   1 Batch  900/1077 - Train Accuracy: 0.7270, Validation Accuracy: 0.7315, Loss: 0.4340\n",
      "Epoch   1 Batch  950/1077 - Train Accuracy: 0.7318, Validation Accuracy: 0.7099, Loss: 0.3791\n",
      "Epoch   1 Batch 1000/1077 - Train Accuracy: 0.7578, Validation Accuracy: 0.7287, Loss: 0.3559\n",
      "Epoch   1 Batch 1050/1077 - Train Accuracy: 0.7008, Validation Accuracy: 0.7376, Loss: 0.3776\n",
      "Epoch   2 Batch   50/1077 - Train Accuracy: 0.7590, Validation Accuracy: 0.7393, Loss: 0.3522\n",
      "Epoch   2 Batch  100/1077 - Train Accuracy: 0.7547, Validation Accuracy: 0.7521, Loss: 0.3668\n",
      "Epoch   2 Batch  150/1077 - Train Accuracy: 0.7723, Validation Accuracy: 0.7525, Loss: 0.3193\n",
      "Epoch   2 Batch  200/1077 - Train Accuracy: 0.7293, Validation Accuracy: 0.7766, Loss: 0.3543\n",
      "Epoch   2 Batch  250/1077 - Train Accuracy: 0.7947, Validation Accuracy: 0.7702, Loss: 0.2889\n",
      "Epoch   2 Batch  300/1077 - Train Accuracy: 0.7669, Validation Accuracy: 0.7756, Loss: 0.3116\n",
      "Epoch   2 Batch  350/1077 - Train Accuracy: 0.7906, Validation Accuracy: 0.7887, Loss: 0.3139\n",
      "Epoch   2 Batch  400/1077 - Train Accuracy: 0.7855, Validation Accuracy: 0.7734, Loss: 0.3074\n",
      "Epoch   2 Batch  450/1077 - Train Accuracy: 0.8063, Validation Accuracy: 0.7727, Loss: 0.2716\n",
      "Epoch   2 Batch  500/1077 - Train Accuracy: 0.8137, Validation Accuracy: 0.7947, Loss: 0.2593\n",
      "Epoch   2 Batch  550/1077 - Train Accuracy: 0.7820, Validation Accuracy: 0.7979, Loss: 0.2580\n",
      "Epoch   2 Batch  600/1077 - Train Accuracy: 0.8010, Validation Accuracy: 0.8320, Loss: 0.2425\n",
      "Epoch   2 Batch  650/1077 - Train Accuracy: 0.8289, Validation Accuracy: 0.8327, Loss: 0.2508\n",
      "Epoch   2 Batch  700/1077 - Train Accuracy: 0.8242, Validation Accuracy: 0.8150, Loss: 0.2115\n",
      "Epoch   2 Batch  750/1077 - Train Accuracy: 0.8223, Validation Accuracy: 0.8271, Loss: 0.2056\n",
      "Epoch   2 Batch  800/1077 - Train Accuracy: 0.8438, Validation Accuracy: 0.8363, Loss: 0.2193\n",
      "Epoch   2 Batch  850/1077 - Train Accuracy: 0.8106, Validation Accuracy: 0.8288, Loss: 0.2321\n",
      "Epoch   2 Batch  900/1077 - Train Accuracy: 0.8629, Validation Accuracy: 0.8200, Loss: 0.2079\n",
      "Epoch   2 Batch  950/1077 - Train Accuracy: 0.8341, Validation Accuracy: 0.8306, Loss: 0.1711\n",
      "Epoch   2 Batch 1000/1077 - Train Accuracy: 0.8687, Validation Accuracy: 0.8384, Loss: 0.1628\n",
      "Epoch   2 Batch 1050/1077 - Train Accuracy: 0.8129, Validation Accuracy: 0.8576, Loss: 0.1586\n",
      "Epoch   3 Batch   50/1077 - Train Accuracy: 0.8793, Validation Accuracy: 0.8533, Loss: 0.1650\n",
      "Epoch   3 Batch  100/1077 - Train Accuracy: 0.8770, Validation Accuracy: 0.8743, Loss: 0.1414\n",
      "Epoch   3 Batch  150/1077 - Train Accuracy: 0.8806, Validation Accuracy: 0.8537, Loss: 0.1486\n",
      "Epoch   3 Batch  200/1077 - Train Accuracy: 0.8516, Validation Accuracy: 0.8654, Loss: 0.1616\n",
      "Epoch   3 Batch  250/1077 - Train Accuracy: 0.9098, Validation Accuracy: 0.8658, Loss: 0.1209\n",
      "Epoch   3 Batch  300/1077 - Train Accuracy: 0.8947, Validation Accuracy: 0.8626, Loss: 0.1394\n",
      "Epoch   3 Batch  350/1077 - Train Accuracy: 0.8590, Validation Accuracy: 0.8736, Loss: 0.1317\n",
      "Epoch   3 Batch  400/1077 - Train Accuracy: 0.9219, Validation Accuracy: 0.8562, Loss: 0.1442\n",
      "Epoch   3 Batch  450/1077 - Train Accuracy: 0.8879, Validation Accuracy: 0.8569, Loss: 0.1334\n",
      "Epoch   3 Batch  500/1077 - Train Accuracy: 0.9012, Validation Accuracy: 0.8484, Loss: 0.1133\n",
      "Epoch   3 Batch  550/1077 - Train Accuracy: 0.8582, Validation Accuracy: 0.8651, Loss: 0.1249\n",
      "Epoch   3 Batch  600/1077 - Train Accuracy: 0.8951, Validation Accuracy: 0.8626, Loss: 0.1258\n",
      "Epoch   3 Batch  650/1077 - Train Accuracy: 0.8832, Validation Accuracy: 0.8764, Loss: 0.1143\n",
      "Epoch   3 Batch  700/1077 - Train Accuracy: 0.9055, Validation Accuracy: 0.8441, Loss: 0.0971\n",
      "Epoch   3 Batch  750/1077 - Train Accuracy: 0.8855, Validation Accuracy: 0.8761, Loss: 0.1017\n",
      "Epoch   3 Batch  800/1077 - Train Accuracy: 0.9121, Validation Accuracy: 0.8803, Loss: 0.1112\n",
      "Epoch   3 Batch  850/1077 - Train Accuracy: 0.8761, Validation Accuracy: 0.8803, Loss: 0.1332\n",
      "Epoch   3 Batch  900/1077 - Train Accuracy: 0.9004, Validation Accuracy: 0.8636, Loss: 0.1160\n",
      "Epoch   3 Batch  950/1077 - Train Accuracy: 0.8969, Validation Accuracy: 0.8668, Loss: 0.0946\n",
      "Epoch   3 Batch 1000/1077 - Train Accuracy: 0.9200, Validation Accuracy: 0.9023, Loss: 0.0960\n",
      "Epoch   3 Batch 1050/1077 - Train Accuracy: 0.9039, Validation Accuracy: 0.9059, Loss: 0.0919\n",
      "Epoch   4 Batch   50/1077 - Train Accuracy: 0.9187, Validation Accuracy: 0.8853, Loss: 0.0820\n",
      "Epoch   4 Batch  100/1077 - Train Accuracy: 0.9164, Validation Accuracy: 0.8881, Loss: 0.0925\n",
      "Epoch   4 Batch  150/1077 - Train Accuracy: 0.9182, Validation Accuracy: 0.8690, Loss: 0.0867\n",
      "Epoch   4 Batch  200/1077 - Train Accuracy: 0.8887, Validation Accuracy: 0.8942, Loss: 0.0942\n"
     ]
    },
    {
     "name": "stdout",
     "output_type": "stream",
     "text": [
      "Epoch   4 Batch  250/1077 - Train Accuracy: 0.9386, Validation Accuracy: 0.8885, Loss: 0.0778\n",
      "Epoch   4 Batch  300/1077 - Train Accuracy: 0.9498, Validation Accuracy: 0.9062, Loss: 0.0821\n",
      "Epoch   4 Batch  350/1077 - Train Accuracy: 0.9043, Validation Accuracy: 0.8988, Loss: 0.0843\n",
      "Epoch   4 Batch  400/1077 - Train Accuracy: 0.8988, Validation Accuracy: 0.8995, Loss: 0.0964\n",
      "Epoch   4 Batch  450/1077 - Train Accuracy: 0.9203, Validation Accuracy: 0.8775, Loss: 0.0876\n",
      "Epoch   4 Batch  500/1077 - Train Accuracy: 0.9336, Validation Accuracy: 0.9187, Loss: 0.0719\n",
      "Epoch   4 Batch  550/1077 - Train Accuracy: 0.9047, Validation Accuracy: 0.9151, Loss: 0.0714\n",
      "Epoch   4 Batch  600/1077 - Train Accuracy: 0.9174, Validation Accuracy: 0.8853, Loss: 0.0882\n",
      "Epoch   4 Batch  650/1077 - Train Accuracy: 0.9281, Validation Accuracy: 0.9208, Loss: 0.0862\n",
      "Epoch   4 Batch  700/1077 - Train Accuracy: 0.9309, Validation Accuracy: 0.9126, Loss: 0.0657\n",
      "Epoch   4 Batch  750/1077 - Train Accuracy: 0.9180, Validation Accuracy: 0.9201, Loss: 0.0716\n",
      "Epoch   4 Batch  800/1077 - Train Accuracy: 0.9328, Validation Accuracy: 0.8984, Loss: 0.0752\n",
      "Epoch   4 Batch  850/1077 - Train Accuracy: 0.9040, Validation Accuracy: 0.9119, Loss: 0.0996\n",
      "Epoch   4 Batch  900/1077 - Train Accuracy: 0.9137, Validation Accuracy: 0.8960, Loss: 0.0808\n",
      "Epoch   4 Batch  950/1077 - Train Accuracy: 0.9062, Validation Accuracy: 0.9194, Loss: 0.0695\n",
      "Epoch   4 Batch 1000/1077 - Train Accuracy: 0.9371, Validation Accuracy: 0.9158, Loss: 0.0669\n",
      "Epoch   4 Batch 1050/1077 - Train Accuracy: 0.9324, Validation Accuracy: 0.9183, Loss: 0.0583\n",
      "Epoch   5 Batch   50/1077 - Train Accuracy: 0.9281, Validation Accuracy: 0.9020, Loss: 0.0585\n",
      "Epoch   5 Batch  100/1077 - Train Accuracy: 0.9465, Validation Accuracy: 0.9272, Loss: 0.0667\n",
      "Epoch   5 Batch  150/1077 - Train Accuracy: 0.9342, Validation Accuracy: 0.8984, Loss: 0.0697\n",
      "Epoch   5 Batch  200/1077 - Train Accuracy: 0.9223, Validation Accuracy: 0.9169, Loss: 0.0679\n",
      "Epoch   5 Batch  250/1077 - Train Accuracy: 0.9382, Validation Accuracy: 0.9105, Loss: 0.0659\n",
      "Epoch   5 Batch  300/1077 - Train Accuracy: 0.9679, Validation Accuracy: 0.9311, Loss: 0.0572\n",
      "Epoch   5 Batch  350/1077 - Train Accuracy: 0.9277, Validation Accuracy: 0.9031, Loss: 0.0661\n",
      "Epoch   5 Batch  400/1077 - Train Accuracy: 0.9281, Validation Accuracy: 0.9144, Loss: 0.0717\n",
      "Epoch   5 Batch  450/1077 - Train Accuracy: 0.9258, Validation Accuracy: 0.9080, Loss: 0.0692\n",
      "Epoch   5 Batch  500/1077 - Train Accuracy: 0.9355, Validation Accuracy: 0.9233, Loss: 0.0506\n",
      "Epoch   5 Batch  550/1077 - Train Accuracy: 0.8969, Validation Accuracy: 0.9190, Loss: 0.0582\n",
      "Epoch   5 Batch  600/1077 - Train Accuracy: 0.9234, Validation Accuracy: 0.9141, Loss: 0.0662\n",
      "Epoch   5 Batch  650/1077 - Train Accuracy: 0.9223, Validation Accuracy: 0.9201, Loss: 0.0611\n",
      "Epoch   5 Batch  700/1077 - Train Accuracy: 0.9391, Validation Accuracy: 0.9215, Loss: 0.0539\n",
      "Epoch   5 Batch  750/1077 - Train Accuracy: 0.9234, Validation Accuracy: 0.9190, Loss: 0.0577\n",
      "Epoch   5 Batch  800/1077 - Train Accuracy: 0.9633, Validation Accuracy: 0.9254, Loss: 0.0607\n",
      "Epoch   5 Batch  850/1077 - Train Accuracy: 0.9144, Validation Accuracy: 0.9201, Loss: 0.0865\n",
      "Epoch   5 Batch  900/1077 - Train Accuracy: 0.9520, Validation Accuracy: 0.9290, Loss: 0.0580\n",
      "Epoch   5 Batch  950/1077 - Train Accuracy: 0.9453, Validation Accuracy: 0.9261, Loss: 0.0513\n",
      "Epoch   5 Batch 1000/1077 - Train Accuracy: 0.9557, Validation Accuracy: 0.9304, Loss: 0.0509\n",
      "Epoch   5 Batch 1050/1077 - Train Accuracy: 0.9629, Validation Accuracy: 0.9350, Loss: 0.0475\n",
      "Epoch   6 Batch   50/1077 - Train Accuracy: 0.9723, Validation Accuracy: 0.9322, Loss: 0.0454\n",
      "Epoch   6 Batch  100/1077 - Train Accuracy: 0.9437, Validation Accuracy: 0.9197, Loss: 0.0504\n",
      "Epoch   6 Batch  150/1077 - Train Accuracy: 0.9323, Validation Accuracy: 0.9148, Loss: 0.0558\n",
      "Epoch   6 Batch  200/1077 - Train Accuracy: 0.9418, Validation Accuracy: 0.9155, Loss: 0.0631\n",
      "Epoch   6 Batch  250/1077 - Train Accuracy: 0.9414, Validation Accuracy: 0.9208, Loss: 0.0550\n",
      "Epoch   6 Batch  300/1077 - Train Accuracy: 0.9630, Validation Accuracy: 0.9464, Loss: 0.0425\n",
      "Epoch   6 Batch  350/1077 - Train Accuracy: 0.9559, Validation Accuracy: 0.9265, Loss: 0.0500\n",
      "Epoch   6 Batch  400/1077 - Train Accuracy: 0.9441, Validation Accuracy: 0.9258, Loss: 0.0597\n",
      "Epoch   6 Batch  450/1077 - Train Accuracy: 0.9348, Validation Accuracy: 0.9158, Loss: 0.0513\n",
      "Epoch   6 Batch  500/1077 - Train Accuracy: 0.9410, Validation Accuracy: 0.9403, Loss: 0.0368\n",
      "Epoch   6 Batch  550/1077 - Train Accuracy: 0.9023, Validation Accuracy: 0.9304, Loss: 0.0537\n",
      "Epoch   6 Batch  600/1077 - Train Accuracy: 0.9308, Validation Accuracy: 0.9322, Loss: 0.0511\n",
      "Epoch   6 Batch  650/1077 - Train Accuracy: 0.9227, Validation Accuracy: 0.9300, Loss: 0.0481\n",
      "Epoch   6 Batch  700/1077 - Train Accuracy: 0.9473, Validation Accuracy: 0.9134, Loss: 0.0361\n",
      "Epoch   6 Batch  750/1077 - Train Accuracy: 0.9395, Validation Accuracy: 0.9304, Loss: 0.0463\n",
      "Epoch   6 Batch  800/1077 - Train Accuracy: 0.9719, Validation Accuracy: 0.9471, Loss: 0.0424\n",
      "Epoch   6 Batch  850/1077 - Train Accuracy: 0.9215, Validation Accuracy: 0.9453, Loss: 0.0660\n",
      "Epoch   6 Batch  900/1077 - Train Accuracy: 0.9488, Validation Accuracy: 0.9517, Loss: 0.0505\n",
      "Epoch   6 Batch  950/1077 - Train Accuracy: 0.9501, Validation Accuracy: 0.9467, Loss: 0.0458\n",
      "Epoch   6 Batch 1000/1077 - Train Accuracy: 0.9449, Validation Accuracy: 0.9222, Loss: 0.0527\n",
      "Epoch   6 Batch 1050/1077 - Train Accuracy: 0.9742, Validation Accuracy: 0.9531, Loss: 0.0345\n",
      "Epoch   7 Batch   50/1077 - Train Accuracy: 0.9605, Validation Accuracy: 0.9421, Loss: 0.0448\n",
      "Epoch   7 Batch  100/1077 - Train Accuracy: 0.9477, Validation Accuracy: 0.9535, Loss: 0.0367\n",
      "Epoch   7 Batch  150/1077 - Train Accuracy: 0.9494, Validation Accuracy: 0.9531, Loss: 0.0433\n",
      "Epoch   7 Batch  200/1077 - Train Accuracy: 0.9453, Validation Accuracy: 0.9329, Loss: 0.0458\n",
      "Epoch   7 Batch  250/1077 - Train Accuracy: 0.9357, Validation Accuracy: 0.9446, Loss: 0.0451\n",
      "Epoch   7 Batch  300/1077 - Train Accuracy: 0.9655, Validation Accuracy: 0.9350, Loss: 0.0340\n",
      "Epoch   7 Batch  350/1077 - Train Accuracy: 0.9602, Validation Accuracy: 0.9513, Loss: 0.0407\n",
      "Epoch   7 Batch  400/1077 - Train Accuracy: 0.9418, Validation Accuracy: 0.9556, Loss: 0.0568\n",
      "Epoch   7 Batch  450/1077 - Train Accuracy: 0.9570, Validation Accuracy: 0.9357, Loss: 0.0492\n",
      "Epoch   7 Batch  500/1077 - Train Accuracy: 0.9477, Validation Accuracy: 0.9585, Loss: 0.0339\n",
      "Epoch   7 Batch  550/1077 - Train Accuracy: 0.9062, Validation Accuracy: 0.9357, Loss: 0.0416\n",
      "Epoch   7 Batch  600/1077 - Train Accuracy: 0.9695, Validation Accuracy: 0.9393, Loss: 0.0487\n",
      "Epoch   7 Batch  650/1077 - Train Accuracy: 0.9598, Validation Accuracy: 0.9528, Loss: 0.0433\n",
      "Epoch   7 Batch  700/1077 - Train Accuracy: 0.9504, Validation Accuracy: 0.9528, Loss: 0.0380\n",
      "Epoch   7 Batch  750/1077 - Train Accuracy: 0.9422, Validation Accuracy: 0.9460, Loss: 0.0414\n",
      "Epoch   7 Batch  800/1077 - Train Accuracy: 0.9437, Validation Accuracy: 0.9556, Loss: 0.0342\n",
      "Epoch   7 Batch  850/1077 - Train Accuracy: 0.9416, Validation Accuracy: 0.9379, Loss: 0.0572\n",
      "Epoch   7 Batch  900/1077 - Train Accuracy: 0.9602, Validation Accuracy: 0.9648, Loss: 0.0440\n",
      "Epoch   7 Batch  950/1077 - Train Accuracy: 0.9550, Validation Accuracy: 0.9524, Loss: 0.0344\n",
      "Epoch   7 Batch 1000/1077 - Train Accuracy: 0.9427, Validation Accuracy: 0.9428, Loss: 0.0400\n",
      "Epoch   7 Batch 1050/1077 - Train Accuracy: 0.9859, Validation Accuracy: 0.9606, Loss: 0.0276\n",
      "Epoch   8 Batch   50/1077 - Train Accuracy: 0.9641, Validation Accuracy: 0.9506, Loss: 0.0386\n",
      "Epoch   8 Batch  100/1077 - Train Accuracy: 0.9609, Validation Accuracy: 0.9513, Loss: 0.0344\n",
      "Epoch   8 Batch  150/1077 - Train Accuracy: 0.9587, Validation Accuracy: 0.9485, Loss: 0.0391\n",
      "Epoch   8 Batch  200/1077 - Train Accuracy: 0.9664, Validation Accuracy: 0.9531, Loss: 0.0463\n",
      "Epoch   8 Batch  250/1077 - Train Accuracy: 0.9538, Validation Accuracy: 0.9599, Loss: 0.0347\n",
      "Epoch   8 Batch  300/1077 - Train Accuracy: 0.9667, Validation Accuracy: 0.9464, Loss: 0.0325\n",
      "Epoch   8 Batch  350/1077 - Train Accuracy: 0.9730, Validation Accuracy: 0.9542, Loss: 0.0377\n",
      "Epoch   8 Batch  400/1077 - Train Accuracy: 0.9461, Validation Accuracy: 0.9599, Loss: 0.0427\n"
     ]
    },
    {
     "name": "stdout",
     "output_type": "stream",
     "text": [
      "Epoch   8 Batch  450/1077 - Train Accuracy: 0.9621, Validation Accuracy: 0.9542, Loss: 0.0395\n",
      "Epoch   8 Batch  500/1077 - Train Accuracy: 0.9578, Validation Accuracy: 0.9492, Loss: 0.0309\n",
      "Epoch   8 Batch  550/1077 - Train Accuracy: 0.9176, Validation Accuracy: 0.9485, Loss: 0.0387\n",
      "Epoch   8 Batch  600/1077 - Train Accuracy: 0.9565, Validation Accuracy: 0.9538, Loss: 0.0372\n",
      "Epoch   8 Batch  650/1077 - Train Accuracy: 0.9535, Validation Accuracy: 0.9705, Loss: 0.0402\n",
      "Epoch   8 Batch  700/1077 - Train Accuracy: 0.9672, Validation Accuracy: 0.9428, Loss: 0.0265\n",
      "Epoch   8 Batch  750/1077 - Train Accuracy: 0.9531, Validation Accuracy: 0.9705, Loss: 0.0364\n",
      "Epoch   8 Batch  800/1077 - Train Accuracy: 0.9625, Validation Accuracy: 0.9702, Loss: 0.0326\n",
      "Epoch   8 Batch  850/1077 - Train Accuracy: 0.9501, Validation Accuracy: 0.9499, Loss: 0.0558\n",
      "Epoch   8 Batch  900/1077 - Train Accuracy: 0.9578, Validation Accuracy: 0.9599, Loss: 0.0441\n",
      "Epoch   8 Batch  950/1077 - Train Accuracy: 0.9773, Validation Accuracy: 0.9599, Loss: 0.0289\n",
      "Epoch   8 Batch 1000/1077 - Train Accuracy: 0.9531, Validation Accuracy: 0.9339, Loss: 0.0352\n",
      "Epoch   8 Batch 1050/1077 - Train Accuracy: 0.9746, Validation Accuracy: 0.9567, Loss: 0.0258\n",
      "Epoch   9 Batch   50/1077 - Train Accuracy: 0.9758, Validation Accuracy: 0.9705, Loss: 0.0295\n",
      "Epoch   9 Batch  100/1077 - Train Accuracy: 0.9559, Validation Accuracy: 0.9645, Loss: 0.0294\n",
      "Epoch   9 Batch  150/1077 - Train Accuracy: 0.9528, Validation Accuracy: 0.9535, Loss: 0.0320\n",
      "Epoch   9 Batch  200/1077 - Train Accuracy: 0.9734, Validation Accuracy: 0.9666, Loss: 0.0325\n",
      "Epoch   9 Batch  250/1077 - Train Accuracy: 0.9545, Validation Accuracy: 0.9648, Loss: 0.0306\n",
      "Epoch   9 Batch  300/1077 - Train Accuracy: 0.9630, Validation Accuracy: 0.9506, Loss: 0.0368\n",
      "Epoch   9 Batch  350/1077 - Train Accuracy: 0.9695, Validation Accuracy: 0.9528, Loss: 0.0264\n",
      "Epoch   9 Batch  400/1077 - Train Accuracy: 0.9500, Validation Accuracy: 0.9553, Loss: 0.0382\n",
      "Epoch   9 Batch  450/1077 - Train Accuracy: 0.9613, Validation Accuracy: 0.9506, Loss: 0.0392\n",
      "Epoch   9 Batch  500/1077 - Train Accuracy: 0.9723, Validation Accuracy: 0.9510, Loss: 0.0230\n",
      "Epoch   9 Batch  550/1077 - Train Accuracy: 0.9383, Validation Accuracy: 0.9627, Loss: 0.0350\n",
      "Epoch   9 Batch  600/1077 - Train Accuracy: 0.9799, Validation Accuracy: 0.9673, Loss: 0.0312\n",
      "Epoch   9 Batch  650/1077 - Train Accuracy: 0.9746, Validation Accuracy: 0.9638, Loss: 0.0272\n",
      "Epoch   9 Batch  700/1077 - Train Accuracy: 0.9742, Validation Accuracy: 0.9602, Loss: 0.0232\n",
      "Epoch   9 Batch  750/1077 - Train Accuracy: 0.9691, Validation Accuracy: 0.9503, Loss: 0.0286\n",
      "Epoch   9 Batch  800/1077 - Train Accuracy: 0.9613, Validation Accuracy: 0.9677, Loss: 0.0304\n",
      "Epoch   9 Batch  850/1077 - Train Accuracy: 0.9598, Validation Accuracy: 0.9599, Loss: 0.0433\n",
      "Epoch   9 Batch  900/1077 - Train Accuracy: 0.9613, Validation Accuracy: 0.9627, Loss: 0.0348\n",
      "Epoch   9 Batch  950/1077 - Train Accuracy: 0.9818, Validation Accuracy: 0.9666, Loss: 0.0305\n",
      "Epoch   9 Batch 1000/1077 - Train Accuracy: 0.9531, Validation Accuracy: 0.9492, Loss: 0.0321\n",
      "Epoch   9 Batch 1050/1077 - Train Accuracy: 0.9887, Validation Accuracy: 0.9602, Loss: 0.0208\n",
      "Model Trained and Saved\n"
     ]
    }
   ],
   "source": [
    "\"\"\"\n",
    "DON'T MODIFY ANYTHING IN THIS CELL\n",
    "\"\"\"\n",
    "def get_accuracy(target, logits):\n",
    "    \"\"\"\n",
    "    Calculate accuracy\n",
    "    \"\"\"\n",
    "    max_seq = max(target.shape[1], logits.shape[1])\n",
    "    if max_seq - target.shape[1]:\n",
    "        target = np.pad(\n",
    "            target,\n",
    "            [(0,0),(0,max_seq - target.shape[1])],\n",
    "            'constant')\n",
    "    if max_seq - logits.shape[1]:\n",
    "        logits = np.pad(\n",
    "            logits,\n",
    "            [(0,0),(0,max_seq - logits.shape[1])],\n",
    "            'constant')\n",
    "\n",
    "    return np.mean(np.equal(target, logits))\n",
    "\n",
    "# Split data to training and validation sets\n",
    "train_source = source_int_text[batch_size:]\n",
    "train_target = target_int_text[batch_size:]\n",
    "valid_source = source_int_text[:batch_size]\n",
    "valid_target = target_int_text[:batch_size]\n",
    "(valid_sources_batch, valid_targets_batch, valid_sources_lengths, valid_targets_lengths ) = next(get_batches(valid_source,\n",
    "                                                                                                             valid_target,\n",
    "                                                                                                             batch_size,\n",
    "                                                                                                             source_vocab_to_int['<PAD>'],\n",
    "                                                                                                             target_vocab_to_int['<PAD>']))                                                                                                  \n",
    "with tf.Session(graph=train_graph) as sess:\n",
    "    sess.run(tf.global_variables_initializer())\n",
    "\n",
    "    for epoch_i in range(epochs):\n",
    "        for batch_i, (source_batch, target_batch, sources_lengths, targets_lengths) in enumerate(\n",
    "                get_batches(train_source, train_target, batch_size,\n",
    "                            source_vocab_to_int['<PAD>'],\n",
    "                            target_vocab_to_int['<PAD>'])):\n",
    "\n",
    "            _, loss = sess.run(\n",
    "                [train_op, cost],\n",
    "                {input_data: source_batch,\n",
    "                 targets: target_batch,\n",
    "                 lr: learning_rate,\n",
    "                 target_sequence_length: targets_lengths,\n",
    "                 source_sequence_length: sources_lengths,\n",
    "                 keep_prob: keep_probability})\n",
    "\n",
    "\n",
    "            if batch_i % display_step == 0 and batch_i > 0:\n",
    "\n",
    "\n",
    "                batch_train_logits = sess.run(\n",
    "                    inference_logits,\n",
    "                    {input_data: source_batch,\n",
    "                     source_sequence_length: sources_lengths,\n",
    "                     target_sequence_length: targets_lengths,\n",
    "                     keep_prob: 1.0})\n",
    "\n",
    "\n",
    "                batch_valid_logits = sess.run(\n",
    "                    inference_logits,\n",
    "                    {input_data: valid_sources_batch,\n",
    "                     source_sequence_length: valid_sources_lengths,\n",
    "                     target_sequence_length: valid_targets_lengths,\n",
    "                     keep_prob: 1.0})\n",
    "\n",
    "                train_acc = get_accuracy(target_batch, batch_train_logits)\n",
    "\n",
    "                valid_acc = get_accuracy(valid_targets_batch, batch_valid_logits)\n",
    "\n",
    "                print('Epoch {:>3} Batch {:>4}/{} - Train Accuracy: {:>6.4f}, Validation Accuracy: {:>6.4f}, Loss: {:>6.4f}'\n",
    "                      .format(epoch_i, batch_i, len(source_int_text) // batch_size, train_acc, valid_acc, loss))\n",
    "\n",
    "    # Save Model\n",
    "    saver = tf.train.Saver()\n",
    "    saver.save(sess, save_path)\n",
    "    print('Model Trained and Saved')"
   ]
  },
  {
   "cell_type": "markdown",
   "metadata": {},
   "source": [
    "### Save Parameters\n",
    "Save the `batch_size` and `save_path` parameters for inference."
   ]
  },
  {
   "cell_type": "code",
   "execution_count": 21,
   "metadata": {},
   "outputs": [],
   "source": [
    "\"\"\"\n",
    "DON'T MODIFY ANYTHING IN THIS CELL\n",
    "\"\"\"\n",
    "# Save parameters for checkpoint\n",
    "helper.save_params(save_path)"
   ]
  },
  {
   "cell_type": "markdown",
   "metadata": {},
   "source": [
    "# Checkpoint"
   ]
  },
  {
   "cell_type": "code",
   "execution_count": 22,
   "metadata": {
    "collapsed": true
   },
   "outputs": [],
   "source": [
    "\"\"\"\n",
    "DON'T MODIFY ANYTHING IN THIS CELL\n",
    "\"\"\"\n",
    "import tensorflow as tf\n",
    "import numpy as np\n",
    "import helper\n",
    "import problem_unittests as tests\n",
    "\n",
    "_, (source_vocab_to_int, target_vocab_to_int), (source_int_to_vocab, target_int_to_vocab) = helper.load_preprocess()\n",
    "load_path = helper.load_params()"
   ]
  },
  {
   "cell_type": "markdown",
   "metadata": {},
   "source": [
    "## Sentence to Sequence\n",
    "To feed a sentence into the model for translation, you first need to preprocess it.  Implement the function `sentence_to_seq()` to preprocess new sentences.\n",
    "\n",
    "- Convert the sentence to lowercase\n",
    "- Convert words into ids using `vocab_to_int`\n",
    " - Convert words not in the vocabulary, to the `<UNK>` word id."
   ]
  },
  {
   "cell_type": "code",
   "execution_count": 23,
   "metadata": {},
   "outputs": [
    {
     "name": "stdout",
     "output_type": "stream",
     "text": [
      "Tests Passed\n"
     ]
    }
   ],
   "source": [
    "def sentence_to_seq(sentence, vocab_to_int):\n",
    "    \"\"\"\n",
    "    Convert a sentence to a sequence of ids\n",
    "    :param sentence: String\n",
    "    :param vocab_to_int: Dictionary to go from the words to an id\n",
    "    :return: List of word ids\n",
    "    \"\"\"\n",
    "    # TODO: Implement Function\n",
    "    return [vocab_to_int.get(word, vocab_to_int.get('<UNK>')) for word in sentence.lower().split()]\n",
    "\n",
    "\n",
    "\"\"\"\n",
    "DON'T MODIFY ANYTHING IN THIS CELL THAT IS BELOW THIS LINE\n",
    "\"\"\"\n",
    "tests.test_sentence_to_seq(sentence_to_seq)"
   ]
  },
  {
   "cell_type": "markdown",
   "metadata": {},
   "source": [
    "## Translate\n",
    "This will translate `translate_sentence` from English to French."
   ]
  },
  {
   "cell_type": "code",
   "execution_count": 24,
   "metadata": {},
   "outputs": [
    {
     "name": "stdout",
     "output_type": "stream",
     "text": [
      "INFO:tensorflow:Restoring parameters from checkpoints/dev\n",
      "Input\n",
      "  Word Ids:      [127, 48, 16, 138, 18, 201, 72]\n",
      "  English Words: ['he', 'saw', 'a', 'old', 'yellow', 'truck', '.']\n",
      "\n",
      "Prediction\n",
      "  Word Ids:      [29, 12, 357, 10, 220, 90, 299, 1]\n",
      "  French Words: il a vu un gros camion . <EOS>\n"
     ]
    }
   ],
   "source": [
    "translate_sentence = 'he saw a old yellow truck .'\n",
    "\n",
    "\n",
    "\"\"\"\n",
    "DON'T MODIFY ANYTHING IN THIS CELL\n",
    "\"\"\"\n",
    "translate_sentence = sentence_to_seq(translate_sentence, source_vocab_to_int)\n",
    "\n",
    "loaded_graph = tf.Graph()\n",
    "with tf.Session(graph=loaded_graph) as sess:\n",
    "    # Load saved model\n",
    "    loader = tf.train.import_meta_graph(load_path + '.meta')\n",
    "    loader.restore(sess, load_path)\n",
    "\n",
    "    input_data = loaded_graph.get_tensor_by_name('input:0')\n",
    "    logits = loaded_graph.get_tensor_by_name('predictions:0')\n",
    "    target_sequence_length = loaded_graph.get_tensor_by_name('target_sequence_length:0')\n",
    "    source_sequence_length = loaded_graph.get_tensor_by_name('source_sequence_length:0')\n",
    "    keep_prob = loaded_graph.get_tensor_by_name('keep_prob:0')\n",
    "\n",
    "    translate_logits = sess.run(logits, {input_data: [translate_sentence]*batch_size,\n",
    "                                         target_sequence_length: [len(translate_sentence)*2]*batch_size,\n",
    "                                         source_sequence_length: [len(translate_sentence)]*batch_size,\n",
    "                                         keep_prob: 1.0})[0]\n",
    "\n",
    "print('Input')\n",
    "print('  Word Ids:      {}'.format([i for i in translate_sentence]))\n",
    "print('  English Words: {}'.format([source_int_to_vocab[i] for i in translate_sentence]))\n",
    "\n",
    "print('\\nPrediction')\n",
    "print('  Word Ids:      {}'.format([i for i in translate_logits]))\n",
    "print('  French Words: {}'.format(\" \".join([target_int_to_vocab[i] for i in translate_logits])))\n"
   ]
  },
  {
   "cell_type": "markdown",
   "metadata": {},
   "source": [
    "## Imperfect Translation\n",
    "You might notice that some sentences translate better than others.  Since the dataset you're using only has a vocabulary of 227 English words of the thousands that you use, you're only going to see good results using these words.  For this project, you don't need a perfect translation. However, if you want to create a better translation model, you'll need better data.\n",
    "\n",
    "You can train on the [WMT10 French-English corpus](http://www.statmt.org/wmt10/training-giga-fren.tar).  This dataset has more vocabulary and richer in topics discussed.  However, this will take you days to train, so make sure you've a GPU and the neural network is performing well on dataset we provided.  Just make sure you play with the WMT10 corpus after you've submitted this project.\n",
    "## Submitting This Project\n",
    "When submitting this project, make sure to run all the cells before saving the notebook. Save the notebook file as \"dlnd_language_translation.ipynb\" and save it as a HTML file under \"File\" -> \"Download as\". Include the \"helper.py\" and \"problem_unittests.py\" files in your submission."
   ]
  },
  {
   "cell_type": "code",
   "execution_count": null,
   "metadata": {
    "collapsed": true
   },
   "outputs": [],
   "source": []
  }
 ],
 "metadata": {
  "anaconda-cloud": {},
  "kernelspec": {
   "display_name": "Python 3",
   "language": "python",
   "name": "python3"
  },
  "language_info": {
   "codemirror_mode": {
    "name": "ipython",
    "version": 3
   },
   "file_extension": ".py",
   "mimetype": "text/x-python",
   "name": "python",
   "nbconvert_exporter": "python",
   "pygments_lexer": "ipython3",
   "version": "3.5.2"
  }
 },
 "nbformat": 4,
 "nbformat_minor": 1
}
