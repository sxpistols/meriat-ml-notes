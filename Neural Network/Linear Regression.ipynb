{
 "cells": [
  {
   "cell_type": "markdown",
   "metadata": {},
   "source": [
    "## Regressão Linear"
   ]
  },
  {
   "cell_type": "markdown",
   "metadata": {},
   "source": [
    "![](../images/linear-regression-gradient_descent_example.gif)"
   ]
  },
  {
   "cell_type": "code",
   "execution_count": 1,
   "metadata": {
    "collapsed": true
   },
   "outputs": [],
   "source": [
    "import numpy as np"
   ]
  },
  {
   "cell_type": "markdown",
   "metadata": {},
   "source": [
    "A função abaixo implementa a formula de calculo da distância (erro) entre a linha plotada e o data point.\n",
    "\n",
    "![Erro Regressão Linear](../images/linear-regression-error1.png)\n",
    "\n",
    "X e Y são data points (Pontos no gráfico)\n",
    "\n",
    "M é o declive/angulo da linha\n",
    "\n",
    "N é o tamanho do dataset\n",
    "\n",
    "B é a interseção de Y (pesquisar mais a respeito)"
   ]
  },
  {
   "cell_type": "code",
   "execution_count": 2,
   "metadata": {
    "collapsed": true
   },
   "outputs": [],
   "source": [
    "def compute_error_for_line_given_points(b, m, points):\n",
    "    totalError = 0\n",
    "    # Itera de 0 ao tamanho (numero de linhas) de points\n",
    "    for i in range(0, len(points)):\n",
    "        x = points[i, 0] # Obtem o valor da 1ª coluna na linha i\n",
    "        y = points[i, 1] # Obtem o valor da 2ª coluna na linha i\n",
    "        totalError += (y - (m * x + b)) ** 2\n",
    "    return totalError / float(len(points))"
   ]
  },
  {
   "cell_type": "markdown",
   "metadata": {},
   "source": [
    "A função abaixo itera (loop) a quantidade de vezes que a orientamos (num_iterations) para otimizar os valores de B e M. "
   ]
  },
  {
   "cell_type": "code",
   "execution_count": 3,
   "metadata": {
    "collapsed": true
   },
   "outputs": [],
   "source": [
    "def gradient_descent_runner(points, starting_b, starting_m, learning_rate, num_iterations):\n",
    "    b = starting_b\n",
    "    m = starting_m\n",
    "    \n",
    "    # Gradient descent\n",
    "    for i in range(num_iterations):\n",
    "        #array_points = np.array(points)\n",
    "        b, m = step_gradient(b, m, points, learning_rate)\n",
    "    return [b, m]"
   ]
  },
  {
   "cell_type": "markdown",
   "metadata": {},
   "source": [
    "No gráfico 3D abaixo pode-se ver a relação entre M, B e o Erro (distancia entre a linha e os data points). Gradient Descent é o método para encontrar o ponto (combinação de M e B) onde o erro é o menor possível.\n",
    "\n",
    "![Gradient Descent Error](../images/linear-regression-gradient-descent-error-surface.png)"
   ]
  },
  {
   "cell_type": "code",
   "execution_count": 4,
   "metadata": {
    "collapsed": true
   },
   "outputs": [],
   "source": [
    "def step_gradient(b_current, m_current, points, learningRate):\n",
    "    # Inicialização das variaveis.\n",
    "    b_gradient = 0\n",
    "    m_gradient = 0\n",
    "    N = float(len(points))\n",
    "    \n",
    "    # Loop para calcular o gradiente para cada data point\n",
    "    for i in range(0, len(points)):\n",
    "        # Obtem os pontos do gráfico.\n",
    "        # Estes pontos são o tempo de estudo e média da nota que\n",
    "        # foram carregados do arquivo CSV.\n",
    "        x = points[i, 0]\n",
    "        y = points[i, 1]\n",
    "        \n",
    "        # Aplicação das equações de gradient.\n",
    "        b_gradient += -(2/N) * (y - ((m_current * x) + b_current))\n",
    "        m_gradient += -(2/N) * x * (y - ((m_current * x) + b_current))\n",
    "    \n",
    "    # Aplica a taxa de aprendizado (learning_rate)\n",
    "    new_b = b_current - (learningRate * b_gradient)\n",
    "    new_m = m_current - (learningRate * m_gradient)\n",
    "    return [new_b, new_m]"
   ]
  },
  {
   "cell_type": "markdown",
   "metadata": {},
   "source": [
    "Estas equações mostram a \"direção\" que B e M devem seguir para encontrar o menor erro.\n",
    "\n",
    "![Gradient](../images/linear-regression-gradient1.png)\n",
    "\n",
    "X e Y são data points (Pontos no gráfico)\n",
    "\n",
    "M é o declive/angulo da linha\n",
    "\n",
    "N é o tamanho do dataset\n",
    "\n",
    "B é a interseção de Y (pesquisar mais a respeito)\n",
    "\n",
    "A função abaixo representa a implementação de cada equação, sendo a primeira pra M e a segunda para B."
   ]
  },
  {
   "cell_type": "markdown",
   "metadata": {},
   "source": [
    "A função *run* carrega os dados do arquivo CSV, estabelece os hyper-parameters, calcula e mostra o erro inicial e calcula o gradiente para M e B em busca do menor erro possível.\n",
    "\n",
    "O menor erro, neste caso, representa a menor soma de distancias entre os data point e a linha desenhada."
   ]
  },
  {
   "cell_type": "code",
   "execution_count": 5,
   "metadata": {
    "collapsed": true
   },
   "outputs": [],
   "source": [
    "def run():\n",
    "    points = np.genfromtxt(\"data.csv\", delimiter=\",\")\n",
    "    \n",
    "    learning_rate = 0.0001\n",
    "    initial_b = 0 # initial y-intercept guess\n",
    "    initial_m = 0 # initial slope guess\n",
    "    num_iterations = 1000\n",
    "    \n",
    "    print(\"Starting gradient descent at b = {0}, m = {1}, error = {2}\".format(\n",
    "        initial_b, initial_m, \n",
    "        compute_error_for_line_given_points(initial_b, initial_m, points))\n",
    "    )\n",
    "    \n",
    "    print(\"Running...\")\n",
    "    \n",
    "    [b, m] = gradient_descent_runner(points, initial_b, initial_m, learning_rate, num_iterations)\n",
    "    \n",
    "    print(\"After {0} iterations b = {1}, m = {2}, error = {3}\".format(\n",
    "        num_iterations, b, m, \n",
    "        compute_error_for_line_given_points(b, m, points))\n",
    "    )"
   ]
  },
  {
   "cell_type": "code",
   "execution_count": null,
   "metadata": {
    "collapsed": true
   },
   "outputs": [],
   "source": [
    "run()"
   ]
  }
 ],
 "metadata": {
  "kernelspec": {
   "display_name": "Python 3",
   "language": "python",
   "name": "python3"
  },
  "language_info": {
   "codemirror_mode": {
    "name": "ipython",
    "version": 3
   },
   "file_extension": ".py",
   "mimetype": "text/x-python",
   "name": "python",
   "nbconvert_exporter": "python",
   "pygments_lexer": "ipython3",
   "version": "3.5.2"
  }
 },
 "nbformat": 4,
 "nbformat_minor": 2
}
