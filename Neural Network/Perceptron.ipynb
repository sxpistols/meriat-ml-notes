{
 "cells": [
  {
   "cell_type": "code",
   "execution_count": 9,
   "metadata": {
    "collapsed": false
   },
   "outputs": [],
   "source": [
    "import random\n",
    "\n",
    "class Perceptron:\n",
    "\n",
    "    def __init__(self, input_count):\n",
    "        self.weights = []\n",
    "        self.k = 0.01\n",
    "        for n in range(input_count):\n",
    "            self.weights.append(random.uniform(-1, 1))\n",
    "\n",
    "    def FeedForward(self, inputs):\n",
    "        sigma = 0\n",
    "        for i, e in enumerate(inputs):\n",
    "            sigma += e * self.weights[i]\n",
    "        return self.Activate(sigma)\n",
    "\n",
    "    def Activate(self, sigma):\n",
    "        if sigma > 0:\n",
    "            return 1\n",
    "        else:\n",
    "            return -1\n",
    "\n",
    "    def Train(self, inputs, desired):\n",
    "        guess = self.FeedForward(inputs)\n",
    "        error_delta = desired - guess\n",
    "        for i, w in enumerate(self.weights):\n",
    "            self.weights[i] += error_delta * inputs[i] * self.k"
   ]
  },
  {
   "cell_type": "code",
   "execution_count": 10,
   "metadata": {
    "collapsed": true
   },
   "outputs": [],
   "source": [
    "class Inputs:\n",
    "\n",
    "\tdef __init__(self, x, y, ans):\n",
    "\t\tself.inputs = []\n",
    "\t\tself.inputs.append(x)\n",
    "\t\tself.inputs.append(y)\n",
    "\t\tself.inputs.append(1)\n",
    "\t\tself.answer = ans"
   ]
  },
  {
   "cell_type": "code",
   "execution_count": 11,
   "metadata": {
    "collapsed": false
   },
   "outputs": [
    {
     "name": "stdout",
     "output_type": "stream",
     "text": [
      "Score: 300 / 300 (100.0% accuracy)\n"
     ]
    },
    {
     "data": {
      "image/png": "[encoded data removed]",
      "text/plain": [
       "<matplotlib.figure.Figure at 0x1061f66d8>"
      ]
     },
     "metadata": {},
     "output_type": "display_data"
    }
   ],
   "source": [
    "import matplotlib.pyplot as plt\n",
    "\n",
    "def f(x):\n",
    "\treturn 2*x+1\n",
    "\n",
    "def Training_Set(width, height, train_points):\n",
    "\ttraining = []\n",
    "\tfor i in range(train_points):\n",
    "\t\tx = random.uniform(-width, width)\n",
    "\t\ty = random.uniform(-height, height)\n",
    "\t\tanswer = 1\n",
    "\t\tif y < f(x):\n",
    "\t\t\tanswer = -1\n",
    "\t\ttraining.append(Inputs(x, y, answer))\n",
    "\treturn training\n",
    "\n",
    "def Test_Set(width, height, test_points):\n",
    "\ttesting = []\n",
    "\tfor i in range(test_points):\n",
    "\t\tx = random.uniform(-width, width)\n",
    "\t\ty = random.uniform(-height, height)\n",
    "\t\tanswer = 1\n",
    "\t\tif y < f(x):\n",
    "\t\t\tanswer = -1\n",
    "\t\ttesting.append(Inputs(x, y, answer))\n",
    "\treturn testing\n",
    "\n",
    "if __name__ == '__main__':\n",
    "\t_width  = 200\n",
    "\t_height = 200\n",
    "\t_training_points = 700\n",
    "\t_testing_points = 300\n",
    "\n",
    "\ttraining = Training_Set(_width, _height, _training_points)\n",
    "\ttesting = Test_Set(_width, _height, _testing_points)\n",
    "\tptron = Perceptron(3)\n",
    "\n",
    "\tscore = []\n",
    "\tfor t in training:\n",
    "\t\tptron.Train(t.inputs, t.answer)\n",
    "\n",
    "\tdata_ones_x = []\n",
    "\tdata_ones_y = []\n",
    "\tdata_minusones_x = []\n",
    "\tdata_minusones_y = []\n",
    "\tfor t in testing:\n",
    "\t\tguess = ptron.FeedForward(t.inputs)\n",
    "\t\tif guess > 0:\n",
    "\t\t\tdata_ones_x.append(t.inputs[0])\n",
    "\t\t\tdata_ones_y.append(t.inputs[1])\n",
    "\t\telse:\n",
    "\t\t\tdata_minusones_x.append(t.inputs[0])\n",
    "\t\t\tdata_minusones_y.append(t.inputs[1])\n",
    "\n",
    "\t\tcorrect = 1\n",
    "\t\tif t.inputs[1] < f(t.inputs[0]):\n",
    "\t\t\tcorrect = -1\n",
    "\n",
    "\t\tif guess == correct:\n",
    "\t\t\tscore.append(1)\n",
    "\t\telse:\n",
    "\t\t\tscore.append(0)\n",
    "\n",
    "\tprint(\"Score:\", sum(score), \"/\", len(score), \"(\" + str((float(sum(score))/float(len(score)))*100) + \"% accuracy)\")\n",
    "\t\n",
    "\t#Plot the true classification line\n",
    "\txMin = -_width\n",
    "\txMax = _width\n",
    "\tyMin = f(xMin)\n",
    "\tyMax = f(xMax)\n",
    "\tplt.plot([xMin, xMax], [yMin, yMax], linestyle='-', linewidth=2, color='#6dbe1b')\n",
    "\n",
    "\taxes = plt.gca()\n",
    "\taxes.set_xlim([xMin, xMax])\n",
    "\taxes.set_ylim([yMin/2, yMax/2])\n",
    "\n",
    "\t#Plot 1 & -1 scores\n",
    "\tplt.scatter(data_ones_x, data_ones_y, marker='+', color='#1381be')\n",
    "\tplt.scatter(data_minusones_x, data_minusones_y, marker='.', color='#eb2352')\n",
    "\t\n",
    "\tfig = plt.gcf()\n",
    "\tfig.canvas.set_window_title('Perceptron Linear Classifier')\n",
    "\tplt.show()"
   ]
  },
  {
   "cell_type": "code",
   "execution_count": null,
   "metadata": {
    "collapsed": true
   },
   "outputs": [],
   "source": []
  }
 ],
 "metadata": {
  "anaconda-cloud": {},
  "kernelspec": {
   "display_name": "Python [conda root]",
   "language": "python",
   "name": "conda-root-py"
  },
  "language_info": {
   "codemirror_mode": {
    "name": "ipython",
    "version": 3
   },
   "file_extension": ".py",
   "mimetype": "text/x-python",
   "name": "python",
   "nbconvert_exporter": "python",
   "pygments_lexer": "ipython3",
   "version": "3.5.2"
  }
 },
 "nbformat": 4,
 "nbformat_minor": 2
}
