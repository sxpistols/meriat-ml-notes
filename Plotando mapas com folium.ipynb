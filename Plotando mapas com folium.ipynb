{
 "cells": [
  {
   "cell_type": "code",
   "execution_count": 2,
   "metadata": {},
   "outputs": [],
   "source": [
    "import pandas as pd\n",
    "import numpy as np\n",
    "import folium\n",
    "import random"
   ]
  },
  {
   "cell_type": "code",
   "execution_count": 14,
   "metadata": {},
   "outputs": [],
   "source": [
    "clientes = pd.read_csv('data/MOCK_DATA.csv')"
   ]
  },
  {
   "cell_type": "code",
   "execution_count": 15,
   "metadata": {},
   "outputs": [
    {
     "data": {
      "text/html": [
       "<div>\n",
       "<style scoped>\n",
       "    .dataframe tbody tr th:only-of-type {\n",
       "        vertical-align: middle;\n",
       "    }\n",
       "\n",
       "    .dataframe tbody tr th {\n",
       "        vertical-align: top;\n",
       "    }\n",
       "\n",
       "    .dataframe thead th {\n",
       "        text-align: right;\n",
       "    }\n",
       "</style>\n",
       "<table border=\"1\" class=\"dataframe\">\n",
       "  <thead>\n",
       "    <tr style=\"text-align: right;\">\n",
       "      <th></th>\n",
       "      <th>id</th>\n",
       "      <th>first_name</th>\n",
       "      <th>last_name</th>\n",
       "      <th>gender</th>\n",
       "      <th>street_address</th>\n",
       "      <th>city</th>\n",
       "      <th>states</th>\n",
       "      <th>zip_code</th>\n",
       "      <th>telephone</th>\n",
       "      <th>age</th>\n",
       "      <th>company</th>\n",
       "      <th>latitude</th>\n",
       "      <th>longitude</th>\n",
       "    </tr>\n",
       "  </thead>\n",
       "  <tbody>\n",
       "    <tr>\n",
       "      <th>0</th>\n",
       "      <td>1</td>\n",
       "      <td>Nestor</td>\n",
       "      <td>Doe</td>\n",
       "      <td>Male</td>\n",
       "      <td>1 Fairfield Alley</td>\n",
       "      <td>Nashville</td>\n",
       "      <td>Tennessee</td>\n",
       "      <td>37205</td>\n",
       "      <td>615-648-5583</td>\n",
       "      <td>11/24/1990</td>\n",
       "      <td>iStar Financial Inc.</td>\n",
       "      <td>36.1114</td>\n",
       "      <td>-86.8690</td>\n",
       "    </tr>\n",
       "    <tr>\n",
       "      <th>1</th>\n",
       "      <td>2</td>\n",
       "      <td>Aliza</td>\n",
       "      <td>Syres</td>\n",
       "      <td>Female</td>\n",
       "      <td>9511 Messerschmidt Drive</td>\n",
       "      <td>Birmingham</td>\n",
       "      <td>Alabama</td>\n",
       "      <td>35225</td>\n",
       "      <td>205-456-9586</td>\n",
       "      <td>9/12/1951</td>\n",
       "      <td>Electro Scientific Industries, Inc.</td>\n",
       "      <td>33.5446</td>\n",
       "      <td>-86.9292</td>\n",
       "    </tr>\n",
       "    <tr>\n",
       "      <th>2</th>\n",
       "      <td>3</td>\n",
       "      <td>Lorettalorna</td>\n",
       "      <td>Dibb</td>\n",
       "      <td>Female</td>\n",
       "      <td>0257 Longview Hill</td>\n",
       "      <td>Murfreesboro</td>\n",
       "      <td>Tennessee</td>\n",
       "      <td>37131</td>\n",
       "      <td>615-703-6525</td>\n",
       "      <td>12/6/1971</td>\n",
       "      <td>Fifth Street Finance Corp.</td>\n",
       "      <td>35.8596</td>\n",
       "      <td>-86.4210</td>\n",
       "    </tr>\n",
       "  </tbody>\n",
       "</table>\n",
       "</div>"
      ],
      "text/plain": [
       "   id    first_name last_name  gender            street_address          city  \\\n",
       "0   1        Nestor       Doe    Male         1 Fairfield Alley     Nashville   \n",
       "1   2         Aliza     Syres  Female  9511 Messerschmidt Drive    Birmingham   \n",
       "2   3  Lorettalorna      Dibb  Female        0257 Longview Hill  Murfreesboro   \n",
       "\n",
       "      states  zip_code     telephone         age  \\\n",
       "0  Tennessee     37205  615-648-5583  11/24/1990   \n",
       "1    Alabama     35225  205-456-9586   9/12/1951   \n",
       "2  Tennessee     37131  615-703-6525   12/6/1971   \n",
       "\n",
       "                               company  latitude  longitude  \n",
       "0                 iStar Financial Inc.   36.1114   -86.8690  \n",
       "1  Electro Scientific Industries, Inc.   33.5446   -86.9292  \n",
       "2           Fifth Street Finance Corp.   35.8596   -86.4210  "
      ]
     },
     "execution_count": 15,
     "metadata": {},
     "output_type": "execute_result"
    }
   ],
   "source": [
    "clientes.head(3)"
   ]
  },
  {
   "cell_type": "code",
   "execution_count": 16,
   "metadata": {},
   "outputs": [
    {
     "data": {
      "text/plain": [
       "(1000, 13)"
      ]
     },
     "execution_count": 16,
     "metadata": {},
     "output_type": "execute_result"
    }
   ],
   "source": [
    "clientes.shape"
   ]
  },
  {
   "cell_type": "code",
   "execution_count": 17,
   "metadata": {},
   "outputs": [
    {
     "data": {
      "text/plain": [
       "id                  int64\n",
       "first_name         object\n",
       "last_name          object\n",
       "gender             object\n",
       "street_address     object\n",
       "city               object\n",
       "states             object\n",
       "zip_code            int64\n",
       "telephone          object\n",
       "age                object\n",
       "company            object\n",
       "latitude          float64\n",
       "longitude         float64\n",
       "dtype: object"
      ]
     },
     "execution_count": 17,
     "metadata": {},
     "output_type": "execute_result"
    }
   ],
   "source": [
    "# https://www.linkedin.com/pulse/resolvendo-problema-de-entrega-log%C3%ADstica-com-python-menezes-souza/\n",
    "clientes.dtypes"
   ]
  },
  {
   "cell_type": "code",
   "execution_count": 18,
   "metadata": {},
   "outputs": [
    {
     "data": {
      "text/html": [
       "<div>\n",
       "<style scoped>\n",
       "    .dataframe tbody tr th:only-of-type {\n",
       "        vertical-align: middle;\n",
       "    }\n",
       "\n",
       "    .dataframe tbody tr th {\n",
       "        vertical-align: top;\n",
       "    }\n",
       "\n",
       "    .dataframe thead th {\n",
       "        text-align: right;\n",
       "    }\n",
       "</style>\n",
       "<table border=\"1\" class=\"dataframe\">\n",
       "  <thead>\n",
       "    <tr style=\"text-align: right;\">\n",
       "      <th></th>\n",
       "      <th>id</th>\n",
       "      <th>zip_code</th>\n",
       "      <th>latitude</th>\n",
       "      <th>longitude</th>\n",
       "    </tr>\n",
       "  </thead>\n",
       "  <tbody>\n",
       "    <tr>\n",
       "      <th>count</th>\n",
       "      <td>1000.000000</td>\n",
       "      <td>1000.000000</td>\n",
       "      <td>1000.000000</td>\n",
       "      <td>1000.000000</td>\n",
       "    </tr>\n",
       "    <tr>\n",
       "      <th>mean</th>\n",
       "      <td>500.500000</td>\n",
       "      <td>52305.994000</td>\n",
       "      <td>36.862612</td>\n",
       "      <td>-92.187490</td>\n",
       "    </tr>\n",
       "    <tr>\n",
       "      <th>std</th>\n",
       "      <td>288.819436</td>\n",
       "      <td>28508.963486</td>\n",
       "      <td>5.124867</td>\n",
       "      <td>15.537273</td>\n",
       "    </tr>\n",
       "    <tr>\n",
       "      <th>min</th>\n",
       "      <td>1.000000</td>\n",
       "      <td>1114.000000</td>\n",
       "      <td>21.298700</td>\n",
       "      <td>-157.879500</td>\n",
       "    </tr>\n",
       "    <tr>\n",
       "      <th>25%</th>\n",
       "      <td>250.750000</td>\n",
       "      <td>29554.500000</td>\n",
       "      <td>33.156975</td>\n",
       "      <td>-98.410750</td>\n",
       "    </tr>\n",
       "    <tr>\n",
       "      <th>50%</th>\n",
       "      <td>500.500000</td>\n",
       "      <td>47747.000000</td>\n",
       "      <td>37.784800</td>\n",
       "      <td>-87.626850</td>\n",
       "    </tr>\n",
       "    <tr>\n",
       "      <th>75%</th>\n",
       "      <td>750.250000</td>\n",
       "      <td>78247.500000</td>\n",
       "      <td>40.744200</td>\n",
       "      <td>-80.438325</td>\n",
       "    </tr>\n",
       "    <tr>\n",
       "      <th>max</th>\n",
       "      <td>1000.000000</td>\n",
       "      <td>99507.000000</td>\n",
       "      <td>61.153500</td>\n",
       "      <td>-70.919600</td>\n",
       "    </tr>\n",
       "  </tbody>\n",
       "</table>\n",
       "</div>"
      ],
      "text/plain": [
       "                id      zip_code     latitude    longitude\n",
       "count  1000.000000   1000.000000  1000.000000  1000.000000\n",
       "mean    500.500000  52305.994000    36.862612   -92.187490\n",
       "std     288.819436  28508.963486     5.124867    15.537273\n",
       "min       1.000000   1114.000000    21.298700  -157.879500\n",
       "25%     250.750000  29554.500000    33.156975   -98.410750\n",
       "50%     500.500000  47747.000000    37.784800   -87.626850\n",
       "75%     750.250000  78247.500000    40.744200   -80.438325\n",
       "max    1000.000000  99507.000000    61.153500   -70.919600"
      ]
     },
     "execution_count": 18,
     "metadata": {},
     "output_type": "execute_result"
    }
   ],
   "source": [
    "clientes.describe()"
   ]
  },
  {
   "cell_type": "code",
   "execution_count": 24,
   "metadata": {},
   "outputs": [
    {
     "data": {
      "text/plain": [
       "longitude         0\n",
       "latitude          0\n",
       "company           0\n",
       "age               0\n",
       "telephone         0\n",
       "zip_code          0\n",
       "states            0\n",
       "city              0\n",
       "street_address    0\n",
       "gender            0\n",
       "dtype: int64"
      ]
     },
     "execution_count": 24,
     "metadata": {},
     "output_type": "execute_result"
    }
   ],
   "source": [
    "clientes.isnull().sum().sort_values(ascending=False).head(10)"
   ]
  },
  {
   "cell_type": "code",
   "execution_count": 25,
   "metadata": {},
   "outputs": [
    {
     "data": {
      "text/plain": [
       "Index(['id', 'first_name', 'last_name', 'gender', 'street_address', 'city',\n",
       "       'states', 'zip_code', 'telephone', 'age', 'company', 'latitude',\n",
       "       'longitude'],\n",
       "      dtype='object')"
      ]
     },
     "execution_count": 25,
     "metadata": {},
     "output_type": "execute_result"
    }
   ],
   "source": [
    "clientes.columns"
   ]
  },
  {
   "cell_type": "code",
   "execution_count": 27,
   "metadata": {},
   "outputs": [],
   "source": [
    "clientes.drop(['last_name','gender','zip_code','states','telephone','age','company'], axis=1, inplace=True)"
   ]
  },
  {
   "cell_type": "code",
   "execution_count": 28,
   "metadata": {},
   "outputs": [
    {
     "data": {
      "text/html": [
       "<div>\n",
       "<style scoped>\n",
       "    .dataframe tbody tr th:only-of-type {\n",
       "        vertical-align: middle;\n",
       "    }\n",
       "\n",
       "    .dataframe tbody tr th {\n",
       "        vertical-align: top;\n",
       "    }\n",
       "\n",
       "    .dataframe thead th {\n",
       "        text-align: right;\n",
       "    }\n",
       "</style>\n",
       "<table border=\"1\" class=\"dataframe\">\n",
       "  <thead>\n",
       "    <tr style=\"text-align: right;\">\n",
       "      <th></th>\n",
       "      <th>id</th>\n",
       "      <th>first_name</th>\n",
       "      <th>street_address</th>\n",
       "      <th>city</th>\n",
       "      <th>latitude</th>\n",
       "      <th>longitude</th>\n",
       "    </tr>\n",
       "  </thead>\n",
       "  <tbody>\n",
       "    <tr>\n",
       "      <th>0</th>\n",
       "      <td>1</td>\n",
       "      <td>Nestor</td>\n",
       "      <td>1 Fairfield Alley</td>\n",
       "      <td>Nashville</td>\n",
       "      <td>36.1114</td>\n",
       "      <td>-86.8690</td>\n",
       "    </tr>\n",
       "    <tr>\n",
       "      <th>1</th>\n",
       "      <td>2</td>\n",
       "      <td>Aliza</td>\n",
       "      <td>9511 Messerschmidt Drive</td>\n",
       "      <td>Birmingham</td>\n",
       "      <td>33.5446</td>\n",
       "      <td>-86.9292</td>\n",
       "    </tr>\n",
       "    <tr>\n",
       "      <th>2</th>\n",
       "      <td>3</td>\n",
       "      <td>Lorettalorna</td>\n",
       "      <td>0257 Longview Hill</td>\n",
       "      <td>Murfreesboro</td>\n",
       "      <td>35.8596</td>\n",
       "      <td>-86.4210</td>\n",
       "    </tr>\n",
       "  </tbody>\n",
       "</table>\n",
       "</div>"
      ],
      "text/plain": [
       "   id    first_name            street_address          city  latitude  \\\n",
       "0   1        Nestor         1 Fairfield Alley     Nashville   36.1114   \n",
       "1   2         Aliza  9511 Messerschmidt Drive    Birmingham   33.5446   \n",
       "2   3  Lorettalorna        0257 Longview Hill  Murfreesboro   35.8596   \n",
       "\n",
       "   longitude  \n",
       "0   -86.8690  \n",
       "1   -86.9292  \n",
       "2   -86.4210  "
      ]
     },
     "execution_count": 28,
     "metadata": {},
     "output_type": "execute_result"
    }
   ],
   "source": [
    "clientes.head(3)"
   ]
  },
  {
   "cell_type": "code",
   "execution_count": 29,
   "metadata": {},
   "outputs": [],
   "source": [
    "clientes_nyc = clientes[clientes['city'] == 'New York City']"
   ]
  },
  {
   "cell_type": "code",
   "execution_count": 30,
   "metadata": {},
   "outputs": [
    {
     "data": {
      "text/html": [
       "<div>\n",
       "<style scoped>\n",
       "    .dataframe tbody tr th:only-of-type {\n",
       "        vertical-align: middle;\n",
       "    }\n",
       "\n",
       "    .dataframe tbody tr th {\n",
       "        vertical-align: top;\n",
       "    }\n",
       "\n",
       "    .dataframe thead th {\n",
       "        text-align: right;\n",
       "    }\n",
       "</style>\n",
       "<table border=\"1\" class=\"dataframe\">\n",
       "  <thead>\n",
       "    <tr style=\"text-align: right;\">\n",
       "      <th></th>\n",
       "      <th>id</th>\n",
       "      <th>first_name</th>\n",
       "      <th>street_address</th>\n",
       "      <th>city</th>\n",
       "      <th>latitude</th>\n",
       "      <th>longitude</th>\n",
       "    </tr>\n",
       "  </thead>\n",
       "  <tbody>\n",
       "    <tr>\n",
       "      <th>51</th>\n",
       "      <td>52</td>\n",
       "      <td>Guinevere</td>\n",
       "      <td>95945 Maryland Circle</td>\n",
       "      <td>New York City</td>\n",
       "      <td>40.7808</td>\n",
       "      <td>-73.9772</td>\n",
       "    </tr>\n",
       "    <tr>\n",
       "      <th>90</th>\n",
       "      <td>91</td>\n",
       "      <td>Brad</td>\n",
       "      <td>318 Towne Avenue</td>\n",
       "      <td>New York City</td>\n",
       "      <td>40.7540</td>\n",
       "      <td>-73.9808</td>\n",
       "    </tr>\n",
       "    <tr>\n",
       "      <th>371</th>\n",
       "      <td>372</td>\n",
       "      <td>Brianne</td>\n",
       "      <td>15 Porter Trail</td>\n",
       "      <td>New York City</td>\n",
       "      <td>40.7808</td>\n",
       "      <td>-73.9772</td>\n",
       "    </tr>\n",
       "    <tr>\n",
       "      <th>452</th>\n",
       "      <td>453</td>\n",
       "      <td>Arleta</td>\n",
       "      <td>0271 Spohn Crossing</td>\n",
       "      <td>New York City</td>\n",
       "      <td>40.8662</td>\n",
       "      <td>-73.9221</td>\n",
       "    </tr>\n",
       "    <tr>\n",
       "      <th>458</th>\n",
       "      <td>459</td>\n",
       "      <td>Hamnet</td>\n",
       "      <td>46939 Dorton Plaza</td>\n",
       "      <td>New York City</td>\n",
       "      <td>40.7918</td>\n",
       "      <td>-73.9448</td>\n",
       "    </tr>\n",
       "  </tbody>\n",
       "</table>\n",
       "</div>"
      ],
      "text/plain": [
       "      id first_name         street_address           city  latitude  longitude\n",
       "51    52  Guinevere  95945 Maryland Circle  New York City   40.7808   -73.9772\n",
       "90    91       Brad       318 Towne Avenue  New York City   40.7540   -73.9808\n",
       "371  372    Brianne        15 Porter Trail  New York City   40.7808   -73.9772\n",
       "452  453     Arleta    0271 Spohn Crossing  New York City   40.8662   -73.9221\n",
       "458  459     Hamnet     46939 Dorton Plaza  New York City   40.7918   -73.9448"
      ]
     },
     "execution_count": 30,
     "metadata": {},
     "output_type": "execute_result"
    }
   ],
   "source": [
    "clientes_nyc.head()"
   ]
  },
  {
   "cell_type": "code",
   "execution_count": 32,
   "metadata": {},
   "outputs": [
    {
     "data": {
      "text/plain": [
       "(19, 6)"
      ]
     },
     "execution_count": 32,
     "metadata": {},
     "output_type": "execute_result"
    }
   ],
   "source": [
    "clientes_nyc.shape"
   ]
  },
  {
   "cell_type": "code",
   "execution_count": 33,
   "metadata": {},
   "outputs": [],
   "source": [
    "ids_clientes = random.randint(random.randint(0,10),50)"
   ]
  },
  {
   "cell_type": "code",
   "execution_count": 34,
   "metadata": {},
   "outputs": [],
   "source": [
    "consulta = clientes_nyc[0:ids_clientes]\n",
    "lat = clientes_nyc['latitude'].mean()\n",
    "lon = clientes_nyc['longitude'].mean()"
   ]
  },
  {
   "cell_type": "code",
   "execution_count": 37,
   "metadata": {},
   "outputs": [],
   "source": [
    "map = folium.Map(location=[clientes_nyc['latitude'].min(), clientes_nyc['longitude'].max()], zoom_start=10)"
   ]
  },
  {
   "cell_type": "code",
   "execution_count": 40,
   "metadata": {},
   "outputs": [],
   "source": [
    "for linha in clientes_nyc[0:ids_clientes].iterrows():\n",
    "    folium.Marker([linha[1]['latitude'], \n",
    "                   linha[1]['longitude']], \n",
    "                  popup='client: {}, end: {}'.format(linha[1]['first_name'], \n",
    "                                                     linha[1]['street_address'])).add_to(map)"
   ]
  },
  {
   "cell_type": "code",
   "execution_count": 42,
   "metadata": {},
   "outputs": [
    {
     "data": {
      "text/plain": [
       "<folium.map.Marker at 0x2ae4f7c64a8>"
      ]
     },
     "execution_count": 42,
     "metadata": {},
     "output_type": "execute_result"
    }
   ],
   "source": [
    "folium.Marker([lat, lon],\n",
    "            popup = 'Melhor local de entrega',\n",
    "            icon = folium.Icon(color='red', icon='info-sign')).add_to(map)"
   ]
  },
  {
   "cell_type": "code",
   "execution_count": 43,
   "metadata": {},
   "outputs": [
    {
     "data": {
      "text/html": [
       "<div>\n",
       "<style scoped>\n",
       "    .dataframe tbody tr th:only-of-type {\n",
       "        vertical-align: middle;\n",
       "    }\n",
       "\n",
       "    .dataframe tbody tr th {\n",
       "        vertical-align: top;\n",
       "    }\n",
       "\n",
       "    .dataframe thead th {\n",
       "        text-align: right;\n",
       "    }\n",
       "</style>\n",
       "<table border=\"1\" class=\"dataframe\">\n",
       "  <thead>\n",
       "    <tr style=\"text-align: right;\">\n",
       "      <th></th>\n",
       "      <th>id</th>\n",
       "      <th>first_name</th>\n",
       "      <th>street_address</th>\n",
       "      <th>city</th>\n",
       "      <th>latitude</th>\n",
       "      <th>longitude</th>\n",
       "    </tr>\n",
       "  </thead>\n",
       "  <tbody>\n",
       "    <tr>\n",
       "      <th>51</th>\n",
       "      <td>52</td>\n",
       "      <td>Guinevere</td>\n",
       "      <td>95945 Maryland Circle</td>\n",
       "      <td>New York City</td>\n",
       "      <td>40.7808</td>\n",
       "      <td>-73.9772</td>\n",
       "    </tr>\n",
       "    <tr>\n",
       "      <th>90</th>\n",
       "      <td>91</td>\n",
       "      <td>Brad</td>\n",
       "      <td>318 Towne Avenue</td>\n",
       "      <td>New York City</td>\n",
       "      <td>40.7540</td>\n",
       "      <td>-73.9808</td>\n",
       "    </tr>\n",
       "    <tr>\n",
       "      <th>371</th>\n",
       "      <td>372</td>\n",
       "      <td>Brianne</td>\n",
       "      <td>15 Porter Trail</td>\n",
       "      <td>New York City</td>\n",
       "      <td>40.7808</td>\n",
       "      <td>-73.9772</td>\n",
       "    </tr>\n",
       "    <tr>\n",
       "      <th>452</th>\n",
       "      <td>453</td>\n",
       "      <td>Arleta</td>\n",
       "      <td>0271 Spohn Crossing</td>\n",
       "      <td>New York City</td>\n",
       "      <td>40.8662</td>\n",
       "      <td>-73.9221</td>\n",
       "    </tr>\n",
       "    <tr>\n",
       "      <th>458</th>\n",
       "      <td>459</td>\n",
       "      <td>Hamnet</td>\n",
       "      <td>46939 Dorton Plaza</td>\n",
       "      <td>New York City</td>\n",
       "      <td>40.7918</td>\n",
       "      <td>-73.9448</td>\n",
       "    </tr>\n",
       "    <tr>\n",
       "      <th>501</th>\n",
       "      <td>502</td>\n",
       "      <td>Ruthann</td>\n",
       "      <td>6 Warrior Drive</td>\n",
       "      <td>New York City</td>\n",
       "      <td>40.7864</td>\n",
       "      <td>-73.9764</td>\n",
       "    </tr>\n",
       "    <tr>\n",
       "      <th>504</th>\n",
       "      <td>505</td>\n",
       "      <td>Taffy</td>\n",
       "      <td>07 Spaight Circle</td>\n",
       "      <td>New York City</td>\n",
       "      <td>40.7808</td>\n",
       "      <td>-73.9772</td>\n",
       "    </tr>\n",
       "    <tr>\n",
       "      <th>531</th>\n",
       "      <td>532</td>\n",
       "      <td>Aleda</td>\n",
       "      <td>42125 Lyons Way</td>\n",
       "      <td>New York City</td>\n",
       "      <td>40.7105</td>\n",
       "      <td>-74.0163</td>\n",
       "    </tr>\n",
       "    <tr>\n",
       "      <th>580</th>\n",
       "      <td>581</td>\n",
       "      <td>Cherish</td>\n",
       "      <td>33971 Green Ridge Center</td>\n",
       "      <td>New York City</td>\n",
       "      <td>40.7808</td>\n",
       "      <td>-73.9772</td>\n",
       "    </tr>\n",
       "    <tr>\n",
       "      <th>623</th>\n",
       "      <td>624</td>\n",
       "      <td>Artemis</td>\n",
       "      <td>7909 Norway Maple Court</td>\n",
       "      <td>New York City</td>\n",
       "      <td>40.7808</td>\n",
       "      <td>-73.9772</td>\n",
       "    </tr>\n",
       "    <tr>\n",
       "      <th>627</th>\n",
       "      <td>628</td>\n",
       "      <td>Jereme</td>\n",
       "      <td>4283 Granby Pass</td>\n",
       "      <td>New York City</td>\n",
       "      <td>40.7339</td>\n",
       "      <td>-74.0054</td>\n",
       "    </tr>\n",
       "    <tr>\n",
       "      <th>657</th>\n",
       "      <td>658</td>\n",
       "      <td>Morgana</td>\n",
       "      <td>595 Bay Parkway</td>\n",
       "      <td>New York City</td>\n",
       "      <td>40.7651</td>\n",
       "      <td>-73.9858</td>\n",
       "    </tr>\n",
       "    <tr>\n",
       "      <th>661</th>\n",
       "      <td>662</td>\n",
       "      <td>Crawford</td>\n",
       "      <td>275 1st Avenue</td>\n",
       "      <td>New York City</td>\n",
       "      <td>40.7808</td>\n",
       "      <td>-73.9772</td>\n",
       "    </tr>\n",
       "    <tr>\n",
       "      <th>690</th>\n",
       "      <td>691</td>\n",
       "      <td>Ansell</td>\n",
       "      <td>15 3rd Road</td>\n",
       "      <td>New York City</td>\n",
       "      <td>40.7808</td>\n",
       "      <td>-73.9772</td>\n",
       "    </tr>\n",
       "  </tbody>\n",
       "</table>\n",
       "</div>"
      ],
      "text/plain": [
       "      id first_name            street_address           city  latitude  \\\n",
       "51    52  Guinevere     95945 Maryland Circle  New York City   40.7808   \n",
       "90    91       Brad          318 Towne Avenue  New York City   40.7540   \n",
       "371  372    Brianne           15 Porter Trail  New York City   40.7808   \n",
       "452  453     Arleta       0271 Spohn Crossing  New York City   40.8662   \n",
       "458  459     Hamnet        46939 Dorton Plaza  New York City   40.7918   \n",
       "501  502    Ruthann           6 Warrior Drive  New York City   40.7864   \n",
       "504  505      Taffy         07 Spaight Circle  New York City   40.7808   \n",
       "531  532      Aleda           42125 Lyons Way  New York City   40.7105   \n",
       "580  581    Cherish  33971 Green Ridge Center  New York City   40.7808   \n",
       "623  624    Artemis   7909 Norway Maple Court  New York City   40.7808   \n",
       "627  628     Jereme          4283 Granby Pass  New York City   40.7339   \n",
       "657  658    Morgana           595 Bay Parkway  New York City   40.7651   \n",
       "661  662   Crawford            275 1st Avenue  New York City   40.7808   \n",
       "690  691     Ansell               15 3rd Road  New York City   40.7808   \n",
       "\n",
       "     longitude  \n",
       "51    -73.9772  \n",
       "90    -73.9808  \n",
       "371   -73.9772  \n",
       "452   -73.9221  \n",
       "458   -73.9448  \n",
       "501   -73.9764  \n",
       "504   -73.9772  \n",
       "531   -74.0163  \n",
       "580   -73.9772  \n",
       "623   -73.9772  \n",
       "627   -74.0054  \n",
       "657   -73.9858  \n",
       "661   -73.9772  \n",
       "690   -73.9772  "
      ]
     },
     "execution_count": 43,
     "metadata": {},
     "output_type": "execute_result"
    }
   ],
   "source": [
    "consulta"
   ]
  },
  {
   "cell_type": "code",
   "execution_count": 44,
   "metadata": {},
   "outputs": [
    {
     "data": {
      "text/html": [
       "<div style=\"width:100%;\"><div style=\"position:relative;width:100%;height:0;padding-bottom:60%;\"><iframe src=\"data:text/html;charset=utf-8;base64,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\" style=\"position:absolute;width:100%;height:100%;left:0;top:0;border:none !important;\" allowfullscreen webkitallowfullscreen mozallowfullscreen></iframe></div></div>"
      ],
      "text/plain": [
       "<folium.folium.Map at 0x2ae4adcf860>"
      ]
     },
     "execution_count": 44,
     "metadata": {},
     "output_type": "execute_result"
    }
   ],
   "source": [
    "map"
   ]
  },
  {
   "cell_type": "code",
   "execution_count": null,
   "metadata": {},
   "outputs": [],
   "source": []
  }
 ],
 "metadata": {
  "kernelspec": {
   "display_name": "Python 3",
   "language": "python",
   "name": "python3"
  },
  "language_info": {
   "codemirror_mode": {
    "name": "ipython",
    "version": 3
   },
   "file_extension": ".py",
   "mimetype": "text/x-python",
   "name": "python",
   "nbconvert_exporter": "python",
   "pygments_lexer": "ipython3",
   "version": "3.6.3"
  }
 },
 "nbformat": 4,
 "nbformat_minor": 2
}
