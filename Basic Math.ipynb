{
 "cells": [
  {
   "cell_type": "markdown",
   "metadata": {},
   "source": [
    "Note: Python contains a math module providing functions which operate on built-in scalar data types (e.g. float and complex). This and subsequent chapters assume mathematical functions must operate on arrays and matrices, and so are imported from NumPy."
   ]
  },
  {
   "cell_type": "markdown",
   "metadata": {},
   "source": [
    "## Operators\n",
    "\n",
    "These standard operators are available:\n",
    "\n",
    "Operator | Meaning | Example \n",
    "--- | --- | --- \n",
    "+ | Addition | x+y \n",
    "- | Subtraction | x-y \n",
    "* | Multiplication | x*y \n",
    "/ | Division (Left divide) | x/y \n",
    "** | Exponentiation | x**y \n",
    "\n",
    "When x and y are scalars, the behavior of these operators is obvious. The only possible exception\n",
    "occurs when both x and y are integers for division, where x/y returns the smallest integer less than the\n",
    "ratio (e.g. x/y). The simplest method to avoid this problem is use from **__future__** import division y\n",
    "which changes the default behavior. Alternatively, declaring numeric values to be floats using 5.0 rather than 5 will also mitigate this issue as well explicitly casting integers to floats before dividing."
   ]
  },
  {
   "cell_type": "code",
   "execution_count": 1,
   "metadata": {
    "collapsed": false
   },
   "outputs": [
    {
     "data": {
      "text/plain": [
       "(int, int)"
      ]
     },
     "execution_count": 1,
     "metadata": {},
     "output_type": "execute_result"
    }
   ],
   "source": [
    "x = 9\n",
    "y = 5\n",
    "(type(x), type(y))"
   ]
  },
  {
   "cell_type": "code",
   "execution_count": 2,
   "metadata": {
    "collapsed": false
   },
   "outputs": [
    {
     "data": {
      "text/plain": [
       "1.8"
      ]
     },
     "execution_count": 2,
     "metadata": {},
     "output_type": "execute_result"
    }
   ],
   "source": [
    "x/y # Since division imported"
   ]
  },
  {
   "cell_type": "code",
   "execution_count": 3,
   "metadata": {
    "collapsed": false
   },
   "outputs": [
    {
     "data": {
      "text/plain": [
       "1.8"
      ]
     },
     "execution_count": 3,
     "metadata": {},
     "output_type": "execute_result"
    }
   ],
   "source": [
    "float(x)/y"
   ]
  },
  {
   "cell_type": "markdown",
   "metadata": {},
   "source": [
    "When x and y are arrays or matrices, the behavior of mathematical operations is more complex. The examples in this chapter refer to arrays, and except where explicit differences are noted, it is safe to assume that the behavior of 2-dimensional arrays and matrices is identical."
   ]
  },
  {
   "cell_type": "markdown",
   "metadata": {
    "collapsed": true
   },
   "source": [
    "> I recommend using the import command from \"__future__\" import division in all programs and IPython. The “future” division avoids this issue by always casting division to floating point when the result is not an exact integer."
   ]
  },
  {
   "cell_type": "markdown",
   "metadata": {},
   "source": [
    "Under the normal rules of array mathematics, addition and subtraction are only defined for arrays with the same shape or between an array and a scalar. For example, there is no obvious method to add a 5-element vector and a 5 by 4 matrix. NumPy uses a technique called broadcasting to allow element-by-element mathematical operations on arrays (and matrices) which would not be compatible under the standard rules of array mathematics.\n",
    "\n",
    "Arrays can be used in element-by-element mathematics if x is broadcastable to y. Suppose x is an m - dimensional array with dimensions _d =[d1,d2...dm]_,and _y_ is an n-dimensional array with dimensions f = [f1, f2. . . fn ] where m ≥ n. Formally, two arrays are broadcastable if the following two conditions hold.\n",
    "\n",
    "1. If m > n, then treat y as a m-dimensional array with size g = [1,1,...,1, f1, f2... fn] where the numberof1sprependedism −n. Thedimensionsaregi = 1fori = 1,...m −n andgi = fi−m+n for i > m − n.\n",
    "2. Fori =1,...,m,max(di,gi)/min(di,gi)∈{1,max(di,gi)}.\n",
    "\n",
    "The first rule is simply states that if one array has fewer dimensions, it is treated as having the same num- ber of dimensions as the larger array by prepending 1s. The second rule states that arrays will only be broadcastable if either (a) they have the same dimension along axis i or (b) one has dimension 1 along axisi. When 2 arrays are broadcastable, the dimension of the output array is max(di,gi) for i = 1,...n.\n",
    "\n",
    "Consider the following examples where m , n and p are assumed to have different values."
   ]
  },
  {
   "cell_type": "code",
   "execution_count": null,
   "metadata": {
    "collapsed": true
   },
   "outputs": [],
   "source": []
  }
 ],
 "metadata": {
  "anaconda-cloud": {},
  "kernelspec": {
   "display_name": "Python [default]",
   "language": "python",
   "name": "python3"
  },
  "language_info": {
   "codemirror_mode": {
    "name": "ipython",
    "version": 3
   },
   "file_extension": ".py",
   "mimetype": "text/x-python",
   "name": "python",
   "nbconvert_exporter": "python",
   "pygments_lexer": "ipython3",
   "version": "3.5.2"
  }
 },
 "nbformat": 4,
 "nbformat_minor": 1
}
