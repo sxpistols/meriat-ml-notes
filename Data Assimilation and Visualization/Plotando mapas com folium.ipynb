{
 "cells": [
  {
   "cell_type": "markdown",
   "metadata": {},
   "source": [
    "# Plotando mapas com Folium\n",
    "\n",
    "* https://folium.readthedocs.io/en/latest/\n",
    "* http://nbviewer.jupyter.org/github/python-visualization/folium/tree/master/examples/\n",
    "\n",
    "\n"
   ]
  },
  {
   "cell_type": "code",
   "execution_count": 24,
   "metadata": {},
   "outputs": [],
   "source": [
    "import pandas as pd\n",
    "import numpy as np\n",
    "import folium\n",
    "import random"
   ]
  },
  {
   "cell_type": "code",
   "execution_count": 26,
   "metadata": {},
   "outputs": [],
   "source": [
    "clientes = pd.read_csv('../data/map-plotting/clientes.csv')"
   ]
  },
  {
   "cell_type": "code",
   "execution_count": 27,
   "metadata": {},
   "outputs": [
    {
     "data": {
      "text/html": [
       "<div>\n",
       "<style scoped>\n",
       "    .dataframe tbody tr th:only-of-type {\n",
       "        vertical-align: middle;\n",
       "    }\n",
       "\n",
       "    .dataframe tbody tr th {\n",
       "        vertical-align: top;\n",
       "    }\n",
       "\n",
       "    .dataframe thead th {\n",
       "        text-align: right;\n",
       "    }\n",
       "</style>\n",
       "<table border=\"1\" class=\"dataframe\">\n",
       "  <thead>\n",
       "    <tr style=\"text-align: right;\">\n",
       "      <th></th>\n",
       "      <th>id</th>\n",
       "      <th>first_name</th>\n",
       "      <th>last_name</th>\n",
       "      <th>gender</th>\n",
       "      <th>street_address</th>\n",
       "      <th>city</th>\n",
       "      <th>state</th>\n",
       "      <th>zip_code</th>\n",
       "      <th>telephone</th>\n",
       "      <th>age</th>\n",
       "      <th>company</th>\n",
       "      <th>latitude</th>\n",
       "      <th>longitude</th>\n",
       "    </tr>\n",
       "  </thead>\n",
       "  <tbody>\n",
       "    <tr>\n",
       "      <th>0</th>\n",
       "      <td>1</td>\n",
       "      <td>Brynna</td>\n",
       "      <td>Idney</td>\n",
       "      <td>Female</td>\n",
       "      <td>04622 Butternut Avenue</td>\n",
       "      <td>Wichita</td>\n",
       "      <td>Kansas</td>\n",
       "      <td>67236</td>\n",
       "      <td>316-156-2368</td>\n",
       "      <td>11/16/2000</td>\n",
       "      <td>ConnectOne Bancorp, Inc.</td>\n",
       "      <td>37.5422</td>\n",
       "      <td>-97.2871</td>\n",
       "    </tr>\n",
       "    <tr>\n",
       "      <th>1</th>\n",
       "      <td>2</td>\n",
       "      <td>Angelia</td>\n",
       "      <td>Haysey</td>\n",
       "      <td>Female</td>\n",
       "      <td>2505 Garrison Road</td>\n",
       "      <td>Norfolk</td>\n",
       "      <td>Virginia</td>\n",
       "      <td>23551</td>\n",
       "      <td>757-310-4394</td>\n",
       "      <td>7/18/1948</td>\n",
       "      <td>American Airlines Group, Inc.</td>\n",
       "      <td>36.9312</td>\n",
       "      <td>-76.2397</td>\n",
       "    </tr>\n",
       "    <tr>\n",
       "      <th>2</th>\n",
       "      <td>3</td>\n",
       "      <td>Mellicent</td>\n",
       "      <td>Marquet</td>\n",
       "      <td>Female</td>\n",
       "      <td>38307 Warbler Drive</td>\n",
       "      <td>Staten Island</td>\n",
       "      <td>New York</td>\n",
       "      <td>10305</td>\n",
       "      <td>718-976-7800</td>\n",
       "      <td>9/21/1949</td>\n",
       "      <td>U.S. Physical Therapy, Inc.</td>\n",
       "      <td>40.5973</td>\n",
       "      <td>-74.0768</td>\n",
       "    </tr>\n",
       "  </tbody>\n",
       "</table>\n",
       "</div>"
      ],
      "text/plain": [
       "   id first_name last_name  gender          street_address           city  \\\n",
       "0   1     Brynna     Idney  Female  04622 Butternut Avenue        Wichita   \n",
       "1   2    Angelia    Haysey  Female      2505 Garrison Road        Norfolk   \n",
       "2   3  Mellicent   Marquet  Female     38307 Warbler Drive  Staten Island   \n",
       "\n",
       "      state  zip_code     telephone         age  \\\n",
       "0    Kansas     67236  316-156-2368  11/16/2000   \n",
       "1  Virginia     23551  757-310-4394   7/18/1948   \n",
       "2  New York     10305  718-976-7800   9/21/1949   \n",
       "\n",
       "                         company  latitude  longitude  \n",
       "0       ConnectOne Bancorp, Inc.   37.5422   -97.2871  \n",
       "1  American Airlines Group, Inc.   36.9312   -76.2397  \n",
       "2    U.S. Physical Therapy, Inc.   40.5973   -74.0768  "
      ]
     },
     "execution_count": 27,
     "metadata": {},
     "output_type": "execute_result"
    }
   ],
   "source": [
    "clientes.head(3)"
   ]
  },
  {
   "cell_type": "code",
   "execution_count": 28,
   "metadata": {},
   "outputs": [
    {
     "data": {
      "text/plain": [
       "(5000, 13)"
      ]
     },
     "execution_count": 28,
     "metadata": {},
     "output_type": "execute_result"
    }
   ],
   "source": [
    "clientes.shape"
   ]
  },
  {
   "cell_type": "code",
   "execution_count": 29,
   "metadata": {},
   "outputs": [
    {
     "data": {
      "text/plain": [
       "id                  int64\n",
       "first_name         object\n",
       "last_name          object\n",
       "gender             object\n",
       "street_address     object\n",
       "city               object\n",
       "state              object\n",
       "zip_code            int64\n",
       "telephone          object\n",
       "age                object\n",
       "company            object\n",
       "latitude          float64\n",
       "longitude         float64\n",
       "dtype: object"
      ]
     },
     "execution_count": 29,
     "metadata": {},
     "output_type": "execute_result"
    }
   ],
   "source": [
    "# https://www.linkedin.com/pulse/resolvendo-problema-de-entrega-log%C3%ADstica-com-python-menezes-souza/\n",
    "clientes.dtypes"
   ]
  },
  {
   "cell_type": "code",
   "execution_count": 30,
   "metadata": {},
   "outputs": [
    {
     "data": {
      "text/html": [
       "<div>\n",
       "<style scoped>\n",
       "    .dataframe tbody tr th:only-of-type {\n",
       "        vertical-align: middle;\n",
       "    }\n",
       "\n",
       "    .dataframe tbody tr th {\n",
       "        vertical-align: top;\n",
       "    }\n",
       "\n",
       "    .dataframe thead th {\n",
       "        text-align: right;\n",
       "    }\n",
       "</style>\n",
       "<table border=\"1\" class=\"dataframe\">\n",
       "  <thead>\n",
       "    <tr style=\"text-align: right;\">\n",
       "      <th></th>\n",
       "      <th>id</th>\n",
       "      <th>zip_code</th>\n",
       "      <th>latitude</th>\n",
       "      <th>longitude</th>\n",
       "    </tr>\n",
       "  </thead>\n",
       "  <tbody>\n",
       "    <tr>\n",
       "      <th>count</th>\n",
       "      <td>5000.000000</td>\n",
       "      <td>5000.000000</td>\n",
       "      <td>5000.000000</td>\n",
       "      <td>5000.000000</td>\n",
       "    </tr>\n",
       "    <tr>\n",
       "      <th>mean</th>\n",
       "      <td>2500.500000</td>\n",
       "      <td>53376.629400</td>\n",
       "      <td>36.879453</td>\n",
       "      <td>-92.991263</td>\n",
       "    </tr>\n",
       "    <tr>\n",
       "      <th>std</th>\n",
       "      <td>1443.520003</td>\n",
       "      <td>28891.602969</td>\n",
       "      <td>5.272093</td>\n",
       "      <td>16.206759</td>\n",
       "    </tr>\n",
       "    <tr>\n",
       "      <th>min</th>\n",
       "      <td>1.000000</td>\n",
       "      <td>214.000000</td>\n",
       "      <td>21.281100</td>\n",
       "      <td>-157.879500</td>\n",
       "    </tr>\n",
       "    <tr>\n",
       "      <th>25%</th>\n",
       "      <td>1250.750000</td>\n",
       "      <td>29288.750000</td>\n",
       "      <td>33.276500</td>\n",
       "      <td>-101.999000</td>\n",
       "    </tr>\n",
       "    <tr>\n",
       "      <th>50%</th>\n",
       "      <td>2500.500000</td>\n",
       "      <td>50362.000000</td>\n",
       "      <td>37.784800</td>\n",
       "      <td>-88.088700</td>\n",
       "    </tr>\n",
       "    <tr>\n",
       "      <th>75%</th>\n",
       "      <td>3750.250000</td>\n",
       "      <td>79183.500000</td>\n",
       "      <td>40.691550</td>\n",
       "      <td>-80.388900</td>\n",
       "    </tr>\n",
       "    <tr>\n",
       "      <th>max</th>\n",
       "      <td>5000.000000</td>\n",
       "      <td>99812.000000</td>\n",
       "      <td>64.856100</td>\n",
       "      <td>-70.701400</td>\n",
       "    </tr>\n",
       "  </tbody>\n",
       "</table>\n",
       "</div>"
      ],
      "text/plain": [
       "                id      zip_code     latitude    longitude\n",
       "count  5000.000000   5000.000000  5000.000000  5000.000000\n",
       "mean   2500.500000  53376.629400    36.879453   -92.991263\n",
       "std    1443.520003  28891.602969     5.272093    16.206759\n",
       "min       1.000000    214.000000    21.281100  -157.879500\n",
       "25%    1250.750000  29288.750000    33.276500  -101.999000\n",
       "50%    2500.500000  50362.000000    37.784800   -88.088700\n",
       "75%    3750.250000  79183.500000    40.691550   -80.388900\n",
       "max    5000.000000  99812.000000    64.856100   -70.701400"
      ]
     },
     "execution_count": 30,
     "metadata": {},
     "output_type": "execute_result"
    }
   ],
   "source": [
    "clientes.describe()"
   ]
  },
  {
   "cell_type": "code",
   "execution_count": 31,
   "metadata": {},
   "outputs": [
    {
     "data": {
      "text/plain": [
       "longitude         0\n",
       "latitude          0\n",
       "company           0\n",
       "age               0\n",
       "telephone         0\n",
       "zip_code          0\n",
       "state             0\n",
       "city              0\n",
       "street_address    0\n",
       "gender            0\n",
       "dtype: int64"
      ]
     },
     "execution_count": 31,
     "metadata": {},
     "output_type": "execute_result"
    }
   ],
   "source": [
    "clientes.isnull().sum().sort_values(ascending=False).head(10)"
   ]
  },
  {
   "cell_type": "code",
   "execution_count": 32,
   "metadata": {},
   "outputs": [
    {
     "data": {
      "text/plain": [
       "Index(['id', 'first_name', 'last_name', 'gender', 'street_address', 'city',\n",
       "       'state', 'zip_code', 'telephone', 'age', 'company', 'latitude',\n",
       "       'longitude'],\n",
       "      dtype='object')"
      ]
     },
     "execution_count": 32,
     "metadata": {},
     "output_type": "execute_result"
    }
   ],
   "source": [
    "clientes.columns"
   ]
  },
  {
   "cell_type": "code",
   "execution_count": 33,
   "metadata": {},
   "outputs": [],
   "source": [
    "clientes.drop(['last_name','gender','zip_code','state','telephone','age','company'], axis=1, inplace=True)"
   ]
  },
  {
   "cell_type": "code",
   "execution_count": 34,
   "metadata": {},
   "outputs": [
    {
     "data": {
      "text/html": [
       "<div>\n",
       "<style scoped>\n",
       "    .dataframe tbody tr th:only-of-type {\n",
       "        vertical-align: middle;\n",
       "    }\n",
       "\n",
       "    .dataframe tbody tr th {\n",
       "        vertical-align: top;\n",
       "    }\n",
       "\n",
       "    .dataframe thead th {\n",
       "        text-align: right;\n",
       "    }\n",
       "</style>\n",
       "<table border=\"1\" class=\"dataframe\">\n",
       "  <thead>\n",
       "    <tr style=\"text-align: right;\">\n",
       "      <th></th>\n",
       "      <th>id</th>\n",
       "      <th>first_name</th>\n",
       "      <th>street_address</th>\n",
       "      <th>city</th>\n",
       "      <th>latitude</th>\n",
       "      <th>longitude</th>\n",
       "    </tr>\n",
       "  </thead>\n",
       "  <tbody>\n",
       "    <tr>\n",
       "      <th>0</th>\n",
       "      <td>1</td>\n",
       "      <td>Brynna</td>\n",
       "      <td>04622 Butternut Avenue</td>\n",
       "      <td>Wichita</td>\n",
       "      <td>37.5422</td>\n",
       "      <td>-97.2871</td>\n",
       "    </tr>\n",
       "    <tr>\n",
       "      <th>1</th>\n",
       "      <td>2</td>\n",
       "      <td>Angelia</td>\n",
       "      <td>2505 Garrison Road</td>\n",
       "      <td>Norfolk</td>\n",
       "      <td>36.9312</td>\n",
       "      <td>-76.2397</td>\n",
       "    </tr>\n",
       "    <tr>\n",
       "      <th>2</th>\n",
       "      <td>3</td>\n",
       "      <td>Mellicent</td>\n",
       "      <td>38307 Warbler Drive</td>\n",
       "      <td>Staten Island</td>\n",
       "      <td>40.5973</td>\n",
       "      <td>-74.0768</td>\n",
       "    </tr>\n",
       "  </tbody>\n",
       "</table>\n",
       "</div>"
      ],
      "text/plain": [
       "   id first_name          street_address           city  latitude  longitude\n",
       "0   1     Brynna  04622 Butternut Avenue        Wichita   37.5422   -97.2871\n",
       "1   2    Angelia      2505 Garrison Road        Norfolk   36.9312   -76.2397\n",
       "2   3  Mellicent     38307 Warbler Drive  Staten Island   40.5973   -74.0768"
      ]
     },
     "execution_count": 34,
     "metadata": {},
     "output_type": "execute_result"
    }
   ],
   "source": [
    "clientes.head(3)"
   ]
  },
  {
   "cell_type": "code",
   "execution_count": 35,
   "metadata": {},
   "outputs": [],
   "source": [
    "clientes_nyc = clientes[clientes['city'] == 'New York City']"
   ]
  },
  {
   "cell_type": "code",
   "execution_count": 36,
   "metadata": {},
   "outputs": [
    {
     "data": {
      "text/html": [
       "<div>\n",
       "<style scoped>\n",
       "    .dataframe tbody tr th:only-of-type {\n",
       "        vertical-align: middle;\n",
       "    }\n",
       "\n",
       "    .dataframe tbody tr th {\n",
       "        vertical-align: top;\n",
       "    }\n",
       "\n",
       "    .dataframe thead th {\n",
       "        text-align: right;\n",
       "    }\n",
       "</style>\n",
       "<table border=\"1\" class=\"dataframe\">\n",
       "  <thead>\n",
       "    <tr style=\"text-align: right;\">\n",
       "      <th></th>\n",
       "      <th>id</th>\n",
       "      <th>first_name</th>\n",
       "      <th>street_address</th>\n",
       "      <th>city</th>\n",
       "      <th>latitude</th>\n",
       "      <th>longitude</th>\n",
       "    </tr>\n",
       "  </thead>\n",
       "  <tbody>\n",
       "    <tr>\n",
       "      <th>34</th>\n",
       "      <td>35</td>\n",
       "      <td>Joseph</td>\n",
       "      <td>05822 Mcbride Avenue</td>\n",
       "      <td>New York City</td>\n",
       "      <td>40.7086</td>\n",
       "      <td>-74.0087</td>\n",
       "    </tr>\n",
       "    <tr>\n",
       "      <th>155</th>\n",
       "      <td>156</td>\n",
       "      <td>Wilbur</td>\n",
       "      <td>118 Rieder Hill</td>\n",
       "      <td>New York City</td>\n",
       "      <td>40.7808</td>\n",
       "      <td>-73.9772</td>\n",
       "    </tr>\n",
       "    <tr>\n",
       "      <th>163</th>\n",
       "      <td>164</td>\n",
       "      <td>Pietra</td>\n",
       "      <td>40645 Tennyson Avenue</td>\n",
       "      <td>New York City</td>\n",
       "      <td>40.7808</td>\n",
       "      <td>-73.9772</td>\n",
       "    </tr>\n",
       "    <tr>\n",
       "      <th>277</th>\n",
       "      <td>278</td>\n",
       "      <td>Danica</td>\n",
       "      <td>992 Anzinger Court</td>\n",
       "      <td>New York City</td>\n",
       "      <td>40.7808</td>\n",
       "      <td>-73.9772</td>\n",
       "    </tr>\n",
       "    <tr>\n",
       "      <th>285</th>\n",
       "      <td>286</td>\n",
       "      <td>Ashleigh</td>\n",
       "      <td>4465 Cody Alley</td>\n",
       "      <td>New York City</td>\n",
       "      <td>40.7069</td>\n",
       "      <td>-74.0082</td>\n",
       "    </tr>\n",
       "  </tbody>\n",
       "</table>\n",
       "</div>"
      ],
      "text/plain": [
       "      id first_name         street_address           city  latitude  longitude\n",
       "34    35     Joseph   05822 Mcbride Avenue  New York City   40.7086   -74.0087\n",
       "155  156     Wilbur        118 Rieder Hill  New York City   40.7808   -73.9772\n",
       "163  164     Pietra  40645 Tennyson Avenue  New York City   40.7808   -73.9772\n",
       "277  278     Danica     992 Anzinger Court  New York City   40.7808   -73.9772\n",
       "285  286   Ashleigh        4465 Cody Alley  New York City   40.7069   -74.0082"
      ]
     },
     "execution_count": 36,
     "metadata": {},
     "output_type": "execute_result"
    }
   ],
   "source": [
    "clientes_nyc.head()"
   ]
  },
  {
   "cell_type": "code",
   "execution_count": 37,
   "metadata": {},
   "outputs": [
    {
     "data": {
      "text/plain": [
       "(81, 6)"
      ]
     },
     "execution_count": 37,
     "metadata": {},
     "output_type": "execute_result"
    }
   ],
   "source": [
    "clientes_nyc.shape"
   ]
  },
  {
   "cell_type": "code",
   "execution_count": 38,
   "metadata": {},
   "outputs": [],
   "source": [
    "ids_clientes = random.randint(random.randint(0,10),50)"
   ]
  },
  {
   "cell_type": "code",
   "execution_count": 39,
   "metadata": {},
   "outputs": [],
   "source": [
    "consulta = clientes_nyc[0:ids_clientes]\n",
    "lat = clientes_nyc['latitude'].mean()\n",
    "lon = clientes_nyc['longitude'].mean()"
   ]
  },
  {
   "cell_type": "code",
   "execution_count": 40,
   "metadata": {},
   "outputs": [],
   "source": [
    "map = folium.Map(location=[clientes_nyc['latitude'].min(), clientes_nyc['longitude'].max()], zoom_start=10)"
   ]
  },
  {
   "cell_type": "code",
   "execution_count": 41,
   "metadata": {},
   "outputs": [],
   "source": [
    "for linha in clientes_nyc[0:ids_clientes].iterrows():\n",
    "    folium.Marker([linha[1]['latitude'], \n",
    "                   linha[1]['longitude']], \n",
    "                  popup='client: {}, end: {}'.format(linha[1]['first_name'], \n",
    "                                                     linha[1]['street_address'])).add_to(map)"
   ]
  },
  {
   "cell_type": "code",
   "execution_count": 42,
   "metadata": {},
   "outputs": [
    {
     "data": {
      "text/plain": [
       "<folium.map.Marker at 0x22bad71beb8>"
      ]
     },
     "execution_count": 42,
     "metadata": {},
     "output_type": "execute_result"
    }
   ],
   "source": [
    "folium.Marker([lat, lon],\n",
    "            popup = 'Melhor local de entrega',\n",
    "            icon = folium.Icon(color='red', icon='info-sign')).add_to(map)"
   ]
  },
  {
   "cell_type": "code",
   "execution_count": 43,
   "metadata": {},
   "outputs": [
    {
     "data": {
      "text/html": [
       "<div>\n",
       "<style scoped>\n",
       "    .dataframe tbody tr th:only-of-type {\n",
       "        vertical-align: middle;\n",
       "    }\n",
       "\n",
       "    .dataframe tbody tr th {\n",
       "        vertical-align: top;\n",
       "    }\n",
       "\n",
       "    .dataframe thead th {\n",
       "        text-align: right;\n",
       "    }\n",
       "</style>\n",
       "<table border=\"1\" class=\"dataframe\">\n",
       "  <thead>\n",
       "    <tr style=\"text-align: right;\">\n",
       "      <th></th>\n",
       "      <th>id</th>\n",
       "      <th>first_name</th>\n",
       "      <th>street_address</th>\n",
       "      <th>city</th>\n",
       "      <th>latitude</th>\n",
       "      <th>longitude</th>\n",
       "    </tr>\n",
       "  </thead>\n",
       "  <tbody>\n",
       "    <tr>\n",
       "      <th>34</th>\n",
       "      <td>35</td>\n",
       "      <td>Joseph</td>\n",
       "      <td>05822 Mcbride Avenue</td>\n",
       "      <td>New York City</td>\n",
       "      <td>40.7086</td>\n",
       "      <td>-74.0087</td>\n",
       "    </tr>\n",
       "    <tr>\n",
       "      <th>155</th>\n",
       "      <td>156</td>\n",
       "      <td>Wilbur</td>\n",
       "      <td>118 Rieder Hill</td>\n",
       "      <td>New York City</td>\n",
       "      <td>40.7808</td>\n",
       "      <td>-73.9772</td>\n",
       "    </tr>\n",
       "    <tr>\n",
       "      <th>163</th>\n",
       "      <td>164</td>\n",
       "      <td>Pietra</td>\n",
       "      <td>40645 Tennyson Avenue</td>\n",
       "      <td>New York City</td>\n",
       "      <td>40.7808</td>\n",
       "      <td>-73.9772</td>\n",
       "    </tr>\n",
       "    <tr>\n",
       "      <th>277</th>\n",
       "      <td>278</td>\n",
       "      <td>Danica</td>\n",
       "      <td>992 Anzinger Court</td>\n",
       "      <td>New York City</td>\n",
       "      <td>40.7808</td>\n",
       "      <td>-73.9772</td>\n",
       "    </tr>\n",
       "    <tr>\n",
       "      <th>285</th>\n",
       "      <td>286</td>\n",
       "      <td>Ashleigh</td>\n",
       "      <td>4465 Cody Alley</td>\n",
       "      <td>New York City</td>\n",
       "      <td>40.7069</td>\n",
       "      <td>-74.0082</td>\n",
       "    </tr>\n",
       "    <tr>\n",
       "      <th>302</th>\n",
       "      <td>303</td>\n",
       "      <td>Loren</td>\n",
       "      <td>31049 Tony Terrace</td>\n",
       "      <td>New York City</td>\n",
       "      <td>40.7808</td>\n",
       "      <td>-73.9772</td>\n",
       "    </tr>\n",
       "    <tr>\n",
       "      <th>304</th>\n",
       "      <td>305</td>\n",
       "      <td>Clarisse</td>\n",
       "      <td>3096 Annamark Crossing</td>\n",
       "      <td>New York City</td>\n",
       "      <td>40.7808</td>\n",
       "      <td>-73.9772</td>\n",
       "    </tr>\n",
       "    <tr>\n",
       "      <th>307</th>\n",
       "      <td>308</td>\n",
       "      <td>Bail</td>\n",
       "      <td>07952 Eagan Place</td>\n",
       "      <td>New York City</td>\n",
       "      <td>40.7808</td>\n",
       "      <td>-73.9772</td>\n",
       "    </tr>\n",
       "    <tr>\n",
       "      <th>322</th>\n",
       "      <td>323</td>\n",
       "      <td>Bradney</td>\n",
       "      <td>52 Reindahl Trail</td>\n",
       "      <td>New York City</td>\n",
       "      <td>40.7540</td>\n",
       "      <td>-73.9808</td>\n",
       "    </tr>\n",
       "    <tr>\n",
       "      <th>356</th>\n",
       "      <td>357</td>\n",
       "      <td>Franni</td>\n",
       "      <td>440 Weeping Birch Drive</td>\n",
       "      <td>New York City</td>\n",
       "      <td>40.7611</td>\n",
       "      <td>-73.9680</td>\n",
       "    </tr>\n",
       "    <tr>\n",
       "      <th>418</th>\n",
       "      <td>419</td>\n",
       "      <td>Carlene</td>\n",
       "      <td>3751 Hoard Terrace</td>\n",
       "      <td>New York City</td>\n",
       "      <td>40.7086</td>\n",
       "      <td>-74.0087</td>\n",
       "    </tr>\n",
       "    <tr>\n",
       "      <th>445</th>\n",
       "      <td>446</td>\n",
       "      <td>Saleem</td>\n",
       "      <td>3 Kenwood Place</td>\n",
       "      <td>New York City</td>\n",
       "      <td>40.7808</td>\n",
       "      <td>-73.9772</td>\n",
       "    </tr>\n",
       "    <tr>\n",
       "      <th>636</th>\n",
       "      <td>637</td>\n",
       "      <td>Romeo</td>\n",
       "      <td>91404 Mosinee Park</td>\n",
       "      <td>New York City</td>\n",
       "      <td>40.7808</td>\n",
       "      <td>-73.9772</td>\n",
       "    </tr>\n",
       "    <tr>\n",
       "      <th>656</th>\n",
       "      <td>657</td>\n",
       "      <td>Elita</td>\n",
       "      <td>4 Grayhawk Avenue</td>\n",
       "      <td>New York City</td>\n",
       "      <td>40.7524</td>\n",
       "      <td>-73.9791</td>\n",
       "    </tr>\n",
       "  </tbody>\n",
       "</table>\n",
       "</div>"
      ],
      "text/plain": [
       "      id first_name           street_address           city  latitude  \\\n",
       "34    35     Joseph     05822 Mcbride Avenue  New York City   40.7086   \n",
       "155  156     Wilbur          118 Rieder Hill  New York City   40.7808   \n",
       "163  164     Pietra    40645 Tennyson Avenue  New York City   40.7808   \n",
       "277  278     Danica       992 Anzinger Court  New York City   40.7808   \n",
       "285  286   Ashleigh          4465 Cody Alley  New York City   40.7069   \n",
       "302  303      Loren       31049 Tony Terrace  New York City   40.7808   \n",
       "304  305   Clarisse   3096 Annamark Crossing  New York City   40.7808   \n",
       "307  308       Bail        07952 Eagan Place  New York City   40.7808   \n",
       "322  323    Bradney        52 Reindahl Trail  New York City   40.7540   \n",
       "356  357     Franni  440 Weeping Birch Drive  New York City   40.7611   \n",
       "418  419    Carlene       3751 Hoard Terrace  New York City   40.7086   \n",
       "445  446     Saleem          3 Kenwood Place  New York City   40.7808   \n",
       "636  637      Romeo       91404 Mosinee Park  New York City   40.7808   \n",
       "656  657      Elita        4 Grayhawk Avenue  New York City   40.7524   \n",
       "\n",
       "     longitude  \n",
       "34    -74.0087  \n",
       "155   -73.9772  \n",
       "163   -73.9772  \n",
       "277   -73.9772  \n",
       "285   -74.0082  \n",
       "302   -73.9772  \n",
       "304   -73.9772  \n",
       "307   -73.9772  \n",
       "322   -73.9808  \n",
       "356   -73.9680  \n",
       "418   -74.0087  \n",
       "445   -73.9772  \n",
       "636   -73.9772  \n",
       "656   -73.9791  "
      ]
     },
     "execution_count": 43,
     "metadata": {},
     "output_type": "execute_result"
    }
   ],
   "source": [
    "consulta"
   ]
  },
  {
   "cell_type": "code",
   "execution_count": 23,
   "metadata": {},
   "outputs": [
    {
     "data": {
      "text/html": [
       "<div style=\"width:100%;\"><div style=\"position:relative;width:100%;height:0;padding-bottom:60%;\"><iframe src=\"data:text/html;charset=utf-8;base64,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\" style=\"position:absolute;width:100%;height:100%;left:0;top:0;border:none !important;\" allowfullscreen webkitallowfullscreen mozallowfullscreen></iframe></div></div>"
      ],
      "text/plain": [
       "<folium.folium.Map at 0x22bad3865c0>"
      ]
     },
     "execution_count": 23,
     "metadata": {},
     "output_type": "execute_result"
    }
   ],
   "source": [
    "map"
   ]
  },
  {
   "cell_type": "code",
   "execution_count": null,
   "metadata": {},
   "outputs": [],
   "source": []
  }
 ],
 "metadata": {
  "kernelspec": {
   "display_name": "Python 3",
   "language": "python",
   "name": "python3"
  },
  "language_info": {
   "codemirror_mode": {
    "name": "ipython",
    "version": 3
   },
   "file_extension": ".py",
   "mimetype": "text/x-python",
   "name": "python",
   "nbconvert_exporter": "python",
   "pygments_lexer": "ipython3",
   "version": "3.6.3"
  }
 },
 "nbformat": 4,
 "nbformat_minor": 2
}
