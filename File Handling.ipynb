{
 "cells": [
  {
   "cell_type": "markdown",
   "metadata": {},
   "source": [
    "# File Handling"
   ]
  },
  {
   "cell_type": "markdown",
   "metadata": {},
   "source": [
    "A file is some information or data which stays in the computer storage devices. Python gives you easy ways to manipulate these files. Generally we divide files in two categories, text file and binary file. Text files are simple text where as the binary files contain binary data which is only readable by computer.\n",
    "\n",
    "- Text files\n",
    "- CSV files\n",
    "- JSON"
   ]
  },
  {
   "cell_type": "markdown",
   "metadata": {},
   "source": [
    "## TXT (text file)"
   ]
  },
  {
   "cell_type": "code",
   "execution_count": 36,
   "metadata": {
    "collapsed": true
   },
   "outputs": [],
   "source": [
    "# Importing Module os\n",
    "import os"
   ]
  },
  {
   "cell_type": "code",
   "execution_count": 38,
   "metadata": {
    "collapsed": true
   },
   "outputs": [],
   "source": [
    "# Creating a file (in the same directory as the Jupyter Notebook)\n",
    "file = open(os.path.join('./data/file handling/scientist.txt'),'w')"
   ]
  },
  {
   "cell_type": "code",
   "execution_count": 40,
   "metadata": {
    "collapsed": true
   },
   "outputs": [],
   "source": [
    "text = \"Lorem Ipsum is simply dummy text of the printing and typesetting industry.\\n\"\n",
    "text = text + \"Lorem Ipsum has been the industry's standard dummy text ever since the 1500s, when an unknown printer took a galley of type and scrambled it to make a type specimen book.\\n\"\n",
    "text += \"It has survived not only five centuries, but also the leap into electronic typesetting, remaining essentially unchanged.\""
   ]
  },
  {
   "cell_type": "code",
   "execution_count": 41,
   "metadata": {
    "collapsed": false
   },
   "outputs": [],
   "source": [
    "# Saving the data in the file\n",
    "for word in text.split():\n",
    "    file.write(word + ' ')"
   ]
  },
  {
   "cell_type": "code",
   "execution_count": 42,
   "metadata": {
    "collapsed": true
   },
   "outputs": [],
   "source": [
    "# Closing the file\n",
    "file.close()"
   ]
  },
  {
   "cell_type": "code",
   "execution_count": 43,
   "metadata": {
    "collapsed": false
   },
   "outputs": [
    {
     "name": "stdout",
     "output_type": "stream",
     "text": [
      "cat: scientist.txt: No such file or directory\r\n"
     ]
    }
   ],
   "source": [
    "!cat scientist.txt"
   ]
  },
  {
   "cell_type": "code",
   "execution_count": 46,
   "metadata": {
    "collapsed": false
   },
   "outputs": [
    {
     "name": "stdout",
     "output_type": "stream",
     "text": [
      "Lorem Ipsum is simply dummy text of the printing and typesetting industry. Lorem Ipsum has been the industry's standard dummy text ever since the 1500s, when an unknown printer took a galley of type and scrambled it to make a type specimen book. It has survived not only five centuries, but also the leap into electronic typesetting, remaining essentially unchanged. \n"
     ]
    }
   ],
   "source": [
    "# Reading the file\n",
    "new_file = open('./data/file handling/scientist.txt','r')\n",
    "text = new_file.read()\n",
    "new_file.close()\n",
    "\n",
    "print(text)"
   ]
  },
  {
   "cell_type": "markdown",
   "metadata": {},
   "source": [
    "> Using the reserved word \"with\", we do not have the need to use .close()"
   ]
  },
  {
   "cell_type": "code",
   "execution_count": 47,
   "metadata": {
    "collapsed": true
   },
   "outputs": [],
   "source": [
    "with open('./data/file handling/scientist.txt','r') as new_file:\n",
    "    text = new_file.read()"
   ]
  },
  {
   "cell_type": "code",
   "execution_count": 48,
   "metadata": {
    "collapsed": false
   },
   "outputs": [
    {
     "name": "stdout",
     "output_type": "stream",
     "text": [
      "367\n"
     ]
    }
   ],
   "source": [
    "print (len(text))"
   ]
  },
  {
   "cell_type": "code",
   "execution_count": 49,
   "metadata": {
    "collapsed": false
   },
   "outputs": [
    {
     "name": "stdout",
     "output_type": "stream",
     "text": [
      "Lorem Ipsum is simply dummy text of the printing and typesetting industry. Lorem Ipsum has been the industry's standard dummy text ever since the 1500s, when an unknown printer took a galley of type and scrambled it to make a type specimen book. It has survived not only five centuries, but also the leap into electronic typesetting, remaining essentially unchanged. \n"
     ]
    }
   ],
   "source": [
    "print (text)"
   ]
  },
  {
   "cell_type": "code",
   "execution_count": 50,
   "metadata": {
    "collapsed": true
   },
   "outputs": [],
   "source": [
    "with open('./data/file handling/scientist.txt','w') as new_file:\n",
    "    new_file.write(text[:21])\n",
    "    new_file.write('\\n')\n",
    "    new_file.write(text[:33])"
   ]
  },
  {
   "cell_type": "code",
   "execution_count": 51,
   "metadata": {
    "collapsed": false
   },
   "outputs": [
    {
     "name": "stdout",
     "output_type": "stream",
     "text": [
      "cat: scientist.txt: No such file or directory\r\n"
     ]
    }
   ],
   "source": [
    "!cat scientist.txt"
   ]
  },
  {
   "cell_type": "markdown",
   "metadata": {},
   "source": [
    "# CSV (comma-separated values)"
   ]
  },
  {
   "cell_type": "code",
   "execution_count": 55,
   "metadata": {
    "collapsed": true
   },
   "outputs": [],
   "source": [
    "# Importing Module csv\n",
    "import csv"
   ]
  },
  {
   "cell_type": "code",
   "execution_count": 56,
   "metadata": {
    "collapsed": true
   },
   "outputs": [],
   "source": [
    "with open('./data/file handling/numbers.csv','w') as csv_file:\n",
    "    writer = csv.writer(csv_file)\n",
    "    writer.writerow(('first','second','third'))\n",
    "    writer.writerow((55,93,76)) \n",
    "    writer.writerow((62,14,86))\n",
    "    writer.writerow((12,96,38))"
   ]
  },
  {
   "cell_type": "code",
   "execution_count": 57,
   "metadata": {
    "collapsed": false
   },
   "outputs": [
    {
     "name": "stdout",
     "output_type": "stream",
     "text": [
      "first,second,third\r",
      "\r\n",
      "55,93,76\r",
      "\r\n",
      "62,14,86\r",
      "\r\n",
      "12,96,38\r",
      "\r\n"
     ]
    }
   ],
   "source": [
    "!cat './data/file handling/numbers.csv'"
   ]
  },
  {
   "cell_type": "code",
   "execution_count": 58,
   "metadata": {
    "collapsed": false
   },
   "outputs": [
    {
     "name": "stdout",
     "output_type": "stream",
     "text": [
      "Number of columns: 3\n",
      "['first', 'second', 'third']\n",
      "Number of columns: 3\n",
      "['55', '93', '76']\n",
      "Number of columns: 3\n",
      "['62', '14', '86']\n",
      "Number of columns: 3\n",
      "['12', '96', '38']\n"
     ]
    }
   ],
   "source": [
    "# Reading csv files\n",
    "with open('./data/file handling/numbers.csv','r') as csv_file:\n",
    "    reader = csv.reader(csv_file)\n",
    "    for x in reader:\n",
    "        print ('Number of columns:', len(x))\n",
    "        print(x)"
   ]
  },
  {
   "cell_type": "code",
   "execution_count": 59,
   "metadata": {
    "collapsed": false
   },
   "outputs": [
    {
     "name": "stdout",
     "output_type": "stream",
     "text": [
      "[['first', 'second', 'third'], ['55', '93', '76'], ['62', '14', '86'], ['12', '96', '38']]\n"
     ]
    }
   ],
   "source": [
    "# Generating a list with csv file data\n",
    "with open('./data/file handling/numbers.csv','r') as csv_file:\n",
    "    reader = csv.reader(csv_file)\n",
    "    data = list(reader)\n",
    "    \n",
    "print(data)"
   ]
  },
  {
   "cell_type": "code",
   "execution_count": 60,
   "metadata": {
    "collapsed": false
   },
   "outputs": [
    {
     "name": "stdout",
     "output_type": "stream",
     "text": [
      "['55', '93', '76']\n",
      "['62', '14', '86']\n",
      "['12', '96', '38']\n"
     ]
    }
   ],
   "source": [
    "# Printing from the second line\n",
    "for line in data[1:]:\n",
    "    print(line)"
   ]
  },
  {
   "cell_type": "code",
   "execution_count": 61,
   "metadata": {
    "collapsed": false
   },
   "outputs": [
    {
     "name": "stdout",
     "output_type": "stream",
     "text": [
      "\n",
      " Output from an iterable object created from the csv file\n",
      "first_name\t \tlast_name\t \tcity\n",
      "Aleshia\t \tTomkiewicz\t \tSt. Stephens Ward\n",
      "Evan\t \tZigomalas\t \tAbbey Ward\n",
      "France\t \tAndrade\t \tEast Southbourne and Tuckton W\n",
      "Ulysses\t \tMcwalters\t \tHawerby cum Beesby\n",
      "Tyisha\t \tVeness\t \tGreets Green and Lyng Ward\n",
      "Eric\t \tRampy\t \tDesborough\n",
      "Marg\t \tGrasmick\t \tBargate Ward\n",
      "Laquita\t \tHisaw\t \tChirton Ward\n",
      "Lura\t \tManzella\t \tStaple Hill Ward\n"
     ]
    }
   ],
   "source": [
    "csv.register_dialect(\n",
    "    'mydialect',\n",
    "    delimiter = ',',\n",
    "    quotechar = '\"',\n",
    "    doublequote = True,\n",
    "    skipinitialspace = True,\n",
    "    lineterminator = '\\r\\n',\n",
    "    quoting = csv.QUOTE_MINIMAL)\n",
    "\n",
    "print('\\n Output from an iterable object created from the csv file')\n",
    "with open('./data/file handling/smallsample.csv', 'r') as mycsvfile:\n",
    "    thedata = csv.reader(mycsvfile, dialect='mydialect')\n",
    "    for row in thedata:\n",
    "        print(row[0]+\"\\t \\t\"+row[1]+\"\\t \\t\"+row[4])"
   ]
  },
  {
   "cell_type": "markdown",
   "metadata": {},
   "source": [
    "# JSON (Java Script Object Notation )"
   ]
  },
  {
   "cell_type": "code",
   "execution_count": 62,
   "metadata": {
    "collapsed": true
   },
   "outputs": [],
   "source": [
    "# Creating a dictionary\n",
    "dict = {\"employees\":[\n",
    "            {\"firstName\":\"John\", \"lastName\":\"Doe\"},\n",
    "            {\"firstName\":\"Anna\", \"lastName\":\"Smith\"},\n",
    "            {\"firstName\":\"Peter\", \"lastName\":\"Jones\"}\n",
    "        ]}"
   ]
  },
  {
   "cell_type": "code",
   "execution_count": 64,
   "metadata": {
    "collapsed": false
   },
   "outputs": [
    {
     "name": "stdout",
     "output_type": "stream",
     "text": [
      "employees [{'lastName': 'Doe', 'firstName': 'John'}, {'lastName': 'Smith', 'firstName': 'Anna'}, {'lastName': 'Jones', 'firstName': 'Peter'}]\n"
     ]
    }
   ],
   "source": [
    "for k,v in dict.items():\n",
    "    print (k,v)"
   ]
  },
  {
   "cell_type": "code",
   "execution_count": 67,
   "metadata": {
    "collapsed": true
   },
   "outputs": [],
   "source": [
    "# Importing the Json module\n",
    "import json"
   ]
  },
  {
   "cell_type": "code",
   "execution_count": 68,
   "metadata": {
    "collapsed": false
   },
   "outputs": [
    {
     "data": {
      "text/plain": [
       "'{\"employees\": [{\"lastName\": \"Doe\", \"firstName\": \"John\"}, {\"lastName\": \"Smith\", \"firstName\": \"Anna\"}, {\"lastName\": \"Jones\", \"firstName\": \"Peter\"}]}'"
      ]
     },
     "execution_count": 68,
     "metadata": {},
     "output_type": "execute_result"
    }
   ],
   "source": [
    "# Converting the dictionary to a json object\n",
    "json.dumps(dict)"
   ]
  },
  {
   "cell_type": "code",
   "execution_count": 69,
   "metadata": {
    "collapsed": true
   },
   "outputs": [],
   "source": [
    "# Creating a Json file\n",
    "with open('./data/file handling/data.json','w') as json_file:\n",
    "    json_file.write(json.dumps(dict))"
   ]
  },
  {
   "cell_type": "code",
   "execution_count": 70,
   "metadata": {
    "collapsed": true
   },
   "outputs": [],
   "source": [
    "# Reading Json files\n",
    "with open('./data/file handling/data.json','r') as json_file:\n",
    "    text = json_file.read()\n",
    "    data = json.loads(text)"
   ]
  },
  {
   "cell_type": "code",
   "execution_count": 71,
   "metadata": {
    "collapsed": false
   },
   "outputs": [
    {
     "name": "stdout",
     "output_type": "stream",
     "text": [
      "{'employees': [{'lastName': 'Doe', 'firstName': 'John'}, {'lastName': 'Smith', 'firstName': 'Anna'}, {'lastName': 'Jones', 'firstName': 'Peter'}]}\n"
     ]
    }
   ],
   "source": [
    "print(data)"
   ]
  },
  {
   "cell_type": "code",
   "execution_count": 73,
   "metadata": {
    "collapsed": false
   },
   "outputs": [
    {
     "name": "stdout",
     "output_type": "stream",
     "text": [
      "[{'lastName': 'Doe', 'firstName': 'John'}, {'lastName': 'Smith', 'firstName': 'Anna'}, {'lastName': 'Jones', 'firstName': 'Peter'}]\n"
     ]
    }
   ],
   "source": [
    "print(data['employees'])"
   ]
  },
  {
   "cell_type": "code",
   "execution_count": 74,
   "metadata": {
    "collapsed": true
   },
   "outputs": [],
   "source": [
    "# Printing a Json file copied from the internet\n",
    "from urllib.request import urlopen\n",
    "\n",
    "response = urlopen(\"http://vimeo.com/api/v2/video/57733101.json\").read().decode('utf8')\n",
    "data = json.loads(response)[0]"
   ]
  },
  {
   "cell_type": "code",
   "execution_count": 75,
   "metadata": {
    "collapsed": false
   },
   "outputs": [
    {
     "name": "stdout",
     "output_type": "stream",
     "text": [
      "Title:  The Good Man trailer\n",
      "URL:  https://vimeo.com/57733101\n",
      "Duration:  143\n",
      "Number of Views:  5310\n"
     ]
    }
   ],
   "source": [
    "print ('Title: ', data['title'])\n",
    "print ('URL: ', data['url'])\n",
    "print ('Duration: ', data['duration'])\n",
    "print ('Number of Views: ', data['stats_number_of_plays'])"
   ]
  },
  {
   "cell_type": "code",
   "execution_count": 79,
   "metadata": {
    "collapsed": true
   },
   "outputs": [],
   "source": [
    "source_file = './data/file handling/data.json'\n",
    "destination_file = './data/file handling/json_data.txt'"
   ]
  },
  {
   "cell_type": "code",
   "execution_count": 80,
   "metadata": {
    "collapsed": true
   },
   "outputs": [],
   "source": [
    "# Method 1\n",
    "with open(source_file,'r') as infile:\n",
    "    text = infile.read()\n",
    "    with open(destination_file,'w') as outfile:\n",
    "        outfile.write(text)  "
   ]
  },
  {
   "cell_type": "code",
   "execution_count": 81,
   "metadata": {
    "collapsed": false
   },
   "outputs": [
    {
     "data": {
      "text/plain": [
       "146"
      ]
     },
     "execution_count": 81,
     "metadata": {},
     "output_type": "execute_result"
    }
   ],
   "source": [
    "# Method 2\n",
    "open(destination_file,'w').write(open(source_file,'r').read()) "
   ]
  },
  {
   "cell_type": "code",
   "execution_count": 82,
   "metadata": {
    "collapsed": false
   },
   "outputs": [
    {
     "name": "stdout",
     "output_type": "stream",
     "text": [
      "cat: json_data.txt: No such file or directory\r\n"
     ]
    }
   ],
   "source": [
    "!cat json_data.txt"
   ]
  },
  {
   "cell_type": "code",
   "execution_count": 83,
   "metadata": {
    "collapsed": false
   },
   "outputs": [
    {
     "name": "stdout",
     "output_type": "stream",
     "text": [
      "{'maps': [{'id': 'blabla', 'iscategorical': '0'},\n",
      "          {'id': 'blabla', 'iscategorical': '0'}],\n",
      " 'masks': {'id': 'valore'},\n",
      " 'om_points': 'value',\n",
      " 'parameters': {'id': 'valore'}}\n"
     ]
    }
   ],
   "source": [
    "from pprint import pprint\n",
    "\n",
    "with open('./data/file handling/map.json') as data_file:    \n",
    "    data = json.load(data_file)\n",
    "\n",
    "pprint(data)"
   ]
  },
  {
   "cell_type": "code",
   "execution_count": 84,
   "metadata": {
    "collapsed": false
   },
   "outputs": [
    {
     "name": "stdout",
     "output_type": "stream",
     "text": [
      "'blabla'\n",
      "'valore'\n",
      "'value'\n"
     ]
    }
   ],
   "source": [
    "pprint(data[\"maps\"][0][\"id\"])\n",
    "pprint(data[\"masks\"][\"id\"])\n",
    "pprint(data[\"om_points\"])"
   ]
  },
  {
   "cell_type": "markdown",
   "metadata": {},
   "source": [
    "## Done!"
   ]
  }
 ],
 "metadata": {
  "anaconda-cloud": {},
  "kernelspec": {
   "display_name": "Python [default]",
   "language": "python",
   "name": "python3"
  },
  "language_info": {
   "codemirror_mode": {
    "name": "ipython",
    "version": 3
   },
   "file_extension": ".py",
   "mimetype": "text/x-python",
   "name": "python",
   "nbconvert_exporter": "python",
   "pygments_lexer": "ipython3",
   "version": "3.5.2"
  }
 },
 "nbformat": 4,
 "nbformat_minor": 0
}
