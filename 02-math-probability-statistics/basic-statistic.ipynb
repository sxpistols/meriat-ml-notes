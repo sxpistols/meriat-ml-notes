{
 "cells": [
  {
   "cell_type": "markdown",
   "metadata": {},
   "source": [
    "# Basic Statistic in Python\n",
    "\n",
    "There are two major modules for doing statistical analyses in Python:\n",
    "\n",
    "* Scipy - basic statistics and distribution fitting\n",
    "* Statsmodels - advanced statistical modeling focused on linear models (including ANOVA, multiple regression, generalized linear models, etc.)\n",
    "\n",
    "To see the full functionality of these modules you'll need to look through their pages, but here are a few examples to show you that a lot of the standard statistical tests and models you need to perform can be easily done using Python.\n",
    "\n",
    "### Imports\n",
    "You'll want the stats module from Scipy and the api and formula.api modulesfrom statsmodels. We'll also go ahead and import Numpy for use in generating data and Matplotlib for some graphing."
   ]
  },
  {
   "cell_type": "code",
   "execution_count": 2,
   "metadata": {
    "collapsed": false
   },
   "outputs": [],
   "source": [
    "import scipy.stats as stats\n",
    "import statsmodels.api as sm\n",
    "import statsmodels.formula.api as smf\n",
    "\n",
    "import numpy as np\n",
    "import matplotlib.pyplot as plt\n",
    "import pandas as pd\n",
    "\n",
    "%matplotlib inline"
   ]
  },
  {
   "cell_type": "markdown",
   "metadata": {},
   "source": [
    "## Descriptive Statistics\n",
    "\n",
    "stats.describe() gives basic descriptive statistics on any list of numbers. It returns (in the following order) the size of the data, it's min and max, the mean, the variance, skewness, and kurtosis."
   ]
  },
  {
   "cell_type": "code",
   "execution_count": 3,
   "metadata": {
    "collapsed": false
   },
   "outputs": [
    {
     "data": {
      "text/plain": [
       "DescribeResult(nobs=5, minmax=(1, 5), mean=3.0, variance=2.5, skewness=0.0, kurtosis=-1.3)"
      ]
     },
     "execution_count": 3,
     "metadata": {},
     "output_type": "execute_result"
    }
   ],
   "source": [
    "x = [1, 2, 3, 4, 5]\n",
    "stats.describe(x)"
   ]
  },
  {
   "cell_type": "code",
   "execution_count": 4,
   "metadata": {
    "collapsed": false
   },
   "outputs": [
    {
     "name": "stdout",
     "output_type": "stream",
     "text": [
      "   a    b    c\n",
      "0  1  2.0  3.5\n",
      "1  2  2.4  3.1\n",
      "2  3  1.8  2.5\n"
     ]
    },
    {
     "data": {
      "text/html": [
       "<div>\n",
       "<table border=\"1\" class=\"dataframe\">\n",
       "  <thead>\n",
       "    <tr style=\"text-align: right;\">\n",
       "      <th></th>\n",
       "      <th>a</th>\n",
       "      <th>b</th>\n",
       "      <th>c</th>\n",
       "    </tr>\n",
       "  </thead>\n",
       "  <tbody>\n",
       "    <tr>\n",
       "      <th>count</th>\n",
       "      <td>3.0</td>\n",
       "      <td>3.000000</td>\n",
       "      <td>3.000000</td>\n",
       "    </tr>\n",
       "    <tr>\n",
       "      <th>mean</th>\n",
       "      <td>2.0</td>\n",
       "      <td>2.066667</td>\n",
       "      <td>3.033333</td>\n",
       "    </tr>\n",
       "    <tr>\n",
       "      <th>std</th>\n",
       "      <td>1.0</td>\n",
       "      <td>0.305505</td>\n",
       "      <td>0.503322</td>\n",
       "    </tr>\n",
       "    <tr>\n",
       "      <th>min</th>\n",
       "      <td>1.0</td>\n",
       "      <td>1.800000</td>\n",
       "      <td>2.500000</td>\n",
       "    </tr>\n",
       "    <tr>\n",
       "      <th>25%</th>\n",
       "      <td>1.5</td>\n",
       "      <td>1.900000</td>\n",
       "      <td>2.800000</td>\n",
       "    </tr>\n",
       "    <tr>\n",
       "      <th>50%</th>\n",
       "      <td>2.0</td>\n",
       "      <td>2.000000</td>\n",
       "      <td>3.100000</td>\n",
       "    </tr>\n",
       "    <tr>\n",
       "      <th>75%</th>\n",
       "      <td>2.5</td>\n",
       "      <td>2.200000</td>\n",
       "      <td>3.300000</td>\n",
       "    </tr>\n",
       "    <tr>\n",
       "      <th>max</th>\n",
       "      <td>3.0</td>\n",
       "      <td>2.400000</td>\n",
       "      <td>3.500000</td>\n",
       "    </tr>\n",
       "  </tbody>\n",
       "</table>\n",
       "</div>"
      ],
      "text/plain": [
       "         a         b         c\n",
       "count  3.0  3.000000  3.000000\n",
       "mean   2.0  2.066667  3.033333\n",
       "std    1.0  0.305505  0.503322\n",
       "min    1.0  1.800000  2.500000\n",
       "25%    1.5  1.900000  2.800000\n",
       "50%    2.0  2.000000  3.100000\n",
       "75%    2.5  2.200000  3.300000\n",
       "max    3.0  2.400000  3.500000"
      ]
     },
     "execution_count": 4,
     "metadata": {},
     "output_type": "execute_result"
    }
   ],
   "source": [
    "# We can also get this kind of information for columns in a DataFrame using the .describe() method.\n",
    "data = pd.DataFrame([[1, 2, 3.5], [2, 2.4, 3.1], [3, 1.8, 2.5]], columns=['a', 'b', 'c'])\n",
    "print(data)\n",
    "data.describe()"
   ]
  },
  {
   "cell_type": "markdown",
   "metadata": {},
   "source": [
    "## T-tests\n",
    "\n",
    "Standard 1-sample and 2-sample t-tests (as well as many other basic statistical tests) are available in scipy.stats. T-tests return two values, the t-statistic and the p-value. First, let's generate some data that is normally distributed around zero."
   ]
  },
  {
   "cell_type": "code",
   "execution_count": 5,
   "metadata": {
    "collapsed": true
   },
   "outputs": [],
   "source": [
    "x1 = np.random.randn(100, 1)\n",
    "x2 = np.random.randn(100, 1)"
   ]
  },
  {
   "cell_type": "markdown",
   "metadata": {},
   "source": [
    "### One-sample t-test\n",
    "\n",
    "To determine if the mean of x1 is different from some number use a one-sample t-test. We'll compare the mean of x1 to both 0 (which it shouldn't be different from) and to 1 (which it should be different from)."
   ]
  },
  {
   "cell_type": "code",
   "execution_count": 6,
   "metadata": {
    "collapsed": false
   },
   "outputs": [
    {
     "name": "stdout",
     "output_type": "stream",
     "text": [
      "Comparison of the mean of x1 to 0.\n",
      "T-statistic = [ 0.64244715]; P-value = [ 0.52206791].\n",
      "Comparison of the mean of x1 to 5.\n",
      "T-statistic = [-10.07575802]; P-value = [  7.47771748e-17].\n"
     ]
    }
   ],
   "source": [
    "tstat, pval = stats.ttest_1samp(x1, 0)\n",
    "print(\"Comparison of the mean of x1 to 0.\\nT-statistic = %s; P-value = %s.\" % (tstat, pval))\n",
    "\n",
    "tstat, pval = stats.ttest_1samp(x1, 1)\n",
    "print(\"Comparison of the mean of x1 to 5.\\nT-statistic = %s; P-value = %s.\" % (tstat, pval))"
   ]
  },
  {
   "cell_type": "markdown",
   "metadata": {},
   "source": [
    "### Two-sample t-test\n",
    "\n",
    "To determine if the mean of two different sets of numbers are different from one another wuse a two-sample t-test. We'll compare the means of x1 and x2, which should be different from one another since they should both be about zero."
   ]
  },
  {
   "cell_type": "code",
   "execution_count": 7,
   "metadata": {
    "collapsed": false
   },
   "outputs": [
    {
     "name": "stdout",
     "output_type": "stream",
     "text": [
      "Comparison of the means of x1 and x2.\n",
      "T-statistic = [-0.03724889]; P-value = [ 0.97032409].\n"
     ]
    }
   ],
   "source": [
    "tstat, pval = stats.ttest_ind(x1, x2)\n",
    "print(\"Comparison of the means of x1 and x2.\\nT-statistic = %s; P-value = %s.\" % (tstat, pval))"
   ]
  },
  {
   "cell_type": "markdown",
   "metadata": {},
   "source": [
    "## Distribution fitting and analysis\n",
    "\n",
    "scipy.stats also includes a powerful general system for working with statistical distribution. Let's generate some random normally distributed numbers to analyze."
   ]
  },
  {
   "cell_type": "code",
   "execution_count": 8,
   "metadata": {
    "collapsed": false
   },
   "outputs": [
    {
     "data": {
      "text/plain": [
       "array([ 4.47602867, -0.56662786,  3.76559914,  1.95267772,  3.81356525,\n",
       "        2.11131559,  1.10883035,  6.44897398,  3.84493581,  6.68880497,\n",
       "        3.29047081,  2.75461975,  5.35197501,  5.52090139,  5.91780623,\n",
       "        1.79748463,  3.67177013,  2.70097245,  5.09444445,  8.62879114,\n",
       "        5.02853736,  3.95603213,  5.81797875,  7.5805891 ,  5.9475601 ,\n",
       "        3.83862396,  4.0084384 ,  3.38307613,  7.64146886,  7.29806023,\n",
       "        4.88111035,  3.28801892,  8.1428048 , -2.94606996,  7.2374045 ,\n",
       "        5.67982809,  2.56191257,  3.99938439,  5.2570962 ,  3.59817257,\n",
       "        8.302022  ,  3.969618  , -0.22337212,  2.17539586,  3.03676413,\n",
       "        4.61488712,  2.63159664,  3.30377423,  2.99145516,  6.24530598])"
      ]
     },
     "execution_count": 8,
     "metadata": {},
     "output_type": "execute_result"
    }
   ],
   "source": [
    "u, sigma = 4, 2\n",
    "random_numbers = stats.norm.rvs(u, sigma, size=50)\n",
    "random_numbers"
   ]
  },
  {
   "cell_type": "markdown",
   "metadata": {},
   "source": [
    "> We can then fit distributions to this data."
   ]
  },
  {
   "cell_type": "code",
   "execution_count": 9,
   "metadata": {
    "collapsed": false
   },
   "outputs": [
    {
     "data": {
      "text/plain": [
       "(4.2324162811536601, 2.3052402599050859)"
      ]
     },
     "execution_count": 9,
     "metadata": {},
     "output_type": "execute_result"
    }
   ],
   "source": [
    "stats.norm.fit(random_numbers)"
   ]
  },
  {
   "cell_type": "markdown",
   "metadata": {},
   "source": [
    "## Regression\n",
    "\n",
    "You can do simple univariate OLS regression in Scipy, but for anything more complicated you'll need statsmodels, so we'll just do the basics in statsmodels as well.\n",
    "\n",
    "First, we'll generate some data and plot it."
   ]
  },
  {
   "cell_type": "code",
   "execution_count": 9,
   "metadata": {
    "collapsed": false
   },
   "outputs": [
    {
     "data": {
      "image/png": "[encoded data removed]",
      "text/plain": [
       "<matplotlib.figure.Figure at 0x115309ba8>"
      ]
     },
     "metadata": {},
     "output_type": "display_data"
    }
   ],
   "source": [
    "# generate some data\n",
    "x = np.array(range(20))\n",
    "y = 3 + 0.5 * x + 2 * np.random.randn(20)\n",
    "data = pd.DataFrame(list(zip(x, y)), columns=['x', 'y'])\n",
    "\n",
    "# plot the data\n",
    "plt.plot(data['x'], data['y'], 'bo')\n",
    "plt.show()"
   ]
  },
  {
   "cell_type": "markdown",
   "metadata": {},
   "source": [
    "### Workaround\n",
    "\n",
    "Use directly the zip in pd.DataFrame return error. This is because zip now returns an iterator in python 3, hence your error message. For more details see: [docs.python.org/3/library/functions#zip](https://docs.python.org/3/library/functions.html#zip)"
   ]
  },
  {
   "cell_type": "markdown",
   "metadata": {},
   "source": [
    "Now let's do a regression. We'll use formulas to specify regression models. This allows us to write our code in simple and intuitive ways, and means the we don't have to remember how to create design matrices for more complicated models. To do this we'll need to be using Pandas to manage the data. The regression function is name ols for \"ordinary least-squares\" the standard approach to regression. It takes two arguments. The first is a formula describing the regression we want to fit. In this case we just want to model the effect of x on y so we use y ~ x, where x and y are the names of columns in a data frame. The second argument is the name of the data frame that contains the columns x and y."
   ]
  },
  {
   "cell_type": "code",
   "execution_count": 10,
   "metadata": {
    "collapsed": false
   },
   "outputs": [
    {
     "name": "stdout",
     "output_type": "stream",
     "text": [
      "                            OLS Regression Results                            \n",
      "==============================================================================\n",
      "Dep. Variable:                      y   R-squared:                       0.627\n",
      "Model:                            OLS   Adj. R-squared:                  0.606\n",
      "Method:                 Least Squares   F-statistic:                     30.28\n",
      "Date:                Sat, 26 Nov 2016   Prob (F-statistic):           3.17e-05\n",
      "Time:                        13:15:47   Log-Likelihood:                -42.721\n",
      "No. Observations:                  20   AIC:                             89.44\n",
      "Df Residuals:                      18   BIC:                             91.43\n",
      "Df Model:                           1                                         \n",
      "Covariance Type:            nonrobust                                         \n",
      "==============================================================================\n",
      "                 coef    std err          t      P>|t|      [95.0% Conf. Int.]\n",
      "------------------------------------------------------------------------------\n",
      "Intercept      3.0999      0.931      3.331      0.004         1.145     5.055\n",
      "x              0.4607      0.084      5.502      0.000         0.285     0.637\n",
      "==============================================================================\n",
      "Omnibus:                        0.896   Durbin-Watson:                   2.170\n",
      "Prob(Omnibus):                  0.639   Jarque-Bera (JB):                0.856\n",
      "Skew:                           0.325   Prob(JB):                        0.652\n",
      "Kurtosis:                       2.222   Cond. No.                         21.5\n",
      "==============================================================================\n",
      "\n",
      "Warnings:\n",
      "[1] Standard Errors assume that the covariance matrix of the errors is correctly specified.\n"
     ]
    }
   ],
   "source": [
    "results = smf.ols('y ~ x', data).fit()\n",
    "print(results.summary())"
   ]
  },
  {
   "cell_type": "markdown",
   "metadata": {},
   "source": [
    "So, .summary() presents us with most of the information we would want about the regression. We can also pull this information out in individual pieces. For example,"
   ]
  },
  {
   "cell_type": "code",
   "execution_count": 11,
   "metadata": {
    "collapsed": false
   },
   "outputs": [
    {
     "name": "stdout",
     "output_type": "stream",
     "text": [
      "0.460726648081 3.09990210693 0.627141425135\n"
     ]
    }
   ],
   "source": [
    "intercept, slope = results.params\n",
    "r2 = results.rsquared\n",
    "print(slope, intercept, r2)"
   ]
  },
  {
   "cell_type": "markdown",
   "metadata": {},
   "source": [
    "This makes it easy to store the key results of large numbers of analyses, or present the results in alternative ways, like graphs."
   ]
  },
  {
   "cell_type": "code",
   "execution_count": 12,
   "metadata": {
    "collapsed": false
   },
   "outputs": [
    {
     "data": {
      "image/png": "[encoded data removed]",
      "text/plain": [
       "<matplotlib.figure.Figure at 0x1153090f0>"
      ]
     },
     "metadata": {},
     "output_type": "display_data"
    }
   ],
   "source": [
    "plt.plot(data['x'], data['y'], 'bo')\n",
    "plt.hold(True)\n",
    "x = np.array([min(x), max(x)])\n",
    "y = intercept + slope * x\n",
    "plt.plot(x, y, 'r-')\n",
    "plt.show()"
   ]
  },
  {
   "cell_type": "markdown",
   "metadata": {},
   "source": [
    "You'll notice that in order to plot the regression line what we actually do is plot a line with the appropriate slope and intercept by:\n",
    "\n",
    "1. taking the minimum and maximum values of x\n",
    "2. calculating their values of y based on the regression results\n",
    "3. and plotting those two points with a straight line connecting them and no symbols\n",
    "\n",
    "## Multiple-regression\n",
    "\n",
    "Multiple-regression works the same way, but with additional terms in the formula."
   ]
  },
  {
   "cell_type": "code",
   "execution_count": 15,
   "metadata": {
    "collapsed": false
   },
   "outputs": [
    {
     "name": "stdout",
     "output_type": "stream",
     "text": [
      "                            OLS Regression Results                            \n",
      "==============================================================================\n",
      "Dep. Variable:                      y   R-squared:                       0.835\n",
      "Model:                            OLS   Adj. R-squared:                  0.828\n",
      "Method:                 Least Squares   F-statistic:                     119.2\n",
      "Date:                Sat, 26 Nov 2016   Prob (F-statistic):           3.87e-19\n",
      "Time:                        13:17:09   Log-Likelihood:                -57.686\n",
      "No. Observations:                  50   AIC:                             121.4\n",
      "Df Residuals:                      47   BIC:                             127.1\n",
      "Df Model:                           2                                         \n",
      "Covariance Type:            nonrobust                                         \n",
      "==============================================================================\n",
      "                 coef    std err          t      P>|t|      [95.0% Conf. Int.]\n",
      "------------------------------------------------------------------------------\n",
      "Intercept      3.1774      0.112     28.248      0.000         2.951     3.404\n",
      "x              0.4759      0.140      3.409      0.001         0.195     0.757\n",
      "z              1.5718      0.103     15.209      0.000         1.364     1.780\n",
      "==============================================================================\n",
      "Omnibus:                        5.144   Durbin-Watson:                   1.497\n",
      "Prob(Omnibus):                  0.076   Jarque-Bera (JB):                4.010\n",
      "Skew:                          -0.627   Prob(JB):                        0.135\n",
      "Kurtosis:                       3.594   Cond. No.                         1.69\n",
      "==============================================================================\n",
      "\n",
      "Warnings:\n",
      "[1] Standard Errors assume that the covariance matrix of the errors is correctly specified.\n"
     ]
    }
   ],
   "source": [
    "import pandas as pd\n",
    "\n",
    "# generate some data\n",
    "x = np.random.randn(50)\n",
    "z = np.random.randn(50)\n",
    "noise = np.random.randn(50)\n",
    "y = 3 + 0.5 * x + 1.5 * z + noise\n",
    "\n",
    "data = pd.DataFrame(list(zip(x, y, z)), columns=['x', 'y', 'z'])\n",
    "results = smf.ols('y ~ x + z', data).fit()\n",
    "print(results.summary())"
   ]
  },
  {
   "cell_type": "code",
   "execution_count": 16,
   "metadata": {
    "collapsed": false
   },
   "outputs": [
    {
     "name": "stdout",
     "output_type": "stream",
     "text": [
      "                            OLS Regression Results                            \n",
      "==============================================================================\n",
      "Dep. Variable:                      y   R-squared:                       0.842\n",
      "Model:                            OLS   Adj. R-squared:                  0.832\n",
      "Method:                 Least Squares   F-statistic:                     81.70\n",
      "Date:                Sat, 26 Nov 2016   Prob (F-statistic):           1.88e-18\n",
      "Time:                        13:17:19   Log-Likelihood:                -56.662\n",
      "No. Observations:                  50   AIC:                             121.3\n",
      "Df Residuals:                      46   BIC:                             129.0\n",
      "Df Model:                           3                                         \n",
      "Covariance Type:            nonrobust                                         \n",
      "==============================================================================\n",
      "                 coef    std err          t      P>|t|      [95.0% Conf. Int.]\n",
      "------------------------------------------------------------------------------\n",
      "Intercept      3.1188      0.119     26.178      0.000         2.879     3.359\n",
      "x              0.4860      0.138      3.510      0.001         0.207     0.765\n",
      "z              1.5075      0.112     13.419      0.000         1.281     1.734\n",
      "x:z           -0.1660      0.120     -1.387      0.172        -0.407     0.075\n",
      "==============================================================================\n",
      "Omnibus:                        3.412   Durbin-Watson:                   1.450\n",
      "Prob(Omnibus):                  0.182   Jarque-Bera (JB):                2.367\n",
      "Skew:                          -0.464   Prob(JB):                        0.306\n",
      "Kurtosis:                       3.525   Cond. No.                         2.04\n",
      "==============================================================================\n",
      "\n",
      "Warnings:\n",
      "[1] Standard Errors assume that the covariance matrix of the errors is correctly specified.\n"
     ]
    }
   ],
   "source": [
    "# This makes it easy to do more complicated designs, including interactions.\n",
    "results = smf.ols('y ~ x + z + x*z', data).fit()\n",
    "print(results.summary())"
   ]
  },
  {
   "cell_type": "code",
   "execution_count": 17,
   "metadata": {
    "collapsed": false
   },
   "outputs": [
    {
     "name": "stdout",
     "output_type": "stream",
     "text": [
      "                            OLS Regression Results                            \n",
      "==============================================================================\n",
      "Dep. Variable:                      y   R-squared:                       0.495\n",
      "Model:                            OLS   Adj. R-squared:                  0.451\n",
      "Method:                 Least Squares   F-statistic:                     11.26\n",
      "Date:                Sat, 26 Nov 2016   Prob (F-statistic):           0.000389\n",
      "Time:                        13:17:26   Log-Likelihood:                -33.044\n",
      "No. Observations:                  26   AIC:                             72.09\n",
      "Df Residuals:                      23   BIC:                             75.86\n",
      "Df Model:                           2                                         \n",
      "Covariance Type:            nonrobust                                         \n",
      "===============================================================================\n",
      "                  coef    std err          t      P>|t|      [95.0% Conf. Int.]\n",
      "-------------------------------------------------------------------------------\n",
      "Intercept       5.0835      0.214     23.771      0.000         4.641     5.526\n",
      "x               0.3428      0.246      1.391      0.178        -0.167     0.853\n",
      "np.log10(z)     2.6600      0.593      4.483      0.000         1.433     3.887\n",
      "==============================================================================\n",
      "Omnibus:                        2.580   Durbin-Watson:                   2.395\n",
      "Prob(Omnibus):                  0.275   Jarque-Bera (JB):                2.133\n",
      "Skew:                           0.586   Prob(JB):                        0.344\n",
      "Kurtosis:                       2.229   Cond. No.                         3.79\n",
      "==============================================================================\n",
      "\n",
      "Warnings:\n",
      "[1] Standard Errors assume that the covariance matrix of the errors is correctly specified.\n"
     ]
    }
   ],
   "source": [
    "# We can also include transformations in formulas using functions from Numpy.\n",
    "results = smf.ols('y ~ x + np.log10(z)', data).fit()\n",
    "print(results.summary())"
   ]
  },
  {
   "cell_type": "markdown",
   "metadata": {},
   "source": [
    "## ANOVA\n",
    "\n",
    "Using formulas also makes it easy to conduct statistical tests that are based on linear models. ANOVA is simply a linear model with appropriate dummy variables set up for each factor. To do this in statsmodels we simply use C() to tell the module that the variable of interest is categorical.\n",
    "\n",
    "This time, let's start by grabbing some data from the web."
   ]
  },
  {
   "cell_type": "code",
   "execution_count": 23,
   "metadata": {
    "collapsed": false
   },
   "outputs": [
    {
     "data": {
      "text/html": [
       "<div>\n",
       "<table border=\"1\" class=\"dataframe\">\n",
       "  <thead>\n",
       "    <tr style=\"text-align: right;\">\n",
       "      <th></th>\n",
       "      <th>Fitness</th>\n",
       "      <th>Time</th>\n",
       "    </tr>\n",
       "  </thead>\n",
       "  <tbody>\n",
       "    <tr>\n",
       "      <th>0</th>\n",
       "      <td>1</td>\n",
       "      <td>29</td>\n",
       "    </tr>\n",
       "    <tr>\n",
       "      <th>1</th>\n",
       "      <td>1</td>\n",
       "      <td>42</td>\n",
       "    </tr>\n",
       "    <tr>\n",
       "      <th>2</th>\n",
       "      <td>1</td>\n",
       "      <td>38</td>\n",
       "    </tr>\n",
       "    <tr>\n",
       "      <th>3</th>\n",
       "      <td>1</td>\n",
       "      <td>40</td>\n",
       "    </tr>\n",
       "    <tr>\n",
       "      <th>4</th>\n",
       "      <td>1</td>\n",
       "      <td>43</td>\n",
       "    </tr>\n",
       "    <tr>\n",
       "      <th>5</th>\n",
       "      <td>1</td>\n",
       "      <td>40</td>\n",
       "    </tr>\n",
       "    <tr>\n",
       "      <th>6</th>\n",
       "      <td>1</td>\n",
       "      <td>30</td>\n",
       "    </tr>\n",
       "    <tr>\n",
       "      <th>7</th>\n",
       "      <td>1</td>\n",
       "      <td>42</td>\n",
       "    </tr>\n",
       "    <tr>\n",
       "      <th>8</th>\n",
       "      <td>2</td>\n",
       "      <td>30</td>\n",
       "    </tr>\n",
       "    <tr>\n",
       "      <th>9</th>\n",
       "      <td>2</td>\n",
       "      <td>35</td>\n",
       "    </tr>\n",
       "    <tr>\n",
       "      <th>10</th>\n",
       "      <td>2</td>\n",
       "      <td>39</td>\n",
       "    </tr>\n",
       "    <tr>\n",
       "      <th>11</th>\n",
       "      <td>2</td>\n",
       "      <td>28</td>\n",
       "    </tr>\n",
       "    <tr>\n",
       "      <th>12</th>\n",
       "      <td>2</td>\n",
       "      <td>31</td>\n",
       "    </tr>\n",
       "    <tr>\n",
       "      <th>13</th>\n",
       "      <td>2</td>\n",
       "      <td>31</td>\n",
       "    </tr>\n",
       "    <tr>\n",
       "      <th>14</th>\n",
       "      <td>2</td>\n",
       "      <td>29</td>\n",
       "    </tr>\n",
       "    <tr>\n",
       "      <th>15</th>\n",
       "      <td>2</td>\n",
       "      <td>35</td>\n",
       "    </tr>\n",
       "    <tr>\n",
       "      <th>16</th>\n",
       "      <td>2</td>\n",
       "      <td>29</td>\n",
       "    </tr>\n",
       "    <tr>\n",
       "      <th>17</th>\n",
       "      <td>2</td>\n",
       "      <td>33</td>\n",
       "    </tr>\n",
       "    <tr>\n",
       "      <th>18</th>\n",
       "      <td>3</td>\n",
       "      <td>26</td>\n",
       "    </tr>\n",
       "    <tr>\n",
       "      <th>19</th>\n",
       "      <td>3</td>\n",
       "      <td>32</td>\n",
       "    </tr>\n",
       "    <tr>\n",
       "      <th>20</th>\n",
       "      <td>3</td>\n",
       "      <td>21</td>\n",
       "    </tr>\n",
       "    <tr>\n",
       "      <th>21</th>\n",
       "      <td>3</td>\n",
       "      <td>20</td>\n",
       "    </tr>\n",
       "    <tr>\n",
       "      <th>22</th>\n",
       "      <td>3</td>\n",
       "      <td>23</td>\n",
       "    </tr>\n",
       "    <tr>\n",
       "      <th>23</th>\n",
       "      <td>3</td>\n",
       "      <td>22</td>\n",
       "    </tr>\n",
       "  </tbody>\n",
       "</table>\n",
       "</div>"
      ],
      "text/plain": [
       "    Fitness  Time\n",
       "0         1    29\n",
       "1         1    42\n",
       "2         1    38\n",
       "3         1    40\n",
       "4         1    43\n",
       "5         1    40\n",
       "6         1    30\n",
       "7         1    42\n",
       "8         2    30\n",
       "9         2    35\n",
       "10        2    39\n",
       "11        2    28\n",
       "12        2    31\n",
       "13        2    31\n",
       "14        2    29\n",
       "15        2    35\n",
       "16        2    29\n",
       "17        2    33\n",
       "18        3    26\n",
       "19        3    32\n",
       "20        3    21\n",
       "21        3    20\n",
       "22        3    23\n",
       "23        3    22"
      ]
     },
     "execution_count": 23,
     "metadata": {},
     "output_type": "execute_result"
    }
   ],
   "source": [
    "url = 'http://stats191.stanford.edu/data/rehab.csv'\n",
    "rehab_table = pd.read_table(url, delimiter=\",\")\n",
    "rehab_table"
   ]
  },
  {
   "cell_type": "markdown",
   "metadata": {},
   "source": [
    "> To see if the time to rehabilitate an injury is related to the fitness category we do the same as above, but wrapping the predictor in C()."
   ]
  },
  {
   "cell_type": "code",
   "execution_count": 24,
   "metadata": {
    "collapsed": false
   },
   "outputs": [
    {
     "name": "stdout",
     "output_type": "stream",
     "text": [
      "                            OLS Regression Results                            \n",
      "==============================================================================\n",
      "Dep. Variable:                   Time   R-squared:                       0.618\n",
      "Model:                            OLS   Adj. R-squared:                  0.581\n",
      "Method:                 Least Squares   F-statistic:                     16.96\n",
      "Date:                Sat, 26 Nov 2016   Prob (F-statistic):           4.13e-05\n",
      "Time:                        12:25:09   Log-Likelihood:                -68.286\n",
      "No. Observations:                  24   AIC:                             142.6\n",
      "Df Residuals:                      21   BIC:                             146.1\n",
      "Df Model:                           2                                         \n",
      "Covariance Type:            nonrobust                                         \n",
      "===================================================================================\n",
      "                      coef    std err          t      P>|t|      [95.0% Conf. Int.]\n",
      "-----------------------------------------------------------------------------------\n",
      "Intercept          38.0000      1.574     24.149      0.000        34.728    41.272\n",
      "C(Fitness)[T.2]    -6.0000      2.111     -2.842      0.010       -10.390    -1.610\n",
      "C(Fitness)[T.3]   -14.0000      2.404     -5.824      0.000       -18.999    -9.001\n",
      "==============================================================================\n",
      "Omnibus:                        0.163   Durbin-Watson:                   2.209\n",
      "Prob(Omnibus):                  0.922   Jarque-Bera (JB):                0.211\n",
      "Skew:                          -0.163   Prob(JB):                        0.900\n",
      "Kurtosis:                       2.675   Cond. No.                         3.80\n",
      "==============================================================================\n",
      "\n",
      "Warnings:\n",
      "[1] Standard Errors assume that the covariance matrix of the errors is correctly specified.\n"
     ]
    }
   ],
   "source": [
    "results = smf.ols('Time ~ C(Fitness)', rehab_table).fit()\n",
    "print(results.summary())"
   ]
  },
  {
   "cell_type": "markdown",
   "metadata": {},
   "source": [
    "While all of the information that we want is technically present in this table, we typically want it presented in more standard fashion for ANOVA. We can do this using the anova_lm function."
   ]
  },
  {
   "cell_type": "code",
   "execution_count": 25,
   "metadata": {
    "collapsed": false
   },
   "outputs": [
    {
     "data": {
      "text/html": [
       "<div>\n",
       "<table border=\"1\" class=\"dataframe\">\n",
       "  <thead>\n",
       "    <tr style=\"text-align: right;\">\n",
       "      <th></th>\n",
       "      <th>df</th>\n",
       "      <th>sum_sq</th>\n",
       "      <th>mean_sq</th>\n",
       "      <th>F</th>\n",
       "      <th>PR(&gt;F)</th>\n",
       "    </tr>\n",
       "  </thead>\n",
       "  <tbody>\n",
       "    <tr>\n",
       "      <th>C(Fitness)</th>\n",
       "      <td>2.0</td>\n",
       "      <td>672.0</td>\n",
       "      <td>336.000000</td>\n",
       "      <td>16.961538</td>\n",
       "      <td>0.000041</td>\n",
       "    </tr>\n",
       "    <tr>\n",
       "      <th>Residual</th>\n",
       "      <td>21.0</td>\n",
       "      <td>416.0</td>\n",
       "      <td>19.809524</td>\n",
       "      <td>NaN</td>\n",
       "      <td>NaN</td>\n",
       "    </tr>\n",
       "  </tbody>\n",
       "</table>\n",
       "</div>"
      ],
      "text/plain": [
       "              df  sum_sq     mean_sq          F    PR(>F)\n",
       "C(Fitness)   2.0   672.0  336.000000  16.961538  0.000041\n",
       "Residual    21.0   416.0   19.809524        NaN       NaN"
      ]
     },
     "execution_count": 25,
     "metadata": {},
     "output_type": "execute_result"
    }
   ],
   "source": [
    "from statsmodels.stats.anova import anova_lm\n",
    "\n",
    "anova_lm(results)"
   ]
  },
  {
   "cell_type": "markdown",
   "metadata": {},
   "source": [
    "### And lots more\n",
    "\n",
    "Statsmodels includes much more advanced functionality including:\n",
    "\n",
    "* Generalized Least Squares (i.e., correlated error structures such as for spatial and comparative analysis)\n",
    "* Generalized Linear Models (i.e., non-normal error)\n",
    "* Robust Linear Models\n",
    "* Regression with Discrete Dependent Variable (e.g., logistic regression)\n",
    "* Time Series analysis"
   ]
  }
 ],
 "metadata": {
  "anaconda-cloud": {},
  "kernelspec": {
   "display_name": "Python [default]",
   "language": "python",
   "name": "python3"
  },
  "language_info": {
   "codemirror_mode": {
    "name": "ipython",
    "version": 3
   },
   "file_extension": ".py",
   "mimetype": "text/x-python",
   "name": "python",
   "nbconvert_exporter": "python",
   "pygments_lexer": "ipython3",
   "version": "3.5.2"
  }
 },
 "nbformat": 4,
 "nbformat_minor": 1
}
