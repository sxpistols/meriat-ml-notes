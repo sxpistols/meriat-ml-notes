{
 "cells": [
  {
   "cell_type": "markdown",
   "metadata": {
    "collapsed": true
   },
   "source": [
    "# TensorFlow Linear Regression Hyperparameters"
   ]
  },
  {
   "cell_type": "markdown",
   "metadata": {},
   "source": [
    "## Creating Data with 1 million points"
   ]
  },
  {
   "cell_type": "code",
   "execution_count": 1,
   "metadata": {
    "collapsed": false
   },
   "outputs": [
    {
     "data": {
      "text/plain": [
       "'1.3.0'"
      ]
     },
     "execution_count": 1,
     "metadata": {},
     "output_type": "execute_result"
    }
   ],
   "source": [
    "import tensorflow as tf\n",
    "tf.__version__"
   ]
  },
  {
   "cell_type": "code",
   "execution_count": 2,
   "metadata": {
    "collapsed": true
   },
   "outputs": [],
   "source": [
    "import numpy as np\n",
    "import pandas as pd\n",
    "import matplotlib.pyplot as plt\n",
    "%matplotlib inline"
   ]
  },
  {
   "cell_type": "code",
   "execution_count": 3,
   "metadata": {
    "collapsed": true
   },
   "outputs": [],
   "source": [
    "# 1 Million Points spaced between 0 and 10\n",
    "x_data = np.linspace(0.0,10.0,1000000)"
   ]
  },
  {
   "cell_type": "code",
   "execution_count": 4,
   "metadata": {
    "collapsed": true
   },
   "outputs": [],
   "source": [
    "noise = np.random.randn(len(x_data))"
   ]
  },
  {
   "cell_type": "code",
   "execution_count": 5,
   "metadata": {
    "collapsed": true
   },
   "outputs": [],
   "source": [
    "# y = mx + b + noise_levels\n",
    "m_true=0.5\n",
    "b_true = 5\n",
    "\n",
    "y_true =  (m_true * x_data ) + b_true + noise"
   ]
  },
  {
   "cell_type": "markdown",
   "metadata": {},
   "source": [
    "### Create a DataFrame with the data"
   ]
  },
  {
   "cell_type": "code",
   "execution_count": 6,
   "metadata": {
    "collapsed": true
   },
   "outputs": [],
   "source": [
    "my_data = pd.concat([pd.DataFrame(data=x_data,columns=['X Data']),pd.DataFrame(data=y_true,columns=['Y'])],axis=1)"
   ]
  },
  {
   "cell_type": "code",
   "execution_count": 7,
   "metadata": {
    "collapsed": false
   },
   "outputs": [
    {
     "data": {
      "text/html": [
       "<div>\n",
       "<style>\n",
       "    .dataframe thead tr:only-child th {\n",
       "        text-align: right;\n",
       "    }\n",
       "\n",
       "    .dataframe thead th {\n",
       "        text-align: left;\n",
       "    }\n",
       "\n",
       "    .dataframe tbody tr th {\n",
       "        vertical-align: top;\n",
       "    }\n",
       "</style>\n",
       "<table border=\"1\" class=\"dataframe\">\n",
       "  <thead>\n",
       "    <tr style=\"text-align: right;\">\n",
       "      <th></th>\n",
       "      <th>X Data</th>\n",
       "      <th>Y</th>\n",
       "    </tr>\n",
       "  </thead>\n",
       "  <tbody>\n",
       "    <tr>\n",
       "      <th>0</th>\n",
       "      <td>0.00000</td>\n",
       "      <td>5.771066</td>\n",
       "    </tr>\n",
       "    <tr>\n",
       "      <th>1</th>\n",
       "      <td>0.00001</td>\n",
       "      <td>7.357846</td>\n",
       "    </tr>\n",
       "    <tr>\n",
       "      <th>2</th>\n",
       "      <td>0.00002</td>\n",
       "      <td>6.022716</td>\n",
       "    </tr>\n",
       "    <tr>\n",
       "      <th>3</th>\n",
       "      <td>0.00003</td>\n",
       "      <td>4.349052</td>\n",
       "    </tr>\n",
       "    <tr>\n",
       "      <th>4</th>\n",
       "      <td>0.00004</td>\n",
       "      <td>2.972465</td>\n",
       "    </tr>\n",
       "  </tbody>\n",
       "</table>\n",
       "</div>"
      ],
      "text/plain": [
       "    X Data         Y\n",
       "0  0.00000  5.771066\n",
       "1  0.00001  7.357846\n",
       "2  0.00002  6.022716\n",
       "3  0.00003  4.349052\n",
       "4  0.00004  2.972465"
      ]
     },
     "execution_count": 7,
     "metadata": {},
     "output_type": "execute_result"
    }
   ],
   "source": [
    "my_data.head()"
   ]
  },
  {
   "cell_type": "markdown",
   "metadata": {},
   "source": [
    "### Sample 250 random points and plot (not the entire dataset because that will take too much time)"
   ]
  },
  {
   "cell_type": "code",
   "execution_count": 8,
   "metadata": {
    "collapsed": false
   },
   "outputs": [
    {
     "data": {
      "text/plain": [
       "<matplotlib.axes._subplots.AxesSubplot at 0x187ba52e588>"
      ]
     },
     "execution_count": 8,
     "metadata": {},
     "output_type": "execute_result"
    },
    {
     "data": {
      "image/png": "[encoded data removed]",
      "text/plain": [
       "<matplotlib.figure.Figure at 0x187b9577048>"
      ]
     },
     "metadata": {},
     "output_type": "display_data"
    }
   ],
   "source": [
    "my_data.sample(n=250).plot(kind='scatter',x='X Data',y='Y')"
   ]
  },
  {
   "cell_type": "markdown",
   "metadata": {},
   "source": [
    "## tf.estimator API"
   ]
  },
  {
   "cell_type": "markdown",
   "metadata": {},
   "source": [
    "### Define a feature column and the estimator object containing it (ignore any warning message)"
   ]
  },
  {
   "cell_type": "code",
   "execution_count": 9,
   "metadata": {
    "collapsed": true
   },
   "outputs": [],
   "source": [
    "feat_cols = [tf.feature_column.numeric_column('x',shape=[1])]"
   ]
  },
  {
   "cell_type": "code",
   "execution_count": 78,
   "metadata": {
    "collapsed": false
   },
   "outputs": [
    {
     "name": "stdout",
     "output_type": "stream",
     "text": [
      "INFO:tensorflow:Using default config.\n",
      "WARNING:tensorflow:Using temporary folder as model directory: C:\\Users\\Tirtha\\AppData\\Local\\Temp\\tmpl9yb_a04\n",
      "INFO:tensorflow:Using config: {'_model_dir': 'C:\\\\Users\\\\Tirtha\\\\AppData\\\\Local\\\\Temp\\\\tmpl9yb_a04', '_tf_random_seed': 1, '_save_summary_steps': 100, '_save_checkpoints_secs': 600, '_save_checkpoints_steps': None, '_session_config': None, '_keep_checkpoint_max': 5, '_keep_checkpoint_every_n_hours': 10000, '_log_step_count_steps': 100}\n"
     ]
    }
   ],
   "source": [
    "estimator = tf.estimator.LinearRegressor(feature_columns=feat_cols)"
   ]
  },
  {
   "cell_type": "markdown",
   "metadata": {},
   "source": [
    "### Train/Test Split using scikit-learn"
   ]
  },
  {
   "cell_type": "code",
   "execution_count": 11,
   "metadata": {
    "collapsed": true
   },
   "outputs": [],
   "source": [
    "from sklearn.model_selection import train_test_split"
   ]
  },
  {
   "cell_type": "code",
   "execution_count": 12,
   "metadata": {
    "collapsed": true
   },
   "outputs": [],
   "source": [
    "x_train, x_eval, y_train, y_eval = train_test_split(x_data,y_true,test_size=0.3, random_state = 101)"
   ]
  },
  {
   "cell_type": "code",
   "execution_count": 13,
   "metadata": {
    "collapsed": false
   },
   "outputs": [
    {
     "name": "stdout",
     "output_type": "stream",
     "text": [
      "(700000,)\n",
      "(700000,)\n",
      "(300000,)\n",
      "(300000,)\n"
     ]
    }
   ],
   "source": [
    "print(x_train.shape)\n",
    "print(y_train.shape)\n",
    "\n",
    "print(x_eval.shape)\n",
    "print(y_eval.shape)"
   ]
  },
  {
   "cell_type": "markdown",
   "metadata": {},
   "source": [
    "### Set up Estimator Inputs"
   ]
  },
  {
   "cell_type": "code",
   "execution_count": 79,
   "metadata": {
    "collapsed": true
   },
   "outputs": [],
   "source": [
    "def get_input_fn_from_numpy(x_data,y_data=None, batch_size=4,num_epochs=None, shuffle=True):\n",
    "  return tf.estimator.inputs.numpy_input_fn(\n",
    "      x={'x':x_data},\n",
    "      y=y_data,\n",
    "      batch_size=batch_size,\n",
    "      num_epochs=num_epochs,\n",
    "      shuffle=shuffle)"
   ]
  },
  {
   "cell_type": "markdown",
   "metadata": {},
   "source": [
    "### Train the Estimator with small number of steps (say 10)"
   ]
  },
  {
   "cell_type": "code",
   "execution_count": 80,
   "metadata": {
    "collapsed": false
   },
   "outputs": [
    {
     "name": "stdout",
     "output_type": "stream",
     "text": [
      "INFO:tensorflow:Create CheckpointSaverHook.\n",
      "INFO:tensorflow:Saving checkpoints for 1 into C:\\Users\\Tirtha\\AppData\\Local\\Temp\\tmpl9yb_a04\\model.ckpt.\n",
      "INFO:tensorflow:loss = 294.229, step = 1\n",
      "INFO:tensorflow:Saving checkpoints for 10 into C:\\Users\\Tirtha\\AppData\\Local\\Temp\\tmpl9yb_a04\\model.ckpt.\n",
      "INFO:tensorflow:Loss for final step: 64.1237.\n"
     ]
    },
    {
     "data": {
      "text/plain": [
       "<tensorflow.python.estimator.canned.linear.LinearRegressor at 0x187c3ef03c8>"
      ]
     },
     "execution_count": 80,
     "metadata": {},
     "output_type": "execute_result"
    }
   ],
   "source": [
    "estimator.train(input_fn=get_input_fn_from_numpy(x_train,y_train, shuffle=True),steps=10)"
   ]
  },
  {
   "cell_type": "markdown",
   "metadata": {},
   "source": [
    "### Predictions and plotting the fitted line (it is likely to be a bad fit)"
   ]
  },
  {
   "cell_type": "code",
   "execution_count": 81,
   "metadata": {
    "collapsed": false
   },
   "outputs": [
    {
     "name": "stdout",
     "output_type": "stream",
     "text": [
      "INFO:tensorflow:Restoring parameters from C:\\Users\\Tirtha\\AppData\\Local\\Temp\\tmpl9yb_a04\\model.ckpt-10\n"
     ]
    }
   ],
   "source": [
    "input_fn_predict = tf.estimator.inputs.numpy_input_fn({'x':np.linspace(0,10,10)},shuffle=False)\n",
    "predictions = []\n",
    "for x in estimator.predict(input_fn=input_fn_predict):\n",
    "    predictions.append(x['predictions'])"
   ]
  },
  {
   "cell_type": "code",
   "execution_count": 82,
   "metadata": {
    "collapsed": false
   },
   "outputs": [],
   "source": [
    "predictions=np.array(predictions)"
   ]
  },
  {
   "cell_type": "code",
   "execution_count": 86,
   "metadata": {
    "collapsed": false
   },
   "outputs": [
    {
     "data": {
      "text/plain": [
       "[<matplotlib.lines.Line2D at 0x187c25c0c50>]"
      ]
     },
     "execution_count": 86,
     "metadata": {},
     "output_type": "execute_result"
    },
    {
     "data": {
      "image/png": "[encoded data removed]",
      "text/plain": [
       "<matplotlib.figure.Figure at 0x187c2a4ce48>"
      ]
     },
     "metadata": {},
     "output_type": "display_data"
    }
   ],
   "source": [
    "my_data.sample(n=250).plot(kind='scatter',x='X Data',y='Y')\n",
    "plt.plot(np.linspace(0,10,10),predictions,'r--',lw=3)"
   ]
  },
  {
   "cell_type": "markdown",
   "metadata": {},
   "source": [
    "### Calculating the slope of the predicted line by least-square fit"
   ]
  },
  {
   "cell_type": "code",
   "execution_count": 89,
   "metadata": {
    "collapsed": false
   },
   "outputs": [
    {
     "name": "stdout",
     "output_type": "stream",
     "text": [
      "Slope of the fitted line: 0.672\n",
      "Intercept of the fitted line: 0.809\n",
      "Remember the true slope is 0.5 and true intercept is 5\n"
     ]
    }
   ],
   "source": [
    "def linear_model(predictions):\n",
    "    \n",
    "    x=np.linspace(0,10,10)\n",
    "    y=predictions\n",
    "    A = np.vstack([x, np.ones(len(x))]).T\n",
    "    m, c = np.linalg.lstsq(A, y)[0]\n",
    "    return (m,c)\n",
    "\n",
    "m,c = linear_model(predictions)\n",
    "\n",
    "print(\"Slope of the fitted line:\", round(float(m),3))\n",
    "print(\"Intercept of the fitted line:\", round(float(c),3))\n",
    "print(\"Remember the true slope is 0.5 and true intercept is 5\")"
   ]
  },
  {
   "cell_type": "markdown",
   "metadata": {},
   "source": [
    "## Hyperparameters: Batch size, training steps, num_epochs"
   ]
  },
  {
   "cell_type": "markdown",
   "metadata": {},
   "source": [
    "### Increasing the training steps"
   ]
  },
  {
   "cell_type": "code",
   "execution_count": null,
   "metadata": {
    "collapsed": false
   },
   "outputs": [],
   "source": [
    "step_n = [1,2,5,10,15,20,35,50,75,100,200,300,500,700,1000,1200,1500,2000]\n",
    "slope_n=[]\n",
    "intercept_n=[]\n",
    "estimator = tf.estimator.LinearRegressor(feature_columns=feat_cols)\n",
    "for i in step_n:\n",
    "    \n",
    "    estimator.train(input_fn=get_input_fn_from_numpy(x_train,y_train, shuffle=True),steps=i)\n",
    "    predictions = []\n",
    "    for x in estimator.predict(input_fn=input_fn_predict):\n",
    "        predictions.append(x['predictions'])\n",
    "\n",
    "    m,c = linear_model(predictions)\n",
    "    slope_n.append(m)\n",
    "    intercept_n.append(c)"
   ]
  },
  {
   "cell_type": "code",
   "execution_count": 62,
   "metadata": {
    "collapsed": false
   },
   "outputs": [
    {
     "data": {
      "text/plain": [
       "[<matplotlib.lines.Line2D at 0x187c26e1080>]"
      ]
     },
     "execution_count": 62,
     "metadata": {},
     "output_type": "execute_result"
    },
    {
     "data": {
      "image/png": "[encoded data removed]",
      "text/plain": [
       "<matplotlib.figure.Figure at 0x187c2096748>"
      ]
     },
     "metadata": {},
     "output_type": "display_data"
    },
    {
     "data": {
      "image/png": "[encoded data removed]",
      "text/plain": [
       "<matplotlib.figure.Figure at 0x187c02ef8d0>"
      ]
     },
     "metadata": {},
     "output_type": "display_data"
    }
   ],
   "source": [
    "plt.xlabel(\"Number of training steps\")\n",
    "plt.ylabel(\"Slope\")\n",
    "plt.plot(step_n,slope_n)\n",
    "plt.figure()\n",
    "plt.xlabel(\"Number of training steps\")\n",
    "plt.ylabel(\"Intercept\")\n",
    "plt.plot(step_n,intercept_n,lw=5)"
   ]
  },
  {
   "cell_type": "markdown",
   "metadata": {},
   "source": [
    "### Varying training steps with large batch size"
   ]
  },
  {
   "cell_type": "code",
   "execution_count": null,
   "metadata": {
    "collapsed": false
   },
   "outputs": [],
   "source": [
    "step_n = [1,2,5,10,15,20,35,50,75,100,200,300,500,700,1000,1200,1500,2000]\n",
    "slope_large_batch=[]\n",
    "intercept_large_batch=[]\n",
    "estimator = tf.estimator.LinearRegressor(feature_columns=feat_cols)\n",
    "for i in step_n:\n",
    "    \n",
    "    estimator.train(input_fn=get_input_fn_from_numpy(x_train,y_train, batch_size=100,shuffle=True),steps=i)\n",
    "    predictions = []\n",
    "    for x in estimator.predict(input_fn=input_fn_predict):\n",
    "        predictions.append(x['predictions'])\n",
    "\n",
    "    m,c = linear_model(predictions)\n",
    "    slope_large_batch.append(m)\n",
    "    intercept_large_batch.append(c)"
   ]
  },
  {
   "cell_type": "code",
   "execution_count": 69,
   "metadata": {
    "collapsed": false
   },
   "outputs": [
    {
     "data": {
      "text/plain": [
       "[<matplotlib.lines.Line2D at 0x187c2234978>]"
      ]
     },
     "execution_count": 69,
     "metadata": {},
     "output_type": "execute_result"
    },
    {
     "data": {
      "image/png": "[encoded data removed]",
      "text/plain": [
       "<matplotlib.figure.Figure at 0x187c29adc50>"
      ]
     },
     "metadata": {},
     "output_type": "display_data"
    },
    {
     "data": {
      "image/png": "[encoded data removed]",
      "text/plain": [
       "<matplotlib.figure.Figure at 0x187c2afed30>"
      ]
     },
     "metadata": {},
     "output_type": "display_data"
    }
   ],
   "source": [
    "plt.figure()\n",
    "plt.xlabel(\"Number of training steps\")\n",
    "plt.ylabel(\"Slope\")\n",
    "plt.plot(step_n,slope_n,'r-',lw=3)\n",
    "plt.plot(step_n,slope_large_batch,lw=4)\n",
    "plt.figure()\n",
    "plt.xlabel(\"Number of training steps\")\n",
    "plt.ylabel(\"Intercept\")\n",
    "plt.plot(step_n,intercept_n,'r-',lw=3)\n",
    "plt.plot(step_n,intercept_large_batch,lw=4)"
   ]
  },
  {
   "cell_type": "markdown",
   "metadata": {},
   "source": [
    "### Varying training steps with different *num_epochs*"
   ]
  },
  {
   "cell_type": "code",
   "execution_count": null,
   "metadata": {
    "collapsed": false
   },
   "outputs": [],
   "source": [
    "step_n = [1,2,5,10,15,20,35,50,75,100,200,300,500,700,1000,1200,1500,2000]\n",
    "slope_small_epoch=[]\n",
    "intercept_small_epoch=[]\n",
    "estimator = tf.estimator.LinearRegressor(feature_columns=feat_cols)\n",
    "for i in step_n:\n",
    "    \n",
    "    estimator.train(input_fn=get_input_fn_from_numpy(x_train,y_train, num_epochs=5,shuffle=True),steps=i)\n",
    "    predictions = []\n",
    "    for x in estimator.predict(input_fn=input_fn_predict):\n",
    "        predictions.append(x['predictions'])\n",
    "\n",
    "    m,c = linear_model(predictions)\n",
    "    slope_small_epoch.append(m)\n",
    "    intercept_small_epoch.append(c)"
   ]
  },
  {
   "cell_type": "code",
   "execution_count": null,
   "metadata": {
    "collapsed": false
   },
   "outputs": [],
   "source": [
    "step_n = [1,2,5,10,15,20,35,50,75,100,200,300,500,700,1000,1200,1500,2000]\n",
    "slope_large_epoch=[]\n",
    "intercept_large_epoch=[]\n",
    "estimator = tf.estimator.LinearRegressor(feature_columns=feat_cols)\n",
    "for i in step_n:\n",
    "    \n",
    "    estimator.train(input_fn=get_input_fn_from_numpy(x_train,y_train, num_epochs=500,shuffle=True),steps=i)\n",
    "    predictions = []\n",
    "    for x in estimator.predict(input_fn=input_fn_predict):\n",
    "        predictions.append(x['predictions'])\n",
    "\n",
    "    m,c = linear_model(predictions)\n",
    "    slope_large_epoch.append(m)\n",
    "    intercept_large_epoch.append(c)"
   ]
  },
  {
   "cell_type": "code",
   "execution_count": 72,
   "metadata": {
    "collapsed": false
   },
   "outputs": [
    {
     "data": {
      "text/plain": [
       "[<matplotlib.lines.Line2D at 0x187c27f5518>]"
      ]
     },
     "execution_count": 72,
     "metadata": {},
     "output_type": "execute_result"
    },
    {
     "data": {
      "image/png": "[encoded data removed]",
      "text/plain": [
       "<matplotlib.figure.Figure at 0x187c27626d8>"
      ]
     },
     "metadata": {},
     "output_type": "display_data"
    },
    {
     "data": {
      "image/png": "[encoded data removed]",
      "text/plain": [
       "<matplotlib.figure.Figure at 0x187c299dc88>"
      ]
     },
     "metadata": {},
     "output_type": "display_data"
    }
   ],
   "source": [
    "plt.figure()\n",
    "plt.xlabel(\"Number of training steps\")\n",
    "plt.ylabel(\"Slope\")\n",
    "plt.plot(step_n,slope_small_epoch,'r-',lw=3)\n",
    "plt.plot(step_n,slope_large_epoch,lw=4)\n",
    "plt.figure()\n",
    "plt.xlabel(\"Number of training steps\")\n",
    "plt.ylabel(\"Intercept\")\n",
    "plt.plot(step_n,intercept_small_epoch,'r-',lw=3)\n",
    "plt.plot(step_n,intercept_large_epoch,lw=4)"
   ]
  },
  {
   "cell_type": "markdown",
   "metadata": {},
   "source": [
    "### For the simple linear regression with standard normal noise, batch size or number of epochs do not make a difference in the quality of predictor. Only training steps matter"
   ]
  }
 ],
 "metadata": {
  "kernelspec": {
   "display_name": "Python 3",
   "language": "python",
   "name": "python3"
  },
  "language_info": {
   "codemirror_mode": {
    "name": "ipython",
    "version": 3
   },
   "file_extension": ".py",
   "mimetype": "text/x-python",
   "name": "python",
   "nbconvert_exporter": "python",
   "pygments_lexer": "ipython3",
   "version": "3.6.2"
  }
 },
 "nbformat": 4,
 "nbformat_minor": 2
}
