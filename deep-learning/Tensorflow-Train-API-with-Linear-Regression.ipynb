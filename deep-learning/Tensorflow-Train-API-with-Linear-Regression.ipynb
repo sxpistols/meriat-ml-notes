{
 "cells": [
  {
   "cell_type": "markdown",
   "metadata": {},
   "source": [
    "# Using TensorFlow framework (tf.train API) with a linear regression example"
   ]
  },
  {
   "cell_type": "code",
   "execution_count": 1,
   "metadata": {
    "collapsed": true
   },
   "outputs": [],
   "source": [
    "import numpy as np\n",
    "import tensorflow as tf\n",
    "import matplotlib.pyplot as plt\n",
    "%matplotlib inline"
   ]
  },
  {
   "cell_type": "markdown",
   "metadata": {},
   "source": [
    "** Set Random Seeds for same results **"
   ]
  },
  {
   "cell_type": "code",
   "execution_count": 2,
   "metadata": {
    "collapsed": true
   },
   "outputs": [],
   "source": [
    "np.random.seed(101)\n",
    "tf.set_random_seed(101)"
   ]
  },
  {
   "cell_type": "markdown",
   "metadata": {},
   "source": [
    "** Data Setup **"
   ]
  },
  {
   "cell_type": "markdown",
   "metadata": {},
   "source": [
    "Setting Up some Random Data for Demonstration Purposes"
   ]
  },
  {
   "cell_type": "code",
   "execution_count": 3,
   "metadata": {
    "collapsed": false
   },
   "outputs": [
    {
     "data": {
      "text/plain": [
       "array([[ 51.63986277,  57.06675869,   2.84742265,  17.15216562,\n",
       "         68.52769817],\n",
       "       [ 83.38968626,  30.69662197,  89.36130797,  72.15438618,\n",
       "         18.99389542],\n",
       "       [ 55.42275911,  35.2131954 ,  18.18924027,  78.56017619,\n",
       "         96.54832224],\n",
       "       [ 23.23536618,   8.35614337,  60.35484223,  72.89927573,\n",
       "         27.62388285],\n",
       "       [ 68.53063288,  51.78674742,   4.84845374,  13.78692376,\n",
       "         18.69674261]])"
      ]
     },
     "execution_count": 3,
     "metadata": {},
     "output_type": "execute_result"
    }
   ],
   "source": [
    "rand_a = np.random.uniform(0,100,(5,5))\n",
    "rand_a"
   ]
  },
  {
   "cell_type": "code",
   "execution_count": 4,
   "metadata": {
    "collapsed": false
   },
   "outputs": [
    {
     "data": {
      "text/plain": [
       "array([[ 99.43179012],\n",
       "       [ 52.06653967],\n",
       "       [ 57.87895355],\n",
       "       [ 73.48190583],\n",
       "       [ 54.19617722]])"
      ]
     },
     "execution_count": 4,
     "metadata": {},
     "output_type": "execute_result"
    }
   ],
   "source": [
    "rand_b = np.random.uniform(0,100,(5,1))\n",
    "rand_b"
   ]
  },
  {
   "cell_type": "code",
   "execution_count": 5,
   "metadata": {
    "collapsed": true
   },
   "outputs": [],
   "source": [
    "# CONFIRM SAME  RANDOM NUMBERS (EXECUTE SEED IN SAME CELL!) Watch video for explanation\n",
    "np.random.seed(101)\n",
    "rand_a = np.random.uniform(0,100,(5,5))\n",
    "rand_b = np.random.uniform(0,100,(5,1))"
   ]
  },
  {
   "cell_type": "markdown",
   "metadata": {},
   "source": [
    "### Placeholders"
   ]
  },
  {
   "cell_type": "code",
   "execution_count": 6,
   "metadata": {
    "collapsed": true
   },
   "outputs": [],
   "source": [
    "a = tf.placeholder(tf.float32)\n",
    "b = tf.placeholder(tf.float32)"
   ]
  },
  {
   "cell_type": "markdown",
   "metadata": {},
   "source": [
    "### Operations"
   ]
  },
  {
   "cell_type": "code",
   "execution_count": 7,
   "metadata": {
    "collapsed": true
   },
   "outputs": [],
   "source": [
    "add_op = a+b # tf.add(a,b)\n",
    "mult_op = a*b #tf.multiply(a,b)"
   ]
  },
  {
   "cell_type": "markdown",
   "metadata": {},
   "source": [
    "### Running Sessions  to create Graphs with Feed Dictionaries"
   ]
  },
  {
   "cell_type": "code",
   "execution_count": 8,
   "metadata": {
    "collapsed": false
   },
   "outputs": [
    {
     "name": "stdout",
     "output_type": "stream",
     "text": [
      "[[ 151.07165527  156.49855042  102.27921295  116.58396149  167.95948792]\n",
      " [ 135.45622253   82.76316071  141.42784119  124.22093201   71.06043243]\n",
      " [ 113.30171204   93.09214783   76.06819153  136.43911743  154.42727661]\n",
      " [  96.7172699    81.83804321  133.83674622  146.38117981  101.10578918]\n",
      " [ 122.72680664  105.98292542   59.04463196   67.98310089   72.89292145]]\n",
      "\n",
      "\n",
      "[[ 5134.64404297  5674.25         283.12432861  1705.47070312\n",
      "   6813.83154297]\n",
      " [ 4341.8125      1598.26696777  4652.73388672  3756.8293457    988.9463501 ]\n",
      " [ 3207.8112793   2038.10290527  1052.77416992  4546.98046875\n",
      "   5588.11572266]\n",
      " [ 1707.37902832   614.02526855  4434.98876953  5356.77734375\n",
      "   2029.85546875]\n",
      " [ 3714.09838867  2806.64379883   262.76763916   747.19854736\n",
      "   1013.29199219]]\n"
     ]
    }
   ],
   "source": [
    "with tf.Session() as sess:\n",
    "    add_result = sess.run(add_op,feed_dict={a:rand_a,b:rand_b})\n",
    "    print(add_result)\n",
    "    \n",
    "    print('\\n')\n",
    "    \n",
    "    mult_result = sess.run(mult_op,feed_dict={a:rand_a,b:rand_b})\n",
    "    print(mult_result)"
   ]
  },
  {
   "cell_type": "markdown",
   "metadata": {},
   "source": [
    "## Example Neural Network"
   ]
  },
  {
   "cell_type": "code",
   "execution_count": 9,
   "metadata": {
    "collapsed": true
   },
   "outputs": [],
   "source": [
    "n_features = 10\n",
    "n_dense_neurons = 3"
   ]
  },
  {
   "cell_type": "code",
   "execution_count": 10,
   "metadata": {
    "collapsed": true
   },
   "outputs": [],
   "source": [
    "# Placeholder for x\n",
    "x = tf.placeholder(tf.float32,(None,n_features))"
   ]
  },
  {
   "cell_type": "code",
   "execution_count": 11,
   "metadata": {
    "collapsed": true
   },
   "outputs": [],
   "source": [
    "# Variables for w and b\n",
    "b = tf.Variable(tf.zeros([n_dense_neurons]))\n",
    "\n",
    "W = tf.Variable(tf.random_normal([n_features,n_dense_neurons]))"
   ]
  },
  {
   "cell_type": "markdown",
   "metadata": {},
   "source": [
    "** Operation Activation Function **"
   ]
  },
  {
   "cell_type": "code",
   "execution_count": 12,
   "metadata": {
    "collapsed": true
   },
   "outputs": [],
   "source": [
    "xW = tf.matmul(x,W)"
   ]
  },
  {
   "cell_type": "code",
   "execution_count": 13,
   "metadata": {
    "collapsed": true
   },
   "outputs": [],
   "source": [
    "z = tf.add(xW,b)"
   ]
  },
  {
   "cell_type": "code",
   "execution_count": 14,
   "metadata": {
    "collapsed": true
   },
   "outputs": [],
   "source": [
    "# tf.nn.relu() or tf.tanh()\n",
    "a = tf.sigmoid(z)"
   ]
  },
  {
   "cell_type": "markdown",
   "metadata": {},
   "source": [
    "** Variable Intializer! **"
   ]
  },
  {
   "cell_type": "code",
   "execution_count": 15,
   "metadata": {
    "collapsed": true
   },
   "outputs": [],
   "source": [
    "init = tf.global_variables_initializer()"
   ]
  },
  {
   "cell_type": "code",
   "execution_count": 16,
   "metadata": {
    "collapsed": true
   },
   "outputs": [],
   "source": [
    "with tf.Session() as sess:\n",
    "    sess.run(init)\n",
    "    \n",
    "    layer_out = sess.run(a,feed_dict={x : np.random.random([1,n_features])})"
   ]
  },
  {
   "cell_type": "code",
   "execution_count": 17,
   "metadata": {
    "collapsed": false
   },
   "outputs": [
    {
     "name": "stdout",
     "output_type": "stream",
     "text": [
      "[[ 0.53415531  0.44564104  0.58426148]]\n"
     ]
    }
   ],
   "source": [
    "print(layer_out)"
   ]
  },
  {
   "cell_type": "markdown",
   "metadata": {},
   "source": [
    "We still need to finish off this process with optimization! Let's learn how to do this next.\n",
    "\n",
    "_____"
   ]
  },
  {
   "cell_type": "markdown",
   "metadata": {},
   "source": [
    "## Full Network Example\n",
    "\n",
    "Let's work on a regression example, we are trying to solve a very simple equation:\n",
    "\n",
    "y = mx + b\n",
    "\n",
    "y will be the y_labels and x is the x_data. We are trying to figure out the slope and the intercept for the line that best fits our data!"
   ]
  },
  {
   "cell_type": "markdown",
   "metadata": {},
   "source": [
    "### Artifical Data (Some Made Up Regression Data with uniform noise)"
   ]
  },
  {
   "cell_type": "code",
   "execution_count": 32,
   "metadata": {
    "collapsed": true
   },
   "outputs": [],
   "source": [
    "n_data = 50"
   ]
  },
  {
   "cell_type": "code",
   "execution_count": 49,
   "metadata": {
    "collapsed": true
   },
   "outputs": [],
   "source": [
    "x_data = np.linspace(0,50,n_data) + np.random.uniform(-5,5,n_data)"
   ]
  },
  {
   "cell_type": "code",
   "execution_count": 50,
   "metadata": {
    "collapsed": true
   },
   "outputs": [],
   "source": [
    "y_label = 0.8*np.linspace(0,50,n_data) + np.random.uniform(-10,10,n_data)"
   ]
  },
  {
   "cell_type": "code",
   "execution_count": 51,
   "metadata": {
    "collapsed": false
   },
   "outputs": [
    {
     "data": {
      "text/plain": [
       "[<matplotlib.lines.Line2D at 0x256123731d0>]"
      ]
     },
     "execution_count": 51,
     "metadata": {},
     "output_type": "execute_result"
    },
    {
     "data": {
      "image/png": "[encoded data removed]",
      "text/plain": [
       "<matplotlib.figure.Figure at 0x2560b5ba9e8>"
      ]
     },
     "metadata": {},
     "output_type": "display_data"
    }
   ],
   "source": [
    "plt.plot(x_data,y_label,'*')"
   ]
  },
  {
   "cell_type": "markdown",
   "metadata": {},
   "source": [
    "#### Variables (slope and intercept) initialized to random values"
   ]
  },
  {
   "cell_type": "code",
   "execution_count": 52,
   "metadata": {
    "collapsed": false
   },
   "outputs": [
    {
     "data": {
      "text/plain": [
       "array([ 0.31537171,  0.90018429])"
      ]
     },
     "execution_count": 52,
     "metadata": {},
     "output_type": "execute_result"
    }
   ],
   "source": [
    "init_rand= np.random.rand(2)\n",
    "init_rand"
   ]
  },
  {
   "cell_type": "code",
   "execution_count": 53,
   "metadata": {
    "collapsed": true
   },
   "outputs": [],
   "source": [
    "m = tf.Variable(init_rand[0])\n",
    "b = tf.Variable(10*init_rand[1])"
   ]
  },
  {
   "cell_type": "markdown",
   "metadata": {},
   "source": [
    "### Cost Function"
   ]
  },
  {
   "cell_type": "code",
   "execution_count": 54,
   "metadata": {
    "collapsed": true
   },
   "outputs": [],
   "source": [
    "error = 0\n",
    "\n",
    "for x,y in zip(x_data,y_label):\n",
    "    \n",
    "    y_hat = m*x + b  #Our predicted value\n",
    "    \n",
    "    error += 0.5*(y-y_hat)**2 # The cost we want to minimize (we'll need to use an optimization function for the minimization!)\n"
   ]
  },
  {
   "cell_type": "markdown",
   "metadata": {},
   "source": [
    "### Optimizer (from *tf.train* API)"
   ]
  },
  {
   "cell_type": "code",
   "execution_count": 55,
   "metadata": {
    "collapsed": true
   },
   "outputs": [],
   "source": [
    "optimizer = tf.train.GradientDescentOptimizer(learning_rate=0.00001)\n",
    "train = optimizer.minimize(error)"
   ]
  },
  {
   "cell_type": "markdown",
   "metadata": {},
   "source": [
    "### Initialize Variables"
   ]
  },
  {
   "cell_type": "code",
   "execution_count": 56,
   "metadata": {
    "collapsed": true
   },
   "outputs": [],
   "source": [
    "init = tf.global_variables_initializer()"
   ]
  },
  {
   "cell_type": "markdown",
   "metadata": {},
   "source": [
    "### Create Session and Run only for 10 epochs!"
   ]
  },
  {
   "cell_type": "code",
   "execution_count": 57,
   "metadata": {
    "collapsed": false,
    "scrolled": false
   },
   "outputs": [],
   "source": [
    "with tf.Session() as sess:\n",
    "    \n",
    "    sess.run(init)\n",
    "    \n",
    "    epochs = 10\n",
    "    \n",
    "    for i in range(epochs):\n",
    "        \n",
    "        sess.run(train)\n",
    "        \n",
    "\n",
    "    # Fetch Back Results\n",
    "    final_slope , final_intercept = sess.run([m,b])\n",
    "    final_error = sess.run(error)"
   ]
  },
  {
   "cell_type": "markdown",
   "metadata": {},
   "source": [
    "### Print the final slope, intercept, and total squared error"
   ]
  },
  {
   "cell_type": "code",
   "execution_count": 58,
   "metadata": {
    "collapsed": false
   },
   "outputs": [
    {
     "name": "stdout",
     "output_type": "stream",
     "text": [
      "Slope 0.523445835868\n",
      "Intercept 8.99523811643\n",
      "Total error 1522.65369509\n"
     ]
    }
   ],
   "source": [
    "print(\"Slope\",final_slope)\n",
    "print(\"Intercept\",final_intercept)\n",
    "print(\"Total error\",final_error)"
   ]
  },
  {
   "cell_type": "markdown",
   "metadata": {},
   "source": [
    "### Plot the fitted line, it will not be a very good fit"
   ]
  },
  {
   "cell_type": "code",
   "execution_count": 59,
   "metadata": {
    "collapsed": false
   },
   "outputs": [
    {
     "data": {
      "text/plain": [
       "[<matplotlib.lines.Line2D at 0x2561066ca20>]"
      ]
     },
     "execution_count": 59,
     "metadata": {},
     "output_type": "execute_result"
    },
    {
     "data": {
      "image/png": "[encoded data removed]",
      "text/plain": [
       "<matplotlib.figure.Figure at 0x2561066ceb8>"
      ]
     },
     "metadata": {},
     "output_type": "display_data"
    }
   ],
   "source": [
    "x_test = np.linspace(-1,60,n_data)\n",
    "y_pred_plot = final_slope*x_test + final_intercept\n",
    "\n",
    "plt.plot(x_test,y_pred_plot,'r')\n",
    "\n",
    "plt.plot(x_data,y_label,'*')"
   ]
  },
  {
   "cell_type": "markdown",
   "metadata": {},
   "source": [
    "### Now increase the number of epochs (runs) to a high value\n",
    "#### Notice the slope being very close to 0.8 (the ground truth) and the intercept being close to zero"
   ]
  },
  {
   "cell_type": "code",
   "execution_count": 60,
   "metadata": {
    "collapsed": false
   },
   "outputs": [
    {
     "name": "stdout",
     "output_type": "stream",
     "text": [
      "Slope 0.783942627267\n",
      "Intercept 0.0853043957984\n",
      "Total error 918.082541189\n"
     ]
    }
   ],
   "source": [
    "with tf.Session() as sess:\n",
    "    \n",
    "    sess.run(init)\n",
    "    \n",
    "    epochs = 20000\n",
    "    \n",
    "    for i in range(epochs):\n",
    "        \n",
    "        sess.run(train)\n",
    "        \n",
    "\n",
    "    # Fetch Back Results\n",
    "    final_slope , final_intercept = sess.run([m,b])\n",
    "    final_error = sess.run(error)\n",
    "\n",
    "print(\"Slope\",final_slope)\n",
    "print(\"Intercept\",final_intercept)\n",
    "print(\"Total error\",final_error)"
   ]
  },
  {
   "cell_type": "markdown",
   "metadata": {},
   "source": [
    "### Now plot the better fit line"
   ]
  },
  {
   "cell_type": "code",
   "execution_count": 61,
   "metadata": {
    "collapsed": false
   },
   "outputs": [
    {
     "data": {
      "text/plain": [
       "[<matplotlib.lines.Line2D at 0x256171ba198>]"
      ]
     },
     "execution_count": 61,
     "metadata": {},
     "output_type": "execute_result"
    },
    {
     "data": {
      "image/png": "[encoded data removed]",
      "text/plain": [
       "<matplotlib.figure.Figure at 0x256122f89b0>"
      ]
     },
     "metadata": {},
     "output_type": "display_data"
    }
   ],
   "source": [
    "x_test = np.linspace(-1,60,n_data)\n",
    "y_pred_plot = final_slope*x_test + final_intercept\n",
    "\n",
    "plt.plot(x_test,y_pred_plot,'g')\n",
    "\n",
    "plt.plot(x_data,y_label,'*')"
   ]
  },
  {
   "cell_type": "markdown",
   "metadata": {},
   "source": [
    "## Now, how do you decide number of epochs to run"
   ]
  },
  {
   "cell_type": "markdown",
   "metadata": {
    "collapsed": true
   },
   "source": [
    "### Increase the number of epochs in a loop and plot the total squared error"
   ]
  },
  {
   "cell_type": "markdown",
   "metadata": {},
   "source": [
    "### WARNING: The following code box takes a bit of time to run as it loops through the epochs. Please give it some time to finish, sit back, and relax."
   ]
  },
  {
   "cell_type": "code",
   "execution_count": 62,
   "metadata": {
    "collapsed": false
   },
   "outputs": [
    {
     "name": "stdout",
     "output_type": "stream",
     "text": [
      "Run number: 1\n",
      "Run number: 2\n",
      "Run number: 3\n",
      "Run number: 4\n",
      "Run number: 5\n",
      "Run number: 6\n",
      "Run number: 7\n",
      "Run number: 8\n",
      "Run number: 9\n",
      "Run number: 10\n",
      "Run number: 11\n",
      "Run number: 12\n",
      "Run number: 13\n",
      "Run number: 14\n",
      "Run number: 15\n",
      "Run number: 16\n",
      "Run number: 17\n",
      "Run number: 18\n",
      "Run number: 19\n",
      "Run number: 20\n",
      "Run number: 21\n"
     ]
    },
    {
     "data": {
      "text/plain": [
       "[<matplotlib.lines.Line2D at 0x25617f46780>]"
      ]
     },
     "execution_count": 62,
     "metadata": {},
     "output_type": "execute_result"
    },
    {
     "data": {
      "image/png": "[encoded data removed]",
      "text/plain": [
       "<matplotlib.figure.Figure at 0x25615530e10>"
      ]
     },
     "metadata": {},
     "output_type": "display_data"
    }
   ],
   "source": [
    "error_queue = []\n",
    "n_epochs = []\n",
    "max_epochs = 20000\n",
    "for i in range (1,max_epochs+2,1000):\n",
    "    with tf.Session() as sess:\n",
    "    \n",
    "        sess.run(init)\n",
    "        epochs = i\n",
    "        for j in range(epochs):\n",
    "            sess.run(train)\n",
    "     \n",
    "        # Fetch Back Results\n",
    "        final_slope , final_intercept = sess.run([m,b])\n",
    "        final_error = sess.run(error)\n",
    "        error_queue.append(final_error)\n",
    "        n_epochs.append(i)\n",
    "    print(\"Run number:\",int(i/1000)+1)\n",
    "plt.plot(n_epochs,error_queue,linewidth=3)"
   ]
  }
 ],
 "metadata": {
  "kernelspec": {
   "display_name": "Python 3",
   "language": "python",
   "name": "python3"
  },
  "language_info": {
   "codemirror_mode": {
    "name": "ipython",
    "version": 3
   },
   "file_extension": ".py",
   "mimetype": "text/x-python",
   "name": "python",
   "nbconvert_exporter": "python",
   "pygments_lexer": "ipython3",
   "version": "3.6.0"
  }
 },
 "nbformat": 4,
 "nbformat_minor": 2
}
