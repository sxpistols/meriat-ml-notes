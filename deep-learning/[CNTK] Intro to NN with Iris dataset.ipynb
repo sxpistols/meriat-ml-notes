{
 "cells": [
  {
   "cell_type": "markdown",
   "metadata": {},
   "source": [
    "# CNTK 2.2\n",
    "\n",
    "Esta NN usa uma camada oculta com dois nós\n",
    "\n",
    "* **trainData_cntk.txt** - 120 itens sendo 40 de cada uma das 3 classes\n",
    "* **testData_cntk.txt** - 30 itens sendo 10 de cada uma das 3 classes"
   ]
  },
  {
   "cell_type": "code",
   "execution_count": 1,
   "metadata": {
    "collapsed": true
   },
   "outputs": [],
   "source": [
    "import numpy as np\n",
    "import cntk as C\n",
    "from cntk import Trainer  # to train the NN\n",
    "from cntk.learners import sgd, learning_rate_schedule, UnitType\n",
    "from cntk.ops import *  # input_variable() def\n",
    "from cntk.logging import ProgressPrinter\n",
    "from cntk.initializer import glorot_uniform\n",
    "from cntk.layers import default_options, Dense\n",
    "from cntk.io import CTFDeserializer, MinibatchSource, StreamDef, StreamDefs, INFINITELY_REPEAT"
   ]
  },
  {
   "cell_type": "code",
   "execution_count": null,
   "metadata": {
    "collapsed": true
   },
   "outputs": [],
   "source": []
  }
 ],
 "metadata": {
  "kernelspec": {
   "display_name": "Python 3",
   "language": "python",
   "name": "python3"
  },
  "language_info": {
   "codemirror_mode": {
    "name": "ipython",
    "version": 3
   },
   "file_extension": ".py",
   "mimetype": "text/x-python",
   "name": "python",
   "nbconvert_exporter": "python",
   "pygments_lexer": "ipython3",
   "version": "3.5.2"
  }
 },
 "nbformat": 4,
 "nbformat_minor": 2
}
