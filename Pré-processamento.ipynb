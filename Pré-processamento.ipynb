{
 "cells": [
  {
   "cell_type": "code",
   "execution_count": 4,
   "metadata": {},
   "outputs": [
    {
     "name": "stderr",
     "output_type": "stream",
     "text": [
      "also installing the dependencies 'slam', 'RcppEigen', 'reticulate', 'SnowballC', 'wordcloud', 'RcppParallel', 'RSpectra', 'fastmatch', 'XML', 'spacyr', 'RcppArmadillo'\n",
      "\n"
     ]
    },
    {
     "name": "stdout",
     "output_type": "stream",
     "text": [
      "\n",
      "  There is a binary version available but the source version is later:\n",
      "             binary    source needs_compilation\n",
      "RcppEigen 0.3.3.3.0 0.3.3.3.1              TRUE\n",
      "\n",
      "  Binaries will be installed\n",
      "package 'slam' successfully unpacked and MD5 sums checked\n",
      "package 'RcppEigen' successfully unpacked and MD5 sums checked\n",
      "package 'reticulate' successfully unpacked and MD5 sums checked\n",
      "package 'SnowballC' successfully unpacked and MD5 sums checked\n",
      "package 'wordcloud' successfully unpacked and MD5 sums checked\n",
      "package 'RcppParallel' successfully unpacked and MD5 sums checked\n",
      "package 'RSpectra' successfully unpacked and MD5 sums checked\n",
      "package 'fastmatch' successfully unpacked and MD5 sums checked\n",
      "package 'XML' successfully unpacked and MD5 sums checked\n",
      "package 'spacyr' successfully unpacked and MD5 sums checked\n",
      "package 'RcppArmadillo' successfully unpacked and MD5 sums checked\n",
      "package 'quanteda' successfully unpacked and MD5 sums checked\n",
      "\n",
      "The downloaded binary packages are in\n",
      "\tC:\\Users\\vitor\\AppData\\Local\\Temp\\Rtmp0SuJmP\\downloaded_packages\n"
     ]
    }
   ],
   "source": [
    "#install.packages(\"quanteda\")\n",
    "install.packages(\"quanteda\", repos = \"http://cran.us.r-project.org\")"
   ]
  },
  {
   "cell_type": "markdown",
   "metadata": {},
   "source": [
    "# Texto Original"
   ]
  },
  {
   "cell_type": "code",
   "execution_count": 5,
   "metadata": {},
   "outputs": [
    {
     "data": {
      "text/html": [
       "<ol class=list-inline>\n",
       "\t<li>'Cientista de Dados na Genoa Performance, onde atua com o desenvolvimento de sistemas inteligentes para otimização do atendimento em Call Centers. Como parte de seu mestrado na Universidade de São Paulo conduz pesquisa na área de Sistemas de Recomendação.'</li>\n",
       "\t<li>'Cientista de Dados e Analista Desenvolvedor na Genoa Performance, atua com o desenvolvimento de sistemas inteligentes para otimização do atendimento para empresas de Telecomunicações. Estudante de Mestrado pela Universidade de São Paulo, com pesquisa na área de Sistemas Inteligentes aplicado na detecção automática de falhas no desenvolvimento de software.'</li>\n",
       "</ol>\n"
      ],
      "text/latex": [
       "\\begin{enumerate*}\n",
       "\\item 'Cientista de Dados na Genoa Performance, onde atua com o desenvolvimento de sistemas inteligentes para otimização do atendimento em Call Centers. Como parte de seu mestrado na Universidade de São Paulo conduz pesquisa na área de Sistemas de Recomendação.'\n",
       "\\item 'Cientista de Dados e Analista Desenvolvedor na Genoa Performance, atua com o desenvolvimento de sistemas inteligentes para otimização do atendimento para empresas de Telecomunicações. Estudante de Mestrado pela Universidade de São Paulo, com pesquisa na área de Sistemas Inteligentes aplicado na detecção automática de falhas no desenvolvimento de software.'\n",
       "\\end{enumerate*}\n"
      ],
      "text/markdown": [
       "1. 'Cientista de Dados na Genoa Performance, onde atua com o desenvolvimento de sistemas inteligentes para otimização do atendimento em Call Centers. Como parte de seu mestrado na Universidade de São Paulo conduz pesquisa na área de Sistemas de Recomendação.'\n",
       "2. 'Cientista de Dados e Analista Desenvolvedor na Genoa Performance, atua com o desenvolvimento de sistemas inteligentes para otimização do atendimento para empresas de Telecomunicações. Estudante de Mestrado pela Universidade de São Paulo, com pesquisa na área de Sistemas Inteligentes aplicado na detecção automática de falhas no desenvolvimento de software.'\n",
       "\n",
       "\n"
      ],
      "text/plain": [
       "[1] \"Cientista de Dados na Genoa Performance, onde atua com o desenvolvimento de sistemas inteligentes para otimização do atendimento em Call Centers. Como parte de seu mestrado na Universidade de São Paulo conduz pesquisa na área de Sistemas de Recomendação.\"                                                                                                       \n",
       "[2] \"Cientista de Dados e Analista Desenvolvedor na Genoa Performance, atua com o desenvolvimento de sistemas inteligentes para otimização do atendimento para empresas de Telecomunicações. Estudante de Mestrado pela Universidade de São Paulo, com pesquisa na área de Sistemas Inteligentes aplicado na detecção automática de falhas no desenvolvimento de software.\""
      ]
     },
     "metadata": {},
     "output_type": "display_data"
    }
   ],
   "source": [
    "cv1 <- \"Cientista de Dados na Genoa Performance, onde atua com o desenvolvimento de sistemas inteligentes para otimização do atendimento em Call Centers. Como parte de seu mestrado na Universidade de São Paulo conduz pesquisa na área de Sistemas de Recomendação.\"\n",
    "\n",
    "cv2 <- \"Cientista de Dados e Analista Desenvolvedor na Genoa Performance, atua com o desenvolvimento de sistemas inteligentes para otimização do atendimento para empresas de Telecomunicações. Estudante de Mestrado pela Universidade de São Paulo, com pesquisa na área de Sistemas Inteligentes aplicado na detecção automática de falhas no desenvolvimento de software.\"\n",
    "\n",
    "corpus <- c(cv1, cv2)\n",
    "\n",
    "corpus"
   ]
  },
  {
   "cell_type": "markdown",
   "metadata": {},
   "source": [
    "# Tokenização"
   ]
  },
  {
   "cell_type": "code",
   "execution_count": 6,
   "metadata": {},
   "outputs": [
    {
     "ename": "ERROR",
     "evalue": "Error in tokens(corpus): não foi possível encontrar a função \"tokens\"\n",
     "output_type": "error",
     "traceback": [
      "Error in tokens(corpus): não foi possível encontrar a função \"tokens\"\nTraceback:\n"
     ]
    }
   ],
   "source": [
    "tok <- tokens(corpus)\n",
    "tok"
   ]
  },
  {
   "cell_type": "markdown",
   "metadata": {},
   "source": [
    "# Remover pontuação, números e símbolos"
   ]
  },
  {
   "cell_type": "code",
   "execution_count": 10,
   "metadata": {},
   "outputs": [
    {
     "ename": "ERROR",
     "evalue": "Error in tokens(tok, remove_numbers = TRUE, remove_punct = TRUE, remove_symbols = TRUE): não foi possível encontrar a função \"tokens\"\n",
     "output_type": "error",
     "traceback": [
      "Error in tokens(tok, remove_numbers = TRUE, remove_punct = TRUE, remove_symbols = TRUE): não foi possível encontrar a função \"tokens\"\nTraceback:\n"
     ]
    }
   ],
   "source": [
    "tok <- tokens(tok, remove_numbers = TRUE, remove_punct = TRUE,\n",
    "       remove_symbols = TRUE)\n",
    "\n",
    "tok"
   ]
  },
  {
   "cell_type": "code",
   "execution_count": 8,
   "metadata": {},
   "outputs": [
    {
     "name": "stderr",
     "output_type": "stream",
     "text": [
      "Loading required package: lexiconPT\n",
      "Warning message in library(package, lib.loc = lib.loc, character.only = TRUE, logical.return = TRUE, :\n",
      "\"there is no package called 'lexiconPT'\""
     ]
    },
    {
     "name": "stdout",
     "output_type": "stream",
     "text": [
      "package 'lexiconPT' successfully unpacked and MD5 sums checked\n",
      "\n",
      "The downloaded binary packages are in\n",
      "\tC:\\Users\\vitor\\AppData\\Local\\Temp\\Rtmp0SuJmP\\downloaded_packages\n"
     ]
    },
    {
     "name": "stderr",
     "output_type": "stream",
     "text": [
      "Loading required package: rtweet\n",
      "Warning message in library(package, lib.loc = lib.loc, character.only = TRUE, logical.return = TRUE, :\n",
      "\"there is no package called 'rtweet'\"also installing the dependencies 'bit', 'bit64'\n",
      "\n"
     ]
    },
    {
     "name": "stdout",
     "output_type": "stream",
     "text": [
      "package 'bit' successfully unpacked and MD5 sums checked\n",
      "package 'bit64' successfully unpacked and MD5 sums checked\n",
      "package 'rtweet' successfully unpacked and MD5 sums checked\n",
      "\n",
      "The downloaded binary packages are in\n",
      "\tC:\\Users\\vitor\\AppData\\Local\\Temp\\Rtmp0SuJmP\\downloaded_packages\n"
     ]
    },
    {
     "name": "stderr",
     "output_type": "stream",
     "text": [
      "Loading required package: tidytext\n",
      "Warning message in library(package, lib.loc = lib.loc, character.only = TRUE, logical.return = TRUE, :\n",
      "\"there is no package called 'tidytext'\"also installing the dependencies 'hunspell', 'tokenizers', 'janeaustenr'\n",
      "\n"
     ]
    },
    {
     "name": "stdout",
     "output_type": "stream",
     "text": [
      "package 'hunspell' successfully unpacked and MD5 sums checked\n",
      "package 'tokenizers' successfully unpacked and MD5 sums checked\n",
      "package 'janeaustenr' successfully unpacked and MD5 sums checked\n",
      "package 'tidytext' successfully unpacked and MD5 sums checked\n",
      "\n",
      "The downloaded binary packages are in\n",
      "\tC:\\Users\\vitor\\AppData\\Local\\Temp\\Rtmp0SuJmP\\downloaded_packages\n"
     ]
    },
    {
     "name": "stderr",
     "output_type": "stream",
     "text": [
      "Loading required package: wordcloud\n",
      "Loading required package: RColorBrewer\n",
      "Loading required package: RDRPOSTagger\n",
      "Warning message in library(package, lib.loc = lib.loc, character.only = TRUE, logical.return = TRUE, :\n",
      "\"there is no package called 'RDRPOSTagger'\"Warning message:\n",
      "\"package 'RDRPOSTagger' is not available (for R version 3.4.2)\""
     ]
    }
   ],
   "source": [
    "# Instala pacotes caso ainda não tenham sido instalados\n",
    "if(!require(dplyr)) install.packages(\"dplyr\", repos = \"http://cran.us.r-project.org\")  # Manipulação de dados\n",
    "if(!require(ggplot2)) install.packages(\"ggplot2\", repos = \"http://cran.us.r-project.org\") # Visualização de dados\n",
    "if(!require(httpuv)) install.packages(\"httpuv\", repos = \"http://cran.us.r-project.org\")  # Suporte a HTTP e WebSocket\n",
    "if(!require(lexiconPT)) install.packages(\"lexiconPT\", repos = \"http://cran.us.r-project.org\")  # Análise de Sentimento\n",
    "if(!require(rtweet)) install.packages(\"rtweet\", repos = \"http://cran.us.r-project.org\")  # Cliente para Twitter Search API\n",
    "if(!require(tidytext)) install.packages(\"tidytext\", repos = \"http://cran.us.r-project.org\") # Mineração de textos\n",
    "if(!require(wordcloud)) install.packages(\"wordcloud\", repos = \"http://cran.us.r-project.org\") # Visualização de textos\n",
    "if(!require(RDRPOSTagger)) install.packages(\"RDRPOSTagger\", repos = \"http://cran.us.r-project.org\")  # Mineração de Textos"
   ]
  },
  {
   "cell_type": "code",
   "execution_count": null,
   "metadata": {
    "collapsed": true
   },
   "outputs": [],
   "source": []
  }
 ],
 "metadata": {
  "kernelspec": {
   "display_name": "R",
   "language": "R",
   "name": "ir"
  },
  "language_info": {
   "codemirror_mode": "r",
   "file_extension": ".r",
   "mimetype": "text/x-r-source",
   "name": "R",
   "pygments_lexer": "r",
   "version": "3.4.2"
  }
 },
 "nbformat": 4,
 "nbformat_minor": 2
}
