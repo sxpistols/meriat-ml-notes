{
 "cells": [
  {
   "cell_type": "code",
   "execution_count": 7,
   "metadata": {},
   "outputs": [
    {
     "ename": "ERROR",
     "evalue": "Error in contrib.url(repos, \"source\"): trying to use CRAN without setting a mirror\n",
     "output_type": "error",
     "traceback": [
      "Error in contrib.url(repos, \"source\"): trying to use CRAN without setting a mirror\nTraceback:\n",
      "1. install.packages(\"quanteda\")",
      "2. contrib.url(repos, \"source\")",
      "3. stop(\"trying to use CRAN without setting a mirror\")"
     ]
    }
   ],
   "source": [
    "install.packages(\"quanteda\")"
   ]
  },
  {
   "cell_type": "markdown",
   "metadata": {},
   "source": [
    "# Texto Original"
   ]
  },
  {
   "cell_type": "code",
   "execution_count": 8,
   "metadata": {},
   "outputs": [
    {
     "data": {
      "text/html": [
       "<ol class=list-inline>\n",
       "\t<li>'Cientista de Dados na Genoa Performance, onde atua com o desenvolvimento de sistemas inteligentes para otimização do atendimento em Call Centers. Como parte de seu mestrado na Universidade de São Paulo conduz pesquisa na área de Sistemas de Recomendação.'</li>\n",
       "\t<li>'Cientista de Dados e Analista Desenvolvedor na Genoa Performance, atua com o desenvolvimento de sistemas inteligentes para otimização do atendimento para empresas de Telecomunicações. Estudante de Mestrado pela Universidade de São Paulo, com pesquisa na área de Sistemas Inteligentes aplicado na detecção automática de falhas no desenvolvimento de software.'</li>\n",
       "</ol>\n"
      ],
      "text/latex": [
       "\\begin{enumerate*}\n",
       "\\item 'Cientista de Dados na Genoa Performance, onde atua com o desenvolvimento de sistemas inteligentes para otimização do atendimento em Call Centers. Como parte de seu mestrado na Universidade de São Paulo conduz pesquisa na área de Sistemas de Recomendação.'\n",
       "\\item 'Cientista de Dados e Analista Desenvolvedor na Genoa Performance, atua com o desenvolvimento de sistemas inteligentes para otimização do atendimento para empresas de Telecomunicações. Estudante de Mestrado pela Universidade de São Paulo, com pesquisa na área de Sistemas Inteligentes aplicado na detecção automática de falhas no desenvolvimento de software.'\n",
       "\\end{enumerate*}\n"
      ],
      "text/markdown": [
       "1. 'Cientista de Dados na Genoa Performance, onde atua com o desenvolvimento de sistemas inteligentes para otimização do atendimento em Call Centers. Como parte de seu mestrado na Universidade de São Paulo conduz pesquisa na área de Sistemas de Recomendação.'\n",
       "2. 'Cientista de Dados e Analista Desenvolvedor na Genoa Performance, atua com o desenvolvimento de sistemas inteligentes para otimização do atendimento para empresas de Telecomunicações. Estudante de Mestrado pela Universidade de São Paulo, com pesquisa na área de Sistemas Inteligentes aplicado na detecção automática de falhas no desenvolvimento de software.'\n",
       "\n",
       "\n"
      ],
      "text/plain": [
       "[1] \"Cientista de Dados na Genoa Performance, onde atua com o desenvolvimento de sistemas inteligentes para otimização do atendimento em Call Centers. Como parte de seu mestrado na Universidade de São Paulo conduz pesquisa na área de Sistemas de Recomendação.\"                                                                                                       \n",
       "[2] \"Cientista de Dados e Analista Desenvolvedor na Genoa Performance, atua com o desenvolvimento de sistemas inteligentes para otimização do atendimento para empresas de Telecomunicações. Estudante de Mestrado pela Universidade de São Paulo, com pesquisa na área de Sistemas Inteligentes aplicado na detecção automática de falhas no desenvolvimento de software.\""
      ]
     },
     "metadata": {},
     "output_type": "display_data"
    }
   ],
   "source": [
    "cv1 <- \"Cientista de Dados na Genoa Performance, onde atua com o desenvolvimento de sistemas inteligentes para otimização do atendimento em Call Centers. Como parte de seu mestrado na Universidade de São Paulo conduz pesquisa na área de Sistemas de Recomendação.\"\n",
    "\n",
    "cv2 <- \"Cientista de Dados e Analista Desenvolvedor na Genoa Performance, atua com o desenvolvimento de sistemas inteligentes para otimização do atendimento para empresas de Telecomunicações. Estudante de Mestrado pela Universidade de São Paulo, com pesquisa na área de Sistemas Inteligentes aplicado na detecção automática de falhas no desenvolvimento de software.\"\n",
    "\n",
    "corpus <- c(cv1, cv2)\n",
    "\n",
    "corpus"
   ]
  },
  {
   "cell_type": "markdown",
   "metadata": {},
   "source": [
    "# Tokenização"
   ]
  },
  {
   "cell_type": "code",
   "execution_count": 9,
   "metadata": {},
   "outputs": [
    {
     "ename": "ERROR",
     "evalue": "Error in tokens(corpus): não foi possível encontrar a função \"tokens\"\n",
     "output_type": "error",
     "traceback": [
      "Error in tokens(corpus): não foi possível encontrar a função \"tokens\"\nTraceback:\n"
     ]
    }
   ],
   "source": [
    "tok <- tokens(corpus)\n",
    "tok"
   ]
  },
  {
   "cell_type": "markdown",
   "metadata": {},
   "source": [
    "# Remover pontuação, números e símbolos"
   ]
  },
  {
   "cell_type": "code",
   "execution_count": 10,
   "metadata": {},
   "outputs": [
    {
     "ename": "ERROR",
     "evalue": "Error in tokens(tok, remove_numbers = TRUE, remove_punct = TRUE, remove_symbols = TRUE): não foi possível encontrar a função \"tokens\"\n",
     "output_type": "error",
     "traceback": [
      "Error in tokens(tok, remove_numbers = TRUE, remove_punct = TRUE, remove_symbols = TRUE): não foi possível encontrar a função \"tokens\"\nTraceback:\n"
     ]
    }
   ],
   "source": [
    "tok <- tokens(tok, remove_numbers = TRUE, remove_punct = TRUE,\n",
    "       remove_symbols = TRUE)\n",
    "\n",
    "tok"
   ]
  },
  {
   "cell_type": "code",
   "execution_count": null,
   "metadata": {
    "collapsed": true
   },
   "outputs": [],
   "source": []
  }
 ],
 "metadata": {
  "kernelspec": {
   "display_name": "R",
   "language": "R",
   "name": "ir"
  },
  "language_info": {
   "codemirror_mode": "r",
   "file_extension": ".r",
   "mimetype": "text/x-r-source",
   "name": "R",
   "pygments_lexer": "r",
   "version": "3.4.2"
  }
 },
 "nbformat": 4,
 "nbformat_minor": 2
}
