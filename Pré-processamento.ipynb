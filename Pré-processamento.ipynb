{
 "cells": [
  {
   "cell_type": "code",
   "execution_count": 1,
   "metadata": {},
   "outputs": [
    {
     "name": "stderr",
     "output_type": "stream",
     "text": [
      "also installing the dependencies 'slam', 'RcppEigen', 'reticulate', 'SnowballC', 'wordcloud', 'RcppParallel', 'RSpectra', 'fastmatch', 'XML', 'spacyr', 'RcppArmadillo'\n",
      "\n"
     ]
    },
    {
     "name": "stdout",
     "output_type": "stream",
     "text": [
      "package 'slam' successfully unpacked and MD5 sums checked\n",
      "package 'RcppEigen' successfully unpacked and MD5 sums checked\n",
      "package 'reticulate' successfully unpacked and MD5 sums checked\n",
      "package 'SnowballC' successfully unpacked and MD5 sums checked\n",
      "package 'wordcloud' successfully unpacked and MD5 sums checked\n",
      "package 'RcppParallel' successfully unpacked and MD5 sums checked\n",
      "package 'RSpectra' successfully unpacked and MD5 sums checked\n",
      "package 'fastmatch' successfully unpacked and MD5 sums checked\n",
      "package 'XML' successfully unpacked and MD5 sums checked\n",
      "package 'spacyr' successfully unpacked and MD5 sums checked\n",
      "package 'RcppArmadillo' successfully unpacked and MD5 sums checked\n",
      "package 'quanteda' successfully unpacked and MD5 sums checked\n",
      "\n",
      "The downloaded binary packages are in\n",
      "\tC:\\Users\\vitor\\AppData\\Local\\Temp\\RtmpyQSoOc\\downloaded_packages\n"
     ]
    }
   ],
   "source": [
    "#install.packages(\"quanteda\")\n",
    "install.packages(\"quanteda\", repos = \"http://cran.us.r-project.org\")"
   ]
  },
  {
   "cell_type": "markdown",
   "metadata": {},
   "source": [
    "# Texto Original"
   ]
  },
  {
   "cell_type": "code",
   "execution_count": 2,
   "metadata": {},
   "outputs": [
    {
     "data": {
      "text/html": [
       "<ol class=list-inline>\n",
       "\t<li>'Cientista de Dados na Genoa Performance, onde atua com o desenvolvimento de sistemas inteligentes para otimização do atendimento em Call Centers. Como parte de seu mestrado na Universidade de São Paulo conduz pesquisa na área de Sistemas de Recomendação.'</li>\n",
       "\t<li>'Cientista de Dados e Analista Desenvolvedor na Genoa Performance, atua com o desenvolvimento de sistemas inteligentes para otimização do atendimento para empresas de Telecomunicações. Estudante de Mestrado pela Universidade de São Paulo, com pesquisa na área de Sistemas Inteligentes aplicado na detecção automática de falhas no desenvolvimento de software.'</li>\n",
       "</ol>\n"
      ],
      "text/latex": [
       "\\begin{enumerate*}\n",
       "\\item 'Cientista de Dados na Genoa Performance, onde atua com o desenvolvimento de sistemas inteligentes para otimização do atendimento em Call Centers. Como parte de seu mestrado na Universidade de São Paulo conduz pesquisa na área de Sistemas de Recomendação.'\n",
       "\\item 'Cientista de Dados e Analista Desenvolvedor na Genoa Performance, atua com o desenvolvimento de sistemas inteligentes para otimização do atendimento para empresas de Telecomunicações. Estudante de Mestrado pela Universidade de São Paulo, com pesquisa na área de Sistemas Inteligentes aplicado na detecção automática de falhas no desenvolvimento de software.'\n",
       "\\end{enumerate*}\n"
      ],
      "text/markdown": [
       "1. 'Cientista de Dados na Genoa Performance, onde atua com o desenvolvimento de sistemas inteligentes para otimização do atendimento em Call Centers. Como parte de seu mestrado na Universidade de São Paulo conduz pesquisa na área de Sistemas de Recomendação.'\n",
       "2. 'Cientista de Dados e Analista Desenvolvedor na Genoa Performance, atua com o desenvolvimento de sistemas inteligentes para otimização do atendimento para empresas de Telecomunicações. Estudante de Mestrado pela Universidade de São Paulo, com pesquisa na área de Sistemas Inteligentes aplicado na detecção automática de falhas no desenvolvimento de software.'\n",
       "\n",
       "\n"
      ],
      "text/plain": [
       "[1] \"Cientista de Dados na Genoa Performance, onde atua com o desenvolvimento de sistemas inteligentes para otimização do atendimento em Call Centers. Como parte de seu mestrado na Universidade de São Paulo conduz pesquisa na área de Sistemas de Recomendação.\"                                                                                                       \n",
       "[2] \"Cientista de Dados e Analista Desenvolvedor na Genoa Performance, atua com o desenvolvimento de sistemas inteligentes para otimização do atendimento para empresas de Telecomunicações. Estudante de Mestrado pela Universidade de São Paulo, com pesquisa na área de Sistemas Inteligentes aplicado na detecção automática de falhas no desenvolvimento de software.\""
      ]
     },
     "metadata": {},
     "output_type": "display_data"
    }
   ],
   "source": [
    "cv1 <- \"Cientista de Dados na Genoa Performance, onde atua com o desenvolvimento de sistemas inteligentes para otimização do atendimento em Call Centers. Como parte de seu mestrado na Universidade de São Paulo conduz pesquisa na área de Sistemas de Recomendação.\"\n",
    "\n",
    "cv2 <- \"Cientista de Dados e Analista Desenvolvedor na Genoa Performance, atua com o desenvolvimento de sistemas inteligentes para otimização do atendimento para empresas de Telecomunicações. Estudante de Mestrado pela Universidade de São Paulo, com pesquisa na área de Sistemas Inteligentes aplicado na detecção automática de falhas no desenvolvimento de software.\"\n",
    "\n",
    "corpus <- c(cv1, cv2)\n",
    "\n",
    "corpus"
   ]
  },
  {
   "cell_type": "markdown",
   "metadata": {},
   "source": [
    "# Tokenização"
   ]
  },
  {
   "cell_type": "code",
   "execution_count": 7,
   "metadata": {},
   "outputs": [
    {
     "data": {
      "text/plain": [
       "tokens from 2 documents.\n",
       "text1 :\n",
       " [1] \"Cientista\"       \"de\"              \"Dados\"           \"na\"             \n",
       " [5] \"Genoa\"           \"Performance\"     \",\"               \"onde\"           \n",
       " [9] \"atua\"            \"com\"             \"o\"               \"desenvolvimento\"\n",
       "[13] \"de\"              \"sistemas\"        \"inteligentes\"    \"para\"           \n",
       "[17] \"otimização\"      \"do\"              \"atendimento\"     \"em\"             \n",
       "[21] \"Call\"            \"Centers\"         \".\"               \"Como\"           \n",
       "[25] \"parte\"           \"de\"              \"seu\"             \"mestrado\"       \n",
       "[29] \"na\"              \"Universidade\"    \"de\"              \"São\"            \n",
       "[33] \"Paulo\"           \"conduz\"          \"pesquisa\"        \"na\"             \n",
       "[37] \"área\"            \"de\"              \"Sistemas\"        \"de\"             \n",
       "[41] \"Recomendação\"    \".\"              \n",
       "\n",
       "text2 :\n",
       " [1] \"Cientista\"        \"de\"               \"Dados\"            \"e\"               \n",
       " [5] \"Analista\"         \"Desenvolvedor\"    \"na\"               \"Genoa\"           \n",
       " [9] \"Performance\"      \",\"                \"atua\"             \"com\"             \n",
       "[13] \"o\"                \"desenvolvimento\"  \"de\"               \"sistemas\"        \n",
       "[17] \"inteligentes\"     \"para\"             \"otimização\"       \"do\"              \n",
       "[21] \"atendimento\"      \"para\"             \"empresas\"         \"de\"              \n",
       "[25] \"Telecomunicações\" \".\"                \"Estudante\"        \"de\"              \n",
       "[29] \"Mestrado\"         \"pela\"             \"Universidade\"     \"de\"              \n",
       "[33] \"São\"              \"Paulo\"            \",\"                \"com\"             \n",
       "[37] \"pesquisa\"         \"na\"               \"área\"             \"de\"              \n",
       "[41] \"Sistemas\"         \"Inteligentes\"     \"aplicado\"         \"na\"              \n",
       "[45] \"detecção\"         \"automática\"       \"de\"               \"falhas\"          \n",
       "[49] \"no\"               \"desenvolvimento\"  \"de\"               \"software\"        \n",
       "[53] \".\"               \n"
      ]
     },
     "metadata": {},
     "output_type": "display_data"
    }
   ],
   "source": [
    "tok <- quanteda::tokens(corpus)\n",
    "tok"
   ]
  },
  {
   "cell_type": "markdown",
   "metadata": {},
   "source": [
    "# Remover pontuação, números e símbolos"
   ]
  },
  {
   "cell_type": "code",
   "execution_count": 8,
   "metadata": {},
   "outputs": [
    {
     "data": {
      "text/plain": [
       "tokens from 2 documents.\n",
       "text1 :\n",
       " [1] \"Cientista\"       \"de\"              \"Dados\"           \"na\"             \n",
       " [5] \"Genoa\"           \"Performance\"     \"onde\"            \"atua\"           \n",
       " [9] \"com\"             \"o\"               \"desenvolvimento\" \"de\"             \n",
       "[13] \"sistemas\"        \"inteligentes\"    \"para\"            \"otimização\"     \n",
       "[17] \"do\"              \"atendimento\"     \"em\"              \"Call\"           \n",
       "[21] \"Centers\"         \"Como\"            \"parte\"           \"de\"             \n",
       "[25] \"seu\"             \"mestrado\"        \"na\"              \"Universidade\"   \n",
       "[29] \"de\"              \"São\"             \"Paulo\"           \"conduz\"         \n",
       "[33] \"pesquisa\"        \"na\"              \"área\"            \"de\"             \n",
       "[37] \"Sistemas\"        \"de\"              \"Recomendação\"   \n",
       "\n",
       "text2 :\n",
       " [1] \"Cientista\"        \"de\"               \"Dados\"            \"e\"               \n",
       " [5] \"Analista\"         \"Desenvolvedor\"    \"na\"               \"Genoa\"           \n",
       " [9] \"Performance\"      \"atua\"             \"com\"              \"o\"               \n",
       "[13] \"desenvolvimento\"  \"de\"               \"sistemas\"         \"inteligentes\"    \n",
       "[17] \"para\"             \"otimização\"       \"do\"               \"atendimento\"     \n",
       "[21] \"para\"             \"empresas\"         \"de\"               \"Telecomunicações\"\n",
       "[25] \"Estudante\"        \"de\"               \"Mestrado\"         \"pela\"            \n",
       "[29] \"Universidade\"     \"de\"               \"São\"              \"Paulo\"           \n",
       "[33] \"com\"              \"pesquisa\"         \"na\"               \"área\"            \n",
       "[37] \"de\"               \"Sistemas\"         \"Inteligentes\"     \"aplicado\"        \n",
       "[41] \"na\"               \"detecção\"         \"automática\"       \"de\"              \n",
       "[45] \"falhas\"           \"no\"               \"desenvolvimento\"  \"de\"              \n",
       "[49] \"software\"        \n"
      ]
     },
     "metadata": {},
     "output_type": "display_data"
    }
   ],
   "source": [
    "tok <- quanteda::tokens(tok, remove_numbers = TRUE, remove_punct = TRUE,\n",
    "       remove_symbols = TRUE)\n",
    "\n",
    "tok"
   ]
  },
  {
   "cell_type": "code",
   "execution_count": 9,
   "metadata": {},
   "outputs": [
    {
     "name": "stderr",
     "output_type": "stream",
     "text": [
      "Loading required package: dplyr\n",
      "\n",
      "Attaching package: 'dplyr'\n",
      "\n",
      "The following objects are masked from 'package:stats':\n",
      "\n",
      "    filter, lag\n",
      "\n",
      "The following objects are masked from 'package:base':\n",
      "\n",
      "    intersect, setdiff, setequal, union\n",
      "\n",
      "Loading required package: ggplot2\n",
      "Loading required package: httpuv\n",
      "Loading required package: lexiconPT\n",
      "Warning message in library(package, lib.loc = lib.loc, character.only = TRUE, logical.return = TRUE, :\n",
      "\"there is no package called 'lexiconPT'\""
     ]
    },
    {
     "name": "stdout",
     "output_type": "stream",
     "text": [
      "package 'lexiconPT' successfully unpacked and MD5 sums checked\n",
      "\n",
      "The downloaded binary packages are in\n",
      "\tC:\\Users\\vitor\\AppData\\Local\\Temp\\RtmpyQSoOc\\downloaded_packages\n"
     ]
    },
    {
     "name": "stderr",
     "output_type": "stream",
     "text": [
      "Loading required package: rtweet\n",
      "Warning message in library(package, lib.loc = lib.loc, character.only = TRUE, logical.return = TRUE, :\n",
      "\"there is no package called 'rtweet'\"also installing the dependencies 'bit', 'bit64'\n",
      "\n"
     ]
    },
    {
     "name": "stdout",
     "output_type": "stream",
     "text": [
      "package 'bit' successfully unpacked and MD5 sums checked\n",
      "package 'bit64' successfully unpacked and MD5 sums checked\n",
      "package 'rtweet' successfully unpacked and MD5 sums checked\n",
      "\n",
      "The downloaded binary packages are in\n",
      "\tC:\\Users\\vitor\\AppData\\Local\\Temp\\RtmpyQSoOc\\downloaded_packages\n"
     ]
    },
    {
     "name": "stderr",
     "output_type": "stream",
     "text": [
      "Loading required package: tidytext\n",
      "Warning message in library(package, lib.loc = lib.loc, character.only = TRUE, logical.return = TRUE, :\n",
      "\"there is no package called 'tidytext'\"also installing the dependencies 'hunspell', 'tokenizers', 'janeaustenr'\n",
      "\n"
     ]
    },
    {
     "name": "stdout",
     "output_type": "stream",
     "text": [
      "package 'hunspell' successfully unpacked and MD5 sums checked\n",
      "package 'tokenizers' successfully unpacked and MD5 sums checked\n",
      "package 'janeaustenr' successfully unpacked and MD5 sums checked\n",
      "package 'tidytext' successfully unpacked and MD5 sums checked\n",
      "\n",
      "The downloaded binary packages are in\n",
      "\tC:\\Users\\vitor\\AppData\\Local\\Temp\\RtmpyQSoOc\\downloaded_packages\n"
     ]
    },
    {
     "name": "stderr",
     "output_type": "stream",
     "text": [
      "Loading required package: wordcloud\n",
      "Warning message:\n",
      "\"package 'wordcloud' was built under R version 3.4.3\"Loading required package: RColorBrewer\n",
      "Loading required package: RDRPOSTagger\n",
      "Warning message in library(package, lib.loc = lib.loc, character.only = TRUE, logical.return = TRUE, :\n",
      "\"there is no package called 'RDRPOSTagger'\"Warning message:\n",
      "\"package 'RDRPOSTagger' is not available (for R version 3.4.2)\""
     ]
    }
   ],
   "source": [
    "# Instala pacotes caso ainda não tenham sido instalados\n",
    "if(!require(dplyr)) install.packages(\"dplyr\", repos = \"http://cran.us.r-project.org\")  # Manipulação de dados\n",
    "if(!require(ggplot2)) install.packages(\"ggplot2\", repos = \"http://cran.us.r-project.org\") # Visualização de dados\n",
    "if(!require(httpuv)) install.packages(\"httpuv\", repos = \"http://cran.us.r-project.org\")  # Suporte a HTTP e WebSocket\n",
    "if(!require(lexiconPT)) install.packages(\"lexiconPT\", repos = \"http://cran.us.r-project.org\")  # Análise de Sentimento\n",
    "if(!require(rtweet)) install.packages(\"rtweet\", repos = \"http://cran.us.r-project.org\")  # Cliente para Twitter Search API\n",
    "if(!require(tidytext)) install.packages(\"tidytext\", repos = \"http://cran.us.r-project.org\") # Mineração de textos\n",
    "if(!require(wordcloud)) install.packages(\"wordcloud\", repos = \"http://cran.us.r-project.org\") # Visualização de textos\n",
    "if(!require(RDRPOSTagger)) install.packages(\"RDRPOSTagger\", repos = \"http://cran.us.r-project.org\")  # Mineração de Textos"
   ]
  },
  {
   "cell_type": "code",
   "execution_count": 14,
   "metadata": {},
   "outputs": [
    {
     "ename": "ERROR",
     "evalue": "Error: 'unnest_tokens' is not an exported object from 'namespace:dplyr'\n",
     "output_type": "error",
     "traceback": [
      "Error: 'unnest_tokens' is not an exported object from 'namespace:dplyr'\nTraceback:\n",
      "1. corpus %>% dplyr::unnest_tokens(term, text) %>% count(clube, \n .     term, sort = TRUE)",
      "2. withVisible(eval(quote(`_fseq`(`_lhs`)), env, env))",
      "3. eval(quote(`_fseq`(`_lhs`)), env, env)",
      "4. eval(quote(`_fseq`(`_lhs`)), env, env)",
      "5. `_fseq`(`_lhs`)",
      "6. freduce(value, `_function_list`)",
      "7. function_list[[i]](value)",
      "8. dplyr::unnest_tokens",
      "9. getExportedValue(pkg, name)",
      "10. stop(gettextf(\"'%s' is not an exported object from 'namespace:%s'\", \n  .     name, getNamespaceName(ns)), call. = FALSE, domain = NA)"
     ]
    }
   ],
   "source": [
    "top_words <- corpus %>%\n",
    "  unnest_tokens(term, text) %>%\n",
    "  count(clube, term, sort = TRUE)\n",
    "top_words"
   ]
  },
  {
   "cell_type": "code",
   "execution_count": null,
   "metadata": {},
   "outputs": [],
   "source": []
  }
 ],
 "metadata": {
  "kernelspec": {
   "display_name": "R",
   "language": "R",
   "name": "ir"
  },
  "language_info": {
   "codemirror_mode": "r",
   "file_extension": ".r",
   "mimetype": "text/x-r-source",
   "name": "R",
   "pygments_lexer": "r",
   "version": "3.4.2"
  }
 },
 "nbformat": 4,
 "nbformat_minor": 2
}
