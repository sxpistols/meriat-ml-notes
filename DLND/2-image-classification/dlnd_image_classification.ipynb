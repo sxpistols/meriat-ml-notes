{
 "cells": [
  {
   "cell_type": "markdown",
   "metadata": {
    "collapsed": true
   },
   "source": [
    "# Image Classification\n",
    "In this project, you'll classify images from the [CIFAR-10 dataset](https://www.cs.toronto.edu/~kriz/cifar.html).  The dataset consists of airplanes, dogs, cats, and other objects. You'll preprocess the images, then train a convolutional neural network on all the samples. The images need to be normalized and the labels need to be one-hot encoded.  You'll get to apply what you learned and build a convolutional, max pooling, dropout, and fully connected layers.  At the end, you'll get to see your neural network's predictions on the sample images.\n",
    "## Get the Data\n",
    "Run the following cell to download the [CIFAR-10 dataset for python](https://www.cs.toronto.edu/~kriz/cifar-10-python.tar.gz)."
   ]
  },
  {
   "cell_type": "code",
   "execution_count": 1,
   "metadata": {
    "collapsed": false
   },
   "outputs": [
    {
     "name": "stderr",
     "output_type": "stream",
     "text": [
      "CIFAR-10 Dataset: 171MB [00:06, 26.8MB/s]                                      \n"
     ]
    },
    {
     "name": "stdout",
     "output_type": "stream",
     "text": [
      "All files found!\n"
     ]
    }
   ],
   "source": [
    "\"\"\"\n",
    "DON'T MODIFY ANYTHING IN THIS CELL THAT IS BELOW THIS LINE\n",
    "\"\"\"\n",
    "from urllib.request import urlretrieve\n",
    "from os.path import isfile, isdir\n",
    "from tqdm import tqdm\n",
    "import problem_unittests as tests\n",
    "import tarfile\n",
    "\n",
    "cifar10_dataset_folder_path = 'cifar-10-batches-py'\n",
    "\n",
    "# Use Floyd's cifar-10 dataset if present\n",
    "floyd_cifar10_location = '/cifar/cifar-10-python.tar.gz'\n",
    "if isfile(floyd_cifar10_location):\n",
    "    tar_gz_path = floyd_cifar10_location\n",
    "else:\n",
    "    tar_gz_path = 'cifar-10-python.tar.gz'\n",
    "\n",
    "class DLProgress(tqdm):\n",
    "    last_block = 0\n",
    "\n",
    "    def hook(self, block_num=1, block_size=1, total_size=None):\n",
    "        self.total = total_size\n",
    "        self.update((block_num - self.last_block) * block_size)\n",
    "        self.last_block = block_num\n",
    "\n",
    "if not isfile(tar_gz_path):\n",
    "    with DLProgress(unit='B', unit_scale=True, miniters=1, desc='CIFAR-10 Dataset') as pbar:\n",
    "        urlretrieve(\n",
    "            'https://www.cs.toronto.edu/~kriz/cifar-10-python.tar.gz',\n",
    "            tar_gz_path,\n",
    "            pbar.hook)\n",
    "\n",
    "if not isdir(cifar10_dataset_folder_path):\n",
    "    with tarfile.open(tar_gz_path) as tar:\n",
    "        tar.extractall()\n",
    "        tar.close()\n",
    "\n",
    "\n",
    "tests.test_folder_path(cifar10_dataset_folder_path)"
   ]
  },
  {
   "cell_type": "markdown",
   "metadata": {},
   "source": [
    "## Explore the Data\n",
    "The dataset is broken into batches to prevent your machine from running out of memory.  The CIFAR-10 dataset consists of 5 batches, named `data_batch_1`, `data_batch_2`, etc.. Each batch contains the labels and images that are one of the following:\n",
    "* airplane\n",
    "* automobile\n",
    "* bird\n",
    "* cat\n",
    "* deer\n",
    "* dog\n",
    "* frog\n",
    "* horse\n",
    "* ship\n",
    "* truck\n",
    "\n",
    "Understanding a dataset is part of making predictions on the data.  Play around with the code cell below by changing the `batch_id` and `sample_id`. The `batch_id` is the id for a batch (1-5). The `sample_id` is the id for a image and label pair in the batch.\n",
    "\n",
    "Ask yourself \"What are all possible labels?\", \"What is the range of values for the image data?\", \"Are the labels in order or random?\".  Answers to questions like these will help you preprocess the data and end up with better predictions."
   ]
  },
  {
   "cell_type": "code",
   "execution_count": 2,
   "metadata": {
    "collapsed": false
   },
   "outputs": [
    {
     "name": "stdout",
     "output_type": "stream",
     "text": [
      "\n",
      "Stats of batch 1:\n",
      "Samples: 10000\n",
      "Label Counts: {0: 1005, 1: 974, 2: 1032, 3: 1016, 4: 999, 5: 937, 6: 1030, 7: 1001, 8: 1025, 9: 981}\n",
      "First 20 Labels: [6, 9, 9, 4, 1, 1, 2, 7, 8, 3, 4, 7, 7, 2, 9, 9, 9, 3, 2, 6]\n",
      "\n",
      "Example of Image 5:\n",
      "Image - Min Value: 0 Max Value: 252\n",
      "Image - Shape: (32, 32, 3)\n",
      "Label - Label Id: 1 Name: automobile\n"
     ]
    },
    {
     "data": {
      "image/png": "[encoded data removed]",
      "text/plain": [
       "<matplotlib.figure.Figure at 0xda9dc10978>"
      ]
     },
     "metadata": {
      "image/png": {
       "height": 250,
       "width": 253
      }
     },
     "output_type": "display_data"
    }
   ],
   "source": [
    "%matplotlib inline\n",
    "%config InlineBackend.figure_format = 'retina'\n",
    "\n",
    "import helper\n",
    "import numpy as np\n",
    "\n",
    "# Explore the dataset\n",
    "batch_id = 1\n",
    "sample_id = 5\n",
    "helper.display_stats(cifar10_dataset_folder_path, batch_id, sample_id)"
   ]
  },
  {
   "cell_type": "markdown",
   "metadata": {},
   "source": [
    "## Implement Preprocess Functions\n",
    "### Normalize\n",
    "In the cell below, implement the `normalize` function to take in image data, `x`, and return it as a normalized Numpy array. The values should be in the range of 0 to 1, inclusive.  The return object should be the same shape as `x`."
   ]
  },
  {
   "cell_type": "code",
   "execution_count": 4,
   "metadata": {
    "collapsed": false
   },
   "outputs": [
    {
     "name": "stdout",
     "output_type": "stream",
     "text": [
      "Tests Passed\n"
     ]
    }
   ],
   "source": [
    "def normalize(x):\n",
    "    \"\"\"\n",
    "    Normalize a list of sample image data in the range of 0 to 1\n",
    "    : x: List of image data.  The image shape is (32, 32, 3)\n",
    "    : return: Numpy array of normalize data\n",
    "    \"\"\"\n",
    "    # TODO: Implement Function\n",
    "    #return None\n",
    "    return x / 255\n",
    "\n",
    "\n",
    "\"\"\"\n",
    "DON'T MODIFY ANYTHING IN THIS CELL THAT IS BELOW THIS LINE\n",
    "\"\"\"\n",
    "tests.test_normalize(normalize)"
   ]
  },
  {
   "cell_type": "markdown",
   "metadata": {},
   "source": [
    "### One-hot encode\n",
    "Just like the previous code cell, you'll be implementing a function for preprocessing.  This time, you'll implement the `one_hot_encode` function. The input, `x`, are a list of labels.  Implement the function to return the list of labels as One-Hot encoded Numpy array.  The possible values for labels are 0 to 9. The one-hot encoding function should return the same encoding for each value between each call to `one_hot_encode`.  Make sure to save the map of encodings outside the function.\n",
    "\n",
    "Hint: Don't reinvent the wheel."
   ]
  },
  {
   "cell_type": "code",
   "execution_count": 6,
   "metadata": {
    "collapsed": false
   },
   "outputs": [
    {
     "name": "stdout",
     "output_type": "stream",
     "text": [
      "Tests Passed\n"
     ]
    }
   ],
   "source": [
    "def one_hot_encode(x):\n",
    "    \"\"\"\n",
    "    One hot encode a list of sample labels. Return a one-hot encoded vector for each label.\n",
    "    : x: List of sample Labels\n",
    "    : return: Numpy array of one-hot encoded labels\n",
    "    \"\"\"\n",
    "    # TODO: Implement Function\n",
    "    #return None\n",
    "    r = np.zeros((len(x), 10), np.int_)\n",
    "    for i, label in enumerate(x):\n",
    "        r[i][label] = 1\n",
    "    return r\n",
    "\n",
    "\n",
    "\"\"\"\n",
    "DON'T MODIFY ANYTHING IN THIS CELL THAT IS BELOW THIS LINE\n",
    "\"\"\"\n",
    "tests.test_one_hot_encode(one_hot_encode)"
   ]
  },
  {
   "cell_type": "markdown",
   "metadata": {},
   "source": [
    "### Randomize Data\n",
    "As you saw from exploring the data above, the order of the samples are randomized.  It doesn't hurt to randomize it again, but you don't need to for this dataset."
   ]
  },
  {
   "cell_type": "markdown",
   "metadata": {},
   "source": [
    "## Preprocess all the data and save it\n",
    "Running the code cell below will preprocess all the CIFAR-10 data and save it to file. The code below also uses 10% of the training data for validation."
   ]
  },
  {
   "cell_type": "code",
   "execution_count": 7,
   "metadata": {
    "collapsed": true
   },
   "outputs": [],
   "source": [
    "\"\"\"\n",
    "DON'T MODIFY ANYTHING IN THIS CELL\n",
    "\"\"\"\n",
    "# Preprocess Training, Validation, and Testing Data\n",
    "helper.preprocess_and_save_data(cifar10_dataset_folder_path, normalize, one_hot_encode)"
   ]
  },
  {
   "cell_type": "markdown",
   "metadata": {},
   "source": [
    "# Check Point\n",
    "This is your first checkpoint.  If you ever decide to come back to this notebook or have to restart the notebook, you can start from here.  The preprocessed data has been saved to disk."
   ]
  },
  {
   "cell_type": "code",
   "execution_count": 44,
   "metadata": {
    "collapsed": true
   },
   "outputs": [],
   "source": [
    "\"\"\"\n",
    "DON'T MODIFY ANYTHING IN THIS CELL\n",
    "\"\"\"\n",
    "import pickle\n",
    "import problem_unittests as tests\n",
    "import helper\n",
    "\n",
    "# Load the Preprocessed Validation data\n",
    "valid_features, valid_labels = pickle.load(open('preprocess_validation.p', mode='rb'))"
   ]
  },
  {
   "cell_type": "markdown",
   "metadata": {},
   "source": [
    "## Build the network\n",
    "For the neural network, you'll build each layer into a function.  Most of the code you've seen has been outside of functions. To test your code more thoroughly, we require that you put each layer in a function.  This allows us to give you better feedback and test for simple mistakes using our unittests before you submit your project.\n",
    "\n",
    ">**Note:** If you're finding it hard to dedicate enough time for this course each week, we've provided a small shortcut to this part of the project. In the next couple of problems, you'll have the option to use classes from the [TensorFlow Layers](https://www.tensorflow.org/api_docs/python/tf/layers) or [TensorFlow Layers (contrib)](https://www.tensorflow.org/api_guides/python/contrib.layers) packages to build each layer, except the layers you build in the \"Convolutional and Max Pooling Layer\" section.  TF Layers is similar to Keras's and TFLearn's abstraction to layers, so it's easy to pickup.\n",
    "\n",
    ">However, if you would like to get the most out of this course, try to solve all the problems _without_ using anything from the TF Layers packages. You **can** still use classes from other packages that happen to have the same name as ones you find in TF Layers! For example, instead of using the TF Layers version of the `conv2d` class, [tf.layers.conv2d](https://www.tensorflow.org/api_docs/python/tf/layers/conv2d), you would want to use the TF Neural Network version of `conv2d`, [tf.nn.conv2d](https://www.tensorflow.org/api_docs/python/tf/nn/conv2d). \n",
    "\n",
    "Let's begin!\n",
    "\n",
    "### Input\n",
    "The neural network needs to read the image data, one-hot encoded labels, and dropout keep probability. Implement the following functions\n",
    "* Implement `neural_net_image_input`\n",
    " * Return a [TF Placeholder](https://www.tensorflow.org/api_docs/python/tf/placeholder)\n",
    " * Set the shape using `image_shape` with batch size set to `None`.\n",
    " * Name the TensorFlow placeholder \"x\" using the TensorFlow `name` parameter in the [TF Placeholder](https://www.tensorflow.org/api_docs/python/tf/placeholder).\n",
    "* Implement `neural_net_label_input`\n",
    " * Return a [TF Placeholder](https://www.tensorflow.org/api_docs/python/tf/placeholder)\n",
    " * Set the shape using `n_classes` with batch size set to `None`.\n",
    " * Name the TensorFlow placeholder \"y\" using the TensorFlow `name` parameter in the [TF Placeholder](https://www.tensorflow.org/api_docs/python/tf/placeholder).\n",
    "* Implement `neural_net_keep_prob_input`\n",
    " * Return a [TF Placeholder](https://www.tensorflow.org/api_docs/python/tf/placeholder) for dropout keep probability.\n",
    " * Name the TensorFlow placeholder \"keep_prob\" using the TensorFlow `name` parameter in the [TF Placeholder](https://www.tensorflow.org/api_docs/python/tf/placeholder).\n",
    "\n",
    "These names will be used at the end of the project to load your saved model.\n",
    "\n",
    "Note: `None` for shapes in TensorFlow allow for a dynamic size."
   ]
  },
  {
   "cell_type": "code",
   "execution_count": 9,
   "metadata": {
    "collapsed": false
   },
   "outputs": [
    {
     "name": "stdout",
     "output_type": "stream",
     "text": [
      "Image Input Tests Passed.\n",
      "Label Input Tests Passed.\n",
      "Keep Prob Tests Passed.\n"
     ]
    }
   ],
   "source": [
    "import tensorflow as tf\n",
    "\n",
    "def neural_net_image_input(image_shape):\n",
    "    \"\"\"\n",
    "    Return a Tensor for a batch of image input\n",
    "    : image_shape: Shape of the images\n",
    "    : return: Tensor for image input.\n",
    "    \"\"\"\n",
    "    # TODO: Implement Function\n",
    "    #return None\n",
    "    return tf.placeholder(tf.float32, [None, *image_shape], \"x\")\n",
    "\n",
    "\n",
    "def neural_net_label_input(n_classes):\n",
    "    \"\"\"\n",
    "    Return a Tensor for a batch of label input\n",
    "    : n_classes: Number of classes\n",
    "    : return: Tensor for label input.\n",
    "    \"\"\"\n",
    "    # TODO: Implement Function\n",
    "    #return None\n",
    "    return tf.placeholder(tf.float32, [None, n_classes], \"y\")\n",
    "\n",
    "\n",
    "def neural_net_keep_prob_input():\n",
    "    \"\"\"\n",
    "    Return a Tensor for keep probability\n",
    "    : return: Tensor for keep probability.\n",
    "    \"\"\"\n",
    "    # TODO: Implement Function\n",
    "    #return None\n",
    "    return tf.placeholder(tf.float32, name = \"keep_prob\")\n",
    "\n",
    "\n",
    "\"\"\"\n",
    "DON'T MODIFY ANYTHING IN THIS CELL THAT IS BELOW THIS LINE\n",
    "\"\"\"\n",
    "tf.reset_default_graph()\n",
    "tests.test_nn_image_inputs(neural_net_image_input)\n",
    "tests.test_nn_label_inputs(neural_net_label_input)\n",
    "tests.test_nn_keep_prob_inputs(neural_net_keep_prob_input)"
   ]
  },
  {
   "cell_type": "markdown",
   "metadata": {},
   "source": [
    "### Convolution and Max Pooling Layer\n",
    "Convolution layers have a lot of success with images. For this code cell, you should implement the function `conv2d_maxpool` to apply convolution then max pooling:\n",
    "* Create the weight and bias using `conv_ksize`, `conv_num_outputs` and the shape of `x_tensor`.\n",
    "* Apply a convolution to `x_tensor` using weight and `conv_strides`.\n",
    " * We recommend you use same padding, but you're welcome to use any padding.\n",
    "* Add bias\n",
    "* Add a nonlinear activation to the convolution.\n",
    "* Apply Max Pooling using `pool_ksize` and `pool_strides`.\n",
    " * We recommend you use same padding, but you're welcome to use any padding.\n",
    "\n",
    "**Note:** You **can't** use [TensorFlow Layers](https://www.tensorflow.org/api_docs/python/tf/layers) or [TensorFlow Layers (contrib)](https://www.tensorflow.org/api_guides/python/contrib.layers) for **this** layer, but you can still use TensorFlow's [Neural Network](https://www.tensorflow.org/api_docs/python/tf/nn) package. You may still use the shortcut option for all the **other** layers."
   ]
  },
  {
   "cell_type": "code",
   "execution_count": 47,
   "metadata": {
    "collapsed": false
   },
   "outputs": [
    {
     "name": "stdout",
     "output_type": "stream",
     "text": [
      "Tests Passed\n"
     ]
    }
   ],
   "source": [
    "def conv2d_maxpool(x_tensor, conv_num_outputs, conv_ksize, conv_strides, pool_ksize, pool_strides):\n",
    "    \"\"\"\n",
    "    Apply convolution then max pooling to x_tensor\n",
    "    :param x_tensor: TensorFlow Tensor\n",
    "    :param conv_num_outputs: Number of outputs for the convolutional layer\n",
    "    :param conv_ksize: kernal size 2-D Tuple for the convolutional layer\n",
    "    :param conv_strides: Stride 2-D Tuple for convolution\n",
    "    :param pool_ksize: kernal size 2-D Tuple for pool\n",
    "    :param pool_strides: Stride 2-D Tuple for pool\n",
    "    : return: A tensor that represents convolution and max pooling of x_tensor\n",
    "    \"\"\"\n",
    "    # TODO: Implement Function\n",
    "    #return None \n",
    "\n",
    "    color_channels = x_tensor.get_shape().as_list()[-1]\n",
    "    w = tf.Variable(tf.truncated_normal([*conv_ksize, color_channels, conv_num_outputs], stddev=0.1))\n",
    "    b = tf.Variable(tf.zeros(conv_num_outputs))\n",
    "\n",
    "    cl = tf.nn.conv2d(x_tensor, w, strides=[1, *conv_strides, 1], padding=\"SAME\")\n",
    "    cl = tf.nn.bias_add(cl, b)\n",
    "    cl = tf.nn.relu(cl)\n",
    "\n",
    "    cl = tf.nn.max_pool(cl,\n",
    "                        ksize=[1, *pool_ksize, 1],\n",
    "                        strides=[1, *pool_strides, 1],\n",
    "                        padding='SAME')\n",
    "    return cl\n",
    "\n",
    "\n",
    "\"\"\"\n",
    "DON'T MODIFY ANYTHING IN THIS CELL THAT IS BELOW THIS LINE\n",
    "\"\"\"\n",
    "tests.test_con_pool(conv2d_maxpool)"
   ]
  },
  {
   "cell_type": "markdown",
   "metadata": {},
   "source": [
    "### Flatten Layer\n",
    "Implement the `flatten` function to change the dimension of `x_tensor` from a 4-D tensor to a 2-D tensor.  The output should be the shape (*Batch Size*, *Flattened Image Size*). Shortcut option: you can use classes from the [TensorFlow Layers](https://www.tensorflow.org/api_docs/python/tf/layers) or [TensorFlow Layers (contrib)](https://www.tensorflow.org/api_guides/python/contrib.layers) packages for this layer. For more of a challenge, only use other TensorFlow packages."
   ]
  },
  {
   "cell_type": "code",
   "execution_count": 43,
   "metadata": {
    "collapsed": false
   },
   "outputs": [
    {
     "name": "stdout",
     "output_type": "stream",
     "text": [
      "Tests Passed\n"
     ]
    }
   ],
   "source": [
    "def flatten(x_tensor):\n",
    "    \"\"\"\n",
    "    Flatten x_tensor to (Batch Size, Flattened Image Size)\n",
    "    : x_tensor: A tensor of size (Batch Size, ...), where ... are the image dimensions.\n",
    "    : return: A tensor of size (Batch Size, Flattened Image Size).\n",
    "    \"\"\"\n",
    "    # TODO: Implement Function\n",
    "    #return None\n",
    "    \n",
    "    size = 1\n",
    "    for x in x_tensor.get_shape().as_list():\n",
    "        if(x is not None):\n",
    "            size = size * x\n",
    "    return tf.reshape(x_tensor, [-1, size])\n",
    "\n",
    "\"\"\"\n",
    "DON'T MODIFY ANYTHING IN THIS CELL THAT IS BELOW THIS LINE\n",
    "\"\"\"\n",
    "tests.test_flatten(flatten)"
   ]
  },
  {
   "cell_type": "markdown",
   "metadata": {},
   "source": [
    "### Fully-Connected Layer\n",
    "Implement the `fully_conn` function to apply a fully connected layer to `x_tensor` with the shape (*Batch Size*, *num_outputs*). Shortcut option: you can use classes from the [TensorFlow Layers](https://www.tensorflow.org/api_docs/python/tf/layers) or [TensorFlow Layers (contrib)](https://www.tensorflow.org/api_guides/python/contrib.layers) packages for this layer. For more of a challenge, only use other TensorFlow packages."
   ]
  },
  {
   "cell_type": "code",
   "execution_count": 30,
   "metadata": {
    "collapsed": false
   },
   "outputs": [
    {
     "name": "stdout",
     "output_type": "stream",
     "text": [
      "Tests Passed\n"
     ]
    }
   ],
   "source": [
    "def fully_conn(x_tensor, num_outputs):\n",
    "    \"\"\"\n",
    "    Apply a fully connected layer to x_tensor using weight and bias\n",
    "    : x_tensor: A 2-D tensor where the first dimension is batch size.\n",
    "    : num_outputs: The number of output that the new tensor should be.\n",
    "    : return: A 2-D tensor where the second dimension is num_outputs.\n",
    "    \"\"\"\n",
    "    # TODO: Implement Function\n",
    "    #return None\n",
    "    \n",
    "    s = x_tensor.get_shape().as_list()[1]\n",
    "    w = tf.Variable(tf.truncated_normal([s, num_outputs], stddev=0.1))\n",
    "    b = tf.Variable(tf.zeros(num_outputs))\n",
    "    cl = tf.add(tf.matmul(x_tensor, w), b)\n",
    "    cl = tf.nn.relu(cl)\n",
    "    return cl\n",
    "\n",
    "\n",
    "\"\"\"\n",
    "DON'T MODIFY ANYTHING IN THIS CELL THAT IS BELOW THIS LINE\n",
    "\"\"\"\n",
    "tests.test_fully_conn(fully_conn)"
   ]
  },
  {
   "cell_type": "markdown",
   "metadata": {},
   "source": [
    "### Output Layer\n",
    "Implement the `output` function to apply a fully connected layer to `x_tensor` with the shape (*Batch Size*, *num_outputs*). Shortcut option: you can use classes from the [TensorFlow Layers](https://www.tensorflow.org/api_docs/python/tf/layers) or [TensorFlow Layers (contrib)](https://www.tensorflow.org/api_guides/python/contrib.layers) packages for this layer. For more of a challenge, only use other TensorFlow packages.\n",
    "\n",
    "**Note:** Activation, softmax, or cross entropy should **not** be applied to this."
   ]
  },
  {
   "cell_type": "code",
   "execution_count": 39,
   "metadata": {
    "collapsed": false
   },
   "outputs": [
    {
     "name": "stdout",
     "output_type": "stream",
     "text": [
      "Tests Passed\n"
     ]
    }
   ],
   "source": [
    "def output(x_tensor, num_outputs):\n",
    "    \"\"\"\n",
    "    Apply a output layer to x_tensor using weight and bias\n",
    "    : x_tensor: A 2-D tensor where the first dimension is batch size.\n",
    "    : num_outputs: The number of output that the new tensor should be.\n",
    "    : return: A 2-D tensor where the second dimension is num_outputs.\n",
    "    \"\"\"\n",
    "    # TODO: Implement Function\n",
    "    #return None\n",
    "    \n",
    "    s = x_tensor.get_shape().as_list()[1]\n",
    "    w = tf.Variable(tf.truncated_normal([s, num_outputs], stddev=0.1))\n",
    "    b = tf.Variable(tf.zeros(num_outputs))\n",
    "    out = tf.add(tf.matmul(x_tensor, w), b)\n",
    "    return out\n",
    "\n",
    "\"\"\"\n",
    "DON'T MODIFY ANYTHING IN THIS CELL THAT IS BELOW THIS LINE\n",
    "\"\"\"\n",
    "tests.test_output(output)"
   ]
  },
  {
   "cell_type": "markdown",
   "metadata": {},
   "source": [
    "### Create Convolutional Model\n",
    "Implement the function `conv_net` to create a convolutional neural network model. The function takes in a batch of images, `x`, and outputs logits.  Use the layers you created above to create this model:\n",
    "\n",
    "* Apply 1, 2, or 3 Convolution and Max Pool layers\n",
    "* Apply a Flatten Layer\n",
    "* Apply 1, 2, or 3 Fully Connected Layers\n",
    "* Apply an Output Layer\n",
    "* Return the output\n",
    "* Apply [TensorFlow's Dropout](https://www.tensorflow.org/api_docs/python/tf/nn/dropout) to one or more layers in the model using `keep_prob`. "
   ]
  },
  {
   "cell_type": "code",
   "execution_count": 50,
   "metadata": {
    "collapsed": false
   },
   "outputs": [
    {
     "name": "stdout",
     "output_type": "stream",
     "text": [
      "Neural Network Built!\n"
     ]
    }
   ],
   "source": [
    "def conv_net(x, keep_prob):\n",
    "    \"\"\"\n",
    "    Create a convolutional neural network model\n",
    "    : x: Placeholder tensor that holds image data.\n",
    "    : keep_prob: Placeholder tensor that hold dropout keep probability.\n",
    "    : return: Tensor that represents logits\n",
    "    \"\"\"\n",
    "    # TODO: Apply 1, 2, or 3 Convolution and Max Pool layers\n",
    "    #    Play around with different number of outputs, kernel size and stride\n",
    "    # Function Definition from Above:\n",
    "    #    conv2d_maxpool(x_tensor, conv_num_outputs, conv_ksize, conv_strides, pool_ksize, pool_strides)\n",
    "    conv1 = conv2d_maxpool(x, 12, (3, 3), (1, 1), (2, 2), (2, 2))\n",
    "    conv2 = conv2d_maxpool(conv1, 24, (3, 3), (1, 1), (2, 2), (2, 2))\n",
    "    conv3 = conv2d_maxpool(conv2, 48, (3, 3), (1, 1), (2, 2), (2, 2))\n",
    "    \n",
    "\n",
    "    # TODO: Apply a Flatten Layer\n",
    "    # Function Definition from Above:\n",
    "    #   flatten(x_tensor)\n",
    "    flat = flatten(conv3)\n",
    "    \n",
    "\n",
    "    # TODO: Apply 1, 2, or 3 Fully Connected Layers\n",
    "    #    Play around with different number of outputs\n",
    "    # Function Definition from Above:\n",
    "    #   fully_conn(x_tensor, num_outputs)\n",
    "    fc1 = fully_conn(flat, 576)\n",
    "    fc1 = tf.nn.dropout(fc1, keep_prob)\n",
    "    fc2 = fully_conn(fc1, 384)\n",
    "    fc2 = tf.nn.dropout(fc2, keep_prob)\n",
    "    fc3 = fully_conn(fc2, 192)\n",
    "    fc3 = tf.nn.dropout(fc3, keep_prob)\n",
    "    \n",
    "    \n",
    "    # TODO: Apply an Output Layer\n",
    "    #    Set this to the number of classes\n",
    "    # Function Definition from Above:\n",
    "    #   output(x_tensor, num_outputs)\n",
    "    out = output(fc3, 10)\n",
    "    \n",
    "    \n",
    "    # TODO: return output\n",
    "    return out\n",
    "\n",
    "\n",
    "\"\"\"\n",
    "DON'T MODIFY ANYTHING IN THIS CELL THAT IS BELOW THIS LINE\n",
    "\"\"\"\n",
    "\n",
    "##############################\n",
    "## Build the Neural Network ##\n",
    "##############################\n",
    "\n",
    "# Remove previous weights, bias, inputs, etc..\n",
    "tf.reset_default_graph()\n",
    "\n",
    "# Inputs\n",
    "x = neural_net_image_input((32, 32, 3))\n",
    "y = neural_net_label_input(10)\n",
    "keep_prob = neural_net_keep_prob_input()\n",
    "\n",
    "# Model\n",
    "logits = conv_net(x, keep_prob)\n",
    "\n",
    "# Name logits Tensor, so that is can be loaded from disk after training\n",
    "logits = tf.identity(logits, name='logits')\n",
    "\n",
    "# Loss and Optimizer\n",
    "cost = tf.reduce_mean(tf.nn.softmax_cross_entropy_with_logits(logits=logits, labels=y))\n",
    "optimizer = tf.train.AdamOptimizer().minimize(cost)\n",
    "\n",
    "# Accuracy\n",
    "correct_pred = tf.equal(tf.argmax(logits, 1), tf.argmax(y, 1))\n",
    "accuracy = tf.reduce_mean(tf.cast(correct_pred, tf.float32), name='accuracy')\n",
    "\n",
    "tests.test_conv_net(conv_net)"
   ]
  },
  {
   "cell_type": "markdown",
   "metadata": {},
   "source": [
    "## Train the Neural Network\n",
    "### Single Optimization\n",
    "Implement the function `train_neural_network` to do a single optimization.  The optimization should use `optimizer` to optimize in `session` with a `feed_dict` of the following:\n",
    "* `x` for image input\n",
    "* `y` for labels\n",
    "* `keep_prob` for keep probability for dropout\n",
    "\n",
    "This function will be called for each batch, so `tf.global_variables_initializer()` has already been called.\n",
    "\n",
    "Note: Nothing needs to be returned. This function is only optimizing the neural network."
   ]
  },
  {
   "cell_type": "code",
   "execution_count": 57,
   "metadata": {
    "collapsed": false
   },
   "outputs": [
    {
     "name": "stdout",
     "output_type": "stream",
     "text": [
      "Tests Passed\n"
     ]
    }
   ],
   "source": [
    "def train_neural_network(session, optimizer, keep_probability, feature_batch, label_batch):\n",
    "    \"\"\"\n",
    "    Optimize the session on a batch of images and labels\n",
    "    : session: Current TensorFlow session\n",
    "    : optimizer: TensorFlow optimizer function\n",
    "    : keep_probability: keep probability\n",
    "    : feature_batch: Batch of Numpy image data\n",
    "    : label_batch: Batch of Numpy label data\n",
    "    \"\"\"\n",
    "    # TODO: Implement Function\n",
    "    session.run(optimizer, {x: feature_batch, y: label_batch, keep_prob: keep_probability})\n",
    "\n",
    "\n",
    "\"\"\"\n",
    "DON'T MODIFY ANYTHING IN THIS CELL THAT IS BELOW THIS LINE\n",
    "\"\"\"\n",
    "tests.test_train_nn(train_neural_network)"
   ]
  },
  {
   "cell_type": "markdown",
   "metadata": {},
   "source": [
    "### Show Stats\n",
    "Implement the function `print_stats` to print loss and validation accuracy.  Use the global variables `valid_features` and `valid_labels` to calculate validation accuracy.  Use a keep probability of `1.0` to calculate the loss and validation accuracy."
   ]
  },
  {
   "cell_type": "code",
   "execution_count": 62,
   "metadata": {
    "collapsed": true
   },
   "outputs": [],
   "source": [
    "def print_stats(session, feature_batch, label_batch, cost, accuracy):\n",
    "    \"\"\"\n",
    "    Print information about loss and validation accuracy\n",
    "    : session: Current TensorFlow session\n",
    "    : feature_batch: Batch of Numpy image data\n",
    "    : label_batch: Batch of Numpy label data\n",
    "    : cost: TensorFlow cost function\n",
    "    : accuracy: TensorFlow accuracy function\n",
    "    \"\"\"\n",
    "    # TODO: Implement Function\n",
    "    train_loss = session.run(cost, {x: feature_batch, y: label_batch, keep_prob: 1.})\n",
    "    valid_loss = session.run(cost, {x: valid_features, y: valid_labels, keep_prob: 1.})\n",
    "    valid_acc = session.run(accuracy, {x: valid_features, y: valid_labels, keep_prob: 1.})\n",
    "    print('Train Loss: {:>10.6f}, Validation Loss: {:>10.6f}, Validation Accuracy: {:.6f}'\n",
    "          .format(train_loss, valid_loss, valid_acc))"
   ]
  },
  {
   "cell_type": "markdown",
   "metadata": {},
   "source": [
    "### Hyperparameters\n",
    "Tune the following parameters:\n",
    "* Set `epochs` to the number of iterations until the network stops learning or start overfitting\n",
    "* Set `batch_size` to the highest number that your machine has memory for.  Most people set them to common sizes of memory:\n",
    " * 64\n",
    " * 128\n",
    " * 256\n",
    " * ...\n",
    "* Set `keep_probability` to the probability of keeping a node using dropout"
   ]
  },
  {
   "cell_type": "code",
   "execution_count": 63,
   "metadata": {
    "collapsed": true
   },
   "outputs": [],
   "source": [
    "# TODO: Tune Parameters\n",
    "epochs = 20\n",
    "batch_size = 256\n",
    "keep_probability = 0.5"
   ]
  },
  {
   "cell_type": "markdown",
   "metadata": {},
   "source": [
    "### Train on a Single CIFAR-10 Batch\n",
    "Instead of training the neural network on all the CIFAR-10 batches of data, let's use a single batch. This should save time while you iterate on the model to get a better accuracy.  Once the final validation accuracy is 50% or greater, run the model on all the data in the next section."
   ]
  },
  {
   "cell_type": "code",
   "execution_count": 64,
   "metadata": {
    "collapsed": false
   },
   "outputs": [
    {
     "name": "stdout",
     "output_type": "stream",
     "text": [
      "Checking the Training on a Single Batch...\n",
      "Epoch  1, CIFAR-10 Batch 1:  Train Loss:   2.219978, Validation Loss:   2.204139, Validation Accuracy: 0.188000\n",
      "Epoch  2, CIFAR-10 Batch 1:  Train Loss:   2.086847, Validation Loss:   1.966861, Validation Accuracy: 0.260800\n",
      "Epoch  3, CIFAR-10 Batch 1:  Train Loss:   1.956416, Validation Loss:   1.824202, Validation Accuracy: 0.332000\n",
      "Epoch  4, CIFAR-10 Batch 1:  Train Loss:   1.709904, Validation Loss:   1.644419, Validation Accuracy: 0.390600\n",
      "Epoch  5, CIFAR-10 Batch 1:  Train Loss:   1.560045, Validation Loss:   1.572423, Validation Accuracy: 0.414200\n",
      "Epoch  6, CIFAR-10 Batch 1:  Train Loss:   1.457045, Validation Loss:   1.501035, Validation Accuracy: 0.455400\n",
      "Epoch  7, CIFAR-10 Batch 1:  Train Loss:   1.247756, Validation Loss:   1.453511, Validation Accuracy: 0.466600\n",
      "Epoch  8, CIFAR-10 Batch 1:  Train Loss:   1.112606, Validation Loss:   1.392380, Validation Accuracy: 0.489400\n",
      "Epoch  9, CIFAR-10 Batch 1:  Train Loss:   0.975525, Validation Loss:   1.341261, Validation Accuracy: 0.506600\n",
      "Epoch 10, CIFAR-10 Batch 1:  Train Loss:   0.834902, Validation Loss:   1.309495, Validation Accuracy: 0.526000\n",
      "Epoch 11, CIFAR-10 Batch 1:  Train Loss:   0.773898, Validation Loss:   1.295306, Validation Accuracy: 0.529000\n",
      "Epoch 12, CIFAR-10 Batch 1:  Train Loss:   0.680615, Validation Loss:   1.285511, Validation Accuracy: 0.533800\n",
      "Epoch 13, CIFAR-10 Batch 1:  Train Loss:   0.641792, Validation Loss:   1.266499, Validation Accuracy: 0.546000\n",
      "Epoch 14, CIFAR-10 Batch 1:  Train Loss:   0.585767, Validation Loss:   1.260579, Validation Accuracy: 0.548800\n",
      "Epoch 15, CIFAR-10 Batch 1:  Train Loss:   0.545844, Validation Loss:   1.263440, Validation Accuracy: 0.548600\n",
      "Epoch 16, CIFAR-10 Batch 1:  Train Loss:   0.451876, Validation Loss:   1.210916, Validation Accuracy: 0.571800\n",
      "Epoch 17, CIFAR-10 Batch 1:  Train Loss:   0.410641, Validation Loss:   1.227912, Validation Accuracy: 0.571000\n",
      "Epoch 18, CIFAR-10 Batch 1:  Train Loss:   0.398686, Validation Loss:   1.204953, Validation Accuracy: 0.577200\n",
      "Epoch 19, CIFAR-10 Batch 1:  Train Loss:   0.333781, Validation Loss:   1.281754, Validation Accuracy: 0.568400\n",
      "Epoch 20, CIFAR-10 Batch 1:  Train Loss:   0.309537, Validation Loss:   1.289347, Validation Accuracy: 0.577200\n"
     ]
    }
   ],
   "source": [
    "\"\"\"\n",
    "DON'T MODIFY ANYTHING IN THIS CELL\n",
    "\"\"\"\n",
    "print('Checking the Training on a Single Batch...')\n",
    "with tf.Session() as sess:\n",
    "    # Initializing the variables\n",
    "    sess.run(tf.global_variables_initializer())\n",
    "    \n",
    "    # Training cycle\n",
    "    for epoch in range(epochs):\n",
    "        batch_i = 1\n",
    "        for batch_features, batch_labels in helper.load_preprocess_training_batch(batch_i, batch_size):\n",
    "            train_neural_network(sess, optimizer, keep_probability, batch_features, batch_labels)\n",
    "        print('Epoch {:>2}, CIFAR-10 Batch {}:  '.format(epoch + 1, batch_i), end='')\n",
    "        print_stats(sess, batch_features, batch_labels, cost, accuracy)"
   ]
  },
  {
   "cell_type": "markdown",
   "metadata": {},
   "source": [
    "### Fully Train the Model\n",
    "Now that you got a good accuracy with a single CIFAR-10 batch, try it with all five batches."
   ]
  },
  {
   "cell_type": "code",
   "execution_count": 65,
   "metadata": {
    "collapsed": false
   },
   "outputs": [
    {
     "name": "stdout",
     "output_type": "stream",
     "text": [
      "Training...\n",
      "Epoch  1, CIFAR-10 Batch 1:  Train Loss:   2.304374, Validation Loss:   2.289113, Validation Accuracy: 0.149400\n",
      "Epoch  1, CIFAR-10 Batch 2:  Train Loss:   2.130925, Validation Loss:   2.118764, Validation Accuracy: 0.196000\n",
      "Epoch  1, CIFAR-10 Batch 3:  Train Loss:   1.761606, Validation Loss:   1.854385, Validation Accuracy: 0.299400\n",
      "Epoch  1, CIFAR-10 Batch 4:  Train Loss:   1.738613, Validation Loss:   1.747887, Validation Accuracy: 0.396800\n",
      "Epoch  1, CIFAR-10 Batch 5:  Train Loss:   1.665511, Validation Loss:   1.601236, Validation Accuracy: 0.414800\n",
      "Epoch  2, CIFAR-10 Batch 1:  Train Loss:   1.767111, Validation Loss:   1.539437, Validation Accuracy: 0.432000\n",
      "Epoch  2, CIFAR-10 Batch 2:  Train Loss:   1.650117, Validation Loss:   1.537722, Validation Accuracy: 0.435200\n",
      "Epoch  2, CIFAR-10 Batch 3:  Train Loss:   1.288920, Validation Loss:   1.480101, Validation Accuracy: 0.454200\n",
      "Epoch  2, CIFAR-10 Batch 4:  Train Loss:   1.477021, Validation Loss:   1.465179, Validation Accuracy: 0.473000\n",
      "Epoch  2, CIFAR-10 Batch 5:  Train Loss:   1.419990, Validation Loss:   1.422915, Validation Accuracy: 0.477800\n",
      "Epoch  3, CIFAR-10 Batch 1:  Train Loss:   1.480658, Validation Loss:   1.436946, Validation Accuracy: 0.473000\n",
      "Epoch  3, CIFAR-10 Batch 2:  Train Loss:   1.442208, Validation Loss:   1.415096, Validation Accuracy: 0.489200\n",
      "Epoch  3, CIFAR-10 Batch 3:  Train Loss:   1.194747, Validation Loss:   1.368812, Validation Accuracy: 0.504400\n",
      "Epoch  3, CIFAR-10 Batch 4:  Train Loss:   1.260782, Validation Loss:   1.330302, Validation Accuracy: 0.518000\n",
      "Epoch  3, CIFAR-10 Batch 5:  Train Loss:   1.323931, Validation Loss:   1.339951, Validation Accuracy: 0.513200\n",
      "Epoch  4, CIFAR-10 Batch 1:  Train Loss:   1.273913, Validation Loss:   1.291893, Validation Accuracy: 0.532000\n",
      "Epoch  4, CIFAR-10 Batch 2:  Train Loss:   1.315867, Validation Loss:   1.324665, Validation Accuracy: 0.516200\n",
      "Epoch  4, CIFAR-10 Batch 3:  Train Loss:   1.000234, Validation Loss:   1.295529, Validation Accuracy: 0.525600\n",
      "Epoch  4, CIFAR-10 Batch 4:  Train Loss:   1.169188, Validation Loss:   1.264796, Validation Accuracy: 0.533400\n",
      "Epoch  4, CIFAR-10 Batch 5:  Train Loss:   1.137551, Validation Loss:   1.231265, Validation Accuracy: 0.553800\n",
      "Epoch  5, CIFAR-10 Batch 1:  Train Loss:   1.155616, Validation Loss:   1.219457, Validation Accuracy: 0.562200\n",
      "Epoch  5, CIFAR-10 Batch 2:  Train Loss:   1.153867, Validation Loss:   1.229391, Validation Accuracy: 0.551400\n",
      "Epoch  5, CIFAR-10 Batch 3:  Train Loss:   0.883562, Validation Loss:   1.218917, Validation Accuracy: 0.556800\n",
      "Epoch  5, CIFAR-10 Batch 4:  Train Loss:   1.070267, Validation Loss:   1.218238, Validation Accuracy: 0.560600\n",
      "Epoch  5, CIFAR-10 Batch 5:  Train Loss:   0.978680, Validation Loss:   1.210490, Validation Accuracy: 0.561200\n",
      "Epoch  6, CIFAR-10 Batch 1:  Train Loss:   0.937061, Validation Loss:   1.162573, Validation Accuracy: 0.577000\n",
      "Epoch  6, CIFAR-10 Batch 2:  Train Loss:   0.946497, Validation Loss:   1.158539, Validation Accuracy: 0.578600\n",
      "Epoch  6, CIFAR-10 Batch 3:  Train Loss:   0.776827, Validation Loss:   1.149448, Validation Accuracy: 0.578400\n",
      "Epoch  6, CIFAR-10 Batch 4:  Train Loss:   0.952317, Validation Loss:   1.142031, Validation Accuracy: 0.587600\n",
      "Epoch  6, CIFAR-10 Batch 5:  Train Loss:   0.847465, Validation Loss:   1.150891, Validation Accuracy: 0.591400\n",
      "Epoch  7, CIFAR-10 Batch 1:  Train Loss:   0.877146, Validation Loss:   1.130725, Validation Accuracy: 0.594000\n",
      "Epoch  7, CIFAR-10 Batch 2:  Train Loss:   0.816387, Validation Loss:   1.138915, Validation Accuracy: 0.591600\n",
      "Epoch  7, CIFAR-10 Batch 3:  Train Loss:   0.725025, Validation Loss:   1.146917, Validation Accuracy: 0.586600\n",
      "Epoch  7, CIFAR-10 Batch 4:  Train Loss:   0.848114, Validation Loss:   1.107408, Validation Accuracy: 0.600000\n",
      "Epoch  7, CIFAR-10 Batch 5:  Train Loss:   0.659788, Validation Loss:   1.085988, Validation Accuracy: 0.612000\n",
      "Epoch  8, CIFAR-10 Batch 1:  Train Loss:   0.746209, Validation Loss:   1.108889, Validation Accuracy: 0.609200\n",
      "Epoch  8, CIFAR-10 Batch 2:  Train Loss:   0.684892, Validation Loss:   1.121056, Validation Accuracy: 0.597800\n",
      "Epoch  8, CIFAR-10 Batch 3:  Train Loss:   0.610808, Validation Loss:   1.114029, Validation Accuracy: 0.598400\n",
      "Epoch  8, CIFAR-10 Batch 4:  Train Loss:   0.685951, Validation Loss:   1.074012, Validation Accuracy: 0.624800\n",
      "Epoch  8, CIFAR-10 Batch 5:  Train Loss:   0.624524, Validation Loss:   1.082828, Validation Accuracy: 0.615000\n",
      "Epoch  9, CIFAR-10 Batch 1:  Train Loss:   0.655169, Validation Loss:   1.105514, Validation Accuracy: 0.605000\n",
      "Epoch  9, CIFAR-10 Batch 2:  Train Loss:   0.649124, Validation Loss:   1.061531, Validation Accuracy: 0.616200\n",
      "Epoch  9, CIFAR-10 Batch 3:  Train Loss:   0.561719, Validation Loss:   1.101480, Validation Accuracy: 0.609400\n",
      "Epoch  9, CIFAR-10 Batch 4:  Train Loss:   0.613681, Validation Loss:   1.067085, Validation Accuracy: 0.623200\n",
      "Epoch  9, CIFAR-10 Batch 5:  Train Loss:   0.479205, Validation Loss:   1.041584, Validation Accuracy: 0.627200\n",
      "Epoch 10, CIFAR-10 Batch 1:  Train Loss:   0.601776, Validation Loss:   1.088990, Validation Accuracy: 0.616600\n",
      "Epoch 10, CIFAR-10 Batch 2:  Train Loss:   0.521643, Validation Loss:   1.044328, Validation Accuracy: 0.623800\n",
      "Epoch 10, CIFAR-10 Batch 3:  Train Loss:   0.485164, Validation Loss:   1.100363, Validation Accuracy: 0.606200\n",
      "Epoch 10, CIFAR-10 Batch 4:  Train Loss:   0.504904, Validation Loss:   1.060625, Validation Accuracy: 0.634600\n",
      "Epoch 10, CIFAR-10 Batch 5:  Train Loss:   0.408434, Validation Loss:   1.063226, Validation Accuracy: 0.625600\n",
      "Epoch 11, CIFAR-10 Batch 1:  Train Loss:   0.563404, Validation Loss:   1.025726, Validation Accuracy: 0.637400\n",
      "Epoch 11, CIFAR-10 Batch 2:  Train Loss:   0.463420, Validation Loss:   1.035694, Validation Accuracy: 0.635200\n",
      "Epoch 11, CIFAR-10 Batch 3:  Train Loss:   0.413182, Validation Loss:   1.086520, Validation Accuracy: 0.624400\n",
      "Epoch 11, CIFAR-10 Batch 4:  Train Loss:   0.420246, Validation Loss:   1.027256, Validation Accuracy: 0.636800\n",
      "Epoch 11, CIFAR-10 Batch 5:  Train Loss:   0.342174, Validation Loss:   0.998840, Validation Accuracy: 0.646600\n",
      "Epoch 12, CIFAR-10 Batch 1:  Train Loss:   0.496769, Validation Loss:   1.014730, Validation Accuracy: 0.640000\n",
      "Epoch 12, CIFAR-10 Batch 2:  Train Loss:   0.405855, Validation Loss:   1.010928, Validation Accuracy: 0.640200\n",
      "Epoch 12, CIFAR-10 Batch 3:  Train Loss:   0.336424, Validation Loss:   1.048918, Validation Accuracy: 0.637200\n",
      "Epoch 12, CIFAR-10 Batch 4:  Train Loss:   0.353728, Validation Loss:   1.004521, Validation Accuracy: 0.648800\n",
      "Epoch 12, CIFAR-10 Batch 5:  Train Loss:   0.285311, Validation Loss:   0.986823, Validation Accuracy: 0.654000\n",
      "Epoch 13, CIFAR-10 Batch 1:  Train Loss:   0.460162, Validation Loss:   1.015823, Validation Accuracy: 0.637600\n",
      "Epoch 13, CIFAR-10 Batch 2:  Train Loss:   0.374124, Validation Loss:   0.982695, Validation Accuracy: 0.654600\n",
      "Epoch 13, CIFAR-10 Batch 3:  Train Loss:   0.303225, Validation Loss:   1.016201, Validation Accuracy: 0.646600\n",
      "Epoch 13, CIFAR-10 Batch 4:  Train Loss:   0.347593, Validation Loss:   1.016844, Validation Accuracy: 0.646200\n",
      "Epoch 13, CIFAR-10 Batch 5:  Train Loss:   0.264105, Validation Loss:   0.974389, Validation Accuracy: 0.654800\n",
      "Epoch 14, CIFAR-10 Batch 1:  Train Loss:   0.408065, Validation Loss:   0.987627, Validation Accuracy: 0.653600\n",
      "Epoch 14, CIFAR-10 Batch 2:  Train Loss:   0.315110, Validation Loss:   0.990708, Validation Accuracy: 0.654000\n",
      "Epoch 14, CIFAR-10 Batch 3:  Train Loss:   0.296082, Validation Loss:   1.024193, Validation Accuracy: 0.647200\n",
      "Epoch 14, CIFAR-10 Batch 4:  Train Loss:   0.278398, Validation Loss:   0.984598, Validation Accuracy: 0.655800\n",
      "Epoch 14, CIFAR-10 Batch 5:  Train Loss:   0.210836, Validation Loss:   0.960066, Validation Accuracy: 0.664000\n",
      "Epoch 15, CIFAR-10 Batch 1:  Train Loss:   0.323904, Validation Loss:   0.981721, Validation Accuracy: 0.659200\n",
      "Epoch 15, CIFAR-10 Batch 2:  Train Loss:   0.279039, Validation Loss:   0.974107, Validation Accuracy: 0.659200\n",
      "Epoch 15, CIFAR-10 Batch 3:  Train Loss:   0.252905, Validation Loss:   1.019366, Validation Accuracy: 0.646800\n",
      "Epoch 15, CIFAR-10 Batch 4:  Train Loss:   0.233335, Validation Loss:   0.994805, Validation Accuracy: 0.654400\n",
      "Epoch 15, CIFAR-10 Batch 5:  Train Loss:   0.178660, Validation Loss:   0.958218, Validation Accuracy: 0.661800\n",
      "Epoch 16, CIFAR-10 Batch 1:  Train Loss:   0.326782, Validation Loss:   0.969095, Validation Accuracy: 0.662200\n",
      "Epoch 16, CIFAR-10 Batch 2:  Train Loss:   0.233102, Validation Loss:   0.988561, Validation Accuracy: 0.659000\n",
      "Epoch 16, CIFAR-10 Batch 3:  Train Loss:   0.213091, Validation Loss:   0.984486, Validation Accuracy: 0.655800\n",
      "Epoch 16, CIFAR-10 Batch 4:  Train Loss:   0.185734, Validation Loss:   0.982803, Validation Accuracy: 0.665600\n",
      "Epoch 16, CIFAR-10 Batch 5:  Train Loss:   0.170454, Validation Loss:   0.998746, Validation Accuracy: 0.657400\n",
      "Epoch 17, CIFAR-10 Batch 1:  Train Loss:   0.268322, Validation Loss:   0.974374, Validation Accuracy: 0.656000\n",
      "Epoch 17, CIFAR-10 Batch 2:  Train Loss:   0.211609, Validation Loss:   0.997999, Validation Accuracy: 0.653800\n",
      "Epoch 17, CIFAR-10 Batch 3:  Train Loss:   0.194941, Validation Loss:   0.976723, Validation Accuracy: 0.658800\n",
      "Epoch 17, CIFAR-10 Batch 4:  Train Loss:   0.202103, Validation Loss:   0.976980, Validation Accuracy: 0.664200\n",
      "Epoch 17, CIFAR-10 Batch 5:  Train Loss:   0.142677, Validation Loss:   0.968005, Validation Accuracy: 0.670000\n",
      "Epoch 18, CIFAR-10 Batch 1:  Train Loss:   0.210549, Validation Loss:   0.968932, Validation Accuracy: 0.675000\n",
      "Epoch 18, CIFAR-10 Batch 2:  Train Loss:   0.179365, Validation Loss:   0.958675, Validation Accuracy: 0.669800\n",
      "Epoch 18, CIFAR-10 Batch 3:  Train Loss:   0.196661, Validation Loss:   0.980611, Validation Accuracy: 0.665400\n",
      "Epoch 18, CIFAR-10 Batch 4:  Train Loss:   0.165490, Validation Loss:   0.962423, Validation Accuracy: 0.665800\n",
      "Epoch 18, CIFAR-10 Batch 5:  Train Loss:   0.137170, Validation Loss:   0.967692, Validation Accuracy: 0.672400\n",
      "Epoch 19, CIFAR-10 Batch 1:  Train Loss:   0.184316, Validation Loss:   0.960501, Validation Accuracy: 0.673400\n",
      "Epoch 19, CIFAR-10 Batch 2:  Train Loss:   0.180575, Validation Loss:   0.985563, Validation Accuracy: 0.663400\n",
      "Epoch 19, CIFAR-10 Batch 3:  Train Loss:   0.154515, Validation Loss:   0.987523, Validation Accuracy: 0.668800\n",
      "Epoch 19, CIFAR-10 Batch 4:  Train Loss:   0.159501, Validation Loss:   0.978499, Validation Accuracy: 0.664200\n",
      "Epoch 19, CIFAR-10 Batch 5:  Train Loss:   0.120731, Validation Loss:   0.969884, Validation Accuracy: 0.674400\n",
      "Epoch 20, CIFAR-10 Batch 1:  Train Loss:   0.213122, Validation Loss:   0.979208, Validation Accuracy: 0.664400\n",
      "Epoch 20, CIFAR-10 Batch 2:  Train Loss:   0.166710, Validation Loss:   0.965886, Validation Accuracy: 0.672000\n",
      "Epoch 20, CIFAR-10 Batch 3:  Train Loss:   0.190784, Validation Loss:   1.018062, Validation Accuracy: 0.658400\n",
      "Epoch 20, CIFAR-10 Batch 4:  Train Loss:   0.138774, Validation Loss:   0.958585, Validation Accuracy: 0.677200\n",
      "Epoch 20, CIFAR-10 Batch 5:  Train Loss:   0.101109, Validation Loss:   0.957856, Validation Accuracy: 0.675200\n"
     ]
    }
   ],
   "source": [
    "\"\"\"\n",
    "DON'T MODIFY ANYTHING IN THIS CELL\n",
    "\"\"\"\n",
    "save_model_path = './image_classification'\n",
    "\n",
    "print('Training...')\n",
    "with tf.Session() as sess:\n",
    "    # Initializing the variables\n",
    "    sess.run(tf.global_variables_initializer())\n",
    "    \n",
    "    # Training cycle\n",
    "    for epoch in range(epochs):\n",
    "        # Loop over all batches\n",
    "        n_batches = 5\n",
    "        for batch_i in range(1, n_batches + 1):\n",
    "            for batch_features, batch_labels in helper.load_preprocess_training_batch(batch_i, batch_size):\n",
    "                train_neural_network(sess, optimizer, keep_probability, batch_features, batch_labels)\n",
    "            print('Epoch {:>2}, CIFAR-10 Batch {}:  '.format(epoch + 1, batch_i), end='')\n",
    "            print_stats(sess, batch_features, batch_labels, cost, accuracy)\n",
    "            \n",
    "    # Save Model\n",
    "    saver = tf.train.Saver()\n",
    "    save_path = saver.save(sess, save_model_path)"
   ]
  },
  {
   "cell_type": "markdown",
   "metadata": {},
   "source": [
    "# Checkpoint\n",
    "The model has been saved to disk.\n",
    "## Test Model\n",
    "Test your model against the test dataset.  This will be your final accuracy. You should have an accuracy greater than 50%. If you don't, keep tweaking the model architecture and parameters."
   ]
  },
  {
   "cell_type": "code",
   "execution_count": 66,
   "metadata": {
    "collapsed": false
   },
   "outputs": [
    {
     "name": "stdout",
     "output_type": "stream",
     "text": [
      "INFO:tensorflow:Restoring parameters from ./image_classification\n",
      "Testing Accuracy: 0.67109375\n",
      "\n"
     ]
    },
    {
     "data": {
      "image/png": "[encoded data removed]",
      "text/plain": [
       "<matplotlib.figure.Figure at 0xda9df5b7b8>"
      ]
     },
     "metadata": {
      "image/png": {
       "height": 319,
       "width": 355
      }
     },
     "output_type": "display_data"
    }
   ],
   "source": [
    "\"\"\"\n",
    "DON'T MODIFY ANYTHING IN THIS CELL\n",
    "\"\"\"\n",
    "%matplotlib inline\n",
    "%config InlineBackend.figure_format = 'retina'\n",
    "\n",
    "import tensorflow as tf\n",
    "import pickle\n",
    "import helper\n",
    "import random\n",
    "\n",
    "# Set batch size if not already set\n",
    "try:\n",
    "    if batch_size:\n",
    "        pass\n",
    "except NameError:\n",
    "    batch_size = 64\n",
    "\n",
    "save_model_path = './image_classification'\n",
    "n_samples = 4\n",
    "top_n_predictions = 3\n",
    "\n",
    "def test_model():\n",
    "    \"\"\"\n",
    "    Test the saved model against the test dataset\n",
    "    \"\"\"\n",
    "\n",
    "    test_features, test_labels = pickle.load(open('preprocess_test.p', mode='rb'))\n",
    "    loaded_graph = tf.Graph()\n",
    "\n",
    "    with tf.Session(graph=loaded_graph) as sess:\n",
    "        # Load model\n",
    "        loader = tf.train.import_meta_graph(save_model_path + '.meta')\n",
    "        loader.restore(sess, save_model_path)\n",
    "\n",
    "        # Get Tensors from loaded model\n",
    "        loaded_x = loaded_graph.get_tensor_by_name('x:0')\n",
    "        loaded_y = loaded_graph.get_tensor_by_name('y:0')\n",
    "        loaded_keep_prob = loaded_graph.get_tensor_by_name('keep_prob:0')\n",
    "        loaded_logits = loaded_graph.get_tensor_by_name('logits:0')\n",
    "        loaded_acc = loaded_graph.get_tensor_by_name('accuracy:0')\n",
    "        \n",
    "        # Get accuracy in batches for memory limitations\n",
    "        test_batch_acc_total = 0\n",
    "        test_batch_count = 0\n",
    "        \n",
    "        for test_feature_batch, test_label_batch in helper.batch_features_labels(test_features, test_labels, batch_size):\n",
    "            test_batch_acc_total += sess.run(\n",
    "                loaded_acc,\n",
    "                feed_dict={loaded_x: test_feature_batch, loaded_y: test_label_batch, loaded_keep_prob: 1.0})\n",
    "            test_batch_count += 1\n",
    "\n",
    "        print('Testing Accuracy: {}\\n'.format(test_batch_acc_total/test_batch_count))\n",
    "\n",
    "        # Print Random Samples\n",
    "        random_test_features, random_test_labels = tuple(zip(*random.sample(list(zip(test_features, test_labels)), n_samples)))\n",
    "        random_test_predictions = sess.run(\n",
    "            tf.nn.top_k(tf.nn.softmax(loaded_logits), top_n_predictions),\n",
    "            feed_dict={loaded_x: random_test_features, loaded_y: random_test_labels, loaded_keep_prob: 1.0})\n",
    "        helper.display_image_predictions(random_test_features, random_test_labels, random_test_predictions)\n",
    "\n",
    "\n",
    "test_model()"
   ]
  },
  {
   "cell_type": "markdown",
   "metadata": {},
   "source": [
    "## Why 50-80% Accuracy?\n",
    "You might be wondering why you can't get an accuracy any higher. First things first, 50% isn't bad for a simple CNN.  Pure guessing would get you 10% accuracy. However, you might notice people are getting scores [well above 80%](http://rodrigob.github.io/are_we_there_yet/build/classification_datasets_results.html#43494641522d3130).  That's because we haven't taught you all there is to know about neural networks. We still need to cover a few more techniques.\n",
    "## Submitting This Project\n",
    "When submitting this project, make sure to run all the cells before saving the notebook.  Save the notebook file as \"dlnd_image_classification.ipynb\" and save it as a HTML file under \"File\" -> \"Download as\".  Include the \"helper.py\" and \"problem_unittests.py\" files in your submission."
   ]
  }
 ],
 "metadata": {
  "kernelspec": {
   "display_name": "Python [conda env:py35]",
   "language": "python",
   "name": "conda-env-py35-py"
  },
  "language_info": {
   "codemirror_mode": {
    "name": "ipython",
    "version": 3
   },
   "file_extension": ".py",
   "mimetype": "text/x-python",
   "name": "python",
   "nbconvert_exporter": "python",
   "pygments_lexer": "ipython3",
   "version": "3.5.2"
  }
 },
 "nbformat": 4,
 "nbformat_minor": 1
}
