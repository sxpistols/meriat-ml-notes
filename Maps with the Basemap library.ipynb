{
 "cells": [
  {
   "cell_type": "markdown",
   "metadata": {},
   "source": [
    "# Producing maps with the Basemap library\n",
    "\n",
    "We can be more flexible than that and plot the same data in many different projections using a Python/Matplotlib library called [Basemap](http://matplotlib.org/basemap/).\n",
    "\n",
    "## Objectives\n",
    "1. To get an overview of different map projections\n",
    "1. To learn how to use the Basemap library to plot data in different projections\n",
    "\n",
    "## Map projections\n",
    "\n",
    "A full discussion of map projections is beyond the scope of this practical, but you can see [this article](http://en.wikipedia.org/wiki/Map_projection) on Wikipedia for a good overview. Basically, map projections may be designed to preserve different properties:\n",
    "\n",
    "* **Equal-area** projections preserve *area* so that one pixel on the screen represents the same area of the Earth's surface everywhere on the map. The [Sinusoidal](http://matplotlib.org/basemap/users/sinu.html) projection is an example of this.\n",
    "* **Conformal** projections preserve *shape* locally so that circles on the Earth's surface are circles on the map. An example of this is the [Stereographic](http://matplotlib.org/basemap/users/stere.html) projection.\n",
    "* **Equidistant** projections preserve *distance* from a standard point or points on the map, for example the typical [Equidistant Cylindrical](http://matplotlib.org/basemap/users/cyl.html) (latitude-longitude or Plate Carr\u001d",
    "ée) projection or the [Azimuthal Equidistant](http://matplotlib.org/basemap/users/aeqd.html) projection.\n",
    "* The [Mercator](http://matplotlib.org/basemap/users/merc.html) projection has the property that straight lines on the map between any two points can be directly translated to compass bearings, making navigation easy (which is why Google Maps uses a Mercator projection).\n",
    "* The [Perspective](http://matplotlib.org/basemap/users/nsper.html) projection represents a view of the Earth from space. The [Geostationary](http://matplotlib.org/basemap/users/geos.html) projection is a special case of this, representing a view from geostationary orbit. The [Orthographic](http://matplotlib.org/basemap/users/ortho.html) projection represents a view of the Earth from an infinite distance. \n",
    "\n",
    "The key points are:\n",
    "1. There is no map projection that preserves all these quantities (area, shape or distance) everywhere on the map. Therefore the choice of map projection depends on what you want to show. If you are showing areal statistics, you will probably want an area-preserving projection otherwise your data will distort the truth. (Commonly-used projections such as latitude-longitude or Mercator projections severely exaggerate the apparent size of land masses at high latitudes.)\n",
    "1. The commonly-used latitude-longitude projection does not preserve area or shape, and it is not very useful for navigation, so it is often derided by cartographers. Bear this in mind when producing plots and consider using a better projection if appropriate.\n",
    "\n",
    "## How to use the Basemap library\n",
    "We will work through how to use Matplotlib's [Basemap](http://matplotlib.org/basemap/) library to produce map plots in different projections. We start by importing some libraries, many of which are exactly the same as in previous lessons."
   ]
  },
  {
   "cell_type": "code",
   "execution_count": 6,
   "metadata": {
    "collapsed": false
   },
   "outputs": [],
   "source": [
    "from netCDF4 import Dataset\n",
    "import numpy as np\n",
    "import matplotlib.pyplot as plt\n",
    "from mpl_toolkits.basemap import Basemap\n",
    "\n",
    "# These lines are needed to make matplotlib plot figures inline and at a decent size.\n",
    "# They are not needed in scripts.\n",
    "%matplotlib inline\n",
    "plt.rcParams['figure.figsize'] = (12.0, 8.0)\n",
    "\n",
    "# Then we read some data from a file in the same way as we did in the previous lesson:\n",
    "nc = Dataset('./data/maps/pottmp.2014.1time.nc')\n",
    "pottmp = nc.variables['pottmp']\n",
    "lons = nc.variables['lon'][:]\n",
    "lats = nc.variables['lat'][:]\n",
    "# Creates a 2d field by slicing at the first vertical level and timestep\n",
    "data = pottmp[0,0] "
   ]
  },
  {
   "cell_type": "markdown",
   "metadata": {},
   "source": [
    "Now we create the Basemap object itself, using an Orthographic projection (because it looks nice). To use different map projections, edit this line according to the Basemap documentation (see the Exercise below):"
   ]
  },
  {
   "cell_type": "code",
   "execution_count": 7,
   "metadata": {
    "collapsed": true
   },
   "outputs": [],
   "source": [
    "m = Basemap(projection='ortho', lon_0=-50, lat_0=40, resolution='l')"
   ]
  },
  {
   "cell_type": "markdown",
   "metadata": {},
   "source": [
    "Here comes the tricky bit. We have to create a grid of latitude and longitude values, then convert them all to map projection coordinates. Note that the Basemap object (called m here) is acting as a function that translates lat-lon to x-y coordinates. Don't worry if you don't understand this:"
   ]
  },
  {
   "cell_type": "code",
   "execution_count": 8,
   "metadata": {
    "collapsed": true
   },
   "outputs": [],
   "source": [
    "X,Y = np.meshgrid(lons, lats)\n",
    "x,y = m(X,Y)"
   ]
  },
  {
   "cell_type": "code",
   "execution_count": null,
   "metadata": {
    "collapsed": true
   },
   "outputs": [],
   "source": []
  }
 ],
 "metadata": {
  "kernelspec": {
   "display_name": "Python [default]",
   "language": "python",
   "name": "python3"
  },
  "language_info": {
   "codemirror_mode": {
    "name": "ipython",
    "version": 3
   },
   "file_extension": ".py",
   "mimetype": "text/x-python",
   "name": "python",
   "nbconvert_exporter": "python",
   "pygments_lexer": "ipython3",
   "version": "3.5.2"
  }
 },
 "nbformat": 4,
 "nbformat_minor": 1
}
