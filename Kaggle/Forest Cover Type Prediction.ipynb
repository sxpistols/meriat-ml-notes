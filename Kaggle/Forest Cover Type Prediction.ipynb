{
 "cells": [
  {
   "cell_type": "markdown",
   "metadata": {},
   "source": [
    "# Forest Cover Type Prediction\n",
    "\n",
    "https://www.kaggle.com/c/forest-cover-type-prediction\n",
    "\n",
    "\n",
    "# v1"
   ]
  },
  {
   "cell_type": "code",
   "execution_count": 14,
   "metadata": {},
   "outputs": [],
   "source": [
    "import pandas\n",
    "from sklearn.linear_model import LinearRegression\n",
    "from sklearn.ensemble import RandomForestClassifier,GradientBoostingClassifier\n",
    "from sklearn.feature_selection import SelectKBest, f_classif \n",
    "from sklearn.learning_curve import validation_curve\n",
    "import numpy as np\n",
    "from sklearn import cross_validation"
   ]
  },
  {
   "cell_type": "code",
   "execution_count": 3,
   "metadata": {},
   "outputs": [],
   "source": [
    "forest = pandas.read_csv(\"../data/forest-cover-type/train.csv\")"
   ]
  },
  {
   "cell_type": "code",
   "execution_count": 4,
   "metadata": {},
   "outputs": [],
   "source": [
    "alg=RandomForestClassifier(random_state=1,n_estimators=20,min_samples_split=4,min_samples_leaf=3)\n",
    "alg2=LinearRegression(normalize=True)\n",
    "alg3=GradientBoostingClassifier(random_state=1,n_estimators=20,max_depth=4)\n",
    "predictors=list(forest.axes[1])"
   ]
  },
  {
   "cell_type": "code",
   "execution_count": 5,
   "metadata": {},
   "outputs": [
    {
     "name": "stderr",
     "output_type": "stream",
     "text": [
      "C:\\Users\\vitor\\Anaconda3\\envs\\deeplearning\\lib\\site-packages\\sklearn\\feature_selection\\univariate_selection.py:113: UserWarning: Features [21 29 55] are constant.\n",
      "  UserWarning)\n",
      "C:\\Users\\vitor\\Anaconda3\\envs\\deeplearning\\lib\\site-packages\\sklearn\\feature_selection\\univariate_selection.py:114: RuntimeWarning: divide by zero encountered in true_divide\n",
      "  f = msb / msw\n",
      "C:\\Users\\vitor\\Anaconda3\\envs\\deeplearning\\lib\\site-packages\\sklearn\\feature_selection\\univariate_selection.py:114: RuntimeWarning: invalid value encountered in true_divide\n",
      "  f = msb / msw\n",
      "C:\\Users\\vitor\\Anaconda3\\envs\\deeplearning\\lib\\site-packages\\ipykernel_launcher.py:4: RuntimeWarning: divide by zero encountered in log10\n",
      "  after removing the cwd from sys.path.\n"
     ]
    }
   ],
   "source": [
    "selector = SelectKBest(f_classif, k=9)\n",
    "selector.fit(forest[predictors], forest[\"Cover_Type\"])\n",
    "\n",
    "scores = -np.log10(selector.pvalues_)\n",
    "\n",
    "submission = pandas.DataFrame({\n",
    "        \"Feature\": forest.columns,\n",
    "        \"Value\": scores\n",
    "    })"
   ]
  },
  {
   "cell_type": "code",
   "execution_count": 6,
   "metadata": {},
   "outputs": [
    {
     "name": "stdout",
     "output_type": "stream",
     "text": [
      "['Elevation', 'Slope', 'Horizontal_Distance_To_Hydrology', 'Vertical_Distance_To_Hydrology', 'Horizontal_Distance_To_Roadways', 'Hillshade_9am', 'Hillshade_Noon', 'Hillshade_3pm', 'Horizontal_Distance_To_Fire_Points', 'Wilderness_Area1', 'Wilderness_Area2', 'Wilderness_Area3', 'Wilderness_Area4', 'Soil_Type1', 'Soil_Type2', 'Soil_Type3', 'Soil_Type4', 'Soil_Type6', 'Soil_Type10', 'Soil_Type11', 'Soil_Type12', 'Soil_Type13', 'Soil_Type14', 'Soil_Type17', 'Soil_Type22', 'Soil_Type23', 'Soil_Type24', 'Soil_Type29', 'Soil_Type30', 'Soil_Type31', 'Soil_Type32', 'Soil_Type33', 'Soil_Type35', 'Soil_Type38', 'Soil_Type39', 'Soil_Type40', 'Cover_Type']\n"
     ]
    }
   ],
   "source": [
    "jo=list(submission[submission[\"Value\"]>60][\"Feature\"][1:])\n",
    "\n",
    "print(jo) "
   ]
  },
  {
   "cell_type": "code",
   "execution_count": 7,
   "metadata": {},
   "outputs": [
    {
     "name": "stdout",
     "output_type": "stream",
     "text": [
      "1.0\n"
     ]
    }
   ],
   "source": [
    "kf=cross_validation.KFold(forest.shape[0],n_folds=3,random_state=1)\n",
    "scores=cross_validation.cross_val_score(alg3,forest[jo],forest[\"Cover_Type\"],cv=kf)\n",
    "\n",
    "print(scores.mean()) "
   ]
  },
  {
   "cell_type": "code",
   "execution_count": 9,
   "metadata": {},
   "outputs": [],
   "source": [
    "forest_test=pandas.read_csv(\"../data/forest-cover-type/test.csv\")"
   ]
  },
  {
   "cell_type": "code",
   "execution_count": 10,
   "metadata": {},
   "outputs": [],
   "source": [
    "alg.fit(forest[jo[:-1]],forest[\"Cover_Type\"])\n",
    "predictions=alg.predict(forest_test[jo[:-1]])\n",
    "\n",
    "sub=pandas.DataFrame({ \n",
    "    \"Cover_Type\": predictions,\n",
    "    \"Id\": forest_test[\"Id\"]\n",
    "    })"
   ]
  },
  {
   "cell_type": "code",
   "execution_count": 11,
   "metadata": {},
   "outputs": [
    {
     "name": "stdout",
     "output_type": "stream",
     "text": [
      "            Id  Cover_Type\n",
      "0        15121           2\n",
      "1        15122           2\n",
      "2        15123           2\n",
      "3        15124           2\n",
      "4        15125           2\n",
      "5        15126           2\n",
      "6        15127           2\n",
      "7        15128           2\n",
      "8        15129           2\n",
      "9        15130           2\n",
      "10       15131           2\n",
      "11       15132           2\n",
      "12       15133           2\n",
      "13       15134           2\n",
      "14       15135           2\n",
      "15       15136           2\n",
      "16       15137           2\n",
      "17       15138           2\n",
      "18       15139           2\n",
      "19       15140           2\n",
      "20       15141           2\n",
      "21       15142           2\n",
      "22       15143           2\n",
      "23       15144           2\n",
      "24       15145           2\n",
      "25       15146           2\n",
      "26       15147           2\n",
      "27       15148           2\n",
      "28       15149           2\n",
      "29       15150           2\n",
      "...        ...         ...\n",
      "565862  580983           3\n",
      "565863  580984           3\n",
      "565864  580985           3\n",
      "565865  580986           3\n",
      "565866  580987           3\n",
      "565867  580988           3\n",
      "565868  580989           3\n",
      "565869  580990           3\n",
      "565870  580991           3\n",
      "565871  580992           3\n",
      "565872  580993           3\n",
      "565873  580994           3\n",
      "565874  580995           3\n",
      "565875  580996           3\n",
      "565876  580997           3\n",
      "565877  580998           3\n",
      "565878  580999           3\n",
      "565879  581000           3\n",
      "565880  581001           3\n",
      "565881  581002           3\n",
      "565882  581003           3\n",
      "565883  581004           3\n",
      "565884  581005           3\n",
      "565885  581006           3\n",
      "565886  581007           3\n",
      "565887  581008           3\n",
      "565888  581009           3\n",
      "565889  581010           3\n",
      "565890  581011           3\n",
      "565891  581012           3\n",
      "\n",
      "[565892 rows x 2 columns]\n"
     ]
    }
   ],
   "source": [
    "newhh=sub[['Id','Cover_Type']]\n",
    "\n",
    "print(newhh) "
   ]
  },
  {
   "cell_type": "code",
   "execution_count": 12,
   "metadata": {},
   "outputs": [],
   "source": [
    "newhh.to_csv(\"submissiongradboost.csv\", index=False)"
   ]
  },
  {
   "cell_type": "code",
   "execution_count": null,
   "metadata": {},
   "outputs": [],
   "source": []
  }
 ],
 "metadata": {
  "kernelspec": {
   "display_name": "Python 3",
   "language": "python",
   "name": "python3"
  },
  "language_info": {
   "codemirror_mode": {
    "name": "ipython",
    "version": 3
   },
   "file_extension": ".py",
   "mimetype": "text/x-python",
   "name": "python",
   "nbconvert_exporter": "python",
   "pygments_lexer": "ipython3",
   "version": "3.6.3"
  }
 },
 "nbformat": 4,
 "nbformat_minor": 2
}
