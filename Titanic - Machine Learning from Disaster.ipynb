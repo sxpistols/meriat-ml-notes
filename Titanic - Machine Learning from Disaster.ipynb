{
 "cells": [
  {
   "cell_type": "markdown",
   "metadata": {},
   "source": [
    "# Titanic: Machine Learning from Disaster\n"
   ]
  },
  {
   "cell_type": "code",
   "execution_count": 1,
   "metadata": {
    "collapsed": false
   },
   "outputs": [
    {
     "data": {
      "text/html": [
       "<div>\n",
       "<table border=\"1\" class=\"dataframe\">\n",
       "  <thead>\n",
       "    <tr style=\"text-align: right;\">\n",
       "      <th></th>\n",
       "      <th>PassengerId</th>\n",
       "      <th>Survived</th>\n",
       "      <th>Pclass</th>\n",
       "      <th>Name</th>\n",
       "      <th>Sex</th>\n",
       "      <th>Age</th>\n",
       "      <th>SibSp</th>\n",
       "      <th>Parch</th>\n",
       "      <th>Ticket</th>\n",
       "      <th>Fare</th>\n",
       "      <th>Cabin</th>\n",
       "      <th>Embarked</th>\n",
       "    </tr>\n",
       "  </thead>\n",
       "  <tbody>\n",
       "    <tr>\n",
       "      <th>0</th>\n",
       "      <td>1</td>\n",
       "      <td>0</td>\n",
       "      <td>3</td>\n",
       "      <td>Braund, Mr. Owen Harris</td>\n",
       "      <td>male</td>\n",
       "      <td>22.0</td>\n",
       "      <td>1</td>\n",
       "      <td>0</td>\n",
       "      <td>A/5 21171</td>\n",
       "      <td>7.2500</td>\n",
       "      <td>NaN</td>\n",
       "      <td>S</td>\n",
       "    </tr>\n",
       "    <tr>\n",
       "      <th>1</th>\n",
       "      <td>2</td>\n",
       "      <td>1</td>\n",
       "      <td>1</td>\n",
       "      <td>Cumings, Mrs. John Bradley (Florence Briggs Th...</td>\n",
       "      <td>female</td>\n",
       "      <td>38.0</td>\n",
       "      <td>1</td>\n",
       "      <td>0</td>\n",
       "      <td>PC 17599</td>\n",
       "      <td>71.2833</td>\n",
       "      <td>C85</td>\n",
       "      <td>C</td>\n",
       "    </tr>\n",
       "    <tr>\n",
       "      <th>2</th>\n",
       "      <td>3</td>\n",
       "      <td>1</td>\n",
       "      <td>3</td>\n",
       "      <td>Heikkinen, Miss. Laina</td>\n",
       "      <td>female</td>\n",
       "      <td>26.0</td>\n",
       "      <td>0</td>\n",
       "      <td>0</td>\n",
       "      <td>STON/O2. 3101282</td>\n",
       "      <td>7.9250</td>\n",
       "      <td>NaN</td>\n",
       "      <td>S</td>\n",
       "    </tr>\n",
       "    <tr>\n",
       "      <th>3</th>\n",
       "      <td>4</td>\n",
       "      <td>1</td>\n",
       "      <td>1</td>\n",
       "      <td>Futrelle, Mrs. Jacques Heath (Lily May Peel)</td>\n",
       "      <td>female</td>\n",
       "      <td>35.0</td>\n",
       "      <td>1</td>\n",
       "      <td>0</td>\n",
       "      <td>113803</td>\n",
       "      <td>53.1000</td>\n",
       "      <td>C123</td>\n",
       "      <td>S</td>\n",
       "    </tr>\n",
       "    <tr>\n",
       "      <th>4</th>\n",
       "      <td>5</td>\n",
       "      <td>0</td>\n",
       "      <td>3</td>\n",
       "      <td>Allen, Mr. William Henry</td>\n",
       "      <td>male</td>\n",
       "      <td>35.0</td>\n",
       "      <td>0</td>\n",
       "      <td>0</td>\n",
       "      <td>373450</td>\n",
       "      <td>8.0500</td>\n",
       "      <td>NaN</td>\n",
       "      <td>S</td>\n",
       "    </tr>\n",
       "  </tbody>\n",
       "</table>\n",
       "</div>"
      ],
      "text/plain": [
       "   PassengerId  Survived  Pclass  \\\n",
       "0            1         0       3   \n",
       "1            2         1       1   \n",
       "2            3         1       3   \n",
       "3            4         1       1   \n",
       "4            5         0       3   \n",
       "\n",
       "                                                Name     Sex   Age  SibSp  \\\n",
       "0                            Braund, Mr. Owen Harris    male  22.0      1   \n",
       "1  Cumings, Mrs. John Bradley (Florence Briggs Th...  female  38.0      1   \n",
       "2                             Heikkinen, Miss. Laina  female  26.0      0   \n",
       "3       Futrelle, Mrs. Jacques Heath (Lily May Peel)  female  35.0      1   \n",
       "4                           Allen, Mr. William Henry    male  35.0      0   \n",
       "\n",
       "   Parch            Ticket     Fare Cabin Embarked  \n",
       "0      0         A/5 21171   7.2500   NaN        S  \n",
       "1      0          PC 17599  71.2833   C85        C  \n",
       "2      0  STON/O2. 3101282   7.9250   NaN        S  \n",
       "3      0            113803  53.1000  C123        S  \n",
       "4      0            373450   8.0500   NaN        S  "
      ]
     },
     "execution_count": 1,
     "metadata": {},
     "output_type": "execute_result"
    }
   ],
   "source": [
    "# Importar módulos base - matplotlib for plotting, numpy and pandas\n",
    "\n",
    "import numpy as np\n",
    "import pandas as pd\n",
    "%matplotlib inline\n",
    "\n",
    "# Carregar arquivo de treino\n",
    "train_dataset = pd.read_csv('./data/titanic/train.csv')\n",
    "train_dataset.head()"
   ]
  },
  {
   "cell_type": "code",
   "execution_count": 2,
   "metadata": {
    "collapsed": false
   },
   "outputs": [
    {
     "data": {
      "text/html": [
       "<div>\n",
       "<table border=\"1\" class=\"dataframe\">\n",
       "  <thead>\n",
       "    <tr style=\"text-align: right;\">\n",
       "      <th></th>\n",
       "      <th>PassengerId</th>\n",
       "      <th>Pclass</th>\n",
       "      <th>Name</th>\n",
       "      <th>Sex</th>\n",
       "      <th>Age</th>\n",
       "      <th>SibSp</th>\n",
       "      <th>Parch</th>\n",
       "      <th>Ticket</th>\n",
       "      <th>Fare</th>\n",
       "      <th>Cabin</th>\n",
       "      <th>Embarked</th>\n",
       "    </tr>\n",
       "  </thead>\n",
       "  <tbody>\n",
       "    <tr>\n",
       "      <th>0</th>\n",
       "      <td>892</td>\n",
       "      <td>3</td>\n",
       "      <td>Kelly, Mr. James</td>\n",
       "      <td>male</td>\n",
       "      <td>34.5</td>\n",
       "      <td>0</td>\n",
       "      <td>0</td>\n",
       "      <td>330911</td>\n",
       "      <td>7.8292</td>\n",
       "      <td>NaN</td>\n",
       "      <td>Q</td>\n",
       "    </tr>\n",
       "    <tr>\n",
       "      <th>1</th>\n",
       "      <td>893</td>\n",
       "      <td>3</td>\n",
       "      <td>Wilkes, Mrs. James (Ellen Needs)</td>\n",
       "      <td>female</td>\n",
       "      <td>47.0</td>\n",
       "      <td>1</td>\n",
       "      <td>0</td>\n",
       "      <td>363272</td>\n",
       "      <td>7.0000</td>\n",
       "      <td>NaN</td>\n",
       "      <td>S</td>\n",
       "    </tr>\n",
       "    <tr>\n",
       "      <th>2</th>\n",
       "      <td>894</td>\n",
       "      <td>2</td>\n",
       "      <td>Myles, Mr. Thomas Francis</td>\n",
       "      <td>male</td>\n",
       "      <td>62.0</td>\n",
       "      <td>0</td>\n",
       "      <td>0</td>\n",
       "      <td>240276</td>\n",
       "      <td>9.6875</td>\n",
       "      <td>NaN</td>\n",
       "      <td>Q</td>\n",
       "    </tr>\n",
       "    <tr>\n",
       "      <th>3</th>\n",
       "      <td>895</td>\n",
       "      <td>3</td>\n",
       "      <td>Wirz, Mr. Albert</td>\n",
       "      <td>male</td>\n",
       "      <td>27.0</td>\n",
       "      <td>0</td>\n",
       "      <td>0</td>\n",
       "      <td>315154</td>\n",
       "      <td>8.6625</td>\n",
       "      <td>NaN</td>\n",
       "      <td>S</td>\n",
       "    </tr>\n",
       "    <tr>\n",
       "      <th>4</th>\n",
       "      <td>896</td>\n",
       "      <td>3</td>\n",
       "      <td>Hirvonen, Mrs. Alexander (Helga E Lindqvist)</td>\n",
       "      <td>female</td>\n",
       "      <td>22.0</td>\n",
       "      <td>1</td>\n",
       "      <td>1</td>\n",
       "      <td>3101298</td>\n",
       "      <td>12.2875</td>\n",
       "      <td>NaN</td>\n",
       "      <td>S</td>\n",
       "    </tr>\n",
       "  </tbody>\n",
       "</table>\n",
       "</div>"
      ],
      "text/plain": [
       "   PassengerId  Pclass                                          Name     Sex  \\\n",
       "0          892       3                              Kelly, Mr. James    male   \n",
       "1          893       3              Wilkes, Mrs. James (Ellen Needs)  female   \n",
       "2          894       2                     Myles, Mr. Thomas Francis    male   \n",
       "3          895       3                              Wirz, Mr. Albert    male   \n",
       "4          896       3  Hirvonen, Mrs. Alexander (Helga E Lindqvist)  female   \n",
       "\n",
       "    Age  SibSp  Parch   Ticket     Fare Cabin Embarked  \n",
       "0  34.5      0      0   330911   7.8292   NaN        Q  \n",
       "1  47.0      1      0   363272   7.0000   NaN        S  \n",
       "2  62.0      0      0   240276   9.6875   NaN        Q  \n",
       "3  27.0      0      0   315154   8.6625   NaN        S  \n",
       "4  22.0      1      1  3101298  12.2875   NaN        S  "
      ]
     },
     "execution_count": 2,
     "metadata": {},
     "output_type": "execute_result"
    }
   ],
   "source": [
    "# Carregar arquivo de teste\n",
    "test_dataset = pd.read_csv('./data/titanic/test.csv')\n",
    "test_dataset.head()"
   ]
  },
  {
   "cell_type": "code",
   "execution_count": 3,
   "metadata": {
    "collapsed": false
   },
   "outputs": [
    {
     "name": "stdout",
     "output_type": "stream",
     "text": [
      "<class 'pandas.core.frame.DataFrame'>\n",
      "RangeIndex: 891 entries, 0 to 890\n",
      "Data columns (total 12 columns):\n",
      "PassengerId    891 non-null int64\n",
      "Survived       891 non-null int64\n",
      "Pclass         891 non-null int64\n",
      "Name           891 non-null object\n",
      "Sex            891 non-null object\n",
      "Age            714 non-null float64\n",
      "SibSp          891 non-null int64\n",
      "Parch          891 non-null int64\n",
      "Ticket         891 non-null object\n",
      "Fare           891 non-null float64\n",
      "Cabin          204 non-null object\n",
      "Embarked       889 non-null object\n",
      "dtypes: float64(2), int64(5), object(5)\n",
      "memory usage: 83.6+ KB\n",
      "________________________________________\n",
      "<class 'pandas.core.frame.DataFrame'>\n",
      "RangeIndex: 418 entries, 0 to 417\n",
      "Data columns (total 11 columns):\n",
      "PassengerId    418 non-null int64\n",
      "Pclass         418 non-null int64\n",
      "Name           418 non-null object\n",
      "Sex            418 non-null object\n",
      "Age            332 non-null float64\n",
      "SibSp          418 non-null int64\n",
      "Parch          418 non-null int64\n",
      "Ticket         418 non-null object\n",
      "Fare           417 non-null float64\n",
      "Cabin          91 non-null object\n",
      "Embarked       418 non-null object\n",
      "dtypes: float64(2), int64(4), object(5)\n",
      "memory usage: 36.0+ KB\n"
     ]
    }
   ],
   "source": [
    "train_dataset.info()\n",
    "print('_'*40)\n",
    "test_dataset.info()"
   ]
  },
  {
   "cell_type": "markdown",
   "metadata": {},
   "source": [
    "## Exploratory Data Analysis\n",
    "\n",
    "\n",
    "Este é o primeiro passo para compreender a qualidade dos dados. Neste momento vamos combinar os dados de teste e de treino antes de iniciar nossa análise exploratória. \n",
    "\n",
    "### Let's take a look:\n",
    "\n",
    "Above is a summary of our data contained in a Pandas DataFrame. Think of a DataFrame as a Python's super charged version of the workflow in an Excel table. As you can see the summary holds quite a bit of information. First, it lets us know we have 891 observations, or passengers, to analyze here:\n",
    "\n",
    "> Int64Index: 891 entries, 0 to 890\n",
    "\n",
    "Next it shows us all of the columns in DataFrame. Each column tells us something about each of our observations, like their name, sex or age. These colunms are called a features of our dataset. You can think of the meaning of the words column and feature as interchangeable for this notebook.\n",
    "After each feature it lets us know how many values it contains. While most of our features have complete data on every observation, like the survived feature here:\n",
    "\n",
    "> survived    891  non-null values \n",
    "\n",
    "some are missing information, like the age feature:\n",
    "\n",
    "> age         714  non-null values \n",
    "\n",
    "These missing values are represented as NaNs.\n",
    "\n",
    "\n",
    "A fim de combinar os 2 conjuntos de dados, precisamos criar uma coluna adicional no teste chamada 'sobreviveu' e adicionar o valor -1, a fim de sermos capazes de distinguir posteriormente os dados de treino e teste. Também há uma necessidade de reorganizar as colunas nos dados de treino para refletir o posicionamento das colunas dos dados de teste."
   ]
  },
  {
   "cell_type": "code",
   "execution_count": 4,
   "metadata": {
    "collapsed": true
   },
   "outputs": [],
   "source": [
    "test_dataset.is_copy = False\n",
    "test_dataset['Survived']=-1\n",
    "train_dataset = train_dataset[['PassengerId','Pclass','Name','Sex','Age','SibSp','Parch','Ticket','Fare','Cabin','Embarked','Survived']]\n",
    "mergedTitanicDS = train_dataset.append(test_dataset)"
   ]
  },
  {
   "cell_type": "markdown",
   "metadata": {},
   "source": [
    "## Find Missing Data"
   ]
  },
  {
   "cell_type": "code",
   "execution_count": 5,
   "metadata": {
    "collapsed": false
   },
   "outputs": [
    {
     "name": "stdout",
     "output_type": "stream",
     "text": [
      "Missing Values in Age 263\n",
      "Missing Values in Fare 1\n",
      "Missing Values in Cabin 1014\n",
      "Missing Values in Embarked 2\n"
     ]
    }
   ],
   "source": [
    "for col in mergedTitanicDS:\n",
    "    if mergedTitanicDS[col].isnull().sum()>0:\n",
    "        print(\"Missing Values in %s %d\" % (col,(mergedTitanicDS[col].isnull().sum())))"
   ]
  },
  {
   "cell_type": "markdown",
   "metadata": {},
   "source": [
    "Como resultado, vemos acima os seguintes valores missing nos dados de treino.\n",
    "\n",
    "### Embarked\n",
    "\n",
    "Vamos começar atacando os mais simples. **Embarked** tem 2 valores em falta. É um ponto de dados categóricos e tem a seguinte distribuição:"
   ]
  },
  {
   "cell_type": "code",
   "execution_count": 6,
   "metadata": {
    "collapsed": false
   },
   "outputs": [
    {
     "data": {
      "text/plain": [
       "S    914\n",
       "C    270\n",
       "Q    123\n",
       "Name: Embarked, dtype: int64"
      ]
     },
     "execution_count": 6,
     "metadata": {},
     "output_type": "execute_result"
    }
   ],
   "source": [
    "# Get the distribution of the Embarked\n",
    "mergedTitanicDS['Embarked'].value_counts()"
   ]
  },
  {
   "cell_type": "markdown",
   "metadata": {},
   "source": [
    "Temos pouca massa de manobra aqui. Uma estratégia consistente aqui poderia ser substituir os valores missing pelo valor de \"S\", já que o mesmo supera tanto \"C\" quanto \"Q\" em termos de númericos."
   ]
  },
  {
   "cell_type": "code",
   "execution_count": 7,
   "metadata": {
    "collapsed": true
   },
   "outputs": [],
   "source": [
    "mergedTitanicDS.is_copy = False\n",
    "mergedTitanicDS.loc[mergedTitanicDS['Embarked'].isnull(),'Embarked'] = 'S'"
   ]
  },
  {
   "cell_type": "markdown",
   "metadata": {},
   "source": [
    "### Cabin\n",
    "\n",
    "Vamos evoluir nossa análise. Olhando para o problemas dos dados missing na feature **cabin**, "
   ]
  },
  {
   "cell_type": "code",
   "execution_count": 8,
   "metadata": {
    "collapsed": true
   },
   "outputs": [],
   "source": [
    "mergedTitanicDS['IsCabinDataEmpty'] = 0\n",
    "mergedTitanicDS.loc[mergedTitanicDS['Cabin'].isnull(),'IsCabinDataEmpty'] = 1"
   ]
  },
  {
   "cell_type": "markdown",
   "metadata": {},
   "source": [
    "### Age\n",
    "\n",
    "A idade é um ponto de dados contínuo. Há 177 valores missing, o que representa cerca de 19% dos dados. Existem várias estratégias para substituição da idade, o mais simples é substituir por uma **média**, **mediana** ou **moda**. \n",
    "\n",
    "A armadilha nesta estratégia é que todos os passageiros com a idade em falta terão o mesmo valor estático, o que pode resultar em uma criança com a idade de um adulto.\n",
    "\n",
    "> Importante! Esta é a fase mais pesada, a fase onde devemos conhecer os nossos dados a fim de definir a melhor estratégia possível.\n",
    "\n",
    "### Title\n",
    "\n",
    "Outro ponto importante aqui, é que temos junto aos nomes os títulos de tratamento para cada pessoa. Sendo assim podemos agregar a nossa estratégia de idade a indução da mesma com base no título.\n",
    "\n",
    "Neste caso vamos extrair o título do nome e encontrar a média entre idadade e o título informado, e depois substituir os valores missing. Essa estratégia serve para ajudar a evitar substituir o valor missing de uma possível criança pela idade de um adulto. Assim diminuímos a margem de erro no tratamento de dados missing.\n",
    "\n",
    "Extrair e cruzar os dados de idade com os dados de título é um exemplo de **Feature Engineering**, que visa tornar o conjunto de dados mais rico para o aprendizado."
   ]
  },
  {
   "cell_type": "code",
   "execution_count": 9,
   "metadata": {
    "collapsed": true
   },
   "outputs": [],
   "source": [
    "# Extract the Title and assign it to the new column\n",
    "mergedTitanicDS['Title'] = [nameStr[1].strip().split('.')[0] for nameStr in mergedTitanicDS['Name'].str.split(',')]"
   ]
  },
  {
   "cell_type": "markdown",
   "metadata": {},
   "source": [
    "O gráfico abaixo exibe uma visão interessante da distribuição dos 17 títulos distintos em nosso dataset. Alguns dos títulos refletem Realeza, como por exemplo Jonkheer, título de nobreza holandesa."
   ]
  },
  {
   "cell_type": "code",
   "execution_count": 10,
   "metadata": {
    "collapsed": false
   },
   "outputs": [
    {
     "data": {
      "text/plain": [
       "<matplotlib.axes._subplots.AxesSubplot at 0x112d0f630>"
      ]
     },
     "execution_count": 10,
     "metadata": {},
     "output_type": "execute_result"
    },
    {
     "data": {
      "image/png": "[encoded data removed]",
      "text/plain": [
       "<matplotlib.figure.Figure at 0x104934940>"
      ]
     },
     "metadata": {},
     "output_type": "display_data"
    }
   ],
   "source": [
    "# The following plot shows the distribution of Titles\n",
    "mergedTitanicDS['Title'].value_counts().plot.bar()"
   ]
  },
  {
   "cell_type": "code",
   "execution_count": 11,
   "metadata": {
    "collapsed": false
   },
   "outputs": [],
   "source": [
    "# Aggregate on Age by Title using mean\n",
    "aggAgeByTitleDS = mergedTitanicDS[['Age','Title']].groupby(['Title']).mean().reset_index()\n",
    "\n",
    "# Renaming the columns\n",
    "aggAgeByTitleDS.columns = ['Title','Mean_Age']\n",
    "\n",
    "# Merging by Title\n",
    "mergedTitanicDS_Merged = pd.merge(mergedTitanicDS, aggAgeByTitleDS,on=\"Title\")\n",
    "\n",
    "# Replacing the missing values of Age by Mean Age\n",
    "mergedTitanicDS_Merged.loc[mergedTitanicDS_Merged['Age'].isnull(),'Age']=mergedTitanicDS_Merged[mergedTitanicDS_Merged['Age'].isnull()]['Mean_Age']"
   ]
  },
  {
   "cell_type": "markdown",
   "metadata": {},
   "source": [
    "### Fare\n",
    "\n",
    "Há apenas um passageiro com dados missing sobre a tarifa. O passageiro em questão é senhor \"Storey, Mr. Thomas\". Se olharmos para os dados do senhor Thomas, veremos que ele viajou na classe Pclass 3. \n",
    "\n",
    "Neste caso podemos usar como estratégia, obter a média da tarifa paga pelos passageiros da classe Pclass 3."
   ]
  },
  {
   "cell_type": "code",
   "execution_count": 12,
   "metadata": {
    "collapsed": false
   },
   "outputs": [],
   "source": [
    "# Applying the Fare for the missing values\n",
    "\n",
    "mergedTitanicDS_Merged.loc[mergedTitanicDS_Merged['Fare'].isnull(),'Fare']=mergedTitanicDS_Merged[mergedTitanicDS_Merged['Pclass']==3]['Fare'].mean()"
   ]
  },
  {
   "cell_type": "markdown",
   "metadata": {},
   "source": [
    "No contexto da aprendizagem de máquina, o foco não é sobre o certo ou errado, é sobre o grau de margem de erro. Vamos mais rumo ao \"deeper into the rabbit hole\"\n",
    "\n",
    "Vamos nos aprofundar na Feature Engineering. As novas features, 'IsCabinDataEmpty' e 'Title', foram adicionados ao conjunto de dados, o que os torna mais ricos em informações, e dá uma pista melhor para solucionarmos nosso problema."
   ]
  },
  {
   "cell_type": "markdown",
   "metadata": {},
   "source": [
    "Temos embutido no nome um detalhe importante do passageiro, o 'Surname'. Essa é uma extração relativamente simples."
   ]
  },
  {
   "cell_type": "code",
   "execution_count": 13,
   "metadata": {
    "collapsed": false
   },
   "outputs": [],
   "source": [
    "# Extracting Surname from the Name\n",
    "mergedTitanicDS_Merged['Surname'] = [nameStr[0].strip() for nameStr in mergedTitanicDS_Merged['Name'].str.split(',')]\n"
   ]
  },
  {
   "cell_type": "markdown",
   "metadata": {},
   "source": [
    "Outra característica interessante que pode ser abstraida do conjunto de dados seria o 'Family Size'. O \"tamanho da família\" poderia revelar alguma relação com os indices de sobrevivência.\n",
    "\n",
    "Para ver se isso é uma possiblidade real vamos ver como obter estes dados. Olhando para nosso dataset, podemos usar os campo **SibSp**(siblings / spouses aboard) e **Parch**(parents / children aboard), para asbtrair esta informação.\n",
    "\n",
    "Você poderia pensar em usar o Sobrenome como fonte para estipular esta relação, porém isso seria deveras arriscado, já que é relativamente simples haver passageiros que compartilhem o mesmo sobrenome sem nenhum tipo de parentesco."
   ]
  },
  {
   "cell_type": "code",
   "execution_count": 14,
   "metadata": {
    "collapsed": true
   },
   "outputs": [],
   "source": [
    "# Creating a new column called Family Size\n",
    "mergedTitanicDS_Merged['FamilySize']=mergedTitanicDS_Merged['SibSp']+mergedTitanicDS_Merged['Parch']+1"
   ]
  },
  {
   "cell_type": "markdown",
   "metadata": {},
   "source": [
    "Há uma etapa adicional para tornar os dados compatíveis com o algoritmo de aprendizado da máquina. Vale lembrar que ao trabalhar com Machine Learning temos dois tipos de dados/variáveis: Categorical or Numerical. \n",
    "\n",
    "Vamos olhar para o dataset e entender o tipo de dados de cada atributo."
   ]
  },
  {
   "cell_type": "code",
   "execution_count": 15,
   "metadata": {
    "collapsed": false
   },
   "outputs": [
    {
     "data": {
      "text/plain": [
       "PassengerId           int64\n",
       "Pclass                int64\n",
       "Name                 object\n",
       "Sex                  object\n",
       "Age                 float64\n",
       "SibSp                 int64\n",
       "Parch                 int64\n",
       "Ticket               object\n",
       "Fare                float64\n",
       "Cabin                object\n",
       "Embarked             object\n",
       "Survived              int64\n",
       "IsCabinDataEmpty      int64\n",
       "Title                object\n",
       "Mean_Age            float64\n",
       "Surname              object\n",
       "FamilySize            int64\n",
       "dtype: object"
      ]
     },
     "execution_count": 15,
     "metadata": {},
     "output_type": "execute_result"
    }
   ],
   "source": [
    "# Identify the data types\n",
    "mergedTitanicDS_Merged.dtypes"
   ]
  },
  {
   "cell_type": "markdown",
   "metadata": {},
   "source": [
    "Obsserve os recursos do tipo object:\n",
    "* Name\n",
    "* Sex\n",
    "* Ticket\n",
    "* Cabin\n",
    "* Embarked\n",
    "* Title\n",
    "\n",
    "Estes são os recursos precisamos aplicar alguma **transformação** a fim de torná-los compatíveis com o algoritmo de Machine Learning. Vamos começar com o **Sex** e **Name** que já foi dividido em **Title** e **Surname**.\n",
    "\n",
    "Variáveis categóricas são conhecidas por ocultar e mascarar muitas informações interessantes em um conjunto de dados. É crucial aprender os métodos de lidar com essas variáveis. Em breve publico um caderno apenas sobre este assunto.\n",
    "\n",
    "Em **Sex** temos 2 valores distintos **Male** e **Female**. Este campo é do tipo string. Precisamos representar este recurso de uma forma que possa ser usada para computação. Uma das opções é representar todos os passageiros do sexo masculino como 1 e todos os passageiros do sexo feminino como 0. Sendo assim, vamos criar um novo recurso chamado  **Sex_Cat** e atribuir os valores numéricos."
   ]
  },
  {
   "cell_type": "code",
   "execution_count": 16,
   "metadata": {
    "collapsed": true
   },
   "outputs": [],
   "source": [
    "# Transforming the Sex Feature as Categorical\n",
    "mergedTitanicDS_Merged['Sex_Cat'] = pd.Categorical.from_array(mergedTitanicDS_Merged.Sex).codes\n"
   ]
  },
  {
   "cell_type": "markdown",
   "metadata": {},
   "source": [
    "Outra opção seria representá-los como um binário onde cada valor do recurso é representado como um recurso separado."
   ]
  },
  {
   "cell_type": "code",
   "execution_count": 17,
   "metadata": {
    "collapsed": false
   },
   "outputs": [
    {
     "data": {
      "text/html": [
       "<div>\n",
       "<table border=\"1\" class=\"dataframe\">\n",
       "  <thead>\n",
       "    <tr style=\"text-align: right;\">\n",
       "      <th></th>\n",
       "      <th>female</th>\n",
       "      <th>male</th>\n",
       "    </tr>\n",
       "  </thead>\n",
       "  <tbody>\n",
       "    <tr>\n",
       "      <th>0</th>\n",
       "      <td>0.0</td>\n",
       "      <td>1.0</td>\n",
       "    </tr>\n",
       "    <tr>\n",
       "      <th>1</th>\n",
       "      <td>0.0</td>\n",
       "      <td>1.0</td>\n",
       "    </tr>\n",
       "    <tr>\n",
       "      <th>2</th>\n",
       "      <td>0.0</td>\n",
       "      <td>1.0</td>\n",
       "    </tr>\n",
       "    <tr>\n",
       "      <th>3</th>\n",
       "      <td>0.0</td>\n",
       "      <td>1.0</td>\n",
       "    </tr>\n",
       "    <tr>\n",
       "      <th>4</th>\n",
       "      <td>0.0</td>\n",
       "      <td>1.0</td>\n",
       "    </tr>\n",
       "    <tr>\n",
       "      <th>5</th>\n",
       "      <td>0.0</td>\n",
       "      <td>1.0</td>\n",
       "    </tr>\n",
       "    <tr>\n",
       "      <th>6</th>\n",
       "      <td>0.0</td>\n",
       "      <td>1.0</td>\n",
       "    </tr>\n",
       "    <tr>\n",
       "      <th>7</th>\n",
       "      <td>0.0</td>\n",
       "      <td>1.0</td>\n",
       "    </tr>\n",
       "    <tr>\n",
       "      <th>8</th>\n",
       "      <td>0.0</td>\n",
       "      <td>1.0</td>\n",
       "    </tr>\n",
       "    <tr>\n",
       "      <th>9</th>\n",
       "      <td>0.0</td>\n",
       "      <td>1.0</td>\n",
       "    </tr>\n",
       "    <tr>\n",
       "      <th>10</th>\n",
       "      <td>0.0</td>\n",
       "      <td>1.0</td>\n",
       "    </tr>\n",
       "    <tr>\n",
       "      <th>11</th>\n",
       "      <td>0.0</td>\n",
       "      <td>1.0</td>\n",
       "    </tr>\n",
       "    <tr>\n",
       "      <th>12</th>\n",
       "      <td>0.0</td>\n",
       "      <td>1.0</td>\n",
       "    </tr>\n",
       "    <tr>\n",
       "      <th>13</th>\n",
       "      <td>0.0</td>\n",
       "      <td>1.0</td>\n",
       "    </tr>\n",
       "    <tr>\n",
       "      <th>14</th>\n",
       "      <td>0.0</td>\n",
       "      <td>1.0</td>\n",
       "    </tr>\n",
       "    <tr>\n",
       "      <th>15</th>\n",
       "      <td>0.0</td>\n",
       "      <td>1.0</td>\n",
       "    </tr>\n",
       "    <tr>\n",
       "      <th>16</th>\n",
       "      <td>0.0</td>\n",
       "      <td>1.0</td>\n",
       "    </tr>\n",
       "    <tr>\n",
       "      <th>17</th>\n",
       "      <td>0.0</td>\n",
       "      <td>1.0</td>\n",
       "    </tr>\n",
       "    <tr>\n",
       "      <th>18</th>\n",
       "      <td>0.0</td>\n",
       "      <td>1.0</td>\n",
       "    </tr>\n",
       "    <tr>\n",
       "      <th>19</th>\n",
       "      <td>0.0</td>\n",
       "      <td>1.0</td>\n",
       "    </tr>\n",
       "    <tr>\n",
       "      <th>20</th>\n",
       "      <td>0.0</td>\n",
       "      <td>1.0</td>\n",
       "    </tr>\n",
       "    <tr>\n",
       "      <th>21</th>\n",
       "      <td>0.0</td>\n",
       "      <td>1.0</td>\n",
       "    </tr>\n",
       "    <tr>\n",
       "      <th>22</th>\n",
       "      <td>0.0</td>\n",
       "      <td>1.0</td>\n",
       "    </tr>\n",
       "    <tr>\n",
       "      <th>23</th>\n",
       "      <td>0.0</td>\n",
       "      <td>1.0</td>\n",
       "    </tr>\n",
       "    <tr>\n",
       "      <th>24</th>\n",
       "      <td>0.0</td>\n",
       "      <td>1.0</td>\n",
       "    </tr>\n",
       "    <tr>\n",
       "      <th>25</th>\n",
       "      <td>0.0</td>\n",
       "      <td>1.0</td>\n",
       "    </tr>\n",
       "    <tr>\n",
       "      <th>26</th>\n",
       "      <td>0.0</td>\n",
       "      <td>1.0</td>\n",
       "    </tr>\n",
       "    <tr>\n",
       "      <th>27</th>\n",
       "      <td>0.0</td>\n",
       "      <td>1.0</td>\n",
       "    </tr>\n",
       "    <tr>\n",
       "      <th>28</th>\n",
       "      <td>0.0</td>\n",
       "      <td>1.0</td>\n",
       "    </tr>\n",
       "    <tr>\n",
       "      <th>29</th>\n",
       "      <td>0.0</td>\n",
       "      <td>1.0</td>\n",
       "    </tr>\n",
       "    <tr>\n",
       "      <th>...</th>\n",
       "      <td>...</td>\n",
       "      <td>...</td>\n",
       "    </tr>\n",
       "    <tr>\n",
       "      <th>1279</th>\n",
       "      <td>0.0</td>\n",
       "      <td>1.0</td>\n",
       "    </tr>\n",
       "    <tr>\n",
       "      <th>1280</th>\n",
       "      <td>0.0</td>\n",
       "      <td>1.0</td>\n",
       "    </tr>\n",
       "    <tr>\n",
       "      <th>1281</th>\n",
       "      <td>0.0</td>\n",
       "      <td>1.0</td>\n",
       "    </tr>\n",
       "    <tr>\n",
       "      <th>1282</th>\n",
       "      <td>0.0</td>\n",
       "      <td>1.0</td>\n",
       "    </tr>\n",
       "    <tr>\n",
       "      <th>1283</th>\n",
       "      <td>0.0</td>\n",
       "      <td>1.0</td>\n",
       "    </tr>\n",
       "    <tr>\n",
       "      <th>1284</th>\n",
       "      <td>0.0</td>\n",
       "      <td>1.0</td>\n",
       "    </tr>\n",
       "    <tr>\n",
       "      <th>1285</th>\n",
       "      <td>0.0</td>\n",
       "      <td>1.0</td>\n",
       "    </tr>\n",
       "    <tr>\n",
       "      <th>1286</th>\n",
       "      <td>0.0</td>\n",
       "      <td>1.0</td>\n",
       "    </tr>\n",
       "    <tr>\n",
       "      <th>1287</th>\n",
       "      <td>0.0</td>\n",
       "      <td>1.0</td>\n",
       "    </tr>\n",
       "    <tr>\n",
       "      <th>1288</th>\n",
       "      <td>0.0</td>\n",
       "      <td>1.0</td>\n",
       "    </tr>\n",
       "    <tr>\n",
       "      <th>1289</th>\n",
       "      <td>0.0</td>\n",
       "      <td>1.0</td>\n",
       "    </tr>\n",
       "    <tr>\n",
       "      <th>1290</th>\n",
       "      <td>1.0</td>\n",
       "      <td>0.0</td>\n",
       "    </tr>\n",
       "    <tr>\n",
       "      <th>1291</th>\n",
       "      <td>0.0</td>\n",
       "      <td>1.0</td>\n",
       "    </tr>\n",
       "    <tr>\n",
       "      <th>1292</th>\n",
       "      <td>1.0</td>\n",
       "      <td>0.0</td>\n",
       "    </tr>\n",
       "    <tr>\n",
       "      <th>1293</th>\n",
       "      <td>1.0</td>\n",
       "      <td>0.0</td>\n",
       "    </tr>\n",
       "    <tr>\n",
       "      <th>1294</th>\n",
       "      <td>1.0</td>\n",
       "      <td>0.0</td>\n",
       "    </tr>\n",
       "    <tr>\n",
       "      <th>1295</th>\n",
       "      <td>0.0</td>\n",
       "      <td>1.0</td>\n",
       "    </tr>\n",
       "    <tr>\n",
       "      <th>1296</th>\n",
       "      <td>0.0</td>\n",
       "      <td>1.0</td>\n",
       "    </tr>\n",
       "    <tr>\n",
       "      <th>1297</th>\n",
       "      <td>1.0</td>\n",
       "      <td>0.0</td>\n",
       "    </tr>\n",
       "    <tr>\n",
       "      <th>1298</th>\n",
       "      <td>0.0</td>\n",
       "      <td>1.0</td>\n",
       "    </tr>\n",
       "    <tr>\n",
       "      <th>1299</th>\n",
       "      <td>1.0</td>\n",
       "      <td>0.0</td>\n",
       "    </tr>\n",
       "    <tr>\n",
       "      <th>1300</th>\n",
       "      <td>1.0</td>\n",
       "      <td>0.0</td>\n",
       "    </tr>\n",
       "    <tr>\n",
       "      <th>1301</th>\n",
       "      <td>0.0</td>\n",
       "      <td>1.0</td>\n",
       "    </tr>\n",
       "    <tr>\n",
       "      <th>1302</th>\n",
       "      <td>0.0</td>\n",
       "      <td>1.0</td>\n",
       "    </tr>\n",
       "    <tr>\n",
       "      <th>1303</th>\n",
       "      <td>0.0</td>\n",
       "      <td>1.0</td>\n",
       "    </tr>\n",
       "    <tr>\n",
       "      <th>1304</th>\n",
       "      <td>0.0</td>\n",
       "      <td>1.0</td>\n",
       "    </tr>\n",
       "    <tr>\n",
       "      <th>1305</th>\n",
       "      <td>0.0</td>\n",
       "      <td>1.0</td>\n",
       "    </tr>\n",
       "    <tr>\n",
       "      <th>1306</th>\n",
       "      <td>1.0</td>\n",
       "      <td>0.0</td>\n",
       "    </tr>\n",
       "    <tr>\n",
       "      <th>1307</th>\n",
       "      <td>0.0</td>\n",
       "      <td>1.0</td>\n",
       "    </tr>\n",
       "    <tr>\n",
       "      <th>1308</th>\n",
       "      <td>1.0</td>\n",
       "      <td>0.0</td>\n",
       "    </tr>\n",
       "  </tbody>\n",
       "</table>\n",
       "<p>1309 rows × 2 columns</p>\n",
       "</div>"
      ],
      "text/plain": [
       "      female  male\n",
       "0        0.0   1.0\n",
       "1        0.0   1.0\n",
       "2        0.0   1.0\n",
       "3        0.0   1.0\n",
       "4        0.0   1.0\n",
       "5        0.0   1.0\n",
       "6        0.0   1.0\n",
       "7        0.0   1.0\n",
       "8        0.0   1.0\n",
       "9        0.0   1.0\n",
       "10       0.0   1.0\n",
       "11       0.0   1.0\n",
       "12       0.0   1.0\n",
       "13       0.0   1.0\n",
       "14       0.0   1.0\n",
       "15       0.0   1.0\n",
       "16       0.0   1.0\n",
       "17       0.0   1.0\n",
       "18       0.0   1.0\n",
       "19       0.0   1.0\n",
       "20       0.0   1.0\n",
       "21       0.0   1.0\n",
       "22       0.0   1.0\n",
       "23       0.0   1.0\n",
       "24       0.0   1.0\n",
       "25       0.0   1.0\n",
       "26       0.0   1.0\n",
       "27       0.0   1.0\n",
       "28       0.0   1.0\n",
       "29       0.0   1.0\n",
       "...      ...   ...\n",
       "1279     0.0   1.0\n",
       "1280     0.0   1.0\n",
       "1281     0.0   1.0\n",
       "1282     0.0   1.0\n",
       "1283     0.0   1.0\n",
       "1284     0.0   1.0\n",
       "1285     0.0   1.0\n",
       "1286     0.0   1.0\n",
       "1287     0.0   1.0\n",
       "1288     0.0   1.0\n",
       "1289     0.0   1.0\n",
       "1290     1.0   0.0\n",
       "1291     0.0   1.0\n",
       "1292     1.0   0.0\n",
       "1293     1.0   0.0\n",
       "1294     1.0   0.0\n",
       "1295     0.0   1.0\n",
       "1296     0.0   1.0\n",
       "1297     1.0   0.0\n",
       "1298     0.0   1.0\n",
       "1299     1.0   0.0\n",
       "1300     1.0   0.0\n",
       "1301     0.0   1.0\n",
       "1302     0.0   1.0\n",
       "1303     0.0   1.0\n",
       "1304     0.0   1.0\n",
       "1305     0.0   1.0\n",
       "1306     1.0   0.0\n",
       "1307     0.0   1.0\n",
       "1308     1.0   0.0\n",
       "\n",
       "[1309 rows x 2 columns]"
      ]
     },
     "execution_count": 17,
     "metadata": {},
     "output_type": "execute_result"
    }
   ],
   "source": [
    "# Transform the Categorical Data Point to dummies\n",
    "pd.get_dummies(mergedTitanicDS_Merged['Sex'])"
   ]
  },
  {
   "cell_type": "markdown",
   "metadata": {},
   "source": [
    "Vamos optar pela segunda opção e vincular o resultado no dataframe original, onde tanto masculino como feminino são representados como características onde um ter o valor 1 e outro o valor 0."
   ]
  },
  {
   "cell_type": "code",
   "execution_count": 18,
   "metadata": {
    "collapsed": true
   },
   "outputs": [],
   "source": [
    "# Converting Sex into a dummmy variable and binding it back to the original dataset\n",
    "mergedTitanicDS_Merged = pd.concat([mergedTitanicDS_Merged,pd.get_dummies(mergedTitanicDS_Merged['Sex'])],axis = 1)"
   ]
  },
  {
   "cell_type": "markdown",
   "metadata": {},
   "source": [
    "A mesma abordagem aplica-se aos dados Embarked, Title e Surname. "
   ]
  },
  {
   "cell_type": "code",
   "execution_count": 19,
   "metadata": {
    "collapsed": true
   },
   "outputs": [],
   "source": [
    "# Converting Embarked into a dummmy variable and binding it back to the original dataset\n",
    "mergedTitanicDS_Merged = pd.concat([mergedTitanicDS_Merged,pd.get_dummies(mergedTitanicDS_Merged['Embarked'])],axis = 1)\n",
    "\n",
    "# Converting Title into a dummmy variable and binding it back to the original dataset\n",
    "mergedTitanicDS_Merged = pd.concat([mergedTitanicDS_Merged,pd.get_dummies(mergedTitanicDS_Merged['Title'])],axis = 1)"
   ]
  },
  {
   "cell_type": "markdown",
   "metadata": {},
   "source": [
    "Não vamos nos preocupar com o número de recursos que estamos anexando ao conjunto de dados.\n",
    "\n",
    "Feature Selection é um tópico importante no campo da aprendizagem de máquina, e é sempre em conjunto com uma **target variable** ou **dependent variable**. Neste caso, a variável alve ou dependente é o **Survived**.\n",
    "\n",
    "\n",
    "### Feature Selection\n",
    "\n",
    "Seleção de recursos é um processo onde você seleciona automaticamente os recursos em seus dados que mais contribuem para a variável de previsão ou saída em que você está interessado. Ter muitos recursos irrelevantes em seus dados pode diminuir a precisão dos modelos. \n",
    "\n",
    "Aqui vamos usar a metodologia conhecida como **\"Tree-based feature selection\"**, usada para identificar os potenciais recursos. \n",
    "\n",
    "Três benefícios de realizar a seleção de recursos antes de modelar seus dados são:\n",
    "\n",
    "* **Reduz a sobrealimentação**: Menos dados redundantes significa menos oportunidade de tomar decisões com base no ruído.\n",
    "* **Melhora a precisão**: Menos dados enganosos significa que a precisão de modelagem melhora.\n",
    "* **Reduz o Tempo de Treinamento**: Menos dados significa que os algoritmos treinam mais rapidamente.\n"
   ]
  },
  {
   "cell_type": "code",
   "execution_count": 20,
   "metadata": {
    "collapsed": true
   },
   "outputs": [],
   "source": [
    "# Lets drop the unwanted features \n",
    "mergedTitanicDS_Merged_Red = mergedTitanicDS_Merged.drop(mergedTitanicDS_Merged[\n",
    "        ['Name','Sex','Ticket','Cabin','Embarked','Mean_Age','Surname','male','Title']], axis=1)\n"
   ]
  },
  {
   "cell_type": "markdown",
   "metadata": {},
   "source": [
    "O código a seguir cria o feature dataset **(Xtrain)** e o dependente **(ytrain)** com os quais os recursos mais importantes são selecionados."
   ]
  },
  {
   "cell_type": "code",
   "execution_count": 21,
   "metadata": {
    "collapsed": false
   },
   "outputs": [
    {
     "data": {
      "text/plain": [
       "<matplotlib.axes._subplots.AxesSubplot at 0x115828400>"
      ]
     },
     "execution_count": 21,
     "metadata": {},
     "output_type": "execute_result"
    },
    {
     "data": {
      "image/png": "[encoded data removed]",
      "text/plain": [
       "<matplotlib.figure.Figure at 0x115805940>"
      ]
     },
     "metadata": {},
     "output_type": "display_data"
    }
   ],
   "source": [
    "# Lets create the dataset that will be used for determining feature importance. \n",
    "featureNames = mergedTitanicDS_Merged_Red.ix[:,mergedTitanicDS_Merged_Red.columns.difference(['PassengerId','Survived'])].columns\n",
    "Xtrain = mergedTitanicDS_Merged_Red[mergedTitanicDS_Merged_Red.Survived>=0].ix[:,mergedTitanicDS_Merged_Red.columns.difference(['PassengerId','Survived'])].values\n",
    "ytrain = mergedTitanicDS_Merged_Red[mergedTitanicDS_Merged_Red.Survived>=0].ix[:,mergedTitanicDS_Merged_Red.columns == 'Survived'].values\n",
    "\n",
    "Xtest = mergedTitanicDS_Merged_Red[mergedTitanicDS_Merged_Red.Survived<0].ix[:,mergedTitanicDS_Merged_Red.columns.difference(['PassengerId','Survived'])].values\n",
    "\n",
    "# Tree-based feature selection\n",
    "from sklearn.ensemble import ExtraTreesClassifier\n",
    "from sklearn.datasets import load_iris\n",
    "\n",
    "from sklearn.feature_selection import *\n",
    "clf = ExtraTreesClassifier()\n",
    "clf = clf.fit(Xtrain, ytrain.ravel())\n",
    "\n",
    "clf.feature_importances_\n",
    "featureMatrixDS = pd.DataFrame({'FeatureName':featureNames.ravel(),'FeatureScore':clf.feature_importances_})\n",
    "featureMatrixDS=featureMatrixDS.sort_values(by=['FeatureScore'])\n",
    "featureMatrixDS.plot.bar('FeatureName','FeatureScore')"
   ]
  },
  {
   "cell_type": "markdown",
   "metadata": {},
   "source": [
    "Agora vamos explorar mais técnicas da **seleção de recursos**. \n",
    "\n",
    "Vamos usar o **univariate  feature selection technique** (técnica de seleção de característica univariada), que usa um **square test qui** para testar a independência das características. **chi2** é tipicamente usado contra pontos de dados categóricos. Scikit tem uma função chamada SelectKBest, pela qual se pode obter a pontuação de cada recurso, quanto maior a pontuação mais valioso é o recurso.\n",
    "\n",
    "O gráfico a seguir mostra o nome do recurso e sua pontuação. A importância das características pode ser observada da esquerda para a direita"
   ]
  },
  {
   "cell_type": "code",
   "execution_count": 22,
   "metadata": {
    "collapsed": false
   },
   "outputs": [
    {
     "data": {
      "text/plain": [
       "<matplotlib.axes._subplots.AxesSubplot at 0x112e2c2e8>"
      ]
     },
     "execution_count": 22,
     "metadata": {},
     "output_type": "execute_result"
    },
    {
     "data": {
      "image/png": "[encoded data removed]",
      "text/plain": [
       "<matplotlib.figure.Figure at 0x112e2c978>"
      ]
     },
     "metadata": {},
     "output_type": "display_data"
    }
   ],
   "source": [
    "# Use the SelectKBest to run the chi square test\n",
    "from sklearn.feature_selection import SelectKBest\n",
    "\n",
    "from sklearn.feature_selection import chi2\n",
    "\n",
    "kBestSelector = SelectKBest(chi2, k='all')\n",
    "\n",
    "Xtrain_Features = kBestSelector.fit(Xtrain,ytrain) \n",
    "\n",
    "featureMatrixDS_chi2 = pd.DataFrame({'FeatureName':featureNames,\n",
    "                                     'chi2_pvalues':Xtrain_Features.pvalues_,\n",
    "                                     'chi2_Scores':np.log(Xtrain_Features.scores_)})\n",
    "featureMatrixDS_chi2_Sorted=featureMatrixDS_chi2.sort_values(by=['chi2_Scores'],ascending=False)\n",
    "featureMatrixDS_chi2_Sorted[-featureMatrixDS_chi2_Sorted['chi2_Scores'].isnull()].plot.bar('FeatureName','chi2_Scores')"
   ]
  },
  {
   "cell_type": "markdown",
   "metadata": {},
   "source": [
    "A seguir estão alguns dos recursos que são considerados importantes por ambas as abordagens: Fare, Age, female, Mr, Pclass, Mrs, IsCabinDataEmpty, SibSp, Parch, Miss\n",
    "\n",
    "Existem outras características em que ambas as abordagens discordam. Neste caso seria uma boa idéia remover estes recursos, por exemplo: FamilySize tem uma classificação alta no Tree Approach e baixa no chi2.\n",
    "\n",
    "Random Forest é uma técnica avançada que cria várias árvores e chega ao resultado final com base na maioria, também expõe a importância da característica.\n",
    "\n",
    "Cria uma random forest no contexto do titanic usando o randomforestclassifier."
   ]
  },
  {
   "cell_type": "code",
   "execution_count": 23,
   "metadata": {
    "collapsed": false
   },
   "outputs": [
    {
     "data": {
      "text/plain": [
       "<matplotlib.axes._subplots.AxesSubplot at 0x115b5a588>"
      ]
     },
     "execution_count": 23,
     "metadata": {},
     "output_type": "execute_result"
    },
    {
     "data": {
      "image/png": "[encoded data removed]",
      "text/plain": [
       "<matplotlib.figure.Figure at 0x115b5ae10>"
      ]
     },
     "metadata": {},
     "output_type": "display_data"
    }
   ],
   "source": [
    "from sklearn.ensemble import RandomForestClassifier\n",
    "\n",
    "rf = RandomForestClassifier(n_estimators=1000,max_features =\"auto\")\n",
    "\n",
    "rf.fit(Xtrain, ytrain.ravel())\n",
    "featureMatrixDS_randforest = pd.DataFrame({'FeatureName':featureNames.ravel(),'featureImportance':\n",
    "                                           list(map(lambda x: round(x, 4), rf.feature_importances_))})\n",
    "\n",
    "featureMatrixDS_randforest=featureMatrixDS_randforest.sort_values(by=['featureImportance'],ascending=False)\n",
    "featureMatrixDS_randforest.plot.bar('FeatureName','featureImportance')"
   ]
  },
  {
   "cell_type": "markdown",
   "metadata": {},
   "source": [
    "O método seguinte é outra técnica para descrever a importância de uma determinada feature permutando o seu valor e encontrando o efeito correspondente nas métricas do modelo. Isso é chamado de \"Mean decrease accuracy\" (Precisão de diminuição média).\n",
    "\n",
    "Neste método, o modelo é treinado em todos os recursos e cada uma das suas características é permutada uma a uma. Em cada iteração de permute o desempenho do modelo é medido e é comparado com o modelo original. As características que são de nenhuma importância provavelmente não terão nenhum efeito por causa do permute. Esta métrica não é fornecida por padrão no scikit e, portanto, programada para calculá-lo"
   ]
  },
  {
   "cell_type": "code",
   "execution_count": null,
   "metadata": {
    "collapsed": false
   },
   "outputs": [
    {
     "name": "stderr",
     "output_type": "stream",
     "text": [
      "/Users/vitormeriat/anaconda/lib/python3.5/site-packages/sklearn/metrics/classification.py:1113: UndefinedMetricWarning: F-score is ill-defined and being set to 0.0 due to no predicted samples.\n",
      "  'precision', 'predicted', average, warn_for)\n"
     ]
    }
   ],
   "source": [
    "from sklearn.model_selection import ShuffleSplit\n",
    "from sklearn.metrics import *\n",
    "from collections import defaultdict\n",
    "  \n",
    "scores = defaultdict(list)\n",
    "\n",
    "blabla = ShuffleSplit(len(Xtrain), 20, .3)\n",
    "\n",
    "\n",
    "# for ShuffleSplit takes the entire dataset of 891 data point runs the iteration 20 times and in each iteration it gives 30% of the data point as a test\n",
    "for train_idx, test_idx in blabla.split(Xtrain):\n",
    "    X_train, X_test = Xtrain[train_idx], Xtrain[test_idx]\n",
    "    Y_train, Y_test = ytrain[train_idx], ytrain[test_idx]\n",
    "# The model is trained on the training dataset and the model performance is calculated using the f1_score\n",
    "    r = rf.fit(X_train, Y_train.ravel())\n",
    "    acc = f1_score(Y_test, rf.predict(X_test))\n",
    "# The below loop is repeated across each of the features in X and in each iteration the each of the feature values are randomly \n",
    "# shuffled and the predict against the shuffled dataset. The model performance is measured against each features change.\n",
    "    for i in range(Xtrain.shape[1]):      \n",
    "        X_t = X_test.copy()\n",
    "        np.random.shuffle(X_t[:, i])\n",
    "        shuff_acc = f1_score(Y_test, rf.predict(X_t))\n",
    "        scores[featureNames[i]].append((acc-shuff_acc)/acc)\n",
    "# At the end of the process, an array of features and its corresponding effect on the model is recorded.\n",
    "# A mean of the effect across the features relays the importance of the feature\n",
    "print(\"Features sorted by their score:\")\n",
    "print(sorted([(round(nvp.mean(score), 4), feat) for\n",
    "              feat, score in scores.items()], reverse=True))\n",
    "\n",
    "featureMatrixDS_rf_mda = pd.DataFrame(sorted([(round(np.mean(score), 4), feat) for\n",
    "              feat, score in scores.items()], reverse=True))\n",
    "featureMatrixDS_rf_mda.columns = ['FeatureEffect','FeatureName']\n",
    "featureMatrixDS_rf_mda.plot.bar('FeatureName','FeatureEffect')"
   ]
  },
  {
   "cell_type": "code",
   "execution_count": null,
   "metadata": {
    "collapsed": false
   },
   "outputs": [],
   "source": [
    "featureMatrixDS_rf_mda[featureMatrixDS_rf_mda['FeatureEffect']!=0].plot.bar('FeatureName','FeatureEffect')"
   ]
  },
  {
   "cell_type": "code",
   "execution_count": null,
   "metadata": {
    "collapsed": true
   },
   "outputs": [],
   "source": []
  }
 ],
 "metadata": {
  "anaconda-cloud": {},
  "kernelspec": {
   "display_name": "Python [conda root]",
   "language": "python",
   "name": "conda-root-py"
  },
  "language_info": {
   "codemirror_mode": {
    "name": "ipython",
    "version": 3
   },
   "file_extension": ".py",
   "mimetype": "text/x-python",
   "name": "python",
   "nbconvert_exporter": "python",
   "pygments_lexer": "ipython3",
   "version": "3.5.2"
  }
 },
 "nbformat": 4,
 "nbformat_minor": 1
}
